{
 "cells": [
  {
   "cell_type": "markdown",
   "metadata": {},
   "source": [
    "# First POC for dataset anonymization"
   ]
  },
  {
   "cell_type": "markdown",
   "metadata": {},
   "source": [
    "## Imports"
   ]
  },
  {
   "cell_type": "code",
   "execution_count": 1,
   "metadata": {},
   "outputs": [],
   "source": [
    "import pandas as pd\n",
    "import random\n",
    "import datetime as dt\n",
    "from faker import Faker"
   ]
  },
  {
   "cell_type": "code",
   "execution_count": 2,
   "metadata": {},
   "outputs": [],
   "source": [
    "fake = Faker()"
   ]
  },
  {
   "cell_type": "code",
   "execution_count": 3,
   "metadata": {},
   "outputs": [
    {
     "name": "stdout",
     "output_type": "stream",
     "text": [
      "Chad Stafford\n",
      "Melissa Randolph\n",
      "Victoria Webb\n",
      "Laurie Brady\n",
      "Angela Bates\n",
      "Craig Gomez\n",
      "Elizabeth Taylor\n",
      "Shawn Garcia\n",
      "Jeffrey Williams\n",
      "Ruben Duran\n",
      "Lynn Blackwell\n",
      "George Thornton\n",
      "Alyssa Williams\n",
      "Miss Meghan Mejia\n",
      "Claudia Rogers\n",
      "Mandy White\n",
      "Kenneth Andrews\n",
      "Veronica Armstrong\n",
      "Jeffrey Moore\n",
      "Joseph Houston\n"
     ]
    }
   ],
   "source": [
    "for _ in range(20):\n",
    "  print(fake.name())"
   ]
  },
  {
   "cell_type": "markdown",
   "metadata": {},
   "source": [
    "## Create and import a sample dataset"
   ]
  },
  {
   "cell_type": "code",
   "execution_count": 4,
   "metadata": {},
   "outputs": [],
   "source": [
    "df = pd.read_csv('../datasets/test_dataset1.csv', parse_dates=['purchased_date'])"
   ]
  },
  {
   "cell_type": "code",
   "execution_count": 5,
   "metadata": {},
   "outputs": [],
   "source": [
    "df_original = df.copy()"
   ]
  },
  {
   "cell_type": "code",
   "execution_count": 6,
   "metadata": {},
   "outputs": [
    {
     "data": {
      "text/html": [
       "<div>\n",
       "<style scoped>\n",
       "    .dataframe tbody tr th:only-of-type {\n",
       "        vertical-align: middle;\n",
       "    }\n",
       "\n",
       "    .dataframe tbody tr th {\n",
       "        vertical-align: top;\n",
       "    }\n",
       "\n",
       "    .dataframe thead th {\n",
       "        text-align: right;\n",
       "    }\n",
       "</style>\n",
       "<table border=\"1\" class=\"dataframe\">\n",
       "  <thead>\n",
       "    <tr style=\"text-align: right;\">\n",
       "      <th></th>\n",
       "      <th>user_id</th>\n",
       "      <th>name</th>\n",
       "      <th>item</th>\n",
       "      <th>amount</th>\n",
       "      <th>category_id</th>\n",
       "      <th>purchased_quantity</th>\n",
       "      <th>purchased_date</th>\n",
       "    </tr>\n",
       "  </thead>\n",
       "  <tbody>\n",
       "    <tr>\n",
       "      <th>0</th>\n",
       "      <td>1004</td>\n",
       "      <td>Donna Martin</td>\n",
       "      <td>TV</td>\n",
       "      <td>199.95</td>\n",
       "      <td>14</td>\n",
       "      <td>1</td>\n",
       "      <td>2020-04-04</td>\n",
       "    </tr>\n",
       "    <tr>\n",
       "      <th>1</th>\n",
       "      <td>1004</td>\n",
       "      <td>Donna Martin</td>\n",
       "      <td>Vaccum</td>\n",
       "      <td>95.12</td>\n",
       "      <td>15</td>\n",
       "      <td>2</td>\n",
       "      <td>2020-05-12</td>\n",
       "    </tr>\n",
       "    <tr>\n",
       "      <th>2</th>\n",
       "      <td>1003</td>\n",
       "      <td>Bobby Bradley</td>\n",
       "      <td>Cup</td>\n",
       "      <td>12.76</td>\n",
       "      <td>44</td>\n",
       "      <td>1</td>\n",
       "      <td>2020-05-13</td>\n",
       "    </tr>\n",
       "    <tr>\n",
       "      <th>3</th>\n",
       "      <td>1011</td>\n",
       "      <td>Austin Thomas</td>\n",
       "      <td>Plate</td>\n",
       "      <td>5.55</td>\n",
       "      <td>156</td>\n",
       "      <td>1</td>\n",
       "      <td>2020-05-14</td>\n",
       "    </tr>\n",
       "    <tr>\n",
       "      <th>4</th>\n",
       "      <td>1000</td>\n",
       "      <td>Jonathan Medina</td>\n",
       "      <td>Lotion</td>\n",
       "      <td>4.44</td>\n",
       "      <td>23</td>\n",
       "      <td>2</td>\n",
       "      <td>2020-05-15</td>\n",
       "    </tr>\n",
       "    <tr>\n",
       "      <th>5</th>\n",
       "      <td>1000</td>\n",
       "      <td>Jonathan Medina</td>\n",
       "      <td>Toothbrush</td>\n",
       "      <td>5.96</td>\n",
       "      <td>123</td>\n",
       "      <td>1</td>\n",
       "      <td>2020-05-16</td>\n",
       "    </tr>\n",
       "    <tr>\n",
       "      <th>6</th>\n",
       "      <td>1019</td>\n",
       "      <td>Brandon Beasley</td>\n",
       "      <td>Sanitizer</td>\n",
       "      <td>2.23</td>\n",
       "      <td>12</td>\n",
       "      <td>3</td>\n",
       "      <td>2020-05-17</td>\n",
       "    </tr>\n",
       "    <tr>\n",
       "      <th>7</th>\n",
       "      <td>1011</td>\n",
       "      <td>Austin Thomas</td>\n",
       "      <td>Wine</td>\n",
       "      <td>15.67</td>\n",
       "      <td>122</td>\n",
       "      <td>1</td>\n",
       "      <td>2020-04-04</td>\n",
       "    </tr>\n",
       "    <tr>\n",
       "      <th>8</th>\n",
       "      <td>1014</td>\n",
       "      <td>Susan Morales</td>\n",
       "      <td>Yoga mat</td>\n",
       "      <td>45.53</td>\n",
       "      <td>1212</td>\n",
       "      <td>2</td>\n",
       "      <td>2020-04-05</td>\n",
       "    </tr>\n",
       "    <tr>\n",
       "      <th>9</th>\n",
       "      <td>1001</td>\n",
       "      <td>Rachael Massey</td>\n",
       "      <td>Beer</td>\n",
       "      <td>2.45</td>\n",
       "      <td>42</td>\n",
       "      <td>4</td>\n",
       "      <td>2020-04-06</td>\n",
       "    </tr>\n",
       "    <tr>\n",
       "      <th>10</th>\n",
       "      <td>1005</td>\n",
       "      <td>Ross Strickland</td>\n",
       "      <td>Coffee</td>\n",
       "      <td>8.45</td>\n",
       "      <td>356</td>\n",
       "      <td>5</td>\n",
       "      <td>2020-04-07</td>\n",
       "    </tr>\n",
       "    <tr>\n",
       "      <th>11</th>\n",
       "      <td>1014</td>\n",
       "      <td>Susan Morales</td>\n",
       "      <td>Lotion</td>\n",
       "      <td>4.44</td>\n",
       "      <td>23</td>\n",
       "      <td>3</td>\n",
       "      <td>2020-04-08</td>\n",
       "    </tr>\n",
       "    <tr>\n",
       "      <th>12</th>\n",
       "      <td>1020</td>\n",
       "      <td>Jennifer Cox</td>\n",
       "      <td>Coffee</td>\n",
       "      <td>8.45</td>\n",
       "      <td>356</td>\n",
       "      <td>4</td>\n",
       "      <td>2020-04-09</td>\n",
       "    </tr>\n",
       "    <tr>\n",
       "      <th>13</th>\n",
       "      <td>1001</td>\n",
       "      <td>Danny Lynn DDS</td>\n",
       "      <td>TV</td>\n",
       "      <td>199.95</td>\n",
       "      <td>14</td>\n",
       "      <td>2</td>\n",
       "      <td>2020-04-10</td>\n",
       "    </tr>\n",
       "    <tr>\n",
       "      <th>14</th>\n",
       "      <td>1019</td>\n",
       "      <td>Brandon Beasley</td>\n",
       "      <td>Vaccum</td>\n",
       "      <td>95.12</td>\n",
       "      <td>15</td>\n",
       "      <td>6</td>\n",
       "      <td>2020-05-06</td>\n",
       "    </tr>\n",
       "    <tr>\n",
       "      <th>15</th>\n",
       "      <td>1006</td>\n",
       "      <td>Ashley Nichols</td>\n",
       "      <td>Sanitizer</td>\n",
       "      <td>2.23</td>\n",
       "      <td>12</td>\n",
       "      <td>1</td>\n",
       "      <td>2020-05-07</td>\n",
       "    </tr>\n",
       "    <tr>\n",
       "      <th>16</th>\n",
       "      <td>1015</td>\n",
       "      <td>Angela Oneill</td>\n",
       "      <td>Wine</td>\n",
       "      <td>15.67</td>\n",
       "      <td>122</td>\n",
       "      <td>2</td>\n",
       "      <td>2020-05-08</td>\n",
       "    </tr>\n",
       "    <tr>\n",
       "      <th>17</th>\n",
       "      <td>1009</td>\n",
       "      <td>Cody Moreno</td>\n",
       "      <td>Plate</td>\n",
       "      <td>5.55</td>\n",
       "      <td>156</td>\n",
       "      <td>4</td>\n",
       "      <td>2020-05-09</td>\n",
       "    </tr>\n",
       "    <tr>\n",
       "      <th>18</th>\n",
       "      <td>1005</td>\n",
       "      <td>Douglas Atkinson</td>\n",
       "      <td>TV</td>\n",
       "      <td>199.95</td>\n",
       "      <td>14</td>\n",
       "      <td>1</td>\n",
       "      <td>2020-05-10</td>\n",
       "    </tr>\n",
       "    <tr>\n",
       "      <th>19</th>\n",
       "      <td>1016</td>\n",
       "      <td>Ellen Mccarthy</td>\n",
       "      <td>Vaccum</td>\n",
       "      <td>95.12</td>\n",
       "      <td>15</td>\n",
       "      <td>1</td>\n",
       "      <td>2020-05-11</td>\n",
       "    </tr>\n",
       "  </tbody>\n",
       "</table>\n",
       "</div>"
      ],
      "text/plain": [
       "    user_id              name        item  amount  category_id  \\\n",
       "0      1004      Donna Martin          TV  199.95           14   \n",
       "1      1004      Donna Martin      Vaccum   95.12           15   \n",
       "2      1003     Bobby Bradley         Cup   12.76           44   \n",
       "3      1011     Austin Thomas       Plate    5.55          156   \n",
       "4      1000   Jonathan Medina      Lotion    4.44           23   \n",
       "5      1000   Jonathan Medina  Toothbrush    5.96          123   \n",
       "6      1019   Brandon Beasley   Sanitizer    2.23           12   \n",
       "7      1011     Austin Thomas        Wine   15.67          122   \n",
       "8      1014     Susan Morales    Yoga mat   45.53         1212   \n",
       "9      1001    Rachael Massey        Beer    2.45           42   \n",
       "10     1005   Ross Strickland      Coffee    8.45          356   \n",
       "11     1014     Susan Morales      Lotion    4.44           23   \n",
       "12     1020      Jennifer Cox      Coffee    8.45          356   \n",
       "13     1001    Danny Lynn DDS          TV  199.95           14   \n",
       "14     1019   Brandon Beasley      Vaccum   95.12           15   \n",
       "15     1006    Ashley Nichols   Sanitizer    2.23           12   \n",
       "16     1015     Angela Oneill        Wine   15.67          122   \n",
       "17     1009       Cody Moreno       Plate    5.55          156   \n",
       "18     1005  Douglas Atkinson          TV  199.95           14   \n",
       "19     1016    Ellen Mccarthy      Vaccum   95.12           15   \n",
       "\n",
       "    purchased_quantity purchased_date  \n",
       "0                    1     2020-04-04  \n",
       "1                    2     2020-05-12  \n",
       "2                    1     2020-05-13  \n",
       "3                    1     2020-05-14  \n",
       "4                    2     2020-05-15  \n",
       "5                    1     2020-05-16  \n",
       "6                    3     2020-05-17  \n",
       "7                    1     2020-04-04  \n",
       "8                    2     2020-04-05  \n",
       "9                    4     2020-04-06  \n",
       "10                   5     2020-04-07  \n",
       "11                   3     2020-04-08  \n",
       "12                   4     2020-04-09  \n",
       "13                   2     2020-04-10  \n",
       "14                   6     2020-05-06  \n",
       "15                   1     2020-05-07  \n",
       "16                   2     2020-05-08  \n",
       "17                   4     2020-05-09  \n",
       "18                   1     2020-05-10  \n",
       "19                   1     2020-05-11  "
      ]
     },
     "execution_count": 6,
     "metadata": {},
     "output_type": "execute_result"
    }
   ],
   "source": [
    "df"
   ]
  },
  {
   "cell_type": "markdown",
   "metadata": {},
   "source": [
    "## Replace names"
   ]
  },
  {
   "cell_type": "code",
   "execution_count": 7,
   "metadata": {},
   "outputs": [],
   "source": [
    "unique_names = df['name'].unique()"
   ]
  },
  {
   "cell_type": "code",
   "execution_count": 8,
   "metadata": {},
   "outputs": [
    {
     "data": {
      "text/plain": [
       "array(['Donna Martin', 'Bobby Bradley', 'Austin Thomas',\n",
       "       'Jonathan Medina', 'Brandon Beasley', 'Susan Morales',\n",
       "       'Rachael Massey', 'Ross Strickland', 'Jennifer Cox',\n",
       "       'Danny Lynn DDS', 'Ashley Nichols', 'Angela Oneill', 'Cody Moreno',\n",
       "       'Douglas Atkinson', 'Ellen Mccarthy'], dtype=object)"
      ]
     },
     "execution_count": 8,
     "metadata": {},
     "output_type": "execute_result"
    }
   ],
   "source": [
    "unique_names"
   ]
  },
  {
   "cell_type": "code",
   "execution_count": 9,
   "metadata": {},
   "outputs": [],
   "source": [
    "name_dict = {name: fake.name() for name in unique_names}"
   ]
  },
  {
   "cell_type": "code",
   "execution_count": 10,
   "metadata": {},
   "outputs": [
    {
     "data": {
      "text/plain": [
       "{'Donna Martin': 'Michael Coleman',\n",
       " 'Bobby Bradley': 'David Vazquez',\n",
       " 'Austin Thomas': 'Luis Smith',\n",
       " 'Jonathan Medina': 'Sarah Calderon',\n",
       " 'Brandon Beasley': 'Kristine Smith',\n",
       " 'Susan Morales': 'Kyle Farmer',\n",
       " 'Rachael Massey': 'Dr. Ashley Berry',\n",
       " 'Ross Strickland': 'Anna Kennedy',\n",
       " 'Jennifer Cox': 'Rebecca Guerra',\n",
       " 'Danny Lynn DDS': 'Carmen Adkins',\n",
       " 'Ashley Nichols': 'Kathy Mclaughlin',\n",
       " 'Angela Oneill': 'Ricky Chang',\n",
       " 'Cody Moreno': 'Alicia Benton',\n",
       " 'Douglas Atkinson': 'Meagan Davidson',\n",
       " 'Ellen Mccarthy': 'Michael Johnson'}"
      ]
     },
     "execution_count": 10,
     "metadata": {},
     "output_type": "execute_result"
    }
   ],
   "source": [
    "name_dict"
   ]
  },
  {
   "cell_type": "code",
   "execution_count": 11,
   "metadata": {},
   "outputs": [],
   "source": [
    "df['name'] = df['name'].map(name_dict)"
   ]
  },
  {
   "cell_type": "markdown",
   "metadata": {},
   "source": [
    "## Replace ids"
   ]
  },
  {
   "cell_type": "code",
   "execution_count": 12,
   "metadata": {},
   "outputs": [],
   "source": [
    "unique_ids = df['user_id'].unique()"
   ]
  },
  {
   "cell_type": "code",
   "execution_count": 13,
   "metadata": {},
   "outputs": [],
   "source": [
    "id_dict = {id_: fake.uuid4() for id_ in unique_ids}"
   ]
  },
  {
   "cell_type": "code",
   "execution_count": 14,
   "metadata": {},
   "outputs": [
    {
     "data": {
      "text/plain": [
       "{1004: 'a97f8a93-46bf-4017-93bf-abb92515a7c2',\n",
       " 1003: 'b972d5b3-3bfa-4c6f-915a-3fc0d3143f65',\n",
       " 1011: '7049726f-0dc9-4de3-b67a-9a55f012aed1',\n",
       " 1000: '51628526-b638-495e-ba1c-24e93ae1d9ca',\n",
       " 1019: 'bdb2fa65-9b80-4331-851b-e1c9450c92d7',\n",
       " 1014: 'e4d2fa90-181c-42bf-87be-2259ff852ed1',\n",
       " 1001: 'cac61fda-204e-4024-a7db-016552871425',\n",
       " 1005: '488cf080-4b4e-42df-a934-89709bb40c64',\n",
       " 1020: '0e313785-3b48-48d0-852f-a327553426f0',\n",
       " 1006: 'add96325-ed96-4b9f-b8c2-ccdf21629e52',\n",
       " 1015: '224c4c78-4787-45b0-b289-3a464e0c97f4',\n",
       " 1009: 'd8ed66ee-fa3b-4843-a567-dc32babeb944',\n",
       " 1016: '13f3a001-f60f-40c3-9885-7d147909c585'}"
      ]
     },
     "execution_count": 14,
     "metadata": {},
     "output_type": "execute_result"
    }
   ],
   "source": [
    "id_dict"
   ]
  },
  {
   "cell_type": "code",
   "execution_count": 15,
   "metadata": {},
   "outputs": [],
   "source": [
    "df['user_id'] = df['user_id'].map(id_dict)"
   ]
  },
  {
   "cell_type": "markdown",
   "metadata": {},
   "source": [
    "## Replace whole numbers"
   ]
  },
  {
   "cell_type": "code",
   "execution_count": 16,
   "metadata": {},
   "outputs": [],
   "source": [
    "whole_numbers = df['purchased_quantity']"
   ]
  },
  {
   "cell_type": "code",
   "execution_count": 17,
   "metadata": {},
   "outputs": [
    {
     "data": {
      "text/plain": [
       "0     1\n",
       "1     2\n",
       "2     1\n",
       "3     1\n",
       "4     2\n",
       "5     1\n",
       "6     3\n",
       "7     1\n",
       "8     2\n",
       "9     4\n",
       "10    5\n",
       "11    3\n",
       "12    4\n",
       "13    2\n",
       "14    6\n",
       "15    1\n",
       "16    2\n",
       "17    4\n",
       "18    1\n",
       "19    1\n",
       "Name: purchased_quantity, dtype: int64"
      ]
     },
     "execution_count": 17,
     "metadata": {},
     "output_type": "execute_result"
    }
   ],
   "source": [
    "whole_numbers"
   ]
  },
  {
   "cell_type": "code",
   "execution_count": 52,
   "metadata": {},
   "outputs": [],
   "source": [
    "X_std = (whole_numbers - whole_numbers.min()) / (whole_numbers.max() - whole_numbers.min())\n",
    "X_scaled = (X_std * (10 - 1) + 1) \n",
    "X_scaled_whole_randomized = (X_scaled * random.randint(1, 10)).astype(int)"
   ]
  },
  {
   "cell_type": "code",
   "execution_count": 53,
   "metadata": {},
   "outputs": [
    {
     "data": {
      "text/plain": [
       "0      7\n",
       "1     19\n",
       "2      7\n",
       "3      7\n",
       "4     19\n",
       "5      7\n",
       "6     32\n",
       "7      7\n",
       "8     19\n",
       "9     44\n",
       "10    57\n",
       "11    32\n",
       "12    44\n",
       "13    19\n",
       "14    70\n",
       "15     7\n",
       "16    19\n",
       "17    44\n",
       "18     7\n",
       "19     7\n",
       "Name: purchased_quantity, dtype: int64"
      ]
     },
     "execution_count": 53,
     "metadata": {},
     "output_type": "execute_result"
    }
   ],
   "source": [
    "X_scaled_whole_randomized"
   ]
  },
  {
   "cell_type": "code",
   "execution_count": 91,
   "metadata": {},
   "outputs": [],
   "source": [
    "# whole_number_dict = {\n",
    "#     number: fake.random_int(\n",
    "#         min=min(whole_numbers), max=max(whole_numbers)\n",
    "#     )\n",
    "#     for number in whole_numbers\n",
    "# }"
   ]
  },
  {
   "cell_type": "code",
   "execution_count": 54,
   "metadata": {},
   "outputs": [],
   "source": [
    "# whole_number_dict"
   ]
  },
  {
   "cell_type": "code",
   "execution_count": 56,
   "metadata": {},
   "outputs": [],
   "source": [
    "df['purchased_quantity'] = X_scaled_whole_randomized"
   ]
  },
  {
   "cell_type": "markdown",
   "metadata": {},
   "source": [
    "## Replace decimal numbers"
   ]
  },
  {
   "cell_type": "code",
   "execution_count": 58,
   "metadata": {},
   "outputs": [],
   "source": [
    "decimal_numbers = df['amount']"
   ]
  },
  {
   "cell_type": "code",
   "execution_count": 59,
   "metadata": {},
   "outputs": [],
   "source": [
    "X_std = (decimal_numbers - decimal_numbers.min()) / (decimal_numbers.max() - decimal_numbers.min())\n",
    "X_scaled = (X_std * (10 - 1) + 1) \n",
    "X_scaled_decimal_randomized = (X_scaled * random.randint(1, 10))"
   ]
  },
  {
   "cell_type": "code",
   "execution_count": 60,
   "metadata": {},
   "outputs": [],
   "source": [
    "# decimal_number_dict"
   ]
  },
  {
   "cell_type": "code",
   "execution_count": 61,
   "metadata": {},
   "outputs": [],
   "source": [
    "df['amount'] = X_scaled_decimal_randomized"
   ]
  },
  {
   "cell_type": "markdown",
   "metadata": {},
   "source": [
    "## Categorical data"
   ]
  },
  {
   "cell_type": "code",
   "execution_count": 62,
   "metadata": {},
   "outputs": [],
   "source": [
    "category = df['item']"
   ]
  },
  {
   "cell_type": "code",
   "execution_count": 63,
   "metadata": {},
   "outputs": [
    {
     "data": {
      "text/plain": [
       "0             TV\n",
       "1         Vaccum\n",
       "2            Cup\n",
       "3          Plate\n",
       "4         Lotion\n",
       "5     Toothbrush\n",
       "6      Sanitizer\n",
       "7           Wine\n",
       "8       Yoga mat\n",
       "9           Beer\n",
       "10        Coffee\n",
       "11        Lotion\n",
       "12        Coffee\n",
       "13            TV\n",
       "14        Vaccum\n",
       "15     Sanitizer\n",
       "16          Wine\n",
       "17         Plate\n",
       "18            TV\n",
       "19        Vaccum\n",
       "Name: item, dtype: object"
      ]
     },
     "execution_count": 63,
     "metadata": {},
     "output_type": "execute_result"
    }
   ],
   "source": [
    "category"
   ]
  },
  {
   "cell_type": "code",
   "execution_count": 64,
   "metadata": {},
   "outputs": [],
   "source": [
    "unique_category = category.unique()"
   ]
  },
  {
   "cell_type": "code",
   "execution_count": 65,
   "metadata": {},
   "outputs": [],
   "source": [
    "rand_category = random.randint(0,1000)\n",
    "category_dict = {\n",
    "    category:  \"Category_\" + str(rand_category) + \" \" +str(iteration)\n",
    "    for iteration, category in enumerate(unique_category)\n",
    "}"
   ]
  },
  {
   "cell_type": "code",
   "execution_count": 66,
   "metadata": {},
   "outputs": [
    {
     "data": {
      "text/plain": [
       "{'TV': 'Category_722 0',\n",
       " 'Vaccum': 'Category_722 1',\n",
       " 'Cup': 'Category_722 2',\n",
       " 'Plate': 'Category_722 3',\n",
       " 'Lotion': 'Category_722 4',\n",
       " 'Toothbrush': 'Category_722 5',\n",
       " 'Sanitizer': 'Category_722 6',\n",
       " 'Wine': 'Category_722 7',\n",
       " 'Yoga mat': 'Category_722 8',\n",
       " 'Beer': 'Category_722 9',\n",
       " 'Coffee': 'Category_722 10'}"
      ]
     },
     "execution_count": 66,
     "metadata": {},
     "output_type": "execute_result"
    }
   ],
   "source": [
    "category_dict"
   ]
  },
  {
   "cell_type": "code",
   "execution_count": 67,
   "metadata": {},
   "outputs": [],
   "source": [
    "df['item'] = df['item'].map(category_dict)"
   ]
  },
  {
   "cell_type": "markdown",
   "metadata": {},
   "source": [
    "### Dates"
   ]
  },
  {
   "cell_type": "code",
   "execution_count": 68,
   "metadata": {},
   "outputs": [],
   "source": [
    "dates = df['purchased_date']"
   ]
  },
  {
   "cell_type": "code",
   "execution_count": 69,
   "metadata": {},
   "outputs": [
    {
     "data": {
      "text/plain": [
       "datetime.date(2020, 4, 9)"
      ]
     },
     "execution_count": 69,
     "metadata": {},
     "output_type": "execute_result"
    }
   ],
   "source": [
    "fake.date_between(start_date=dates.min(), end_date=dates.max())"
   ]
  },
  {
   "cell_type": "code",
   "execution_count": 70,
   "metadata": {},
   "outputs": [],
   "source": [
    "dates_dict = {\n",
    "    date: fake.date_between(start_date=dates.min(), end_date=dates.max()).strftime('%Y-%m-%d')\n",
    "    for date in dates\n",
    "}"
   ]
  },
  {
   "cell_type": "code",
   "execution_count": 71,
   "metadata": {},
   "outputs": [
    {
     "data": {
      "text/plain": [
       "{Timestamp('2020-04-04 00:00:00'): '2020-05-02',\n",
       " Timestamp('2020-05-12 00:00:00'): '2020-05-09',\n",
       " Timestamp('2020-05-13 00:00:00'): '2020-05-10',\n",
       " Timestamp('2020-05-14 00:00:00'): '2020-04-22',\n",
       " Timestamp('2020-05-15 00:00:00'): '2020-05-14',\n",
       " Timestamp('2020-05-16 00:00:00'): '2020-05-05',\n",
       " Timestamp('2020-05-17 00:00:00'): '2020-05-01',\n",
       " Timestamp('2020-04-05 00:00:00'): '2020-04-26',\n",
       " Timestamp('2020-04-06 00:00:00'): '2020-04-27',\n",
       " Timestamp('2020-04-07 00:00:00'): '2020-04-07',\n",
       " Timestamp('2020-04-08 00:00:00'): '2020-04-18',\n",
       " Timestamp('2020-04-09 00:00:00'): '2020-04-17',\n",
       " Timestamp('2020-04-10 00:00:00'): '2020-04-23',\n",
       " Timestamp('2020-05-06 00:00:00'): '2020-05-12',\n",
       " Timestamp('2020-05-07 00:00:00'): '2020-04-05',\n",
       " Timestamp('2020-05-08 00:00:00'): '2020-04-07',\n",
       " Timestamp('2020-05-09 00:00:00'): '2020-04-28',\n",
       " Timestamp('2020-05-10 00:00:00'): '2020-04-26',\n",
       " Timestamp('2020-05-11 00:00:00'): '2020-05-11'}"
      ]
     },
     "execution_count": 71,
     "metadata": {},
     "output_type": "execute_result"
    }
   ],
   "source": [
    "dates_dict"
   ]
  },
  {
   "cell_type": "code",
   "execution_count": 72,
   "metadata": {},
   "outputs": [],
   "source": [
    "df['purchased_date'] = df['purchased_date'].map(dates_dict)"
   ]
  },
  {
   "cell_type": "markdown",
   "metadata": {},
   "source": [
    "# Original vs Final"
   ]
  },
  {
   "cell_type": "code",
   "execution_count": 73,
   "metadata": {},
   "outputs": [
    {
     "data": {
      "text/html": [
       "<div>\n",
       "<style scoped>\n",
       "    .dataframe tbody tr th:only-of-type {\n",
       "        vertical-align: middle;\n",
       "    }\n",
       "\n",
       "    .dataframe tbody tr th {\n",
       "        vertical-align: top;\n",
       "    }\n",
       "\n",
       "    .dataframe thead th {\n",
       "        text-align: right;\n",
       "    }\n",
       "</style>\n",
       "<table border=\"1\" class=\"dataframe\">\n",
       "  <thead>\n",
       "    <tr style=\"text-align: right;\">\n",
       "      <th></th>\n",
       "      <th>user_id</th>\n",
       "      <th>name</th>\n",
       "      <th>item</th>\n",
       "      <th>amount</th>\n",
       "      <th>category_id</th>\n",
       "      <th>purchased_quantity</th>\n",
       "      <th>purchased_date</th>\n",
       "    </tr>\n",
       "  </thead>\n",
       "  <tbody>\n",
       "    <tr>\n",
       "      <th>0</th>\n",
       "      <td>1004</td>\n",
       "      <td>Donna Martin</td>\n",
       "      <td>TV</td>\n",
       "      <td>199.95</td>\n",
       "      <td>14</td>\n",
       "      <td>1</td>\n",
       "      <td>2020-04-04</td>\n",
       "    </tr>\n",
       "    <tr>\n",
       "      <th>1</th>\n",
       "      <td>1004</td>\n",
       "      <td>Donna Martin</td>\n",
       "      <td>Vaccum</td>\n",
       "      <td>95.12</td>\n",
       "      <td>15</td>\n",
       "      <td>2</td>\n",
       "      <td>2020-05-12</td>\n",
       "    </tr>\n",
       "    <tr>\n",
       "      <th>2</th>\n",
       "      <td>1003</td>\n",
       "      <td>Bobby Bradley</td>\n",
       "      <td>Cup</td>\n",
       "      <td>12.76</td>\n",
       "      <td>44</td>\n",
       "      <td>1</td>\n",
       "      <td>2020-05-13</td>\n",
       "    </tr>\n",
       "    <tr>\n",
       "      <th>3</th>\n",
       "      <td>1011</td>\n",
       "      <td>Austin Thomas</td>\n",
       "      <td>Plate</td>\n",
       "      <td>5.55</td>\n",
       "      <td>156</td>\n",
       "      <td>1</td>\n",
       "      <td>2020-05-14</td>\n",
       "    </tr>\n",
       "    <tr>\n",
       "      <th>4</th>\n",
       "      <td>1000</td>\n",
       "      <td>Jonathan Medina</td>\n",
       "      <td>Lotion</td>\n",
       "      <td>4.44</td>\n",
       "      <td>23</td>\n",
       "      <td>2</td>\n",
       "      <td>2020-05-15</td>\n",
       "    </tr>\n",
       "    <tr>\n",
       "      <th>5</th>\n",
       "      <td>1000</td>\n",
       "      <td>Jonathan Medina</td>\n",
       "      <td>Toothbrush</td>\n",
       "      <td>5.96</td>\n",
       "      <td>123</td>\n",
       "      <td>1</td>\n",
       "      <td>2020-05-16</td>\n",
       "    </tr>\n",
       "    <tr>\n",
       "      <th>6</th>\n",
       "      <td>1019</td>\n",
       "      <td>Brandon Beasley</td>\n",
       "      <td>Sanitizer</td>\n",
       "      <td>2.23</td>\n",
       "      <td>12</td>\n",
       "      <td>3</td>\n",
       "      <td>2020-05-17</td>\n",
       "    </tr>\n",
       "    <tr>\n",
       "      <th>7</th>\n",
       "      <td>1011</td>\n",
       "      <td>Austin Thomas</td>\n",
       "      <td>Wine</td>\n",
       "      <td>15.67</td>\n",
       "      <td>122</td>\n",
       "      <td>1</td>\n",
       "      <td>2020-04-04</td>\n",
       "    </tr>\n",
       "    <tr>\n",
       "      <th>8</th>\n",
       "      <td>1014</td>\n",
       "      <td>Susan Morales</td>\n",
       "      <td>Yoga mat</td>\n",
       "      <td>45.53</td>\n",
       "      <td>1212</td>\n",
       "      <td>2</td>\n",
       "      <td>2020-04-05</td>\n",
       "    </tr>\n",
       "    <tr>\n",
       "      <th>9</th>\n",
       "      <td>1001</td>\n",
       "      <td>Rachael Massey</td>\n",
       "      <td>Beer</td>\n",
       "      <td>2.45</td>\n",
       "      <td>42</td>\n",
       "      <td>4</td>\n",
       "      <td>2020-04-06</td>\n",
       "    </tr>\n",
       "    <tr>\n",
       "      <th>10</th>\n",
       "      <td>1005</td>\n",
       "      <td>Ross Strickland</td>\n",
       "      <td>Coffee</td>\n",
       "      <td>8.45</td>\n",
       "      <td>356</td>\n",
       "      <td>5</td>\n",
       "      <td>2020-04-07</td>\n",
       "    </tr>\n",
       "    <tr>\n",
       "      <th>11</th>\n",
       "      <td>1014</td>\n",
       "      <td>Susan Morales</td>\n",
       "      <td>Lotion</td>\n",
       "      <td>4.44</td>\n",
       "      <td>23</td>\n",
       "      <td>3</td>\n",
       "      <td>2020-04-08</td>\n",
       "    </tr>\n",
       "    <tr>\n",
       "      <th>12</th>\n",
       "      <td>1020</td>\n",
       "      <td>Jennifer Cox</td>\n",
       "      <td>Coffee</td>\n",
       "      <td>8.45</td>\n",
       "      <td>356</td>\n",
       "      <td>4</td>\n",
       "      <td>2020-04-09</td>\n",
       "    </tr>\n",
       "    <tr>\n",
       "      <th>13</th>\n",
       "      <td>1001</td>\n",
       "      <td>Danny Lynn DDS</td>\n",
       "      <td>TV</td>\n",
       "      <td>199.95</td>\n",
       "      <td>14</td>\n",
       "      <td>2</td>\n",
       "      <td>2020-04-10</td>\n",
       "    </tr>\n",
       "    <tr>\n",
       "      <th>14</th>\n",
       "      <td>1019</td>\n",
       "      <td>Brandon Beasley</td>\n",
       "      <td>Vaccum</td>\n",
       "      <td>95.12</td>\n",
       "      <td>15</td>\n",
       "      <td>6</td>\n",
       "      <td>2020-05-06</td>\n",
       "    </tr>\n",
       "    <tr>\n",
       "      <th>15</th>\n",
       "      <td>1006</td>\n",
       "      <td>Ashley Nichols</td>\n",
       "      <td>Sanitizer</td>\n",
       "      <td>2.23</td>\n",
       "      <td>12</td>\n",
       "      <td>1</td>\n",
       "      <td>2020-05-07</td>\n",
       "    </tr>\n",
       "    <tr>\n",
       "      <th>16</th>\n",
       "      <td>1015</td>\n",
       "      <td>Angela Oneill</td>\n",
       "      <td>Wine</td>\n",
       "      <td>15.67</td>\n",
       "      <td>122</td>\n",
       "      <td>2</td>\n",
       "      <td>2020-05-08</td>\n",
       "    </tr>\n",
       "    <tr>\n",
       "      <th>17</th>\n",
       "      <td>1009</td>\n",
       "      <td>Cody Moreno</td>\n",
       "      <td>Plate</td>\n",
       "      <td>5.55</td>\n",
       "      <td>156</td>\n",
       "      <td>4</td>\n",
       "      <td>2020-05-09</td>\n",
       "    </tr>\n",
       "    <tr>\n",
       "      <th>18</th>\n",
       "      <td>1005</td>\n",
       "      <td>Douglas Atkinson</td>\n",
       "      <td>TV</td>\n",
       "      <td>199.95</td>\n",
       "      <td>14</td>\n",
       "      <td>1</td>\n",
       "      <td>2020-05-10</td>\n",
       "    </tr>\n",
       "    <tr>\n",
       "      <th>19</th>\n",
       "      <td>1016</td>\n",
       "      <td>Ellen Mccarthy</td>\n",
       "      <td>Vaccum</td>\n",
       "      <td>95.12</td>\n",
       "      <td>15</td>\n",
       "      <td>1</td>\n",
       "      <td>2020-05-11</td>\n",
       "    </tr>\n",
       "  </tbody>\n",
       "</table>\n",
       "</div>"
      ],
      "text/plain": [
       "    user_id              name        item  amount  category_id  \\\n",
       "0      1004      Donna Martin          TV  199.95           14   \n",
       "1      1004      Donna Martin      Vaccum   95.12           15   \n",
       "2      1003     Bobby Bradley         Cup   12.76           44   \n",
       "3      1011     Austin Thomas       Plate    5.55          156   \n",
       "4      1000   Jonathan Medina      Lotion    4.44           23   \n",
       "5      1000   Jonathan Medina  Toothbrush    5.96          123   \n",
       "6      1019   Brandon Beasley   Sanitizer    2.23           12   \n",
       "7      1011     Austin Thomas        Wine   15.67          122   \n",
       "8      1014     Susan Morales    Yoga mat   45.53         1212   \n",
       "9      1001    Rachael Massey        Beer    2.45           42   \n",
       "10     1005   Ross Strickland      Coffee    8.45          356   \n",
       "11     1014     Susan Morales      Lotion    4.44           23   \n",
       "12     1020      Jennifer Cox      Coffee    8.45          356   \n",
       "13     1001    Danny Lynn DDS          TV  199.95           14   \n",
       "14     1019   Brandon Beasley      Vaccum   95.12           15   \n",
       "15     1006    Ashley Nichols   Sanitizer    2.23           12   \n",
       "16     1015     Angela Oneill        Wine   15.67          122   \n",
       "17     1009       Cody Moreno       Plate    5.55          156   \n",
       "18     1005  Douglas Atkinson          TV  199.95           14   \n",
       "19     1016    Ellen Mccarthy      Vaccum   95.12           15   \n",
       "\n",
       "    purchased_quantity purchased_date  \n",
       "0                    1     2020-04-04  \n",
       "1                    2     2020-05-12  \n",
       "2                    1     2020-05-13  \n",
       "3                    1     2020-05-14  \n",
       "4                    2     2020-05-15  \n",
       "5                    1     2020-05-16  \n",
       "6                    3     2020-05-17  \n",
       "7                    1     2020-04-04  \n",
       "8                    2     2020-04-05  \n",
       "9                    4     2020-04-06  \n",
       "10                   5     2020-04-07  \n",
       "11                   3     2020-04-08  \n",
       "12                   4     2020-04-09  \n",
       "13                   2     2020-04-10  \n",
       "14                   6     2020-05-06  \n",
       "15                   1     2020-05-07  \n",
       "16                   2     2020-05-08  \n",
       "17                   4     2020-05-09  \n",
       "18                   1     2020-05-10  \n",
       "19                   1     2020-05-11  "
      ]
     },
     "execution_count": 73,
     "metadata": {},
     "output_type": "execute_result"
    }
   ],
   "source": [
    "df_original"
   ]
  },
  {
   "cell_type": "code",
   "execution_count": 74,
   "metadata": {},
   "outputs": [
    {
     "data": {
      "text/html": [
       "<div>\n",
       "<style scoped>\n",
       "    .dataframe tbody tr th:only-of-type {\n",
       "        vertical-align: middle;\n",
       "    }\n",
       "\n",
       "    .dataframe tbody tr th {\n",
       "        vertical-align: top;\n",
       "    }\n",
       "\n",
       "    .dataframe thead th {\n",
       "        text-align: right;\n",
       "    }\n",
       "</style>\n",
       "<table border=\"1\" class=\"dataframe\">\n",
       "  <thead>\n",
       "    <tr style=\"text-align: right;\">\n",
       "      <th></th>\n",
       "      <th>user_id</th>\n",
       "      <th>name</th>\n",
       "      <th>item</th>\n",
       "      <th>amount</th>\n",
       "      <th>category_id</th>\n",
       "      <th>purchased_quantity</th>\n",
       "      <th>purchased_date</th>\n",
       "    </tr>\n",
       "  </thead>\n",
       "  <tbody>\n",
       "    <tr>\n",
       "      <th>0</th>\n",
       "      <td>a97f8a93-46bf-4017-93bf-abb92515a7c2</td>\n",
       "      <td>Michael Coleman</td>\n",
       "      <td>Category_722 0</td>\n",
       "      <td>70.000000</td>\n",
       "      <td>14</td>\n",
       "      <td>7</td>\n",
       "      <td>2020-05-02</td>\n",
       "    </tr>\n",
       "    <tr>\n",
       "      <th>1</th>\n",
       "      <td>a97f8a93-46bf-4017-93bf-abb92515a7c2</td>\n",
       "      <td>Michael Coleman</td>\n",
       "      <td>Category_722 1</td>\n",
       "      <td>36.597765</td>\n",
       "      <td>15</td>\n",
       "      <td>19</td>\n",
       "      <td>2020-05-09</td>\n",
       "    </tr>\n",
       "    <tr>\n",
       "      <th>2</th>\n",
       "      <td>b972d5b3-3bfa-4c6f-915a-3fc0d3143f65</td>\n",
       "      <td>David Vazquez</td>\n",
       "      <td>Category_722 2</td>\n",
       "      <td>10.355199</td>\n",
       "      <td>44</td>\n",
       "      <td>7</td>\n",
       "      <td>2020-05-10</td>\n",
       "    </tr>\n",
       "    <tr>\n",
       "      <th>3</th>\n",
       "      <td>7049726f-0dc9-4de3-b67a-9a55f012aed1</td>\n",
       "      <td>Luis Smith</td>\n",
       "      <td>Category_722 3</td>\n",
       "      <td>8.057860</td>\n",
       "      <td>156</td>\n",
       "      <td>7</td>\n",
       "      <td>2020-04-22</td>\n",
       "    </tr>\n",
       "    <tr>\n",
       "      <th>4</th>\n",
       "      <td>51628526-b638-495e-ba1c-24e93ae1d9ca</td>\n",
       "      <td>Sarah Calderon</td>\n",
       "      <td>Category_722 4</td>\n",
       "      <td>7.704178</td>\n",
       "      <td>23</td>\n",
       "      <td>19</td>\n",
       "      <td>2020-05-14</td>\n",
       "    </tr>\n",
       "    <tr>\n",
       "      <th>5</th>\n",
       "      <td>51628526-b638-495e-ba1c-24e93ae1d9ca</td>\n",
       "      <td>Sarah Calderon</td>\n",
       "      <td>Category_722 5</td>\n",
       "      <td>8.188499</td>\n",
       "      <td>123</td>\n",
       "      <td>7</td>\n",
       "      <td>2020-05-05</td>\n",
       "    </tr>\n",
       "    <tr>\n",
       "      <th>6</th>\n",
       "      <td>bdb2fa65-9b80-4331-851b-e1c9450c92d7</td>\n",
       "      <td>Kristine Smith</td>\n",
       "      <td>Category_722 6</td>\n",
       "      <td>7.000000</td>\n",
       "      <td>12</td>\n",
       "      <td>32</td>\n",
       "      <td>2020-05-01</td>\n",
       "    </tr>\n",
       "    <tr>\n",
       "      <th>7</th>\n",
       "      <td>7049726f-0dc9-4de3-b67a-9a55f012aed1</td>\n",
       "      <td>Luis Smith</td>\n",
       "      <td>Category_722 7</td>\n",
       "      <td>11.282420</td>\n",
       "      <td>122</td>\n",
       "      <td>7</td>\n",
       "      <td>2020-05-02</td>\n",
       "    </tr>\n",
       "    <tr>\n",
       "      <th>8</th>\n",
       "      <td>e4d2fa90-181c-42bf-87be-2259ff852ed1</td>\n",
       "      <td>Kyle Farmer</td>\n",
       "      <td>Category_722 8</td>\n",
       "      <td>20.796783</td>\n",
       "      <td>1212</td>\n",
       "      <td>19</td>\n",
       "      <td>2020-04-26</td>\n",
       "    </tr>\n",
       "    <tr>\n",
       "      <th>9</th>\n",
       "      <td>cac61fda-204e-4024-a7db-016552871425</td>\n",
       "      <td>Dr. Ashley Berry</td>\n",
       "      <td>Category_722 9</td>\n",
       "      <td>7.070099</td>\n",
       "      <td>42</td>\n",
       "      <td>44</td>\n",
       "      <td>2020-04-27</td>\n",
       "    </tr>\n",
       "    <tr>\n",
       "      <th>10</th>\n",
       "      <td>488cf080-4b4e-42df-a934-89709bb40c64</td>\n",
       "      <td>Anna Kennedy</td>\n",
       "      <td>Category_722 10</td>\n",
       "      <td>8.981894</td>\n",
       "      <td>356</td>\n",
       "      <td>57</td>\n",
       "      <td>2020-04-07</td>\n",
       "    </tr>\n",
       "    <tr>\n",
       "      <th>11</th>\n",
       "      <td>e4d2fa90-181c-42bf-87be-2259ff852ed1</td>\n",
       "      <td>Kyle Farmer</td>\n",
       "      <td>Category_722 4</td>\n",
       "      <td>7.704178</td>\n",
       "      <td>23</td>\n",
       "      <td>32</td>\n",
       "      <td>2020-04-18</td>\n",
       "    </tr>\n",
       "    <tr>\n",
       "      <th>12</th>\n",
       "      <td>0e313785-3b48-48d0-852f-a327553426f0</td>\n",
       "      <td>Rebecca Guerra</td>\n",
       "      <td>Category_722 10</td>\n",
       "      <td>8.981894</td>\n",
       "      <td>356</td>\n",
       "      <td>44</td>\n",
       "      <td>2020-04-17</td>\n",
       "    </tr>\n",
       "    <tr>\n",
       "      <th>13</th>\n",
       "      <td>cac61fda-204e-4024-a7db-016552871425</td>\n",
       "      <td>Carmen Adkins</td>\n",
       "      <td>Category_722 0</td>\n",
       "      <td>70.000000</td>\n",
       "      <td>14</td>\n",
       "      <td>19</td>\n",
       "      <td>2020-04-23</td>\n",
       "    </tr>\n",
       "    <tr>\n",
       "      <th>14</th>\n",
       "      <td>bdb2fa65-9b80-4331-851b-e1c9450c92d7</td>\n",
       "      <td>Kristine Smith</td>\n",
       "      <td>Category_722 1</td>\n",
       "      <td>36.597765</td>\n",
       "      <td>15</td>\n",
       "      <td>70</td>\n",
       "      <td>2020-05-12</td>\n",
       "    </tr>\n",
       "    <tr>\n",
       "      <th>15</th>\n",
       "      <td>add96325-ed96-4b9f-b8c2-ccdf21629e52</td>\n",
       "      <td>Kathy Mclaughlin</td>\n",
       "      <td>Category_722 6</td>\n",
       "      <td>7.000000</td>\n",
       "      <td>12</td>\n",
       "      <td>7</td>\n",
       "      <td>2020-04-05</td>\n",
       "    </tr>\n",
       "    <tr>\n",
       "      <th>16</th>\n",
       "      <td>224c4c78-4787-45b0-b289-3a464e0c97f4</td>\n",
       "      <td>Ricky Chang</td>\n",
       "      <td>Category_722 7</td>\n",
       "      <td>11.282420</td>\n",
       "      <td>122</td>\n",
       "      <td>19</td>\n",
       "      <td>2020-04-07</td>\n",
       "    </tr>\n",
       "    <tr>\n",
       "      <th>17</th>\n",
       "      <td>d8ed66ee-fa3b-4843-a567-dc32babeb944</td>\n",
       "      <td>Alicia Benton</td>\n",
       "      <td>Category_722 3</td>\n",
       "      <td>8.057860</td>\n",
       "      <td>156</td>\n",
       "      <td>44</td>\n",
       "      <td>2020-04-28</td>\n",
       "    </tr>\n",
       "    <tr>\n",
       "      <th>18</th>\n",
       "      <td>488cf080-4b4e-42df-a934-89709bb40c64</td>\n",
       "      <td>Meagan Davidson</td>\n",
       "      <td>Category_722 0</td>\n",
       "      <td>70.000000</td>\n",
       "      <td>14</td>\n",
       "      <td>7</td>\n",
       "      <td>2020-04-26</td>\n",
       "    </tr>\n",
       "    <tr>\n",
       "      <th>19</th>\n",
       "      <td>13f3a001-f60f-40c3-9885-7d147909c585</td>\n",
       "      <td>Michael Johnson</td>\n",
       "      <td>Category_722 1</td>\n",
       "      <td>36.597765</td>\n",
       "      <td>15</td>\n",
       "      <td>7</td>\n",
       "      <td>2020-05-11</td>\n",
       "    </tr>\n",
       "  </tbody>\n",
       "</table>\n",
       "</div>"
      ],
      "text/plain": [
       "                                 user_id              name             item  \\\n",
       "0   a97f8a93-46bf-4017-93bf-abb92515a7c2   Michael Coleman   Category_722 0   \n",
       "1   a97f8a93-46bf-4017-93bf-abb92515a7c2   Michael Coleman   Category_722 1   \n",
       "2   b972d5b3-3bfa-4c6f-915a-3fc0d3143f65     David Vazquez   Category_722 2   \n",
       "3   7049726f-0dc9-4de3-b67a-9a55f012aed1        Luis Smith   Category_722 3   \n",
       "4   51628526-b638-495e-ba1c-24e93ae1d9ca    Sarah Calderon   Category_722 4   \n",
       "5   51628526-b638-495e-ba1c-24e93ae1d9ca    Sarah Calderon   Category_722 5   \n",
       "6   bdb2fa65-9b80-4331-851b-e1c9450c92d7    Kristine Smith   Category_722 6   \n",
       "7   7049726f-0dc9-4de3-b67a-9a55f012aed1        Luis Smith   Category_722 7   \n",
       "8   e4d2fa90-181c-42bf-87be-2259ff852ed1       Kyle Farmer   Category_722 8   \n",
       "9   cac61fda-204e-4024-a7db-016552871425  Dr. Ashley Berry   Category_722 9   \n",
       "10  488cf080-4b4e-42df-a934-89709bb40c64      Anna Kennedy  Category_722 10   \n",
       "11  e4d2fa90-181c-42bf-87be-2259ff852ed1       Kyle Farmer   Category_722 4   \n",
       "12  0e313785-3b48-48d0-852f-a327553426f0    Rebecca Guerra  Category_722 10   \n",
       "13  cac61fda-204e-4024-a7db-016552871425     Carmen Adkins   Category_722 0   \n",
       "14  bdb2fa65-9b80-4331-851b-e1c9450c92d7    Kristine Smith   Category_722 1   \n",
       "15  add96325-ed96-4b9f-b8c2-ccdf21629e52  Kathy Mclaughlin   Category_722 6   \n",
       "16  224c4c78-4787-45b0-b289-3a464e0c97f4       Ricky Chang   Category_722 7   \n",
       "17  d8ed66ee-fa3b-4843-a567-dc32babeb944     Alicia Benton   Category_722 3   \n",
       "18  488cf080-4b4e-42df-a934-89709bb40c64   Meagan Davidson   Category_722 0   \n",
       "19  13f3a001-f60f-40c3-9885-7d147909c585   Michael Johnson   Category_722 1   \n",
       "\n",
       "       amount  category_id  purchased_quantity purchased_date  \n",
       "0   70.000000           14                   7     2020-05-02  \n",
       "1   36.597765           15                  19     2020-05-09  \n",
       "2   10.355199           44                   7     2020-05-10  \n",
       "3    8.057860          156                   7     2020-04-22  \n",
       "4    7.704178           23                  19     2020-05-14  \n",
       "5    8.188499          123                   7     2020-05-05  \n",
       "6    7.000000           12                  32     2020-05-01  \n",
       "7   11.282420          122                   7     2020-05-02  \n",
       "8   20.796783         1212                  19     2020-04-26  \n",
       "9    7.070099           42                  44     2020-04-27  \n",
       "10   8.981894          356                  57     2020-04-07  \n",
       "11   7.704178           23                  32     2020-04-18  \n",
       "12   8.981894          356                  44     2020-04-17  \n",
       "13  70.000000           14                  19     2020-04-23  \n",
       "14  36.597765           15                  70     2020-05-12  \n",
       "15   7.000000           12                   7     2020-04-05  \n",
       "16  11.282420          122                  19     2020-04-07  \n",
       "17   8.057860          156                  44     2020-04-28  \n",
       "18  70.000000           14                   7     2020-04-26  \n",
       "19  36.597765           15                   7     2020-05-11  "
      ]
     },
     "execution_count": 74,
     "metadata": {},
     "output_type": "execute_result"
    }
   ],
   "source": [
    "df"
   ]
  }
 ],
 "metadata": {
  "kernelspec": {
   "display_name": "Python 3",
   "language": "python",
   "name": "python3"
  },
  "language_info": {
   "codemirror_mode": {
    "name": "ipython",
    "version": 3
   },
   "file_extension": ".py",
   "mimetype": "text/x-python",
   "name": "python",
   "nbconvert_exporter": "python",
   "pygments_lexer": "ipython3",
   "version": "3.8.5"
  }
 },
 "nbformat": 4,
 "nbformat_minor": 4
}
