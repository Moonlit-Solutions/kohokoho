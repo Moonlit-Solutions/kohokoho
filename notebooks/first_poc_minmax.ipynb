{
 "cells": [
  {
   "cell_type": "markdown",
   "metadata": {},
   "source": [
    "# First POC for dataset anonymization"
   ]
  },
  {
   "cell_type": "markdown",
   "metadata": {},
   "source": [
    "## Imports"
   ]
  },
  {
   "cell_type": "code",
   "execution_count": 1,
   "metadata": {},
   "outputs": [],
   "source": [
    "import pandas as pd\n",
    "import random\n",
    "import datetime as dt\n",
    "from faker import Faker"
   ]
  },
  {
   "cell_type": "code",
   "execution_count": 2,
   "metadata": {},
   "outputs": [],
   "source": [
    "fake = Faker()"
   ]
  },
  {
   "cell_type": "code",
   "execution_count": 3,
   "metadata": {},
   "outputs": [
    {
     "name": "stdout",
     "output_type": "stream",
     "text": [
      "Mitchell Scott\n",
      "Danielle Young\n",
      "Ryan Lopez\n",
      "Matthew Morris\n",
      "William Hall\n",
      "Jonathan Francis\n",
      "John Henry\n",
      "Sarah Rodriguez\n",
      "John Lyons\n",
      "David Dennis\n",
      "Martha Lamb\n",
      "James Camacho\n",
      "Cynthia Sims\n",
      "Julia Gonzalez\n",
      "Jonathan Martinez\n",
      "Jack Benitez\n",
      "Anthony Williams\n",
      "Jacqueline Richards\n",
      "Jessica Perez\n",
      "Jeffrey Zuniga\n"
     ]
    }
   ],
   "source": [
    "for _ in range(20):\n",
    "  print(fake.name())"
   ]
  },
  {
   "cell_type": "markdown",
   "metadata": {},
   "source": [
    "## Create and import a sample dataset"
   ]
  },
  {
   "cell_type": "code",
   "execution_count": 4,
   "metadata": {},
   "outputs": [],
   "source": [
    "df = pd.read_csv('../datasets/test_dataset1.csv', parse_dates=['purchased_date'])"
   ]
  },
  {
   "cell_type": "code",
   "execution_count": 5,
   "metadata": {},
   "outputs": [],
   "source": [
    "df_original = df.copy()"
   ]
  },
  {
   "cell_type": "code",
   "execution_count": 6,
   "metadata": {},
   "outputs": [
    {
     "data": {
      "text/html": [
       "<div>\n",
       "<style scoped>\n",
       "    .dataframe tbody tr th:only-of-type {\n",
       "        vertical-align: middle;\n",
       "    }\n",
       "\n",
       "    .dataframe tbody tr th {\n",
       "        vertical-align: top;\n",
       "    }\n",
       "\n",
       "    .dataframe thead th {\n",
       "        text-align: right;\n",
       "    }\n",
       "</style>\n",
       "<table border=\"1\" class=\"dataframe\">\n",
       "  <thead>\n",
       "    <tr style=\"text-align: right;\">\n",
       "      <th></th>\n",
       "      <th>user_id</th>\n",
       "      <th>name</th>\n",
       "      <th>item_name</th>\n",
       "      <th>price</th>\n",
       "      <th>category_id</th>\n",
       "      <th>quantity</th>\n",
       "      <th>purchased_date</th>\n",
       "    </tr>\n",
       "  </thead>\n",
       "  <tbody>\n",
       "    <tr>\n",
       "      <th>0</th>\n",
       "      <td>1004</td>\n",
       "      <td>Donna Martin</td>\n",
       "      <td>TV</td>\n",
       "      <td>199.95</td>\n",
       "      <td>14</td>\n",
       "      <td>1</td>\n",
       "      <td>2020-04-04</td>\n",
       "    </tr>\n",
       "    <tr>\n",
       "      <th>1</th>\n",
       "      <td>1004</td>\n",
       "      <td>Donna Martin</td>\n",
       "      <td>Vaccum</td>\n",
       "      <td>95.12</td>\n",
       "      <td>15</td>\n",
       "      <td>2</td>\n",
       "      <td>2020-05-12</td>\n",
       "    </tr>\n",
       "    <tr>\n",
       "      <th>2</th>\n",
       "      <td>1003</td>\n",
       "      <td>Bobby Bradley</td>\n",
       "      <td>Cup</td>\n",
       "      <td>12.76</td>\n",
       "      <td>44</td>\n",
       "      <td>1</td>\n",
       "      <td>2020-05-13</td>\n",
       "    </tr>\n",
       "    <tr>\n",
       "      <th>3</th>\n",
       "      <td>1011</td>\n",
       "      <td>Austin Thomas</td>\n",
       "      <td>Plate</td>\n",
       "      <td>5.55</td>\n",
       "      <td>156</td>\n",
       "      <td>1</td>\n",
       "      <td>2020-05-14</td>\n",
       "    </tr>\n",
       "    <tr>\n",
       "      <th>4</th>\n",
       "      <td>1000</td>\n",
       "      <td>Jonathan Medina</td>\n",
       "      <td>Lotion</td>\n",
       "      <td>4.44</td>\n",
       "      <td>23</td>\n",
       "      <td>2</td>\n",
       "      <td>2020-05-15</td>\n",
       "    </tr>\n",
       "    <tr>\n",
       "      <th>5</th>\n",
       "      <td>1000</td>\n",
       "      <td>Jonathan Medina</td>\n",
       "      <td>Toothbrush</td>\n",
       "      <td>5.96</td>\n",
       "      <td>123</td>\n",
       "      <td>1</td>\n",
       "      <td>2020-05-16</td>\n",
       "    </tr>\n",
       "    <tr>\n",
       "      <th>6</th>\n",
       "      <td>1019</td>\n",
       "      <td>Brandon Beasley</td>\n",
       "      <td>Sanitizer</td>\n",
       "      <td>2.23</td>\n",
       "      <td>12</td>\n",
       "      <td>3</td>\n",
       "      <td>2020-05-17</td>\n",
       "    </tr>\n",
       "    <tr>\n",
       "      <th>7</th>\n",
       "      <td>1011</td>\n",
       "      <td>Austin Thomas</td>\n",
       "      <td>Wine</td>\n",
       "      <td>15.67</td>\n",
       "      <td>122</td>\n",
       "      <td>1</td>\n",
       "      <td>2020-04-04</td>\n",
       "    </tr>\n",
       "    <tr>\n",
       "      <th>8</th>\n",
       "      <td>1014</td>\n",
       "      <td>Susan Morales</td>\n",
       "      <td>Yoga mat</td>\n",
       "      <td>45.53</td>\n",
       "      <td>1212</td>\n",
       "      <td>2</td>\n",
       "      <td>2020-04-05</td>\n",
       "    </tr>\n",
       "    <tr>\n",
       "      <th>9</th>\n",
       "      <td>1001</td>\n",
       "      <td>Rachael Massey</td>\n",
       "      <td>Beer</td>\n",
       "      <td>2.45</td>\n",
       "      <td>42</td>\n",
       "      <td>4</td>\n",
       "      <td>2020-04-06</td>\n",
       "    </tr>\n",
       "    <tr>\n",
       "      <th>10</th>\n",
       "      <td>1005</td>\n",
       "      <td>Ross Strickland</td>\n",
       "      <td>Coffee</td>\n",
       "      <td>8.45</td>\n",
       "      <td>356</td>\n",
       "      <td>5</td>\n",
       "      <td>2020-04-07</td>\n",
       "    </tr>\n",
       "    <tr>\n",
       "      <th>11</th>\n",
       "      <td>1014</td>\n",
       "      <td>Susan Morales</td>\n",
       "      <td>Lotion</td>\n",
       "      <td>4.44</td>\n",
       "      <td>23</td>\n",
       "      <td>3</td>\n",
       "      <td>2020-04-08</td>\n",
       "    </tr>\n",
       "    <tr>\n",
       "      <th>12</th>\n",
       "      <td>1020</td>\n",
       "      <td>Jennifer Cox</td>\n",
       "      <td>Coffee</td>\n",
       "      <td>8.45</td>\n",
       "      <td>356</td>\n",
       "      <td>4</td>\n",
       "      <td>2020-04-09</td>\n",
       "    </tr>\n",
       "    <tr>\n",
       "      <th>13</th>\n",
       "      <td>1001</td>\n",
       "      <td>Danny Lynn DDS</td>\n",
       "      <td>TV</td>\n",
       "      <td>199.95</td>\n",
       "      <td>14</td>\n",
       "      <td>2</td>\n",
       "      <td>2020-04-10</td>\n",
       "    </tr>\n",
       "    <tr>\n",
       "      <th>14</th>\n",
       "      <td>1019</td>\n",
       "      <td>Brandon Beasley</td>\n",
       "      <td>Vaccum</td>\n",
       "      <td>95.12</td>\n",
       "      <td>15</td>\n",
       "      <td>6</td>\n",
       "      <td>2020-05-06</td>\n",
       "    </tr>\n",
       "    <tr>\n",
       "      <th>15</th>\n",
       "      <td>1006</td>\n",
       "      <td>Ashley Nichols</td>\n",
       "      <td>Sanitizer</td>\n",
       "      <td>2.23</td>\n",
       "      <td>12</td>\n",
       "      <td>1</td>\n",
       "      <td>2020-05-07</td>\n",
       "    </tr>\n",
       "    <tr>\n",
       "      <th>16</th>\n",
       "      <td>1015</td>\n",
       "      <td>Angela Oneill</td>\n",
       "      <td>Wine</td>\n",
       "      <td>15.67</td>\n",
       "      <td>122</td>\n",
       "      <td>2</td>\n",
       "      <td>2020-05-08</td>\n",
       "    </tr>\n",
       "    <tr>\n",
       "      <th>17</th>\n",
       "      <td>1009</td>\n",
       "      <td>Cody Moreno</td>\n",
       "      <td>Plate</td>\n",
       "      <td>5.55</td>\n",
       "      <td>156</td>\n",
       "      <td>4</td>\n",
       "      <td>2020-05-09</td>\n",
       "    </tr>\n",
       "    <tr>\n",
       "      <th>18</th>\n",
       "      <td>1005</td>\n",
       "      <td>Douglas Atkinson</td>\n",
       "      <td>TV</td>\n",
       "      <td>199.95</td>\n",
       "      <td>14</td>\n",
       "      <td>1</td>\n",
       "      <td>2020-05-10</td>\n",
       "    </tr>\n",
       "    <tr>\n",
       "      <th>19</th>\n",
       "      <td>1016</td>\n",
       "      <td>Ellen Mccarthy</td>\n",
       "      <td>Vaccum</td>\n",
       "      <td>95.12</td>\n",
       "      <td>15</td>\n",
       "      <td>1</td>\n",
       "      <td>2020-05-11</td>\n",
       "    </tr>\n",
       "  </tbody>\n",
       "</table>\n",
       "</div>"
      ],
      "text/plain": [
       "    user_id              name   item_name   price  category_id  quantity  \\\n",
       "0      1004      Donna Martin          TV  199.95           14         1   \n",
       "1      1004      Donna Martin      Vaccum   95.12           15         2   \n",
       "2      1003     Bobby Bradley         Cup   12.76           44         1   \n",
       "3      1011     Austin Thomas       Plate    5.55          156         1   \n",
       "4      1000   Jonathan Medina      Lotion    4.44           23         2   \n",
       "5      1000   Jonathan Medina  Toothbrush    5.96          123         1   \n",
       "6      1019   Brandon Beasley   Sanitizer    2.23           12         3   \n",
       "7      1011     Austin Thomas        Wine   15.67          122         1   \n",
       "8      1014     Susan Morales    Yoga mat   45.53         1212         2   \n",
       "9      1001    Rachael Massey        Beer    2.45           42         4   \n",
       "10     1005   Ross Strickland      Coffee    8.45          356         5   \n",
       "11     1014     Susan Morales      Lotion    4.44           23         3   \n",
       "12     1020      Jennifer Cox      Coffee    8.45          356         4   \n",
       "13     1001    Danny Lynn DDS          TV  199.95           14         2   \n",
       "14     1019   Brandon Beasley      Vaccum   95.12           15         6   \n",
       "15     1006    Ashley Nichols   Sanitizer    2.23           12         1   \n",
       "16     1015     Angela Oneill        Wine   15.67          122         2   \n",
       "17     1009       Cody Moreno       Plate    5.55          156         4   \n",
       "18     1005  Douglas Atkinson          TV  199.95           14         1   \n",
       "19     1016    Ellen Mccarthy      Vaccum   95.12           15         1   \n",
       "\n",
       "   purchased_date  \n",
       "0      2020-04-04  \n",
       "1      2020-05-12  \n",
       "2      2020-05-13  \n",
       "3      2020-05-14  \n",
       "4      2020-05-15  \n",
       "5      2020-05-16  \n",
       "6      2020-05-17  \n",
       "7      2020-04-04  \n",
       "8      2020-04-05  \n",
       "9      2020-04-06  \n",
       "10     2020-04-07  \n",
       "11     2020-04-08  \n",
       "12     2020-04-09  \n",
       "13     2020-04-10  \n",
       "14     2020-05-06  \n",
       "15     2020-05-07  \n",
       "16     2020-05-08  \n",
       "17     2020-05-09  \n",
       "18     2020-05-10  \n",
       "19     2020-05-11  "
      ]
     },
     "execution_count": 6,
     "metadata": {},
     "output_type": "execute_result"
    }
   ],
   "source": [
    "df"
   ]
  },
  {
   "cell_type": "markdown",
   "metadata": {},
   "source": [
    "## Replace names"
   ]
  },
  {
   "cell_type": "code",
   "execution_count": 7,
   "metadata": {},
   "outputs": [],
   "source": [
    "unique_names = df['name'].unique()"
   ]
  },
  {
   "cell_type": "code",
   "execution_count": 8,
   "metadata": {},
   "outputs": [
    {
     "data": {
      "text/plain": [
       "array(['Donna Martin', 'Bobby Bradley', 'Austin Thomas',\n",
       "       'Jonathan Medina', 'Brandon Beasley', 'Susan Morales',\n",
       "       'Rachael Massey', 'Ross Strickland', 'Jennifer Cox',\n",
       "       'Danny Lynn DDS', 'Ashley Nichols', 'Angela Oneill', 'Cody Moreno',\n",
       "       'Douglas Atkinson', 'Ellen Mccarthy'], dtype=object)"
      ]
     },
     "execution_count": 8,
     "metadata": {},
     "output_type": "execute_result"
    }
   ],
   "source": [
    "unique_names"
   ]
  },
  {
   "cell_type": "code",
   "execution_count": 9,
   "metadata": {},
   "outputs": [],
   "source": [
    "name_dict = {name: fake.name() for name in unique_names}"
   ]
  },
  {
   "cell_type": "code",
   "execution_count": 10,
   "metadata": {},
   "outputs": [
    {
     "data": {
      "text/plain": [
       "{'Donna Martin': 'Eddie Bowman',\n",
       " 'Bobby Bradley': 'Harry Ochoa',\n",
       " 'Austin Thomas': 'Mary Davis',\n",
       " 'Jonathan Medina': 'Michael Hicks',\n",
       " 'Brandon Beasley': 'Dustin Perez',\n",
       " 'Susan Morales': 'David Guerra',\n",
       " 'Rachael Massey': 'Dylan Chavez',\n",
       " 'Ross Strickland': 'Robin Fox',\n",
       " 'Jennifer Cox': 'Thomas Byrd',\n",
       " 'Danny Lynn DDS': 'Robert Smith',\n",
       " 'Ashley Nichols': 'Ronald Landry',\n",
       " 'Angela Oneill': 'Catherine Meyer',\n",
       " 'Cody Moreno': 'Jose Jones',\n",
       " 'Douglas Atkinson': 'Miranda Dodson',\n",
       " 'Ellen Mccarthy': 'Andrew Yang'}"
      ]
     },
     "execution_count": 10,
     "metadata": {},
     "output_type": "execute_result"
    }
   ],
   "source": [
    "name_dict"
   ]
  },
  {
   "cell_type": "code",
   "execution_count": 11,
   "metadata": {},
   "outputs": [],
   "source": [
    "df['name'] = df['name'].map(name_dict)"
   ]
  },
  {
   "cell_type": "markdown",
   "metadata": {},
   "source": [
    "## Replace ids"
   ]
  },
  {
   "cell_type": "code",
   "execution_count": 12,
   "metadata": {},
   "outputs": [],
   "source": [
    "unique_ids = df['user_id'].unique()"
   ]
  },
  {
   "cell_type": "code",
   "execution_count": 13,
   "metadata": {},
   "outputs": [],
   "source": [
    "id_dict = {id_: fake.uuid4() for id_ in unique_ids}"
   ]
  },
  {
   "cell_type": "code",
   "execution_count": 14,
   "metadata": {},
   "outputs": [
    {
     "data": {
      "text/plain": [
       "{1004: 'ff32e534-1157-4eb8-8113-0aefd7c29ed6',\n",
       " 1003: 'c950535f-bb76-4ec6-b999-0e10a287832e',\n",
       " 1011: 'd21ed990-1320-441c-aced-971aa2949d1b',\n",
       " 1000: 'e89df8e2-c426-4802-b4a7-96840bb9d41e',\n",
       " 1019: 'f38b9915-b871-43ed-ac52-69d8f9cb0d18',\n",
       " 1014: 'd5db4112-0ce3-49c7-81eb-a7a5fc5eff7e',\n",
       " 1001: '01865500-de47-4c20-99f9-57e9fb7c7927',\n",
       " 1005: '787a3ab8-be37-4987-afde-d668c9289f0a',\n",
       " 1020: 'a0ee4f13-f8cf-44ad-afb9-b254c10c3ed6',\n",
       " 1006: '4ff3b5bd-11ca-42e8-a450-0ea1bb364eb7',\n",
       " 1015: '9571bbd2-c35c-4d8e-b11c-1d6c1ef8c1b8',\n",
       " 1009: '18587227-51dc-490e-b582-e31437f10406',\n",
       " 1016: '9fd11e7c-10b5-431f-b8fb-2ae79b517713'}"
      ]
     },
     "execution_count": 14,
     "metadata": {},
     "output_type": "execute_result"
    }
   ],
   "source": [
    "id_dict"
   ]
  },
  {
   "cell_type": "code",
   "execution_count": 15,
   "metadata": {},
   "outputs": [],
   "source": [
    "df['user_id'] = df['user_id'].map(id_dict)"
   ]
  },
  {
   "cell_type": "markdown",
   "metadata": {},
   "source": [
    "## Replace whole numbers"
   ]
  },
  {
   "cell_type": "code",
   "execution_count": 16,
   "metadata": {},
   "outputs": [],
   "source": [
    "whole_numbers = df['quantity']"
   ]
  },
  {
   "cell_type": "code",
   "execution_count": 17,
   "metadata": {},
   "outputs": [
    {
     "data": {
      "text/plain": [
       "0     1\n",
       "1     2\n",
       "2     1\n",
       "3     1\n",
       "4     2\n",
       "5     1\n",
       "6     3\n",
       "7     1\n",
       "8     2\n",
       "9     4\n",
       "10    5\n",
       "11    3\n",
       "12    4\n",
       "13    2\n",
       "14    6\n",
       "15    1\n",
       "16    2\n",
       "17    4\n",
       "18    1\n",
       "19    1\n",
       "Name: quantity, dtype: int64"
      ]
     },
     "execution_count": 17,
     "metadata": {},
     "output_type": "execute_result"
    }
   ],
   "source": [
    "whole_numbers"
   ]
  },
  {
   "cell_type": "code",
   "execution_count": 18,
   "metadata": {},
   "outputs": [],
   "source": [
    "X_std = (whole_numbers - whole_numbers.min()) / (whole_numbers.max() - whole_numbers.min())\n",
    "X_scaled = (X_std * (10 - 1) + 1) \n",
    "X_scaled_whole_randomized = (X_scaled * random.randint(1, 10)).astype(int)"
   ]
  },
  {
   "cell_type": "code",
   "execution_count": 19,
   "metadata": {},
   "outputs": [
    {
     "data": {
      "text/plain": [
       "0      1\n",
       "1      2\n",
       "2      1\n",
       "3      1\n",
       "4      2\n",
       "5      1\n",
       "6      4\n",
       "7      1\n",
       "8      2\n",
       "9      6\n",
       "10     8\n",
       "11     4\n",
       "12     6\n",
       "13     2\n",
       "14    10\n",
       "15     1\n",
       "16     2\n",
       "17     6\n",
       "18     1\n",
       "19     1\n",
       "Name: quantity, dtype: int64"
      ]
     },
     "execution_count": 19,
     "metadata": {},
     "output_type": "execute_result"
    }
   ],
   "source": [
    "X_scaled_whole_randomized"
   ]
  },
  {
   "cell_type": "code",
   "execution_count": 20,
   "metadata": {},
   "outputs": [],
   "source": [
    "# whole_number_dict = {\n",
    "#     number: fake.random_int(\n",
    "#         min=min(whole_numbers), max=max(whole_numbers)\n",
    "#     )\n",
    "#     for number in whole_numbers\n",
    "# }"
   ]
  },
  {
   "cell_type": "code",
   "execution_count": 21,
   "metadata": {},
   "outputs": [],
   "source": [
    "# whole_number_dict"
   ]
  },
  {
   "cell_type": "code",
   "execution_count": 22,
   "metadata": {},
   "outputs": [],
   "source": [
    "df['quantity'] = X_scaled_whole_randomized"
   ]
  },
  {
   "cell_type": "markdown",
   "metadata": {},
   "source": [
    "## Replace decimal numbers"
   ]
  },
  {
   "cell_type": "code",
   "execution_count": 23,
   "metadata": {},
   "outputs": [],
   "source": [
    "decimal_numbers = df['price']"
   ]
  },
  {
   "cell_type": "code",
   "execution_count": 24,
   "metadata": {},
   "outputs": [],
   "source": [
    "X_std = (decimal_numbers - decimal_numbers.min()) / (decimal_numbers.max() - decimal_numbers.min())\n",
    "X_scaled = (X_std * (10 - 1) + 1) \n",
    "X_scaled_decimal_randomized = (X_scaled * random.randint(1, 10))"
   ]
  },
  {
   "cell_type": "code",
   "execution_count": 25,
   "metadata": {},
   "outputs": [],
   "source": [
    "# decimal_number_dict"
   ]
  },
  {
   "cell_type": "code",
   "execution_count": 26,
   "metadata": {},
   "outputs": [],
   "source": [
    "df['price'] = X_scaled_decimal_randomized"
   ]
  },
  {
   "cell_type": "markdown",
   "metadata": {},
   "source": [
    "## Categorical data"
   ]
  },
  {
   "cell_type": "code",
   "execution_count": 27,
   "metadata": {},
   "outputs": [],
   "source": [
    "category = df['item_name']"
   ]
  },
  {
   "cell_type": "code",
   "execution_count": 28,
   "metadata": {},
   "outputs": [
    {
     "data": {
      "text/plain": [
       "0             TV\n",
       "1         Vaccum\n",
       "2            Cup\n",
       "3          Plate\n",
       "4         Lotion\n",
       "5     Toothbrush\n",
       "6      Sanitizer\n",
       "7           Wine\n",
       "8       Yoga mat\n",
       "9           Beer\n",
       "10        Coffee\n",
       "11        Lotion\n",
       "12        Coffee\n",
       "13            TV\n",
       "14        Vaccum\n",
       "15     Sanitizer\n",
       "16          Wine\n",
       "17         Plate\n",
       "18            TV\n",
       "19        Vaccum\n",
       "Name: item_name, dtype: object"
      ]
     },
     "execution_count": 28,
     "metadata": {},
     "output_type": "execute_result"
    }
   ],
   "source": [
    "category"
   ]
  },
  {
   "cell_type": "code",
   "execution_count": 29,
   "metadata": {},
   "outputs": [],
   "source": [
    "unique_category = category.unique()"
   ]
  },
  {
   "cell_type": "code",
   "execution_count": 30,
   "metadata": {},
   "outputs": [],
   "source": [
    "rand_category = random.randint(0,1000)\n",
    "category_dict = {\n",
    "    category:  \"Category_\" + str(rand_category) + \" \" +str(iteration)\n",
    "    for iteration, category in enumerate(unique_category)\n",
    "}"
   ]
  },
  {
   "cell_type": "code",
   "execution_count": 31,
   "metadata": {},
   "outputs": [
    {
     "data": {
      "text/plain": [
       "{'TV': 'Category_625 0',\n",
       " 'Vaccum': 'Category_625 1',\n",
       " 'Cup': 'Category_625 2',\n",
       " 'Plate': 'Category_625 3',\n",
       " 'Lotion': 'Category_625 4',\n",
       " 'Toothbrush': 'Category_625 5',\n",
       " 'Sanitizer': 'Category_625 6',\n",
       " 'Wine': 'Category_625 7',\n",
       " 'Yoga mat': 'Category_625 8',\n",
       " 'Beer': 'Category_625 9',\n",
       " 'Coffee': 'Category_625 10'}"
      ]
     },
     "execution_count": 31,
     "metadata": {},
     "output_type": "execute_result"
    }
   ],
   "source": [
    "category_dict"
   ]
  },
  {
   "cell_type": "code",
   "execution_count": 32,
   "metadata": {},
   "outputs": [],
   "source": [
    "df['item_name'] = df['item_name'].map(category_dict)"
   ]
  },
  {
   "cell_type": "markdown",
   "metadata": {},
   "source": [
    "### Dates"
   ]
  },
  {
   "cell_type": "code",
   "execution_count": 33,
   "metadata": {},
   "outputs": [],
   "source": [
    "dates = df['purchased_date']"
   ]
  },
  {
   "cell_type": "code",
   "execution_count": 34,
   "metadata": {},
   "outputs": [
    {
     "data": {
      "text/plain": [
       "datetime.date(2020, 4, 30)"
      ]
     },
     "execution_count": 34,
     "metadata": {},
     "output_type": "execute_result"
    }
   ],
   "source": [
    "fake.date_between(start_date=dates.min(), end_date=dates.max())"
   ]
  },
  {
   "cell_type": "code",
   "execution_count": 35,
   "metadata": {},
   "outputs": [],
   "source": [
    "dates_dict = {\n",
    "    date: fake.date_between(start_date=dates.min(), end_date=dates.max()).strftime('%Y-%m-%d')\n",
    "    for date in dates\n",
    "}"
   ]
  },
  {
   "cell_type": "code",
   "execution_count": 36,
   "metadata": {},
   "outputs": [
    {
     "data": {
      "text/plain": [
       "{Timestamp('2020-04-04 00:00:00'): '2020-05-11',\n",
       " Timestamp('2020-05-12 00:00:00'): '2020-05-14',\n",
       " Timestamp('2020-05-13 00:00:00'): '2020-04-19',\n",
       " Timestamp('2020-05-14 00:00:00'): '2020-04-20',\n",
       " Timestamp('2020-05-15 00:00:00'): '2020-04-04',\n",
       " Timestamp('2020-05-16 00:00:00'): '2020-05-07',\n",
       " Timestamp('2020-05-17 00:00:00'): '2020-04-14',\n",
       " Timestamp('2020-04-05 00:00:00'): '2020-05-02',\n",
       " Timestamp('2020-04-06 00:00:00'): '2020-04-23',\n",
       " Timestamp('2020-04-07 00:00:00'): '2020-04-23',\n",
       " Timestamp('2020-04-08 00:00:00'): '2020-05-03',\n",
       " Timestamp('2020-04-09 00:00:00'): '2020-04-19',\n",
       " Timestamp('2020-04-10 00:00:00'): '2020-04-21',\n",
       " Timestamp('2020-05-06 00:00:00'): '2020-04-06',\n",
       " Timestamp('2020-05-07 00:00:00'): '2020-04-25',\n",
       " Timestamp('2020-05-08 00:00:00'): '2020-05-04',\n",
       " Timestamp('2020-05-09 00:00:00'): '2020-04-10',\n",
       " Timestamp('2020-05-10 00:00:00'): '2020-04-23',\n",
       " Timestamp('2020-05-11 00:00:00'): '2020-04-22'}"
      ]
     },
     "execution_count": 36,
     "metadata": {},
     "output_type": "execute_result"
    }
   ],
   "source": [
    "dates_dict"
   ]
  },
  {
   "cell_type": "code",
   "execution_count": 37,
   "metadata": {},
   "outputs": [],
   "source": [
    "df['purchased_date'] = df['purchased_date'].map(dates_dict)"
   ]
  },
  {
   "cell_type": "markdown",
   "metadata": {},
   "source": [
    "# Original vs Final"
   ]
  },
  {
   "cell_type": "code",
   "execution_count": 38,
   "metadata": {},
   "outputs": [
    {
     "data": {
      "text/html": [
       "<div>\n",
       "<style scoped>\n",
       "    .dataframe tbody tr th:only-of-type {\n",
       "        vertical-align: middle;\n",
       "    }\n",
       "\n",
       "    .dataframe tbody tr th {\n",
       "        vertical-align: top;\n",
       "    }\n",
       "\n",
       "    .dataframe thead th {\n",
       "        text-align: right;\n",
       "    }\n",
       "</style>\n",
       "<table border=\"1\" class=\"dataframe\">\n",
       "  <thead>\n",
       "    <tr style=\"text-align: right;\">\n",
       "      <th></th>\n",
       "      <th>user_id</th>\n",
       "      <th>name</th>\n",
       "      <th>item_name</th>\n",
       "      <th>price</th>\n",
       "      <th>category_id</th>\n",
       "      <th>quantity</th>\n",
       "      <th>purchased_date</th>\n",
       "    </tr>\n",
       "  </thead>\n",
       "  <tbody>\n",
       "    <tr>\n",
       "      <th>0</th>\n",
       "      <td>1004</td>\n",
       "      <td>Donna Martin</td>\n",
       "      <td>TV</td>\n",
       "      <td>199.95</td>\n",
       "      <td>14</td>\n",
       "      <td>1</td>\n",
       "      <td>2020-04-04</td>\n",
       "    </tr>\n",
       "    <tr>\n",
       "      <th>1</th>\n",
       "      <td>1004</td>\n",
       "      <td>Donna Martin</td>\n",
       "      <td>Vaccum</td>\n",
       "      <td>95.12</td>\n",
       "      <td>15</td>\n",
       "      <td>2</td>\n",
       "      <td>2020-05-12</td>\n",
       "    </tr>\n",
       "    <tr>\n",
       "      <th>2</th>\n",
       "      <td>1003</td>\n",
       "      <td>Bobby Bradley</td>\n",
       "      <td>Cup</td>\n",
       "      <td>12.76</td>\n",
       "      <td>44</td>\n",
       "      <td>1</td>\n",
       "      <td>2020-05-13</td>\n",
       "    </tr>\n",
       "    <tr>\n",
       "      <th>3</th>\n",
       "      <td>1011</td>\n",
       "      <td>Austin Thomas</td>\n",
       "      <td>Plate</td>\n",
       "      <td>5.55</td>\n",
       "      <td>156</td>\n",
       "      <td>1</td>\n",
       "      <td>2020-05-14</td>\n",
       "    </tr>\n",
       "    <tr>\n",
       "      <th>4</th>\n",
       "      <td>1000</td>\n",
       "      <td>Jonathan Medina</td>\n",
       "      <td>Lotion</td>\n",
       "      <td>4.44</td>\n",
       "      <td>23</td>\n",
       "      <td>2</td>\n",
       "      <td>2020-05-15</td>\n",
       "    </tr>\n",
       "    <tr>\n",
       "      <th>5</th>\n",
       "      <td>1000</td>\n",
       "      <td>Jonathan Medina</td>\n",
       "      <td>Toothbrush</td>\n",
       "      <td>5.96</td>\n",
       "      <td>123</td>\n",
       "      <td>1</td>\n",
       "      <td>2020-05-16</td>\n",
       "    </tr>\n",
       "    <tr>\n",
       "      <th>6</th>\n",
       "      <td>1019</td>\n",
       "      <td>Brandon Beasley</td>\n",
       "      <td>Sanitizer</td>\n",
       "      <td>2.23</td>\n",
       "      <td>12</td>\n",
       "      <td>3</td>\n",
       "      <td>2020-05-17</td>\n",
       "    </tr>\n",
       "    <tr>\n",
       "      <th>7</th>\n",
       "      <td>1011</td>\n",
       "      <td>Austin Thomas</td>\n",
       "      <td>Wine</td>\n",
       "      <td>15.67</td>\n",
       "      <td>122</td>\n",
       "      <td>1</td>\n",
       "      <td>2020-04-04</td>\n",
       "    </tr>\n",
       "    <tr>\n",
       "      <th>8</th>\n",
       "      <td>1014</td>\n",
       "      <td>Susan Morales</td>\n",
       "      <td>Yoga mat</td>\n",
       "      <td>45.53</td>\n",
       "      <td>1212</td>\n",
       "      <td>2</td>\n",
       "      <td>2020-04-05</td>\n",
       "    </tr>\n",
       "    <tr>\n",
       "      <th>9</th>\n",
       "      <td>1001</td>\n",
       "      <td>Rachael Massey</td>\n",
       "      <td>Beer</td>\n",
       "      <td>2.45</td>\n",
       "      <td>42</td>\n",
       "      <td>4</td>\n",
       "      <td>2020-04-06</td>\n",
       "    </tr>\n",
       "    <tr>\n",
       "      <th>10</th>\n",
       "      <td>1005</td>\n",
       "      <td>Ross Strickland</td>\n",
       "      <td>Coffee</td>\n",
       "      <td>8.45</td>\n",
       "      <td>356</td>\n",
       "      <td>5</td>\n",
       "      <td>2020-04-07</td>\n",
       "    </tr>\n",
       "    <tr>\n",
       "      <th>11</th>\n",
       "      <td>1014</td>\n",
       "      <td>Susan Morales</td>\n",
       "      <td>Lotion</td>\n",
       "      <td>4.44</td>\n",
       "      <td>23</td>\n",
       "      <td>3</td>\n",
       "      <td>2020-04-08</td>\n",
       "    </tr>\n",
       "    <tr>\n",
       "      <th>12</th>\n",
       "      <td>1020</td>\n",
       "      <td>Jennifer Cox</td>\n",
       "      <td>Coffee</td>\n",
       "      <td>8.45</td>\n",
       "      <td>356</td>\n",
       "      <td>4</td>\n",
       "      <td>2020-04-09</td>\n",
       "    </tr>\n",
       "    <tr>\n",
       "      <th>13</th>\n",
       "      <td>1001</td>\n",
       "      <td>Danny Lynn DDS</td>\n",
       "      <td>TV</td>\n",
       "      <td>199.95</td>\n",
       "      <td>14</td>\n",
       "      <td>2</td>\n",
       "      <td>2020-04-10</td>\n",
       "    </tr>\n",
       "    <tr>\n",
       "      <th>14</th>\n",
       "      <td>1019</td>\n",
       "      <td>Brandon Beasley</td>\n",
       "      <td>Vaccum</td>\n",
       "      <td>95.12</td>\n",
       "      <td>15</td>\n",
       "      <td>6</td>\n",
       "      <td>2020-05-06</td>\n",
       "    </tr>\n",
       "    <tr>\n",
       "      <th>15</th>\n",
       "      <td>1006</td>\n",
       "      <td>Ashley Nichols</td>\n",
       "      <td>Sanitizer</td>\n",
       "      <td>2.23</td>\n",
       "      <td>12</td>\n",
       "      <td>1</td>\n",
       "      <td>2020-05-07</td>\n",
       "    </tr>\n",
       "    <tr>\n",
       "      <th>16</th>\n",
       "      <td>1015</td>\n",
       "      <td>Angela Oneill</td>\n",
       "      <td>Wine</td>\n",
       "      <td>15.67</td>\n",
       "      <td>122</td>\n",
       "      <td>2</td>\n",
       "      <td>2020-05-08</td>\n",
       "    </tr>\n",
       "    <tr>\n",
       "      <th>17</th>\n",
       "      <td>1009</td>\n",
       "      <td>Cody Moreno</td>\n",
       "      <td>Plate</td>\n",
       "      <td>5.55</td>\n",
       "      <td>156</td>\n",
       "      <td>4</td>\n",
       "      <td>2020-05-09</td>\n",
       "    </tr>\n",
       "    <tr>\n",
       "      <th>18</th>\n",
       "      <td>1005</td>\n",
       "      <td>Douglas Atkinson</td>\n",
       "      <td>TV</td>\n",
       "      <td>199.95</td>\n",
       "      <td>14</td>\n",
       "      <td>1</td>\n",
       "      <td>2020-05-10</td>\n",
       "    </tr>\n",
       "    <tr>\n",
       "      <th>19</th>\n",
       "      <td>1016</td>\n",
       "      <td>Ellen Mccarthy</td>\n",
       "      <td>Vaccum</td>\n",
       "      <td>95.12</td>\n",
       "      <td>15</td>\n",
       "      <td>1</td>\n",
       "      <td>2020-05-11</td>\n",
       "    </tr>\n",
       "  </tbody>\n",
       "</table>\n",
       "</div>"
      ],
      "text/plain": [
       "    user_id              name   item_name   price  category_id  quantity  \\\n",
       "0      1004      Donna Martin          TV  199.95           14         1   \n",
       "1      1004      Donna Martin      Vaccum   95.12           15         2   \n",
       "2      1003     Bobby Bradley         Cup   12.76           44         1   \n",
       "3      1011     Austin Thomas       Plate    5.55          156         1   \n",
       "4      1000   Jonathan Medina      Lotion    4.44           23         2   \n",
       "5      1000   Jonathan Medina  Toothbrush    5.96          123         1   \n",
       "6      1019   Brandon Beasley   Sanitizer    2.23           12         3   \n",
       "7      1011     Austin Thomas        Wine   15.67          122         1   \n",
       "8      1014     Susan Morales    Yoga mat   45.53         1212         2   \n",
       "9      1001    Rachael Massey        Beer    2.45           42         4   \n",
       "10     1005   Ross Strickland      Coffee    8.45          356         5   \n",
       "11     1014     Susan Morales      Lotion    4.44           23         3   \n",
       "12     1020      Jennifer Cox      Coffee    8.45          356         4   \n",
       "13     1001    Danny Lynn DDS          TV  199.95           14         2   \n",
       "14     1019   Brandon Beasley      Vaccum   95.12           15         6   \n",
       "15     1006    Ashley Nichols   Sanitizer    2.23           12         1   \n",
       "16     1015     Angela Oneill        Wine   15.67          122         2   \n",
       "17     1009       Cody Moreno       Plate    5.55          156         4   \n",
       "18     1005  Douglas Atkinson          TV  199.95           14         1   \n",
       "19     1016    Ellen Mccarthy      Vaccum   95.12           15         1   \n",
       "\n",
       "   purchased_date  \n",
       "0      2020-04-04  \n",
       "1      2020-05-12  \n",
       "2      2020-05-13  \n",
       "3      2020-05-14  \n",
       "4      2020-05-15  \n",
       "5      2020-05-16  \n",
       "6      2020-05-17  \n",
       "7      2020-04-04  \n",
       "8      2020-04-05  \n",
       "9      2020-04-06  \n",
       "10     2020-04-07  \n",
       "11     2020-04-08  \n",
       "12     2020-04-09  \n",
       "13     2020-04-10  \n",
       "14     2020-05-06  \n",
       "15     2020-05-07  \n",
       "16     2020-05-08  \n",
       "17     2020-05-09  \n",
       "18     2020-05-10  \n",
       "19     2020-05-11  "
      ]
     },
     "execution_count": 38,
     "metadata": {},
     "output_type": "execute_result"
    }
   ],
   "source": [
    "df_original"
   ]
  },
  {
   "cell_type": "code",
   "execution_count": 39,
   "metadata": {},
   "outputs": [
    {
     "data": {
      "text/html": [
       "<div>\n",
       "<style scoped>\n",
       "    .dataframe tbody tr th:only-of-type {\n",
       "        vertical-align: middle;\n",
       "    }\n",
       "\n",
       "    .dataframe tbody tr th {\n",
       "        vertical-align: top;\n",
       "    }\n",
       "\n",
       "    .dataframe thead th {\n",
       "        text-align: right;\n",
       "    }\n",
       "</style>\n",
       "<table border=\"1\" class=\"dataframe\">\n",
       "  <thead>\n",
       "    <tr style=\"text-align: right;\">\n",
       "      <th></th>\n",
       "      <th>user_id</th>\n",
       "      <th>name</th>\n",
       "      <th>item_name</th>\n",
       "      <th>price</th>\n",
       "      <th>category_id</th>\n",
       "      <th>quantity</th>\n",
       "      <th>purchased_date</th>\n",
       "    </tr>\n",
       "  </thead>\n",
       "  <tbody>\n",
       "    <tr>\n",
       "      <th>0</th>\n",
       "      <td>ff32e534-1157-4eb8-8113-0aefd7c29ed6</td>\n",
       "      <td>Eddie Bowman</td>\n",
       "      <td>Category_625 0</td>\n",
       "      <td>40.000000</td>\n",
       "      <td>14</td>\n",
       "      <td>1</td>\n",
       "      <td>2020-05-11</td>\n",
       "    </tr>\n",
       "    <tr>\n",
       "      <th>1</th>\n",
       "      <td>ff32e534-1157-4eb8-8113-0aefd7c29ed6</td>\n",
       "      <td>Eddie Bowman</td>\n",
       "      <td>Category_625 1</td>\n",
       "      <td>20.913008</td>\n",
       "      <td>15</td>\n",
       "      <td>2</td>\n",
       "      <td>2020-05-14</td>\n",
       "    </tr>\n",
       "    <tr>\n",
       "      <th>2</th>\n",
       "      <td>c950535f-bb76-4ec6-b999-0e10a287832e</td>\n",
       "      <td>Harry Ochoa</td>\n",
       "      <td>Category_625 2</td>\n",
       "      <td>5.917257</td>\n",
       "      <td>44</td>\n",
       "      <td>1</td>\n",
       "      <td>2020-04-19</td>\n",
       "    </tr>\n",
       "    <tr>\n",
       "      <th>3</th>\n",
       "      <td>d21ed990-1320-441c-aced-971aa2949d1b</td>\n",
       "      <td>Mary Davis</td>\n",
       "      <td>Category_625 3</td>\n",
       "      <td>4.604491</td>\n",
       "      <td>156</td>\n",
       "      <td>1</td>\n",
       "      <td>2020-04-20</td>\n",
       "    </tr>\n",
       "    <tr>\n",
       "      <th>4</th>\n",
       "      <td>e89df8e2-c426-4802-b4a7-96840bb9d41e</td>\n",
       "      <td>Michael Hicks</td>\n",
       "      <td>Category_625 4</td>\n",
       "      <td>4.402387</td>\n",
       "      <td>23</td>\n",
       "      <td>2</td>\n",
       "      <td>2020-04-04</td>\n",
       "    </tr>\n",
       "    <tr>\n",
       "      <th>5</th>\n",
       "      <td>e89df8e2-c426-4802-b4a7-96840bb9d41e</td>\n",
       "      <td>Michael Hicks</td>\n",
       "      <td>Category_625 5</td>\n",
       "      <td>4.679142</td>\n",
       "      <td>123</td>\n",
       "      <td>1</td>\n",
       "      <td>2020-05-07</td>\n",
       "    </tr>\n",
       "    <tr>\n",
       "      <th>6</th>\n",
       "      <td>f38b9915-b871-43ed-ac52-69d8f9cb0d18</td>\n",
       "      <td>Dustin Perez</td>\n",
       "      <td>Category_625 6</td>\n",
       "      <td>4.000000</td>\n",
       "      <td>12</td>\n",
       "      <td>4</td>\n",
       "      <td>2020-04-14</td>\n",
       "    </tr>\n",
       "    <tr>\n",
       "      <th>7</th>\n",
       "      <td>d21ed990-1320-441c-aced-971aa2949d1b</td>\n",
       "      <td>Mary Davis</td>\n",
       "      <td>Category_625 7</td>\n",
       "      <td>6.447097</td>\n",
       "      <td>122</td>\n",
       "      <td>1</td>\n",
       "      <td>2020-05-11</td>\n",
       "    </tr>\n",
       "    <tr>\n",
       "      <th>8</th>\n",
       "      <td>d5db4112-0ce3-49c7-81eb-a7a5fc5eff7e</td>\n",
       "      <td>David Guerra</td>\n",
       "      <td>Category_625 8</td>\n",
       "      <td>11.883876</td>\n",
       "      <td>1212</td>\n",
       "      <td>2</td>\n",
       "      <td>2020-05-02</td>\n",
       "    </tr>\n",
       "    <tr>\n",
       "      <th>9</th>\n",
       "      <td>01865500-de47-4c20-99f9-57e9fb7c7927</td>\n",
       "      <td>Dylan Chavez</td>\n",
       "      <td>Category_625 9</td>\n",
       "      <td>4.040057</td>\n",
       "      <td>42</td>\n",
       "      <td>6</td>\n",
       "      <td>2020-04-23</td>\n",
       "    </tr>\n",
       "    <tr>\n",
       "      <th>10</th>\n",
       "      <td>787a3ab8-be37-4987-afde-d668c9289f0a</td>\n",
       "      <td>Robin Fox</td>\n",
       "      <td>Category_625 10</td>\n",
       "      <td>5.132511</td>\n",
       "      <td>356</td>\n",
       "      <td>8</td>\n",
       "      <td>2020-04-23</td>\n",
       "    </tr>\n",
       "    <tr>\n",
       "      <th>11</th>\n",
       "      <td>d5db4112-0ce3-49c7-81eb-a7a5fc5eff7e</td>\n",
       "      <td>David Guerra</td>\n",
       "      <td>Category_625 4</td>\n",
       "      <td>4.402387</td>\n",
       "      <td>23</td>\n",
       "      <td>4</td>\n",
       "      <td>2020-05-03</td>\n",
       "    </tr>\n",
       "    <tr>\n",
       "      <th>12</th>\n",
       "      <td>a0ee4f13-f8cf-44ad-afb9-b254c10c3ed6</td>\n",
       "      <td>Thomas Byrd</td>\n",
       "      <td>Category_625 10</td>\n",
       "      <td>5.132511</td>\n",
       "      <td>356</td>\n",
       "      <td>6</td>\n",
       "      <td>2020-04-19</td>\n",
       "    </tr>\n",
       "    <tr>\n",
       "      <th>13</th>\n",
       "      <td>01865500-de47-4c20-99f9-57e9fb7c7927</td>\n",
       "      <td>Robert Smith</td>\n",
       "      <td>Category_625 0</td>\n",
       "      <td>40.000000</td>\n",
       "      <td>14</td>\n",
       "      <td>2</td>\n",
       "      <td>2020-04-21</td>\n",
       "    </tr>\n",
       "    <tr>\n",
       "      <th>14</th>\n",
       "      <td>f38b9915-b871-43ed-ac52-69d8f9cb0d18</td>\n",
       "      <td>Dustin Perez</td>\n",
       "      <td>Category_625 1</td>\n",
       "      <td>20.913008</td>\n",
       "      <td>15</td>\n",
       "      <td>10</td>\n",
       "      <td>2020-04-06</td>\n",
       "    </tr>\n",
       "    <tr>\n",
       "      <th>15</th>\n",
       "      <td>4ff3b5bd-11ca-42e8-a450-0ea1bb364eb7</td>\n",
       "      <td>Ronald Landry</td>\n",
       "      <td>Category_625 6</td>\n",
       "      <td>4.000000</td>\n",
       "      <td>12</td>\n",
       "      <td>1</td>\n",
       "      <td>2020-04-25</td>\n",
       "    </tr>\n",
       "    <tr>\n",
       "      <th>16</th>\n",
       "      <td>9571bbd2-c35c-4d8e-b11c-1d6c1ef8c1b8</td>\n",
       "      <td>Catherine Meyer</td>\n",
       "      <td>Category_625 7</td>\n",
       "      <td>6.447097</td>\n",
       "      <td>122</td>\n",
       "      <td>2</td>\n",
       "      <td>2020-05-04</td>\n",
       "    </tr>\n",
       "    <tr>\n",
       "      <th>17</th>\n",
       "      <td>18587227-51dc-490e-b582-e31437f10406</td>\n",
       "      <td>Jose Jones</td>\n",
       "      <td>Category_625 3</td>\n",
       "      <td>4.604491</td>\n",
       "      <td>156</td>\n",
       "      <td>6</td>\n",
       "      <td>2020-04-10</td>\n",
       "    </tr>\n",
       "    <tr>\n",
       "      <th>18</th>\n",
       "      <td>787a3ab8-be37-4987-afde-d668c9289f0a</td>\n",
       "      <td>Miranda Dodson</td>\n",
       "      <td>Category_625 0</td>\n",
       "      <td>40.000000</td>\n",
       "      <td>14</td>\n",
       "      <td>1</td>\n",
       "      <td>2020-04-23</td>\n",
       "    </tr>\n",
       "    <tr>\n",
       "      <th>19</th>\n",
       "      <td>9fd11e7c-10b5-431f-b8fb-2ae79b517713</td>\n",
       "      <td>Andrew Yang</td>\n",
       "      <td>Category_625 1</td>\n",
       "      <td>20.913008</td>\n",
       "      <td>15</td>\n",
       "      <td>1</td>\n",
       "      <td>2020-04-22</td>\n",
       "    </tr>\n",
       "  </tbody>\n",
       "</table>\n",
       "</div>"
      ],
      "text/plain": [
       "                                 user_id             name        item_name  \\\n",
       "0   ff32e534-1157-4eb8-8113-0aefd7c29ed6     Eddie Bowman   Category_625 0   \n",
       "1   ff32e534-1157-4eb8-8113-0aefd7c29ed6     Eddie Bowman   Category_625 1   \n",
       "2   c950535f-bb76-4ec6-b999-0e10a287832e      Harry Ochoa   Category_625 2   \n",
       "3   d21ed990-1320-441c-aced-971aa2949d1b       Mary Davis   Category_625 3   \n",
       "4   e89df8e2-c426-4802-b4a7-96840bb9d41e    Michael Hicks   Category_625 4   \n",
       "5   e89df8e2-c426-4802-b4a7-96840bb9d41e    Michael Hicks   Category_625 5   \n",
       "6   f38b9915-b871-43ed-ac52-69d8f9cb0d18     Dustin Perez   Category_625 6   \n",
       "7   d21ed990-1320-441c-aced-971aa2949d1b       Mary Davis   Category_625 7   \n",
       "8   d5db4112-0ce3-49c7-81eb-a7a5fc5eff7e     David Guerra   Category_625 8   \n",
       "9   01865500-de47-4c20-99f9-57e9fb7c7927     Dylan Chavez   Category_625 9   \n",
       "10  787a3ab8-be37-4987-afde-d668c9289f0a        Robin Fox  Category_625 10   \n",
       "11  d5db4112-0ce3-49c7-81eb-a7a5fc5eff7e     David Guerra   Category_625 4   \n",
       "12  a0ee4f13-f8cf-44ad-afb9-b254c10c3ed6      Thomas Byrd  Category_625 10   \n",
       "13  01865500-de47-4c20-99f9-57e9fb7c7927     Robert Smith   Category_625 0   \n",
       "14  f38b9915-b871-43ed-ac52-69d8f9cb0d18     Dustin Perez   Category_625 1   \n",
       "15  4ff3b5bd-11ca-42e8-a450-0ea1bb364eb7    Ronald Landry   Category_625 6   \n",
       "16  9571bbd2-c35c-4d8e-b11c-1d6c1ef8c1b8  Catherine Meyer   Category_625 7   \n",
       "17  18587227-51dc-490e-b582-e31437f10406       Jose Jones   Category_625 3   \n",
       "18  787a3ab8-be37-4987-afde-d668c9289f0a   Miranda Dodson   Category_625 0   \n",
       "19  9fd11e7c-10b5-431f-b8fb-2ae79b517713      Andrew Yang   Category_625 1   \n",
       "\n",
       "        price  category_id  quantity purchased_date  \n",
       "0   40.000000           14         1     2020-05-11  \n",
       "1   20.913008           15         2     2020-05-14  \n",
       "2    5.917257           44         1     2020-04-19  \n",
       "3    4.604491          156         1     2020-04-20  \n",
       "4    4.402387           23         2     2020-04-04  \n",
       "5    4.679142          123         1     2020-05-07  \n",
       "6    4.000000           12         4     2020-04-14  \n",
       "7    6.447097          122         1     2020-05-11  \n",
       "8   11.883876         1212         2     2020-05-02  \n",
       "9    4.040057           42         6     2020-04-23  \n",
       "10   5.132511          356         8     2020-04-23  \n",
       "11   4.402387           23         4     2020-05-03  \n",
       "12   5.132511          356         6     2020-04-19  \n",
       "13  40.000000           14         2     2020-04-21  \n",
       "14  20.913008           15        10     2020-04-06  \n",
       "15   4.000000           12         1     2020-04-25  \n",
       "16   6.447097          122         2     2020-05-04  \n",
       "17   4.604491          156         6     2020-04-10  \n",
       "18  40.000000           14         1     2020-04-23  \n",
       "19  20.913008           15         1     2020-04-22  "
      ]
     },
     "execution_count": 39,
     "metadata": {},
     "output_type": "execute_result"
    }
   ],
   "source": [
    "df"
   ]
  }
 ],
 "metadata": {
  "kernelspec": {
   "display_name": "Python 3",
   "language": "python",
   "name": "python3"
  },
  "language_info": {
   "codemirror_mode": {
    "name": "ipython",
    "version": 3
   },
   "file_extension": ".py",
   "mimetype": "text/x-python",
   "name": "python",
   "nbconvert_exporter": "python",
   "pygments_lexer": "ipython3",
   "version": "3.8.5"
  }
 },
 "nbformat": 4,
 "nbformat_minor": 4
}
