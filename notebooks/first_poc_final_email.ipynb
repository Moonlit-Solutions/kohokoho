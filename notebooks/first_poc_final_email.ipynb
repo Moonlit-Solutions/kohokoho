{
 "cells": [
  {
   "cell_type": "markdown",
   "metadata": {},
   "source": [
    "# First POC for dataset anonymization"
   ]
  },
  {
   "cell_type": "markdown",
   "metadata": {},
   "source": [
    "## Imports"
   ]
  },
  {
   "cell_type": "code",
   "execution_count": 1,
   "metadata": {},
   "outputs": [],
   "source": [
    "import pandas as pd\n",
    "import random\n",
    "import datetime as dt\n",
    "from faker import Faker"
   ]
  },
  {
   "cell_type": "code",
   "execution_count": 2,
   "metadata": {},
   "outputs": [],
   "source": [
    "fake = Faker()"
   ]
  },
  {
   "cell_type": "code",
   "execution_count": 3,
   "metadata": {},
   "outputs": [
    {
     "name": "stdout",
     "output_type": "stream",
     "text": [
      "Christopher Mcmillan\n",
      "James Smith\n",
      "Andrea Ruiz\n",
      "Stephanie Hardy\n",
      "Christina Lopez\n",
      "Tammy Graham\n",
      "Matthew Rodriguez\n",
      "Brian Wagner\n",
      "Chelsea Haley\n",
      "Leslie Fisher\n",
      "Tiffany Bell\n",
      "Christopher Callahan\n",
      "Amanda Ford\n",
      "Christian Green\n",
      "William Payne\n",
      "Sarah Arias\n",
      "Scott Benitez\n",
      "Joseph Miller\n",
      "Daniel Mack\n",
      "Karen Hartman\n"
     ]
    }
   ],
   "source": [
    "for _ in range(20):\n",
    "  print(fake.name())"
   ]
  },
  {
   "cell_type": "markdown",
   "metadata": {},
   "source": [
    "## Create and import a sample dataset"
   ]
  },
  {
   "cell_type": "code",
   "execution_count": 4,
   "metadata": {},
   "outputs": [],
   "source": [
    "df = pd.read_csv('../datasets/test_dataset1.csv', parse_dates=['purchased_date'])"
   ]
  },
  {
   "cell_type": "code",
   "execution_count": 5,
   "metadata": {},
   "outputs": [],
   "source": [
    "df_original = df.copy()"
   ]
  },
  {
   "cell_type": "code",
   "execution_count": 6,
   "metadata": {},
   "outputs": [
    {
     "data": {
      "text/html": [
       "<div>\n",
       "<style scoped>\n",
       "    .dataframe tbody tr th:only-of-type {\n",
       "        vertical-align: middle;\n",
       "    }\n",
       "\n",
       "    .dataframe tbody tr th {\n",
       "        vertical-align: top;\n",
       "    }\n",
       "\n",
       "    .dataframe thead th {\n",
       "        text-align: right;\n",
       "    }\n",
       "</style>\n",
       "<table border=\"1\" class=\"dataframe\">\n",
       "  <thead>\n",
       "    <tr style=\"text-align: right;\">\n",
       "      <th></th>\n",
       "      <th>user_id</th>\n",
       "      <th>name</th>\n",
       "      <th>item_name</th>\n",
       "      <th>price</th>\n",
       "      <th>category_id</th>\n",
       "      <th>quantity</th>\n",
       "      <th>purchased_date</th>\n",
       "      <th>email</th>\n",
       "    </tr>\n",
       "  </thead>\n",
       "  <tbody>\n",
       "    <tr>\n",
       "      <th>0</th>\n",
       "      <td>1004</td>\n",
       "      <td>Donna Martin</td>\n",
       "      <td>TV</td>\n",
       "      <td>199.95</td>\n",
       "      <td>14</td>\n",
       "      <td>1</td>\n",
       "      <td>2020-04-04</td>\n",
       "      <td>donna.martin@gmail.com</td>\n",
       "    </tr>\n",
       "    <tr>\n",
       "      <th>1</th>\n",
       "      <td>1004</td>\n",
       "      <td>Donna Martin</td>\n",
       "      <td>Vaccum</td>\n",
       "      <td>95.12</td>\n",
       "      <td>15</td>\n",
       "      <td>2</td>\n",
       "      <td>2020-05-12</td>\n",
       "      <td>donna.martin@gmail.com</td>\n",
       "    </tr>\n",
       "    <tr>\n",
       "      <th>2</th>\n",
       "      <td>1003</td>\n",
       "      <td>Bobby Bradley</td>\n",
       "      <td>Cup</td>\n",
       "      <td>12.76</td>\n",
       "      <td>44</td>\n",
       "      <td>1</td>\n",
       "      <td>2020-05-13</td>\n",
       "      <td>bobby.bradley@gmail.com</td>\n",
       "    </tr>\n",
       "    <tr>\n",
       "      <th>3</th>\n",
       "      <td>1011</td>\n",
       "      <td>Austin Thomas</td>\n",
       "      <td>Plate</td>\n",
       "      <td>5.55</td>\n",
       "      <td>156</td>\n",
       "      <td>1</td>\n",
       "      <td>2020-05-14</td>\n",
       "      <td>austin.thomas@gmail.com</td>\n",
       "    </tr>\n",
       "    <tr>\n",
       "      <th>4</th>\n",
       "      <td>1000</td>\n",
       "      <td>Jonathan Medina</td>\n",
       "      <td>Lotion</td>\n",
       "      <td>4.44</td>\n",
       "      <td>23</td>\n",
       "      <td>2</td>\n",
       "      <td>2020-05-15</td>\n",
       "      <td>jonathan.medina@gmail.com</td>\n",
       "    </tr>\n",
       "    <tr>\n",
       "      <th>5</th>\n",
       "      <td>1000</td>\n",
       "      <td>Jonathan Medina</td>\n",
       "      <td>Toothbrush</td>\n",
       "      <td>5.96</td>\n",
       "      <td>123</td>\n",
       "      <td>1</td>\n",
       "      <td>2020-05-16</td>\n",
       "      <td>jonathan.medina@gmail.com</td>\n",
       "    </tr>\n",
       "    <tr>\n",
       "      <th>6</th>\n",
       "      <td>1019</td>\n",
       "      <td>Brandon Beasley</td>\n",
       "      <td>Sanitizer</td>\n",
       "      <td>2.23</td>\n",
       "      <td>12</td>\n",
       "      <td>3</td>\n",
       "      <td>2020-05-17</td>\n",
       "      <td>brandon.beasley@gmail.com</td>\n",
       "    </tr>\n",
       "    <tr>\n",
       "      <th>7</th>\n",
       "      <td>1011</td>\n",
       "      <td>Austin Thomas</td>\n",
       "      <td>Wine</td>\n",
       "      <td>15.67</td>\n",
       "      <td>122</td>\n",
       "      <td>1</td>\n",
       "      <td>2020-04-04</td>\n",
       "      <td>austin.thomas@gmail.com</td>\n",
       "    </tr>\n",
       "    <tr>\n",
       "      <th>8</th>\n",
       "      <td>1014</td>\n",
       "      <td>Susan Morales</td>\n",
       "      <td>Yoga mat</td>\n",
       "      <td>45.53</td>\n",
       "      <td>1212</td>\n",
       "      <td>2</td>\n",
       "      <td>2020-04-05</td>\n",
       "      <td>susan.morales@gmail.com</td>\n",
       "    </tr>\n",
       "    <tr>\n",
       "      <th>9</th>\n",
       "      <td>1001</td>\n",
       "      <td>Rachael Massey</td>\n",
       "      <td>Beer</td>\n",
       "      <td>2.45</td>\n",
       "      <td>42</td>\n",
       "      <td>4</td>\n",
       "      <td>2020-04-06</td>\n",
       "      <td>rachael.massey@gmail.com</td>\n",
       "    </tr>\n",
       "    <tr>\n",
       "      <th>10</th>\n",
       "      <td>1005</td>\n",
       "      <td>Ross Strickland</td>\n",
       "      <td>Coffee</td>\n",
       "      <td>8.45</td>\n",
       "      <td>356</td>\n",
       "      <td>5</td>\n",
       "      <td>2020-04-07</td>\n",
       "      <td>ross.strickland@gmail.com</td>\n",
       "    </tr>\n",
       "    <tr>\n",
       "      <th>11</th>\n",
       "      <td>1014</td>\n",
       "      <td>Susan Morales</td>\n",
       "      <td>Lotion</td>\n",
       "      <td>4.44</td>\n",
       "      <td>23</td>\n",
       "      <td>3</td>\n",
       "      <td>2020-04-08</td>\n",
       "      <td>susan.morales@gmail.com</td>\n",
       "    </tr>\n",
       "    <tr>\n",
       "      <th>12</th>\n",
       "      <td>1020</td>\n",
       "      <td>Jennifer Cox</td>\n",
       "      <td>Coffee</td>\n",
       "      <td>8.45</td>\n",
       "      <td>356</td>\n",
       "      <td>4</td>\n",
       "      <td>2020-04-09</td>\n",
       "      <td>jennifer.cox@gmail.com</td>\n",
       "    </tr>\n",
       "    <tr>\n",
       "      <th>13</th>\n",
       "      <td>1001</td>\n",
       "      <td>Danny Lynn DDS</td>\n",
       "      <td>TV</td>\n",
       "      <td>199.95</td>\n",
       "      <td>14</td>\n",
       "      <td>2</td>\n",
       "      <td>2020-04-10</td>\n",
       "      <td>danny.lynn.dds@gmail.com</td>\n",
       "    </tr>\n",
       "    <tr>\n",
       "      <th>14</th>\n",
       "      <td>1019</td>\n",
       "      <td>Brandon Beasley</td>\n",
       "      <td>Vaccum</td>\n",
       "      <td>95.12</td>\n",
       "      <td>15</td>\n",
       "      <td>6</td>\n",
       "      <td>2020-05-06</td>\n",
       "      <td>brandon.beasley@gmail.com</td>\n",
       "    </tr>\n",
       "    <tr>\n",
       "      <th>15</th>\n",
       "      <td>1006</td>\n",
       "      <td>Ashley Nichols</td>\n",
       "      <td>Sanitizer</td>\n",
       "      <td>2.23</td>\n",
       "      <td>12</td>\n",
       "      <td>1</td>\n",
       "      <td>2020-05-07</td>\n",
       "      <td>ashley.nichols@gmail.com</td>\n",
       "    </tr>\n",
       "    <tr>\n",
       "      <th>16</th>\n",
       "      <td>1015</td>\n",
       "      <td>Angela Oneill</td>\n",
       "      <td>Wine</td>\n",
       "      <td>15.67</td>\n",
       "      <td>122</td>\n",
       "      <td>2</td>\n",
       "      <td>2020-05-08</td>\n",
       "      <td>angela.oneill@gmail.com</td>\n",
       "    </tr>\n",
       "    <tr>\n",
       "      <th>17</th>\n",
       "      <td>1009</td>\n",
       "      <td>Cody Moreno</td>\n",
       "      <td>Plate</td>\n",
       "      <td>5.55</td>\n",
       "      <td>156</td>\n",
       "      <td>4</td>\n",
       "      <td>2020-05-09</td>\n",
       "      <td>cody.moreno@gmail.com</td>\n",
       "    </tr>\n",
       "    <tr>\n",
       "      <th>18</th>\n",
       "      <td>1005</td>\n",
       "      <td>Douglas Atkinson</td>\n",
       "      <td>TV</td>\n",
       "      <td>199.95</td>\n",
       "      <td>14</td>\n",
       "      <td>1</td>\n",
       "      <td>2020-05-10</td>\n",
       "      <td>douglas.atkinson@gmail.com</td>\n",
       "    </tr>\n",
       "    <tr>\n",
       "      <th>19</th>\n",
       "      <td>1016</td>\n",
       "      <td>Ellen Mccarthy</td>\n",
       "      <td>Vaccum</td>\n",
       "      <td>95.12</td>\n",
       "      <td>15</td>\n",
       "      <td>1</td>\n",
       "      <td>2020-05-11</td>\n",
       "      <td>ellen.mccarthy@gmail.com</td>\n",
       "    </tr>\n",
       "  </tbody>\n",
       "</table>\n",
       "</div>"
      ],
      "text/plain": [
       "    user_id              name   item_name   price  category_id  quantity  \\\n",
       "0      1004      Donna Martin          TV  199.95           14         1   \n",
       "1      1004      Donna Martin      Vaccum   95.12           15         2   \n",
       "2      1003     Bobby Bradley         Cup   12.76           44         1   \n",
       "3      1011     Austin Thomas       Plate    5.55          156         1   \n",
       "4      1000   Jonathan Medina      Lotion    4.44           23         2   \n",
       "5      1000   Jonathan Medina  Toothbrush    5.96          123         1   \n",
       "6      1019   Brandon Beasley   Sanitizer    2.23           12         3   \n",
       "7      1011     Austin Thomas        Wine   15.67          122         1   \n",
       "8      1014     Susan Morales    Yoga mat   45.53         1212         2   \n",
       "9      1001    Rachael Massey        Beer    2.45           42         4   \n",
       "10     1005   Ross Strickland      Coffee    8.45          356         5   \n",
       "11     1014     Susan Morales      Lotion    4.44           23         3   \n",
       "12     1020      Jennifer Cox      Coffee    8.45          356         4   \n",
       "13     1001    Danny Lynn DDS          TV  199.95           14         2   \n",
       "14     1019   Brandon Beasley      Vaccum   95.12           15         6   \n",
       "15     1006    Ashley Nichols   Sanitizer    2.23           12         1   \n",
       "16     1015     Angela Oneill        Wine   15.67          122         2   \n",
       "17     1009       Cody Moreno       Plate    5.55          156         4   \n",
       "18     1005  Douglas Atkinson          TV  199.95           14         1   \n",
       "19     1016    Ellen Mccarthy      Vaccum   95.12           15         1   \n",
       "\n",
       "   purchased_date                       email  \n",
       "0      2020-04-04      donna.martin@gmail.com  \n",
       "1      2020-05-12      donna.martin@gmail.com  \n",
       "2      2020-05-13     bobby.bradley@gmail.com  \n",
       "3      2020-05-14     austin.thomas@gmail.com  \n",
       "4      2020-05-15   jonathan.medina@gmail.com  \n",
       "5      2020-05-16   jonathan.medina@gmail.com  \n",
       "6      2020-05-17   brandon.beasley@gmail.com  \n",
       "7      2020-04-04     austin.thomas@gmail.com  \n",
       "8      2020-04-05     susan.morales@gmail.com  \n",
       "9      2020-04-06    rachael.massey@gmail.com  \n",
       "10     2020-04-07   ross.strickland@gmail.com  \n",
       "11     2020-04-08     susan.morales@gmail.com  \n",
       "12     2020-04-09      jennifer.cox@gmail.com  \n",
       "13     2020-04-10    danny.lynn.dds@gmail.com  \n",
       "14     2020-05-06   brandon.beasley@gmail.com  \n",
       "15     2020-05-07    ashley.nichols@gmail.com  \n",
       "16     2020-05-08     angela.oneill@gmail.com  \n",
       "17     2020-05-09       cody.moreno@gmail.com  \n",
       "18     2020-05-10  douglas.atkinson@gmail.com  \n",
       "19     2020-05-11    ellen.mccarthy@gmail.com  "
      ]
     },
     "execution_count": 6,
     "metadata": {},
     "output_type": "execute_result"
    }
   ],
   "source": [
    "df"
   ]
  },
  {
   "cell_type": "markdown",
   "metadata": {},
   "source": [
    "## Replace names"
   ]
  },
  {
   "cell_type": "code",
   "execution_count": 7,
   "metadata": {},
   "outputs": [],
   "source": [
    "unique_names = df['name'].unique()"
   ]
  },
  {
   "cell_type": "code",
   "execution_count": 8,
   "metadata": {},
   "outputs": [
    {
     "data": {
      "text/plain": [
       "array(['Donna Martin', 'Bobby Bradley', 'Austin Thomas',\n",
       "       'Jonathan Medina', 'Brandon Beasley', 'Susan Morales',\n",
       "       'Rachael Massey', 'Ross Strickland', 'Jennifer Cox',\n",
       "       'Danny Lynn DDS', 'Ashley Nichols', 'Angela Oneill', 'Cody Moreno',\n",
       "       'Douglas Atkinson', 'Ellen Mccarthy'], dtype=object)"
      ]
     },
     "execution_count": 8,
     "metadata": {},
     "output_type": "execute_result"
    }
   ],
   "source": [
    "unique_names"
   ]
  },
  {
   "cell_type": "code",
   "execution_count": 9,
   "metadata": {},
   "outputs": [],
   "source": [
    "name_dict = {name: fake.name() for name in unique_names}"
   ]
  },
  {
   "cell_type": "code",
   "execution_count": 10,
   "metadata": {},
   "outputs": [
    {
     "data": {
      "text/plain": [
       "{'Donna Martin': 'Robert Harper',\n",
       " 'Bobby Bradley': 'Morgan Hawkins',\n",
       " 'Austin Thomas': 'Daniel Jones',\n",
       " 'Jonathan Medina': 'Leah Harrell',\n",
       " 'Brandon Beasley': 'Paul Cox',\n",
       " 'Susan Morales': 'Vincent White',\n",
       " 'Rachael Massey': 'William Young',\n",
       " 'Ross Strickland': 'Rachel Barnes',\n",
       " 'Jennifer Cox': 'Troy Graham',\n",
       " 'Danny Lynn DDS': 'Nancy Woodard',\n",
       " 'Ashley Nichols': 'James Jones',\n",
       " 'Angela Oneill': 'Rachael Wilson',\n",
       " 'Cody Moreno': 'Daniel Estrada',\n",
       " 'Douglas Atkinson': 'Christopher Hall',\n",
       " 'Ellen Mccarthy': 'Robert Mccoy'}"
      ]
     },
     "execution_count": 10,
     "metadata": {},
     "output_type": "execute_result"
    }
   ],
   "source": [
    "name_dict"
   ]
  },
  {
   "cell_type": "code",
   "execution_count": 11,
   "metadata": {},
   "outputs": [],
   "source": [
    "df['name'] = df['name'].map(name_dict)"
   ]
  },
  {
   "cell_type": "markdown",
   "metadata": {},
   "source": [
    "## Replace ids"
   ]
  },
  {
   "cell_type": "markdown",
   "metadata": {},
   "source": [
    "### UserId"
   ]
  },
  {
   "cell_type": "code",
   "execution_count": 12,
   "metadata": {},
   "outputs": [],
   "source": [
    "unique_user_ids = df['user_id'].unique()"
   ]
  },
  {
   "cell_type": "code",
   "execution_count": 13,
   "metadata": {},
   "outputs": [],
   "source": [
    "user_id_dict = {id_: fake.uuid4() for id_ in unique_user_ids}"
   ]
  },
  {
   "cell_type": "code",
   "execution_count": 14,
   "metadata": {},
   "outputs": [
    {
     "data": {
      "text/plain": [
       "{1004: '171115a4-59d3-403e-ba3c-af3735960be6',\n",
       " 1003: 'd279af76-46b7-4c69-b819-d44999233806',\n",
       " 1011: '85dbeaf9-5a67-4aaf-9926-8e8dd99ecc4b',\n",
       " 1000: '22dc32e4-9170-4ae8-aa69-f647cf519a5d',\n",
       " 1019: 'e38a7c8e-8df0-448b-a1e1-24151bd303db',\n",
       " 1014: '9d623d03-a821-47fb-b8b1-0888f0241a73',\n",
       " 1001: '3525444f-b98c-454a-9851-78df523144a0',\n",
       " 1005: '7d544d38-5db1-4334-b504-f9b2f52dfd00',\n",
       " 1020: '62b73084-7737-49c7-a022-87c31fab3b6c',\n",
       " 1006: 'dce70cd1-b30b-491c-b87d-c28b1cec0959',\n",
       " 1015: '9b6b7a20-599c-4687-b122-a6fe7d3402b5',\n",
       " 1009: 'bf430a53-5bd5-48d3-adbb-165d8efc5bcf',\n",
       " 1016: 'b2d7c866-dc88-4188-8e13-0a58b9ff35fb'}"
      ]
     },
     "execution_count": 14,
     "metadata": {},
     "output_type": "execute_result"
    }
   ],
   "source": [
    "user_id_dict"
   ]
  },
  {
   "cell_type": "code",
   "execution_count": 15,
   "metadata": {},
   "outputs": [],
   "source": [
    "df['user_id'] = df['user_id'].map(user_id_dict)"
   ]
  },
  {
   "cell_type": "markdown",
   "metadata": {},
   "source": [
    "### Category_id"
   ]
  },
  {
   "cell_type": "code",
   "execution_count": 16,
   "metadata": {},
   "outputs": [],
   "source": [
    "unique_category_ids = df['category_id'].unique()"
   ]
  },
  {
   "cell_type": "code",
   "execution_count": 17,
   "metadata": {},
   "outputs": [],
   "source": [
    "category_id_dict = {id_: fake.uuid4() for id_ in unique_category_ids}"
   ]
  },
  {
   "cell_type": "code",
   "execution_count": 18,
   "metadata": {},
   "outputs": [
    {
     "data": {
      "text/plain": [
       "{14: '4e5fe3a3-18b2-4f11-99a6-ebb06909be24',\n",
       " 15: '8625cfd1-5be4-40b6-8382-c64fdac21edc',\n",
       " 44: '9208afa1-602a-4c15-a025-8d5a8fc3649c',\n",
       " 156: 'bd4a8b96-8d65-4551-8cc9-e003fa2a0d4a',\n",
       " 23: 'a42c9f20-7595-4f43-adbb-e19ec22a8899',\n",
       " 123: '78fd542f-f88c-4fde-a1be-4c810b25ae5d',\n",
       " 12: 'e56ce237-da8a-4970-b1ff-0e42ec9404d2',\n",
       " 122: '11214f06-a2c2-48bc-8cea-e13db1ab05ae',\n",
       " 1212: '082fa5f6-a10b-404e-b431-72492d680751',\n",
       " 42: '1ae34ca8-146e-4af6-ad50-74a249e5cb28',\n",
       " 356: 'aadd09f0-8c5b-494a-aa7b-ca2eed71fbc1'}"
      ]
     },
     "execution_count": 18,
     "metadata": {},
     "output_type": "execute_result"
    }
   ],
   "source": [
    "category_id_dict"
   ]
  },
  {
   "cell_type": "code",
   "execution_count": 19,
   "metadata": {},
   "outputs": [],
   "source": [
    "df['category_id'] = df['category_id'].map(category_id_dict)"
   ]
  },
  {
   "cell_type": "markdown",
   "metadata": {},
   "source": [
    "## Replace whole numbers"
   ]
  },
  {
   "cell_type": "code",
   "execution_count": 20,
   "metadata": {},
   "outputs": [],
   "source": [
    "whole_numbers = df['quantity']"
   ]
  },
  {
   "cell_type": "code",
   "execution_count": 21,
   "metadata": {},
   "outputs": [
    {
     "data": {
      "text/plain": [
       "0     1\n",
       "1     2\n",
       "2     1\n",
       "3     1\n",
       "4     2\n",
       "5     1\n",
       "6     3\n",
       "7     1\n",
       "8     2\n",
       "9     4\n",
       "10    5\n",
       "11    3\n",
       "12    4\n",
       "13    2\n",
       "14    6\n",
       "15    1\n",
       "16    2\n",
       "17    4\n",
       "18    1\n",
       "19    1\n",
       "Name: quantity, dtype: int64"
      ]
     },
     "execution_count": 21,
     "metadata": {},
     "output_type": "execute_result"
    }
   ],
   "source": [
    "whole_numbers"
   ]
  },
  {
   "cell_type": "code",
   "execution_count": 22,
   "metadata": {},
   "outputs": [],
   "source": [
    "X_std = (whole_numbers - whole_numbers.min()) / (whole_numbers.max() - whole_numbers.min())\n",
    "X_scaled = (X_std * (10 - 1) + 1) \n",
    "X_scaled_whole_randomized = (X_scaled * random.randint(1, 10)).astype(int)"
   ]
  },
  {
   "cell_type": "code",
   "execution_count": 23,
   "metadata": {},
   "outputs": [
    {
     "data": {
      "text/plain": [
       "0      1\n",
       "1      2\n",
       "2      1\n",
       "3      1\n",
       "4      2\n",
       "5      1\n",
       "6      4\n",
       "7      1\n",
       "8      2\n",
       "9      6\n",
       "10     8\n",
       "11     4\n",
       "12     6\n",
       "13     2\n",
       "14    10\n",
       "15     1\n",
       "16     2\n",
       "17     6\n",
       "18     1\n",
       "19     1\n",
       "Name: quantity, dtype: int64"
      ]
     },
     "execution_count": 23,
     "metadata": {},
     "output_type": "execute_result"
    }
   ],
   "source": [
    "X_scaled_whole_randomized"
   ]
  },
  {
   "cell_type": "code",
   "execution_count": 24,
   "metadata": {},
   "outputs": [],
   "source": [
    "# whole_number_dict = {\n",
    "#     number: fake.random_int(\n",
    "#         min=min(whole_numbers), max=max(whole_numbers)\n",
    "#     )\n",
    "#     for number in whole_numbers\n",
    "# }"
   ]
  },
  {
   "cell_type": "code",
   "execution_count": 25,
   "metadata": {},
   "outputs": [],
   "source": [
    "# whole_number_dict"
   ]
  },
  {
   "cell_type": "code",
   "execution_count": 26,
   "metadata": {},
   "outputs": [],
   "source": [
    "df['quantity'] = X_scaled_whole_randomized"
   ]
  },
  {
   "cell_type": "markdown",
   "metadata": {},
   "source": [
    "## Replace decimal numbers"
   ]
  },
  {
   "cell_type": "code",
   "execution_count": 27,
   "metadata": {},
   "outputs": [],
   "source": [
    "decimal_numbers = df['price']"
   ]
  },
  {
   "cell_type": "code",
   "execution_count": 28,
   "metadata": {},
   "outputs": [],
   "source": [
    "X_std = (decimal_numbers - decimal_numbers.min()) / (decimal_numbers.max() - decimal_numbers.min())\n",
    "X_scaled = (X_std * (10 - 1) + 1) \n",
    "X_scaled_decimal_randomized = (X_scaled * random.randint(1, 10))"
   ]
  },
  {
   "cell_type": "code",
   "execution_count": 29,
   "metadata": {},
   "outputs": [],
   "source": [
    "# decimal_number_dict"
   ]
  },
  {
   "cell_type": "code",
   "execution_count": 30,
   "metadata": {},
   "outputs": [],
   "source": [
    "df['price'] = X_scaled_decimal_randomized"
   ]
  },
  {
   "cell_type": "markdown",
   "metadata": {},
   "source": [
    "## Categorical data"
   ]
  },
  {
   "cell_type": "code",
   "execution_count": 31,
   "metadata": {},
   "outputs": [],
   "source": [
    "category = df['item_name']"
   ]
  },
  {
   "cell_type": "code",
   "execution_count": 32,
   "metadata": {},
   "outputs": [
    {
     "data": {
      "text/plain": [
       "0             TV\n",
       "1         Vaccum\n",
       "2            Cup\n",
       "3          Plate\n",
       "4         Lotion\n",
       "5     Toothbrush\n",
       "6      Sanitizer\n",
       "7           Wine\n",
       "8       Yoga mat\n",
       "9           Beer\n",
       "10        Coffee\n",
       "11        Lotion\n",
       "12        Coffee\n",
       "13            TV\n",
       "14        Vaccum\n",
       "15     Sanitizer\n",
       "16          Wine\n",
       "17         Plate\n",
       "18            TV\n",
       "19        Vaccum\n",
       "Name: item_name, dtype: object"
      ]
     },
     "execution_count": 32,
     "metadata": {},
     "output_type": "execute_result"
    }
   ],
   "source": [
    "category"
   ]
  },
  {
   "cell_type": "code",
   "execution_count": 33,
   "metadata": {},
   "outputs": [],
   "source": [
    "unique_category = category.unique()"
   ]
  },
  {
   "cell_type": "code",
   "execution_count": 34,
   "metadata": {},
   "outputs": [],
   "source": [
    "rand_category = random.randint(0,1000)\n",
    "category_dict = {\n",
    "    category:  \"Category_\" + str(rand_category) + \" \" +str(iteration)\n",
    "    for iteration, category in enumerate(unique_category)\n",
    "}"
   ]
  },
  {
   "cell_type": "code",
   "execution_count": 35,
   "metadata": {},
   "outputs": [
    {
     "data": {
      "text/plain": [
       "{'TV': 'Category_695 0',\n",
       " 'Vaccum': 'Category_695 1',\n",
       " 'Cup': 'Category_695 2',\n",
       " 'Plate': 'Category_695 3',\n",
       " 'Lotion': 'Category_695 4',\n",
       " 'Toothbrush': 'Category_695 5',\n",
       " 'Sanitizer': 'Category_695 6',\n",
       " 'Wine': 'Category_695 7',\n",
       " 'Yoga mat': 'Category_695 8',\n",
       " 'Beer': 'Category_695 9',\n",
       " 'Coffee': 'Category_695 10'}"
      ]
     },
     "execution_count": 35,
     "metadata": {},
     "output_type": "execute_result"
    }
   ],
   "source": [
    "category_dict"
   ]
  },
  {
   "cell_type": "code",
   "execution_count": 36,
   "metadata": {},
   "outputs": [],
   "source": [
    "df['item_name'] = df['item_name'].map(category_dict)"
   ]
  },
  {
   "cell_type": "markdown",
   "metadata": {},
   "source": [
    "### Dates"
   ]
  },
  {
   "cell_type": "code",
   "execution_count": 37,
   "metadata": {},
   "outputs": [],
   "source": [
    "dates = df['purchased_date']"
   ]
  },
  {
   "cell_type": "code",
   "execution_count": 38,
   "metadata": {},
   "outputs": [
    {
     "data": {
      "text/plain": [
       "datetime.date(2020, 4, 26)"
      ]
     },
     "execution_count": 38,
     "metadata": {},
     "output_type": "execute_result"
    }
   ],
   "source": [
    "fake.date_between(start_date=dates.min(), end_date=dates.max())"
   ]
  },
  {
   "cell_type": "code",
   "execution_count": 39,
   "metadata": {},
   "outputs": [],
   "source": [
    "dates_dict = {\n",
    "    date: fake.date_between(start_date=dates.min(), end_date=dates.max()).strftime('%Y-%m-%d')\n",
    "    for date in dates\n",
    "}"
   ]
  },
  {
   "cell_type": "code",
   "execution_count": 40,
   "metadata": {},
   "outputs": [
    {
     "data": {
      "text/plain": [
       "{Timestamp('2020-04-04 00:00:00'): '2020-04-23',\n",
       " Timestamp('2020-05-12 00:00:00'): '2020-05-04',\n",
       " Timestamp('2020-05-13 00:00:00'): '2020-05-01',\n",
       " Timestamp('2020-05-14 00:00:00'): '2020-04-19',\n",
       " Timestamp('2020-05-15 00:00:00'): '2020-04-04',\n",
       " Timestamp('2020-05-16 00:00:00'): '2020-04-16',\n",
       " Timestamp('2020-05-17 00:00:00'): '2020-04-16',\n",
       " Timestamp('2020-04-05 00:00:00'): '2020-04-08',\n",
       " Timestamp('2020-04-06 00:00:00'): '2020-05-14',\n",
       " Timestamp('2020-04-07 00:00:00'): '2020-05-07',\n",
       " Timestamp('2020-04-08 00:00:00'): '2020-04-19',\n",
       " Timestamp('2020-04-09 00:00:00'): '2020-04-14',\n",
       " Timestamp('2020-04-10 00:00:00'): '2020-05-15',\n",
       " Timestamp('2020-05-06 00:00:00'): '2020-04-15',\n",
       " Timestamp('2020-05-07 00:00:00'): '2020-04-08',\n",
       " Timestamp('2020-05-08 00:00:00'): '2020-04-24',\n",
       " Timestamp('2020-05-09 00:00:00'): '2020-04-24',\n",
       " Timestamp('2020-05-10 00:00:00'): '2020-04-13',\n",
       " Timestamp('2020-05-11 00:00:00'): '2020-05-13'}"
      ]
     },
     "execution_count": 40,
     "metadata": {},
     "output_type": "execute_result"
    }
   ],
   "source": [
    "dates_dict"
   ]
  },
  {
   "cell_type": "code",
   "execution_count": 41,
   "metadata": {},
   "outputs": [],
   "source": [
    "df['purchased_date'] = df['purchased_date'].map(dates_dict)"
   ]
  },
  {
   "cell_type": "markdown",
   "metadata": {},
   "source": [
    "### Email"
   ]
  },
  {
   "cell_type": "markdown",
   "metadata": {},
   "source": [
    "### if name column exist and was passed for anon, create email using name, otherwise create new emails"
   ]
  },
  {
   "cell_type": "code",
   "execution_count": 44,
   "metadata": {},
   "outputs": [],
   "source": [
    "unique_email = df['email'].unique()"
   ]
  },
  {
   "cell_type": "code",
   "execution_count": 46,
   "metadata": {},
   "outputs": [],
   "source": [
    "email_dict = {email: fake.email() for email in unique_email}"
   ]
  },
  {
   "cell_type": "code",
   "execution_count": 47,
   "metadata": {},
   "outputs": [
    {
     "data": {
      "text/plain": [
       "{'donna.martin@gmail.com': 'haley13@hotmail.com',\n",
       " 'bobby.bradley@gmail.com': 'rodriguezshannon@yahoo.com',\n",
       " 'austin.thomas@gmail.com': 'yblair@bennett-gardner.net',\n",
       " 'jonathan.medina@gmail.com': 'jennifer80@smith.biz',\n",
       " 'brandon.beasley@gmail.com': 'alison16@yahoo.com',\n",
       " 'susan.morales@gmail.com': 'jessicaklein@romero-ryan.com',\n",
       " 'rachael.massey@gmail.com': 'ericsmith@rose.info',\n",
       " 'ross.strickland@gmail.com': 'aaron46@cohen.com',\n",
       " 'jennifer.cox@gmail.com': 'johnfleming@yahoo.com',\n",
       " 'danny.lynn.dds@gmail.com': 'psharp@gmail.com',\n",
       " 'ashley.nichols@gmail.com': 'curtis35@bishop.com',\n",
       " 'angela.oneill@gmail.com': 'veronicarodriguez@yahoo.com',\n",
       " 'cody.moreno@gmail.com': 'ibrewer@krueger.com',\n",
       " 'douglas.atkinson@gmail.com': 'barbara07@hotmail.com',\n",
       " 'ellen.mccarthy@gmail.com': 'john91@greene-ortiz.net'}"
      ]
     },
     "execution_count": 47,
     "metadata": {},
     "output_type": "execute_result"
    }
   ],
   "source": [
    "email_dict"
   ]
  },
  {
   "cell_type": "code",
   "execution_count": 48,
   "metadata": {},
   "outputs": [],
   "source": [
    "df['email_new'] = df['email'].map(email_dict)"
   ]
  },
  {
   "cell_type": "markdown",
   "metadata": {},
   "source": [
    "### Email from name"
   ]
  },
  {
   "cell_type": "code",
   "execution_count": 52,
   "metadata": {},
   "outputs": [],
   "source": [
    "df['email'] = (df.name.str.replace('\\s+', '.') + '@fakeemail.com').str.lower()"
   ]
  },
  {
   "cell_type": "markdown",
   "metadata": {},
   "source": [
    "# Original vs Final"
   ]
  },
  {
   "cell_type": "code",
   "execution_count": 53,
   "metadata": {},
   "outputs": [
    {
     "data": {
      "text/html": [
       "<div>\n",
       "<style scoped>\n",
       "    .dataframe tbody tr th:only-of-type {\n",
       "        vertical-align: middle;\n",
       "    }\n",
       "\n",
       "    .dataframe tbody tr th {\n",
       "        vertical-align: top;\n",
       "    }\n",
       "\n",
       "    .dataframe thead th {\n",
       "        text-align: right;\n",
       "    }\n",
       "</style>\n",
       "<table border=\"1\" class=\"dataframe\">\n",
       "  <thead>\n",
       "    <tr style=\"text-align: right;\">\n",
       "      <th></th>\n",
       "      <th>user_id</th>\n",
       "      <th>name</th>\n",
       "      <th>item_name</th>\n",
       "      <th>price</th>\n",
       "      <th>category_id</th>\n",
       "      <th>quantity</th>\n",
       "      <th>purchased_date</th>\n",
       "      <th>email</th>\n",
       "    </tr>\n",
       "  </thead>\n",
       "  <tbody>\n",
       "    <tr>\n",
       "      <th>0</th>\n",
       "      <td>1004</td>\n",
       "      <td>Donna Martin</td>\n",
       "      <td>TV</td>\n",
       "      <td>199.95</td>\n",
       "      <td>14</td>\n",
       "      <td>1</td>\n",
       "      <td>2020-04-04</td>\n",
       "      <td>donna.martin@gmail.com</td>\n",
       "    </tr>\n",
       "    <tr>\n",
       "      <th>1</th>\n",
       "      <td>1004</td>\n",
       "      <td>Donna Martin</td>\n",
       "      <td>Vaccum</td>\n",
       "      <td>95.12</td>\n",
       "      <td>15</td>\n",
       "      <td>2</td>\n",
       "      <td>2020-05-12</td>\n",
       "      <td>donna.martin@gmail.com</td>\n",
       "    </tr>\n",
       "    <tr>\n",
       "      <th>2</th>\n",
       "      <td>1003</td>\n",
       "      <td>Bobby Bradley</td>\n",
       "      <td>Cup</td>\n",
       "      <td>12.76</td>\n",
       "      <td>44</td>\n",
       "      <td>1</td>\n",
       "      <td>2020-05-13</td>\n",
       "      <td>bobby.bradley@gmail.com</td>\n",
       "    </tr>\n",
       "    <tr>\n",
       "      <th>3</th>\n",
       "      <td>1011</td>\n",
       "      <td>Austin Thomas</td>\n",
       "      <td>Plate</td>\n",
       "      <td>5.55</td>\n",
       "      <td>156</td>\n",
       "      <td>1</td>\n",
       "      <td>2020-05-14</td>\n",
       "      <td>austin.thomas@gmail.com</td>\n",
       "    </tr>\n",
       "    <tr>\n",
       "      <th>4</th>\n",
       "      <td>1000</td>\n",
       "      <td>Jonathan Medina</td>\n",
       "      <td>Lotion</td>\n",
       "      <td>4.44</td>\n",
       "      <td>23</td>\n",
       "      <td>2</td>\n",
       "      <td>2020-05-15</td>\n",
       "      <td>jonathan.medina@gmail.com</td>\n",
       "    </tr>\n",
       "    <tr>\n",
       "      <th>5</th>\n",
       "      <td>1000</td>\n",
       "      <td>Jonathan Medina</td>\n",
       "      <td>Toothbrush</td>\n",
       "      <td>5.96</td>\n",
       "      <td>123</td>\n",
       "      <td>1</td>\n",
       "      <td>2020-05-16</td>\n",
       "      <td>jonathan.medina@gmail.com</td>\n",
       "    </tr>\n",
       "    <tr>\n",
       "      <th>6</th>\n",
       "      <td>1019</td>\n",
       "      <td>Brandon Beasley</td>\n",
       "      <td>Sanitizer</td>\n",
       "      <td>2.23</td>\n",
       "      <td>12</td>\n",
       "      <td>3</td>\n",
       "      <td>2020-05-17</td>\n",
       "      <td>brandon.beasley@gmail.com</td>\n",
       "    </tr>\n",
       "    <tr>\n",
       "      <th>7</th>\n",
       "      <td>1011</td>\n",
       "      <td>Austin Thomas</td>\n",
       "      <td>Wine</td>\n",
       "      <td>15.67</td>\n",
       "      <td>122</td>\n",
       "      <td>1</td>\n",
       "      <td>2020-04-04</td>\n",
       "      <td>austin.thomas@gmail.com</td>\n",
       "    </tr>\n",
       "    <tr>\n",
       "      <th>8</th>\n",
       "      <td>1014</td>\n",
       "      <td>Susan Morales</td>\n",
       "      <td>Yoga mat</td>\n",
       "      <td>45.53</td>\n",
       "      <td>1212</td>\n",
       "      <td>2</td>\n",
       "      <td>2020-04-05</td>\n",
       "      <td>susan.morales@gmail.com</td>\n",
       "    </tr>\n",
       "    <tr>\n",
       "      <th>9</th>\n",
       "      <td>1001</td>\n",
       "      <td>Rachael Massey</td>\n",
       "      <td>Beer</td>\n",
       "      <td>2.45</td>\n",
       "      <td>42</td>\n",
       "      <td>4</td>\n",
       "      <td>2020-04-06</td>\n",
       "      <td>rachael.massey@gmail.com</td>\n",
       "    </tr>\n",
       "    <tr>\n",
       "      <th>10</th>\n",
       "      <td>1005</td>\n",
       "      <td>Ross Strickland</td>\n",
       "      <td>Coffee</td>\n",
       "      <td>8.45</td>\n",
       "      <td>356</td>\n",
       "      <td>5</td>\n",
       "      <td>2020-04-07</td>\n",
       "      <td>ross.strickland@gmail.com</td>\n",
       "    </tr>\n",
       "    <tr>\n",
       "      <th>11</th>\n",
       "      <td>1014</td>\n",
       "      <td>Susan Morales</td>\n",
       "      <td>Lotion</td>\n",
       "      <td>4.44</td>\n",
       "      <td>23</td>\n",
       "      <td>3</td>\n",
       "      <td>2020-04-08</td>\n",
       "      <td>susan.morales@gmail.com</td>\n",
       "    </tr>\n",
       "    <tr>\n",
       "      <th>12</th>\n",
       "      <td>1020</td>\n",
       "      <td>Jennifer Cox</td>\n",
       "      <td>Coffee</td>\n",
       "      <td>8.45</td>\n",
       "      <td>356</td>\n",
       "      <td>4</td>\n",
       "      <td>2020-04-09</td>\n",
       "      <td>jennifer.cox@gmail.com</td>\n",
       "    </tr>\n",
       "    <tr>\n",
       "      <th>13</th>\n",
       "      <td>1001</td>\n",
       "      <td>Danny Lynn DDS</td>\n",
       "      <td>TV</td>\n",
       "      <td>199.95</td>\n",
       "      <td>14</td>\n",
       "      <td>2</td>\n",
       "      <td>2020-04-10</td>\n",
       "      <td>danny.lynn.dds@gmail.com</td>\n",
       "    </tr>\n",
       "    <tr>\n",
       "      <th>14</th>\n",
       "      <td>1019</td>\n",
       "      <td>Brandon Beasley</td>\n",
       "      <td>Vaccum</td>\n",
       "      <td>95.12</td>\n",
       "      <td>15</td>\n",
       "      <td>6</td>\n",
       "      <td>2020-05-06</td>\n",
       "      <td>brandon.beasley@gmail.com</td>\n",
       "    </tr>\n",
       "    <tr>\n",
       "      <th>15</th>\n",
       "      <td>1006</td>\n",
       "      <td>Ashley Nichols</td>\n",
       "      <td>Sanitizer</td>\n",
       "      <td>2.23</td>\n",
       "      <td>12</td>\n",
       "      <td>1</td>\n",
       "      <td>2020-05-07</td>\n",
       "      <td>ashley.nichols@gmail.com</td>\n",
       "    </tr>\n",
       "    <tr>\n",
       "      <th>16</th>\n",
       "      <td>1015</td>\n",
       "      <td>Angela Oneill</td>\n",
       "      <td>Wine</td>\n",
       "      <td>15.67</td>\n",
       "      <td>122</td>\n",
       "      <td>2</td>\n",
       "      <td>2020-05-08</td>\n",
       "      <td>angela.oneill@gmail.com</td>\n",
       "    </tr>\n",
       "    <tr>\n",
       "      <th>17</th>\n",
       "      <td>1009</td>\n",
       "      <td>Cody Moreno</td>\n",
       "      <td>Plate</td>\n",
       "      <td>5.55</td>\n",
       "      <td>156</td>\n",
       "      <td>4</td>\n",
       "      <td>2020-05-09</td>\n",
       "      <td>cody.moreno@gmail.com</td>\n",
       "    </tr>\n",
       "    <tr>\n",
       "      <th>18</th>\n",
       "      <td>1005</td>\n",
       "      <td>Douglas Atkinson</td>\n",
       "      <td>TV</td>\n",
       "      <td>199.95</td>\n",
       "      <td>14</td>\n",
       "      <td>1</td>\n",
       "      <td>2020-05-10</td>\n",
       "      <td>douglas.atkinson@gmail.com</td>\n",
       "    </tr>\n",
       "    <tr>\n",
       "      <th>19</th>\n",
       "      <td>1016</td>\n",
       "      <td>Ellen Mccarthy</td>\n",
       "      <td>Vaccum</td>\n",
       "      <td>95.12</td>\n",
       "      <td>15</td>\n",
       "      <td>1</td>\n",
       "      <td>2020-05-11</td>\n",
       "      <td>ellen.mccarthy@gmail.com</td>\n",
       "    </tr>\n",
       "  </tbody>\n",
       "</table>\n",
       "</div>"
      ],
      "text/plain": [
       "    user_id              name   item_name   price  category_id  quantity  \\\n",
       "0      1004      Donna Martin          TV  199.95           14         1   \n",
       "1      1004      Donna Martin      Vaccum   95.12           15         2   \n",
       "2      1003     Bobby Bradley         Cup   12.76           44         1   \n",
       "3      1011     Austin Thomas       Plate    5.55          156         1   \n",
       "4      1000   Jonathan Medina      Lotion    4.44           23         2   \n",
       "5      1000   Jonathan Medina  Toothbrush    5.96          123         1   \n",
       "6      1019   Brandon Beasley   Sanitizer    2.23           12         3   \n",
       "7      1011     Austin Thomas        Wine   15.67          122         1   \n",
       "8      1014     Susan Morales    Yoga mat   45.53         1212         2   \n",
       "9      1001    Rachael Massey        Beer    2.45           42         4   \n",
       "10     1005   Ross Strickland      Coffee    8.45          356         5   \n",
       "11     1014     Susan Morales      Lotion    4.44           23         3   \n",
       "12     1020      Jennifer Cox      Coffee    8.45          356         4   \n",
       "13     1001    Danny Lynn DDS          TV  199.95           14         2   \n",
       "14     1019   Brandon Beasley      Vaccum   95.12           15         6   \n",
       "15     1006    Ashley Nichols   Sanitizer    2.23           12         1   \n",
       "16     1015     Angela Oneill        Wine   15.67          122         2   \n",
       "17     1009       Cody Moreno       Plate    5.55          156         4   \n",
       "18     1005  Douglas Atkinson          TV  199.95           14         1   \n",
       "19     1016    Ellen Mccarthy      Vaccum   95.12           15         1   \n",
       "\n",
       "   purchased_date                       email  \n",
       "0      2020-04-04      donna.martin@gmail.com  \n",
       "1      2020-05-12      donna.martin@gmail.com  \n",
       "2      2020-05-13     bobby.bradley@gmail.com  \n",
       "3      2020-05-14     austin.thomas@gmail.com  \n",
       "4      2020-05-15   jonathan.medina@gmail.com  \n",
       "5      2020-05-16   jonathan.medina@gmail.com  \n",
       "6      2020-05-17   brandon.beasley@gmail.com  \n",
       "7      2020-04-04     austin.thomas@gmail.com  \n",
       "8      2020-04-05     susan.morales@gmail.com  \n",
       "9      2020-04-06    rachael.massey@gmail.com  \n",
       "10     2020-04-07   ross.strickland@gmail.com  \n",
       "11     2020-04-08     susan.morales@gmail.com  \n",
       "12     2020-04-09      jennifer.cox@gmail.com  \n",
       "13     2020-04-10    danny.lynn.dds@gmail.com  \n",
       "14     2020-05-06   brandon.beasley@gmail.com  \n",
       "15     2020-05-07    ashley.nichols@gmail.com  \n",
       "16     2020-05-08     angela.oneill@gmail.com  \n",
       "17     2020-05-09       cody.moreno@gmail.com  \n",
       "18     2020-05-10  douglas.atkinson@gmail.com  \n",
       "19     2020-05-11    ellen.mccarthy@gmail.com  "
      ]
     },
     "execution_count": 53,
     "metadata": {},
     "output_type": "execute_result"
    }
   ],
   "source": [
    "df_original"
   ]
  },
  {
   "cell_type": "code",
   "execution_count": 54,
   "metadata": {},
   "outputs": [
    {
     "data": {
      "text/html": [
       "<div>\n",
       "<style scoped>\n",
       "    .dataframe tbody tr th:only-of-type {\n",
       "        vertical-align: middle;\n",
       "    }\n",
       "\n",
       "    .dataframe tbody tr th {\n",
       "        vertical-align: top;\n",
       "    }\n",
       "\n",
       "    .dataframe thead th {\n",
       "        text-align: right;\n",
       "    }\n",
       "</style>\n",
       "<table border=\"1\" class=\"dataframe\">\n",
       "  <thead>\n",
       "    <tr style=\"text-align: right;\">\n",
       "      <th></th>\n",
       "      <th>user_id</th>\n",
       "      <th>name</th>\n",
       "      <th>item_name</th>\n",
       "      <th>price</th>\n",
       "      <th>category_id</th>\n",
       "      <th>quantity</th>\n",
       "      <th>purchased_date</th>\n",
       "      <th>email</th>\n",
       "      <th>email_new</th>\n",
       "    </tr>\n",
       "  </thead>\n",
       "  <tbody>\n",
       "    <tr>\n",
       "      <th>0</th>\n",
       "      <td>171115a4-59d3-403e-ba3c-af3735960be6</td>\n",
       "      <td>Robert Harper</td>\n",
       "      <td>Category_695 0</td>\n",
       "      <td>50.000000</td>\n",
       "      <td>4e5fe3a3-18b2-4f11-99a6-ebb06909be24</td>\n",
       "      <td>1</td>\n",
       "      <td>2020-04-23</td>\n",
       "      <td>robert.harper@fakeemail.com</td>\n",
       "      <td>haley13@hotmail.com</td>\n",
       "    </tr>\n",
       "    <tr>\n",
       "      <th>1</th>\n",
       "      <td>171115a4-59d3-403e-ba3c-af3735960be6</td>\n",
       "      <td>Robert Harper</td>\n",
       "      <td>Category_695 1</td>\n",
       "      <td>26.141260</td>\n",
       "      <td>8625cfd1-5be4-40b6-8382-c64fdac21edc</td>\n",
       "      <td>2</td>\n",
       "      <td>2020-05-04</td>\n",
       "      <td>robert.harper@fakeemail.com</td>\n",
       "      <td>haley13@hotmail.com</td>\n",
       "    </tr>\n",
       "    <tr>\n",
       "      <th>2</th>\n",
       "      <td>d279af76-46b7-4c69-b819-d44999233806</td>\n",
       "      <td>Morgan Hawkins</td>\n",
       "      <td>Category_695 2</td>\n",
       "      <td>7.396571</td>\n",
       "      <td>9208afa1-602a-4c15-a025-8d5a8fc3649c</td>\n",
       "      <td>1</td>\n",
       "      <td>2020-05-01</td>\n",
       "      <td>morgan.hawkins@fakeemail.com</td>\n",
       "      <td>rodriguezshannon@yahoo.com</td>\n",
       "    </tr>\n",
       "    <tr>\n",
       "      <th>3</th>\n",
       "      <td>85dbeaf9-5a67-4aaf-9926-8e8dd99ecc4b</td>\n",
       "      <td>Daniel Jones</td>\n",
       "      <td>Category_695 3</td>\n",
       "      <td>5.755614</td>\n",
       "      <td>bd4a8b96-8d65-4551-8cc9-e003fa2a0d4a</td>\n",
       "      <td>1</td>\n",
       "      <td>2020-04-19</td>\n",
       "      <td>daniel.jones@fakeemail.com</td>\n",
       "      <td>yblair@bennett-gardner.net</td>\n",
       "    </tr>\n",
       "    <tr>\n",
       "      <th>4</th>\n",
       "      <td>22dc32e4-9170-4ae8-aa69-f647cf519a5d</td>\n",
       "      <td>Leah Harrell</td>\n",
       "      <td>Category_695 4</td>\n",
       "      <td>5.502984</td>\n",
       "      <td>a42c9f20-7595-4f43-adbb-e19ec22a8899</td>\n",
       "      <td>2</td>\n",
       "      <td>2020-04-04</td>\n",
       "      <td>leah.harrell@fakeemail.com</td>\n",
       "      <td>jennifer80@smith.biz</td>\n",
       "    </tr>\n",
       "    <tr>\n",
       "      <th>5</th>\n",
       "      <td>22dc32e4-9170-4ae8-aa69-f647cf519a5d</td>\n",
       "      <td>Leah Harrell</td>\n",
       "      <td>Category_695 5</td>\n",
       "      <td>5.848928</td>\n",
       "      <td>78fd542f-f88c-4fde-a1be-4c810b25ae5d</td>\n",
       "      <td>1</td>\n",
       "      <td>2020-04-16</td>\n",
       "      <td>leah.harrell@fakeemail.com</td>\n",
       "      <td>jennifer80@smith.biz</td>\n",
       "    </tr>\n",
       "    <tr>\n",
       "      <th>6</th>\n",
       "      <td>e38a7c8e-8df0-448b-a1e1-24151bd303db</td>\n",
       "      <td>Paul Cox</td>\n",
       "      <td>Category_695 6</td>\n",
       "      <td>5.000000</td>\n",
       "      <td>e56ce237-da8a-4970-b1ff-0e42ec9404d2</td>\n",
       "      <td>4</td>\n",
       "      <td>2020-04-16</td>\n",
       "      <td>paul.cox@fakeemail.com</td>\n",
       "      <td>alison16@yahoo.com</td>\n",
       "    </tr>\n",
       "    <tr>\n",
       "      <th>7</th>\n",
       "      <td>85dbeaf9-5a67-4aaf-9926-8e8dd99ecc4b</td>\n",
       "      <td>Daniel Jones</td>\n",
       "      <td>Category_695 7</td>\n",
       "      <td>8.058871</td>\n",
       "      <td>11214f06-a2c2-48bc-8cea-e13db1ab05ae</td>\n",
       "      <td>1</td>\n",
       "      <td>2020-04-23</td>\n",
       "      <td>daniel.jones@fakeemail.com</td>\n",
       "      <td>yblair@bennett-gardner.net</td>\n",
       "    </tr>\n",
       "    <tr>\n",
       "      <th>8</th>\n",
       "      <td>9d623d03-a821-47fb-b8b1-0888f0241a73</td>\n",
       "      <td>Vincent White</td>\n",
       "      <td>Category_695 8</td>\n",
       "      <td>14.854845</td>\n",
       "      <td>082fa5f6-a10b-404e-b431-72492d680751</td>\n",
       "      <td>2</td>\n",
       "      <td>2020-04-08</td>\n",
       "      <td>vincent.white@fakeemail.com</td>\n",
       "      <td>jessicaklein@romero-ryan.com</td>\n",
       "    </tr>\n",
       "    <tr>\n",
       "      <th>9</th>\n",
       "      <td>3525444f-b98c-454a-9851-78df523144a0</td>\n",
       "      <td>William Young</td>\n",
       "      <td>Category_695 9</td>\n",
       "      <td>5.050071</td>\n",
       "      <td>1ae34ca8-146e-4af6-ad50-74a249e5cb28</td>\n",
       "      <td>6</td>\n",
       "      <td>2020-05-14</td>\n",
       "      <td>william.young@fakeemail.com</td>\n",
       "      <td>ericsmith@rose.info</td>\n",
       "    </tr>\n",
       "    <tr>\n",
       "      <th>10</th>\n",
       "      <td>7d544d38-5db1-4334-b504-f9b2f52dfd00</td>\n",
       "      <td>Rachel Barnes</td>\n",
       "      <td>Category_695 10</td>\n",
       "      <td>6.415638</td>\n",
       "      <td>aadd09f0-8c5b-494a-aa7b-ca2eed71fbc1</td>\n",
       "      <td>8</td>\n",
       "      <td>2020-05-07</td>\n",
       "      <td>rachel.barnes@fakeemail.com</td>\n",
       "      <td>aaron46@cohen.com</td>\n",
       "    </tr>\n",
       "    <tr>\n",
       "      <th>11</th>\n",
       "      <td>9d623d03-a821-47fb-b8b1-0888f0241a73</td>\n",
       "      <td>Vincent White</td>\n",
       "      <td>Category_695 4</td>\n",
       "      <td>5.502984</td>\n",
       "      <td>a42c9f20-7595-4f43-adbb-e19ec22a8899</td>\n",
       "      <td>4</td>\n",
       "      <td>2020-04-19</td>\n",
       "      <td>vincent.white@fakeemail.com</td>\n",
       "      <td>jessicaklein@romero-ryan.com</td>\n",
       "    </tr>\n",
       "    <tr>\n",
       "      <th>12</th>\n",
       "      <td>62b73084-7737-49c7-a022-87c31fab3b6c</td>\n",
       "      <td>Troy Graham</td>\n",
       "      <td>Category_695 10</td>\n",
       "      <td>6.415638</td>\n",
       "      <td>aadd09f0-8c5b-494a-aa7b-ca2eed71fbc1</td>\n",
       "      <td>6</td>\n",
       "      <td>2020-04-14</td>\n",
       "      <td>troy.graham@fakeemail.com</td>\n",
       "      <td>johnfleming@yahoo.com</td>\n",
       "    </tr>\n",
       "    <tr>\n",
       "      <th>13</th>\n",
       "      <td>3525444f-b98c-454a-9851-78df523144a0</td>\n",
       "      <td>Nancy Woodard</td>\n",
       "      <td>Category_695 0</td>\n",
       "      <td>50.000000</td>\n",
       "      <td>4e5fe3a3-18b2-4f11-99a6-ebb06909be24</td>\n",
       "      <td>2</td>\n",
       "      <td>2020-05-15</td>\n",
       "      <td>nancy.woodard@fakeemail.com</td>\n",
       "      <td>psharp@gmail.com</td>\n",
       "    </tr>\n",
       "    <tr>\n",
       "      <th>14</th>\n",
       "      <td>e38a7c8e-8df0-448b-a1e1-24151bd303db</td>\n",
       "      <td>Paul Cox</td>\n",
       "      <td>Category_695 1</td>\n",
       "      <td>26.141260</td>\n",
       "      <td>8625cfd1-5be4-40b6-8382-c64fdac21edc</td>\n",
       "      <td>10</td>\n",
       "      <td>2020-04-15</td>\n",
       "      <td>paul.cox@fakeemail.com</td>\n",
       "      <td>alison16@yahoo.com</td>\n",
       "    </tr>\n",
       "    <tr>\n",
       "      <th>15</th>\n",
       "      <td>dce70cd1-b30b-491c-b87d-c28b1cec0959</td>\n",
       "      <td>James Jones</td>\n",
       "      <td>Category_695 6</td>\n",
       "      <td>5.000000</td>\n",
       "      <td>e56ce237-da8a-4970-b1ff-0e42ec9404d2</td>\n",
       "      <td>1</td>\n",
       "      <td>2020-04-08</td>\n",
       "      <td>james.jones@fakeemail.com</td>\n",
       "      <td>curtis35@bishop.com</td>\n",
       "    </tr>\n",
       "    <tr>\n",
       "      <th>16</th>\n",
       "      <td>9b6b7a20-599c-4687-b122-a6fe7d3402b5</td>\n",
       "      <td>Rachael Wilson</td>\n",
       "      <td>Category_695 7</td>\n",
       "      <td>8.058871</td>\n",
       "      <td>11214f06-a2c2-48bc-8cea-e13db1ab05ae</td>\n",
       "      <td>2</td>\n",
       "      <td>2020-04-24</td>\n",
       "      <td>rachael.wilson@fakeemail.com</td>\n",
       "      <td>veronicarodriguez@yahoo.com</td>\n",
       "    </tr>\n",
       "    <tr>\n",
       "      <th>17</th>\n",
       "      <td>bf430a53-5bd5-48d3-adbb-165d8efc5bcf</td>\n",
       "      <td>Daniel Estrada</td>\n",
       "      <td>Category_695 3</td>\n",
       "      <td>5.755614</td>\n",
       "      <td>bd4a8b96-8d65-4551-8cc9-e003fa2a0d4a</td>\n",
       "      <td>6</td>\n",
       "      <td>2020-04-24</td>\n",
       "      <td>daniel.estrada@fakeemail.com</td>\n",
       "      <td>ibrewer@krueger.com</td>\n",
       "    </tr>\n",
       "    <tr>\n",
       "      <th>18</th>\n",
       "      <td>7d544d38-5db1-4334-b504-f9b2f52dfd00</td>\n",
       "      <td>Christopher Hall</td>\n",
       "      <td>Category_695 0</td>\n",
       "      <td>50.000000</td>\n",
       "      <td>4e5fe3a3-18b2-4f11-99a6-ebb06909be24</td>\n",
       "      <td>1</td>\n",
       "      <td>2020-04-13</td>\n",
       "      <td>christopher.hall@fakeemail.com</td>\n",
       "      <td>barbara07@hotmail.com</td>\n",
       "    </tr>\n",
       "    <tr>\n",
       "      <th>19</th>\n",
       "      <td>b2d7c866-dc88-4188-8e13-0a58b9ff35fb</td>\n",
       "      <td>Robert Mccoy</td>\n",
       "      <td>Category_695 1</td>\n",
       "      <td>26.141260</td>\n",
       "      <td>8625cfd1-5be4-40b6-8382-c64fdac21edc</td>\n",
       "      <td>1</td>\n",
       "      <td>2020-05-13</td>\n",
       "      <td>robert.mccoy@fakeemail.com</td>\n",
       "      <td>john91@greene-ortiz.net</td>\n",
       "    </tr>\n",
       "  </tbody>\n",
       "</table>\n",
       "</div>"
      ],
      "text/plain": [
       "                                 user_id              name        item_name  \\\n",
       "0   171115a4-59d3-403e-ba3c-af3735960be6     Robert Harper   Category_695 0   \n",
       "1   171115a4-59d3-403e-ba3c-af3735960be6     Robert Harper   Category_695 1   \n",
       "2   d279af76-46b7-4c69-b819-d44999233806    Morgan Hawkins   Category_695 2   \n",
       "3   85dbeaf9-5a67-4aaf-9926-8e8dd99ecc4b      Daniel Jones   Category_695 3   \n",
       "4   22dc32e4-9170-4ae8-aa69-f647cf519a5d      Leah Harrell   Category_695 4   \n",
       "5   22dc32e4-9170-4ae8-aa69-f647cf519a5d      Leah Harrell   Category_695 5   \n",
       "6   e38a7c8e-8df0-448b-a1e1-24151bd303db          Paul Cox   Category_695 6   \n",
       "7   85dbeaf9-5a67-4aaf-9926-8e8dd99ecc4b      Daniel Jones   Category_695 7   \n",
       "8   9d623d03-a821-47fb-b8b1-0888f0241a73     Vincent White   Category_695 8   \n",
       "9   3525444f-b98c-454a-9851-78df523144a0     William Young   Category_695 9   \n",
       "10  7d544d38-5db1-4334-b504-f9b2f52dfd00     Rachel Barnes  Category_695 10   \n",
       "11  9d623d03-a821-47fb-b8b1-0888f0241a73     Vincent White   Category_695 4   \n",
       "12  62b73084-7737-49c7-a022-87c31fab3b6c       Troy Graham  Category_695 10   \n",
       "13  3525444f-b98c-454a-9851-78df523144a0     Nancy Woodard   Category_695 0   \n",
       "14  e38a7c8e-8df0-448b-a1e1-24151bd303db          Paul Cox   Category_695 1   \n",
       "15  dce70cd1-b30b-491c-b87d-c28b1cec0959       James Jones   Category_695 6   \n",
       "16  9b6b7a20-599c-4687-b122-a6fe7d3402b5    Rachael Wilson   Category_695 7   \n",
       "17  bf430a53-5bd5-48d3-adbb-165d8efc5bcf    Daniel Estrada   Category_695 3   \n",
       "18  7d544d38-5db1-4334-b504-f9b2f52dfd00  Christopher Hall   Category_695 0   \n",
       "19  b2d7c866-dc88-4188-8e13-0a58b9ff35fb      Robert Mccoy   Category_695 1   \n",
       "\n",
       "        price                           category_id  quantity purchased_date  \\\n",
       "0   50.000000  4e5fe3a3-18b2-4f11-99a6-ebb06909be24         1     2020-04-23   \n",
       "1   26.141260  8625cfd1-5be4-40b6-8382-c64fdac21edc         2     2020-05-04   \n",
       "2    7.396571  9208afa1-602a-4c15-a025-8d5a8fc3649c         1     2020-05-01   \n",
       "3    5.755614  bd4a8b96-8d65-4551-8cc9-e003fa2a0d4a         1     2020-04-19   \n",
       "4    5.502984  a42c9f20-7595-4f43-adbb-e19ec22a8899         2     2020-04-04   \n",
       "5    5.848928  78fd542f-f88c-4fde-a1be-4c810b25ae5d         1     2020-04-16   \n",
       "6    5.000000  e56ce237-da8a-4970-b1ff-0e42ec9404d2         4     2020-04-16   \n",
       "7    8.058871  11214f06-a2c2-48bc-8cea-e13db1ab05ae         1     2020-04-23   \n",
       "8   14.854845  082fa5f6-a10b-404e-b431-72492d680751         2     2020-04-08   \n",
       "9    5.050071  1ae34ca8-146e-4af6-ad50-74a249e5cb28         6     2020-05-14   \n",
       "10   6.415638  aadd09f0-8c5b-494a-aa7b-ca2eed71fbc1         8     2020-05-07   \n",
       "11   5.502984  a42c9f20-7595-4f43-adbb-e19ec22a8899         4     2020-04-19   \n",
       "12   6.415638  aadd09f0-8c5b-494a-aa7b-ca2eed71fbc1         6     2020-04-14   \n",
       "13  50.000000  4e5fe3a3-18b2-4f11-99a6-ebb06909be24         2     2020-05-15   \n",
       "14  26.141260  8625cfd1-5be4-40b6-8382-c64fdac21edc        10     2020-04-15   \n",
       "15   5.000000  e56ce237-da8a-4970-b1ff-0e42ec9404d2         1     2020-04-08   \n",
       "16   8.058871  11214f06-a2c2-48bc-8cea-e13db1ab05ae         2     2020-04-24   \n",
       "17   5.755614  bd4a8b96-8d65-4551-8cc9-e003fa2a0d4a         6     2020-04-24   \n",
       "18  50.000000  4e5fe3a3-18b2-4f11-99a6-ebb06909be24         1     2020-04-13   \n",
       "19  26.141260  8625cfd1-5be4-40b6-8382-c64fdac21edc         1     2020-05-13   \n",
       "\n",
       "                             email                     email_new  \n",
       "0      robert.harper@fakeemail.com           haley13@hotmail.com  \n",
       "1      robert.harper@fakeemail.com           haley13@hotmail.com  \n",
       "2     morgan.hawkins@fakeemail.com    rodriguezshannon@yahoo.com  \n",
       "3       daniel.jones@fakeemail.com    yblair@bennett-gardner.net  \n",
       "4       leah.harrell@fakeemail.com          jennifer80@smith.biz  \n",
       "5       leah.harrell@fakeemail.com          jennifer80@smith.biz  \n",
       "6           paul.cox@fakeemail.com            alison16@yahoo.com  \n",
       "7       daniel.jones@fakeemail.com    yblair@bennett-gardner.net  \n",
       "8      vincent.white@fakeemail.com  jessicaklein@romero-ryan.com  \n",
       "9      william.young@fakeemail.com           ericsmith@rose.info  \n",
       "10     rachel.barnes@fakeemail.com             aaron46@cohen.com  \n",
       "11     vincent.white@fakeemail.com  jessicaklein@romero-ryan.com  \n",
       "12       troy.graham@fakeemail.com         johnfleming@yahoo.com  \n",
       "13     nancy.woodard@fakeemail.com              psharp@gmail.com  \n",
       "14          paul.cox@fakeemail.com            alison16@yahoo.com  \n",
       "15       james.jones@fakeemail.com           curtis35@bishop.com  \n",
       "16    rachael.wilson@fakeemail.com   veronicarodriguez@yahoo.com  \n",
       "17    daniel.estrada@fakeemail.com           ibrewer@krueger.com  \n",
       "18  christopher.hall@fakeemail.com         barbara07@hotmail.com  \n",
       "19      robert.mccoy@fakeemail.com       john91@greene-ortiz.net  "
      ]
     },
     "execution_count": 54,
     "metadata": {},
     "output_type": "execute_result"
    }
   ],
   "source": [
    "df"
   ]
  },
  {
   "cell_type": "code",
   "execution_count": null,
   "metadata": {},
   "outputs": [],
   "source": []
  }
 ],
 "metadata": {
  "kernelspec": {
   "display_name": "Python 3",
   "language": "python",
   "name": "python3"
  },
  "language_info": {
   "codemirror_mode": {
    "name": "ipython",
    "version": 3
   },
   "file_extension": ".py",
   "mimetype": "text/x-python",
   "name": "python",
   "nbconvert_exporter": "python",
   "pygments_lexer": "ipython3",
   "version": "3.8.5"
  }
 },
 "nbformat": 4,
 "nbformat_minor": 4
}
