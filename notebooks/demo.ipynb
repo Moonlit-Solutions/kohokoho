{
 "cells": [
  {
   "cell_type": "code",
   "execution_count": 1,
   "metadata": {},
   "outputs": [],
   "source": [
    "import pandas as pd\n",
    "import random\n",
    "import datetime as dt\n",
    "from faker import Faker"
   ]
  },
  {
   "cell_type": "code",
   "execution_count": 2,
   "metadata": {},
   "outputs": [],
   "source": [
    "fake = Faker()"
   ]
  },
  {
   "cell_type": "code",
   "execution_count": 3,
   "metadata": {},
   "outputs": [
    {
     "name": "stdout",
     "output_type": "stream",
     "text": [
      "Karen Morgan\n",
      "Nathan Franco\n",
      "Emily Edwards\n",
      "Malik Brock\n",
      "Melissa Turner\n",
      "Craig Franco\n",
      "Emily Martinez\n",
      "Tina Jacobs\n",
      "Kimberly Hill\n",
      "Mark Robinson\n",
      "Thomas Vega\n",
      "Charles Rivera\n",
      "Karen Schmidt\n",
      "Lisa Jones\n",
      "Michael Roberson\n",
      "Brian Travis\n",
      "Robert Spencer\n",
      "Paige Smith\n",
      "Paula Serrano\n",
      "Michael Brown\n"
     ]
    }
   ],
   "source": [
    "for _ in range(20):\n",
    "  print(fake.name())"
   ]
  },
  {
   "cell_type": "code",
   "execution_count": 4,
   "metadata": {},
   "outputs": [],
   "source": [
    "## sample dataset"
   ]
  },
  {
   "cell_type": "code",
   "execution_count": 5,
   "metadata": {},
   "outputs": [],
   "source": [
    "df = pd.read_csv('../datasets/test_dataset1.csv', parse_dates=['purchased_date'])"
   ]
  },
  {
   "cell_type": "code",
   "execution_count": 6,
   "metadata": {},
   "outputs": [],
   "source": [
    "df_original = df.copy()"
   ]
  },
  {
   "cell_type": "code",
   "execution_count": 7,
   "metadata": {},
   "outputs": [
    {
     "data": {
      "text/html": [
       "<div>\n",
       "<style scoped>\n",
       "    .dataframe tbody tr th:only-of-type {\n",
       "        vertical-align: middle;\n",
       "    }\n",
       "\n",
       "    .dataframe tbody tr th {\n",
       "        vertical-align: top;\n",
       "    }\n",
       "\n",
       "    .dataframe thead th {\n",
       "        text-align: right;\n",
       "    }\n",
       "</style>\n",
       "<table border=\"1\" class=\"dataframe\">\n",
       "  <thead>\n",
       "    <tr style=\"text-align: right;\">\n",
       "      <th></th>\n",
       "      <th>user_id</th>\n",
       "      <th>name</th>\n",
       "      <th>item</th>\n",
       "      <th>amount</th>\n",
       "      <th>category_id</th>\n",
       "      <th>purchased_quantity</th>\n",
       "      <th>purchased_date</th>\n",
       "    </tr>\n",
       "  </thead>\n",
       "  <tbody>\n",
       "    <tr>\n",
       "      <th>0</th>\n",
       "      <td>1004</td>\n",
       "      <td>Donna Martin</td>\n",
       "      <td>TV</td>\n",
       "      <td>199.95</td>\n",
       "      <td>14</td>\n",
       "      <td>1</td>\n",
       "      <td>2020-04-04</td>\n",
       "    </tr>\n",
       "    <tr>\n",
       "      <th>1</th>\n",
       "      <td>1004</td>\n",
       "      <td>Donna Martin</td>\n",
       "      <td>Vaccum</td>\n",
       "      <td>95.12</td>\n",
       "      <td>15</td>\n",
       "      <td>2</td>\n",
       "      <td>2020-05-12</td>\n",
       "    </tr>\n",
       "    <tr>\n",
       "      <th>2</th>\n",
       "      <td>1003</td>\n",
       "      <td>Bobby Bradley</td>\n",
       "      <td>Cup</td>\n",
       "      <td>12.76</td>\n",
       "      <td>44</td>\n",
       "      <td>1</td>\n",
       "      <td>2020-05-13</td>\n",
       "    </tr>\n",
       "    <tr>\n",
       "      <th>3</th>\n",
       "      <td>1011</td>\n",
       "      <td>Austin Thomas</td>\n",
       "      <td>Plate</td>\n",
       "      <td>5.55</td>\n",
       "      <td>156</td>\n",
       "      <td>1</td>\n",
       "      <td>2020-05-14</td>\n",
       "    </tr>\n",
       "    <tr>\n",
       "      <th>4</th>\n",
       "      <td>1000</td>\n",
       "      <td>Jonathan Medina</td>\n",
       "      <td>Lotion</td>\n",
       "      <td>4.44</td>\n",
       "      <td>23</td>\n",
       "      <td>2</td>\n",
       "      <td>2020-05-15</td>\n",
       "    </tr>\n",
       "    <tr>\n",
       "      <th>5</th>\n",
       "      <td>1000</td>\n",
       "      <td>Jonathan Medina</td>\n",
       "      <td>Toothbrush</td>\n",
       "      <td>5.96</td>\n",
       "      <td>123</td>\n",
       "      <td>1</td>\n",
       "      <td>2020-05-16</td>\n",
       "    </tr>\n",
       "    <tr>\n",
       "      <th>6</th>\n",
       "      <td>1019</td>\n",
       "      <td>Brandon Beasley</td>\n",
       "      <td>Sanitizer</td>\n",
       "      <td>2.23</td>\n",
       "      <td>12</td>\n",
       "      <td>3</td>\n",
       "      <td>2020-05-17</td>\n",
       "    </tr>\n",
       "    <tr>\n",
       "      <th>7</th>\n",
       "      <td>1011</td>\n",
       "      <td>Austin Thomas</td>\n",
       "      <td>Wine</td>\n",
       "      <td>15.67</td>\n",
       "      <td>122</td>\n",
       "      <td>1</td>\n",
       "      <td>2020-04-04</td>\n",
       "    </tr>\n",
       "    <tr>\n",
       "      <th>8</th>\n",
       "      <td>1014</td>\n",
       "      <td>Susan Morales</td>\n",
       "      <td>Yoga mat</td>\n",
       "      <td>45.53</td>\n",
       "      <td>1212</td>\n",
       "      <td>2</td>\n",
       "      <td>2020-04-05</td>\n",
       "    </tr>\n",
       "    <tr>\n",
       "      <th>9</th>\n",
       "      <td>1001</td>\n",
       "      <td>Rachael Massey</td>\n",
       "      <td>Beer</td>\n",
       "      <td>2.45</td>\n",
       "      <td>42</td>\n",
       "      <td>4</td>\n",
       "      <td>2020-04-06</td>\n",
       "    </tr>\n",
       "    <tr>\n",
       "      <th>10</th>\n",
       "      <td>1005</td>\n",
       "      <td>Ross Strickland</td>\n",
       "      <td>Coffee</td>\n",
       "      <td>8.45</td>\n",
       "      <td>356</td>\n",
       "      <td>5</td>\n",
       "      <td>2020-04-07</td>\n",
       "    </tr>\n",
       "    <tr>\n",
       "      <th>11</th>\n",
       "      <td>1014</td>\n",
       "      <td>Susan Morales</td>\n",
       "      <td>Lotion</td>\n",
       "      <td>4.44</td>\n",
       "      <td>23</td>\n",
       "      <td>3</td>\n",
       "      <td>2020-04-08</td>\n",
       "    </tr>\n",
       "    <tr>\n",
       "      <th>12</th>\n",
       "      <td>1020</td>\n",
       "      <td>Jennifer Cox</td>\n",
       "      <td>Coffee</td>\n",
       "      <td>8.45</td>\n",
       "      <td>356</td>\n",
       "      <td>4</td>\n",
       "      <td>2020-04-09</td>\n",
       "    </tr>\n",
       "    <tr>\n",
       "      <th>13</th>\n",
       "      <td>1001</td>\n",
       "      <td>Danny Lynn DDS</td>\n",
       "      <td>TV</td>\n",
       "      <td>199.95</td>\n",
       "      <td>14</td>\n",
       "      <td>2</td>\n",
       "      <td>2020-04-10</td>\n",
       "    </tr>\n",
       "    <tr>\n",
       "      <th>14</th>\n",
       "      <td>1019</td>\n",
       "      <td>Brandon Beasley</td>\n",
       "      <td>Vaccum</td>\n",
       "      <td>95.12</td>\n",
       "      <td>15</td>\n",
       "      <td>6</td>\n",
       "      <td>2020-05-06</td>\n",
       "    </tr>\n",
       "    <tr>\n",
       "      <th>15</th>\n",
       "      <td>1006</td>\n",
       "      <td>Ashley Nichols</td>\n",
       "      <td>Sanitizer</td>\n",
       "      <td>2.23</td>\n",
       "      <td>12</td>\n",
       "      <td>1</td>\n",
       "      <td>2020-05-07</td>\n",
       "    </tr>\n",
       "    <tr>\n",
       "      <th>16</th>\n",
       "      <td>1015</td>\n",
       "      <td>Angela Oneill</td>\n",
       "      <td>Wine</td>\n",
       "      <td>15.67</td>\n",
       "      <td>122</td>\n",
       "      <td>2</td>\n",
       "      <td>2020-05-08</td>\n",
       "    </tr>\n",
       "    <tr>\n",
       "      <th>17</th>\n",
       "      <td>1009</td>\n",
       "      <td>Cody Moreno</td>\n",
       "      <td>Plate</td>\n",
       "      <td>5.55</td>\n",
       "      <td>156</td>\n",
       "      <td>4</td>\n",
       "      <td>2020-05-09</td>\n",
       "    </tr>\n",
       "    <tr>\n",
       "      <th>18</th>\n",
       "      <td>1005</td>\n",
       "      <td>Douglas Atkinson</td>\n",
       "      <td>TV</td>\n",
       "      <td>199.95</td>\n",
       "      <td>14</td>\n",
       "      <td>1</td>\n",
       "      <td>2020-05-10</td>\n",
       "    </tr>\n",
       "    <tr>\n",
       "      <th>19</th>\n",
       "      <td>1016</td>\n",
       "      <td>Ellen Mccarthy</td>\n",
       "      <td>Vaccum</td>\n",
       "      <td>95.12</td>\n",
       "      <td>15</td>\n",
       "      <td>1</td>\n",
       "      <td>2020-05-11</td>\n",
       "    </tr>\n",
       "  </tbody>\n",
       "</table>\n",
       "</div>"
      ],
      "text/plain": [
       "    user_id              name        item  amount  category_id  \\\n",
       "0      1004      Donna Martin          TV  199.95           14   \n",
       "1      1004      Donna Martin      Vaccum   95.12           15   \n",
       "2      1003     Bobby Bradley         Cup   12.76           44   \n",
       "3      1011     Austin Thomas       Plate    5.55          156   \n",
       "4      1000   Jonathan Medina      Lotion    4.44           23   \n",
       "5      1000   Jonathan Medina  Toothbrush    5.96          123   \n",
       "6      1019   Brandon Beasley   Sanitizer    2.23           12   \n",
       "7      1011     Austin Thomas        Wine   15.67          122   \n",
       "8      1014     Susan Morales    Yoga mat   45.53         1212   \n",
       "9      1001    Rachael Massey        Beer    2.45           42   \n",
       "10     1005   Ross Strickland      Coffee    8.45          356   \n",
       "11     1014     Susan Morales      Lotion    4.44           23   \n",
       "12     1020      Jennifer Cox      Coffee    8.45          356   \n",
       "13     1001    Danny Lynn DDS          TV  199.95           14   \n",
       "14     1019   Brandon Beasley      Vaccum   95.12           15   \n",
       "15     1006    Ashley Nichols   Sanitizer    2.23           12   \n",
       "16     1015     Angela Oneill        Wine   15.67          122   \n",
       "17     1009       Cody Moreno       Plate    5.55          156   \n",
       "18     1005  Douglas Atkinson          TV  199.95           14   \n",
       "19     1016    Ellen Mccarthy      Vaccum   95.12           15   \n",
       "\n",
       "    purchased_quantity purchased_date  \n",
       "0                    1     2020-04-04  \n",
       "1                    2     2020-05-12  \n",
       "2                    1     2020-05-13  \n",
       "3                    1     2020-05-14  \n",
       "4                    2     2020-05-15  \n",
       "5                    1     2020-05-16  \n",
       "6                    3     2020-05-17  \n",
       "7                    1     2020-04-04  \n",
       "8                    2     2020-04-05  \n",
       "9                    4     2020-04-06  \n",
       "10                   5     2020-04-07  \n",
       "11                   3     2020-04-08  \n",
       "12                   4     2020-04-09  \n",
       "13                   2     2020-04-10  \n",
       "14                   6     2020-05-06  \n",
       "15                   1     2020-05-07  \n",
       "16                   2     2020-05-08  \n",
       "17                   4     2020-05-09  \n",
       "18                   1     2020-05-10  \n",
       "19                   1     2020-05-11  "
      ]
     },
     "execution_count": 7,
     "metadata": {},
     "output_type": "execute_result"
    }
   ],
   "source": [
    "df"
   ]
  },
  {
   "cell_type": "code",
   "execution_count": 8,
   "metadata": {},
   "outputs": [],
   "source": [
    "## replace names"
   ]
  },
  {
   "cell_type": "code",
   "execution_count": 9,
   "metadata": {},
   "outputs": [],
   "source": [
    "unique_names = df['name'].unique()"
   ]
  },
  {
   "cell_type": "code",
   "execution_count": 10,
   "metadata": {},
   "outputs": [
    {
     "data": {
      "text/plain": [
       "array(['Donna Martin', 'Bobby Bradley', 'Austin Thomas',\n",
       "       'Jonathan Medina', 'Brandon Beasley', 'Susan Morales',\n",
       "       'Rachael Massey', 'Ross Strickland', 'Jennifer Cox',\n",
       "       'Danny Lynn DDS', 'Ashley Nichols', 'Angela Oneill', 'Cody Moreno',\n",
       "       'Douglas Atkinson', 'Ellen Mccarthy'], dtype=object)"
      ]
     },
     "execution_count": 10,
     "metadata": {},
     "output_type": "execute_result"
    }
   ],
   "source": [
    "unique_names"
   ]
  },
  {
   "cell_type": "code",
   "execution_count": 11,
   "metadata": {},
   "outputs": [],
   "source": [
    "name_dict = {name: fake.name() for name in unique_names}"
   ]
  },
  {
   "cell_type": "code",
   "execution_count": 12,
   "metadata": {},
   "outputs": [
    {
     "data": {
      "text/plain": [
       "{'Donna Martin': 'Richard Harris DDS',\n",
       " 'Bobby Bradley': 'Aaron Gallegos',\n",
       " 'Austin Thomas': 'Howard Thomas',\n",
       " 'Jonathan Medina': 'Felicia Reynolds MD',\n",
       " 'Brandon Beasley': 'Hunter Davidson',\n",
       " 'Susan Morales': 'Matthew Garcia',\n",
       " 'Rachael Massey': 'Michael Long',\n",
       " 'Ross Strickland': 'Ryan Melton',\n",
       " 'Jennifer Cox': 'Christopher Hawkins',\n",
       " 'Danny Lynn DDS': 'Susan Summers',\n",
       " 'Ashley Nichols': 'Jaime Cooper',\n",
       " 'Angela Oneill': 'Ruth Medina',\n",
       " 'Cody Moreno': 'Robert Brown',\n",
       " 'Douglas Atkinson': 'Nicole Newton',\n",
       " 'Ellen Mccarthy': 'Kaitlyn Gibson'}"
      ]
     },
     "execution_count": 12,
     "metadata": {},
     "output_type": "execute_result"
    }
   ],
   "source": [
    "name_dict"
   ]
  },
  {
   "cell_type": "code",
   "execution_count": 13,
   "metadata": {},
   "outputs": [],
   "source": [
    "df['name'] = df['name'].map(name_dict)"
   ]
  },
  {
   "cell_type": "code",
   "execution_count": 14,
   "metadata": {},
   "outputs": [],
   "source": [
    "## replace ids"
   ]
  },
  {
   "cell_type": "code",
   "execution_count": 15,
   "metadata": {},
   "outputs": [],
   "source": [
    "unique_ids = df['user_id'].unique()"
   ]
  },
  {
   "cell_type": "code",
   "execution_count": 16,
   "metadata": {},
   "outputs": [],
   "source": [
    "id_dict = {id_: fake.bban() for id_ in unique_ids}"
   ]
  },
  {
   "cell_type": "code",
   "execution_count": 17,
   "metadata": {},
   "outputs": [
    {
     "data": {
      "text/plain": [
       "{1004: 'RSBJ06934559884607',\n",
       " 1003: 'MMGG75106666265568',\n",
       " 1011: 'VKKF09955534977533',\n",
       " 1000: 'YXRM33961496937181',\n",
       " 1019: 'ETML73570585385287',\n",
       " 1014: 'SQZO25459914972527',\n",
       " 1001: 'YQMU44020867087731',\n",
       " 1005: 'SJVP24080675540085',\n",
       " 1020: 'ACIK96484930708140',\n",
       " 1006: 'DADE92558114142905',\n",
       " 1015: 'ITVP10053562819477',\n",
       " 1009: 'MWPN13984004206227',\n",
       " 1016: 'BMPX17955070692669'}"
      ]
     },
     "execution_count": 17,
     "metadata": {},
     "output_type": "execute_result"
    }
   ],
   "source": [
    "id_dict"
   ]
  },
  {
   "cell_type": "code",
   "execution_count": 18,
   "metadata": {},
   "outputs": [
    {
     "data": {
      "text/plain": [
       "'YLRD88698401897530'"
      ]
     },
     "execution_count": 18,
     "metadata": {},
     "output_type": "execute_result"
    }
   ],
   "source": [
    "fake.bban()"
   ]
  },
  {
   "cell_type": "code",
   "execution_count": 19,
   "metadata": {},
   "outputs": [],
   "source": [
    "df['user_id'] = df['user_id'].map(id_dict)"
   ]
  },
  {
   "cell_type": "code",
   "execution_count": 20,
   "metadata": {},
   "outputs": [],
   "source": [
    "## replace whole numbers"
   ]
  },
  {
   "cell_type": "code",
   "execution_count": 21,
   "metadata": {},
   "outputs": [],
   "source": [
    "whole_numbers = df['purchased_quantity']"
   ]
  },
  {
   "cell_type": "code",
   "execution_count": 22,
   "metadata": {},
   "outputs": [],
   "source": [
    "whole_number_dict = {\n",
    "    number: fake.random_int(\n",
    "        min=min(whole_numbers), max=max(whole_numbers)\n",
    "    )\n",
    "    for number in whole_numbers\n",
    "}"
   ]
  },
  {
   "cell_type": "code",
   "execution_count": 23,
   "metadata": {},
   "outputs": [
    {
     "data": {
      "text/plain": [
       "{1: 6, 2: 1, 3: 5, 4: 5, 5: 5, 6: 5}"
      ]
     },
     "execution_count": 23,
     "metadata": {},
     "output_type": "execute_result"
    }
   ],
   "source": [
    "whole_number_dict"
   ]
  },
  {
   "cell_type": "code",
   "execution_count": 24,
   "metadata": {},
   "outputs": [],
   "source": [
    "df['purchased_quantity'] = df['purchased_quantity'].map(whole_number_dict)"
   ]
  },
  {
   "cell_type": "code",
   "execution_count": 25,
   "metadata": {},
   "outputs": [],
   "source": [
    "## replace decimal numbers"
   ]
  },
  {
   "cell_type": "code",
   "execution_count": 26,
   "metadata": {},
   "outputs": [],
   "source": [
    "decimal_numbers = df['amount']"
   ]
  },
  {
   "cell_type": "code",
   "execution_count": 27,
   "metadata": {},
   "outputs": [],
   "source": [
    "decimal_number_dict = {\n",
    "    number: round(random.uniform(\n",
    "        min(decimal_numbers), max(decimal_numbers)\n",
    "    ), 2)\n",
    "    for number in decimal_numbers\n",
    "}"
   ]
  },
  {
   "cell_type": "code",
   "execution_count": 28,
   "metadata": {},
   "outputs": [
    {
     "data": {
      "text/plain": [
       "{199.95: 148.24,\n",
       " 95.12: 31.57,\n",
       " 12.76: 57.0,\n",
       " 5.55: 123.9,\n",
       " 4.44: 130.69,\n",
       " 5.96: 75.35,\n",
       " 2.23: 39.89,\n",
       " 15.67: 22.49,\n",
       " 45.53: 22.97,\n",
       " 2.45: 141.01,\n",
       " 8.45: 95.52}"
      ]
     },
     "execution_count": 28,
     "metadata": {},
     "output_type": "execute_result"
    }
   ],
   "source": [
    "decimal_number_dict"
   ]
  },
  {
   "cell_type": "code",
   "execution_count": 29,
   "metadata": {},
   "outputs": [],
   "source": [
    "df['amount'] = df['amount'].map(decimal_number_dict)"
   ]
  },
  {
   "cell_type": "code",
   "execution_count": 30,
   "metadata": {},
   "outputs": [],
   "source": [
    "## category"
   ]
  },
  {
   "cell_type": "code",
   "execution_count": 31,
   "metadata": {},
   "outputs": [],
   "source": [
    "category = df['item']"
   ]
  },
  {
   "cell_type": "code",
   "execution_count": 32,
   "metadata": {},
   "outputs": [
    {
     "data": {
      "text/plain": [
       "0             TV\n",
       "1         Vaccum\n",
       "2            Cup\n",
       "3          Plate\n",
       "4         Lotion\n",
       "5     Toothbrush\n",
       "6      Sanitizer\n",
       "7           Wine\n",
       "8       Yoga mat\n",
       "9           Beer\n",
       "10        Coffee\n",
       "11        Lotion\n",
       "12        Coffee\n",
       "13            TV\n",
       "14        Vaccum\n",
       "15     Sanitizer\n",
       "16          Wine\n",
       "17         Plate\n",
       "18            TV\n",
       "19        Vaccum\n",
       "Name: item, dtype: object"
      ]
     },
     "execution_count": 32,
     "metadata": {},
     "output_type": "execute_result"
    }
   ],
   "source": [
    "category"
   ]
  },
  {
   "cell_type": "code",
   "execution_count": 33,
   "metadata": {},
   "outputs": [],
   "source": [
    "unique_category = category.unique()"
   ]
  },
  {
   "cell_type": "code",
   "execution_count": 34,
   "metadata": {},
   "outputs": [],
   "source": [
    "rand_category = random.randint(0,1000)\n",
    "category_dict = {\n",
    "    category:  \"Category_\" + str(rand_category) + \" \" +str(iteration)\n",
    "    for iteration, category in enumerate(unique_category)\n",
    "}"
   ]
  },
  {
   "cell_type": "code",
   "execution_count": 35,
   "metadata": {},
   "outputs": [
    {
     "data": {
      "text/plain": [
       "{'TV': 'Category_691 0',\n",
       " 'Vaccum': 'Category_691 1',\n",
       " 'Cup': 'Category_691 2',\n",
       " 'Plate': 'Category_691 3',\n",
       " 'Lotion': 'Category_691 4',\n",
       " 'Toothbrush': 'Category_691 5',\n",
       " 'Sanitizer': 'Category_691 6',\n",
       " 'Wine': 'Category_691 7',\n",
       " 'Yoga mat': 'Category_691 8',\n",
       " 'Beer': 'Category_691 9',\n",
       " 'Coffee': 'Category_691 10'}"
      ]
     },
     "execution_count": 35,
     "metadata": {},
     "output_type": "execute_result"
    }
   ],
   "source": [
    "category_dict"
   ]
  },
  {
   "cell_type": "code",
   "execution_count": 36,
   "metadata": {},
   "outputs": [],
   "source": [
    "df['item'] = df['item'].map(category_dict)"
   ]
  },
  {
   "cell_type": "code",
   "execution_count": 37,
   "metadata": {},
   "outputs": [],
   "source": [
    "### dates"
   ]
  },
  {
   "cell_type": "code",
   "execution_count": 38,
   "metadata": {},
   "outputs": [],
   "source": [
    "dates = df['purchased_date']"
   ]
  },
  {
   "cell_type": "code",
   "execution_count": 39,
   "metadata": {},
   "outputs": [
    {
     "data": {
      "text/plain": [
       "datetime.date(2020, 4, 5)"
      ]
     },
     "execution_count": 39,
     "metadata": {},
     "output_type": "execute_result"
    }
   ],
   "source": [
    "fake.date_between(start_date=dates.min(), end_date=dates.max())"
   ]
  },
  {
   "cell_type": "code",
   "execution_count": 40,
   "metadata": {},
   "outputs": [],
   "source": [
    "dates_dict = {\n",
    "    date: fake.date_between(start_date=dates.min(), end_date=dates.max()).strftime('%Y-%m-%d')\n",
    "    for date in dates\n",
    "}"
   ]
  },
  {
   "cell_type": "code",
   "execution_count": 41,
   "metadata": {},
   "outputs": [
    {
     "data": {
      "text/plain": [
       "{Timestamp('2020-04-04 00:00:00'): '2020-04-13',\n",
       " Timestamp('2020-05-12 00:00:00'): '2020-05-16',\n",
       " Timestamp('2020-05-13 00:00:00'): '2020-04-24',\n",
       " Timestamp('2020-05-14 00:00:00'): '2020-04-14',\n",
       " Timestamp('2020-05-15 00:00:00'): '2020-04-10',\n",
       " Timestamp('2020-05-16 00:00:00'): '2020-05-16',\n",
       " Timestamp('2020-05-17 00:00:00'): '2020-05-04',\n",
       " Timestamp('2020-04-05 00:00:00'): '2020-04-24',\n",
       " Timestamp('2020-04-06 00:00:00'): '2020-04-23',\n",
       " Timestamp('2020-04-07 00:00:00'): '2020-05-08',\n",
       " Timestamp('2020-04-08 00:00:00'): '2020-05-02',\n",
       " Timestamp('2020-04-09 00:00:00'): '2020-04-25',\n",
       " Timestamp('2020-04-10 00:00:00'): '2020-04-07',\n",
       " Timestamp('2020-05-06 00:00:00'): '2020-05-11',\n",
       " Timestamp('2020-05-07 00:00:00'): '2020-04-11',\n",
       " Timestamp('2020-05-08 00:00:00'): '2020-04-22',\n",
       " Timestamp('2020-05-09 00:00:00'): '2020-04-19',\n",
       " Timestamp('2020-05-10 00:00:00'): '2020-04-26',\n",
       " Timestamp('2020-05-11 00:00:00'): '2020-05-12'}"
      ]
     },
     "execution_count": 41,
     "metadata": {},
     "output_type": "execute_result"
    }
   ],
   "source": [
    "dates_dict"
   ]
  },
  {
   "cell_type": "code",
   "execution_count": 42,
   "metadata": {},
   "outputs": [],
   "source": [
    "df['purchased_date'] = df['purchased_date'].map(dates_dict)"
   ]
  },
  {
   "cell_type": "code",
   "execution_count": 44,
   "metadata": {},
   "outputs": [
    {
     "data": {
      "text/html": [
       "<div>\n",
       "<style scoped>\n",
       "    .dataframe tbody tr th:only-of-type {\n",
       "        vertical-align: middle;\n",
       "    }\n",
       "\n",
       "    .dataframe tbody tr th {\n",
       "        vertical-align: top;\n",
       "    }\n",
       "\n",
       "    .dataframe thead th {\n",
       "        text-align: right;\n",
       "    }\n",
       "</style>\n",
       "<table border=\"1\" class=\"dataframe\">\n",
       "  <thead>\n",
       "    <tr style=\"text-align: right;\">\n",
       "      <th></th>\n",
       "      <th>user_id</th>\n",
       "      <th>name</th>\n",
       "      <th>item</th>\n",
       "      <th>amount</th>\n",
       "      <th>category_id</th>\n",
       "      <th>purchased_quantity</th>\n",
       "      <th>purchased_date</th>\n",
       "    </tr>\n",
       "  </thead>\n",
       "  <tbody>\n",
       "    <tr>\n",
       "      <th>0</th>\n",
       "      <td>1004</td>\n",
       "      <td>Donna Martin</td>\n",
       "      <td>TV</td>\n",
       "      <td>199.95</td>\n",
       "      <td>14</td>\n",
       "      <td>1</td>\n",
       "      <td>2020-04-04</td>\n",
       "    </tr>\n",
       "    <tr>\n",
       "      <th>1</th>\n",
       "      <td>1004</td>\n",
       "      <td>Donna Martin</td>\n",
       "      <td>Vaccum</td>\n",
       "      <td>95.12</td>\n",
       "      <td>15</td>\n",
       "      <td>2</td>\n",
       "      <td>2020-05-12</td>\n",
       "    </tr>\n",
       "    <tr>\n",
       "      <th>2</th>\n",
       "      <td>1003</td>\n",
       "      <td>Bobby Bradley</td>\n",
       "      <td>Cup</td>\n",
       "      <td>12.76</td>\n",
       "      <td>44</td>\n",
       "      <td>1</td>\n",
       "      <td>2020-05-13</td>\n",
       "    </tr>\n",
       "    <tr>\n",
       "      <th>3</th>\n",
       "      <td>1011</td>\n",
       "      <td>Austin Thomas</td>\n",
       "      <td>Plate</td>\n",
       "      <td>5.55</td>\n",
       "      <td>156</td>\n",
       "      <td>1</td>\n",
       "      <td>2020-05-14</td>\n",
       "    </tr>\n",
       "    <tr>\n",
       "      <th>4</th>\n",
       "      <td>1000</td>\n",
       "      <td>Jonathan Medina</td>\n",
       "      <td>Lotion</td>\n",
       "      <td>4.44</td>\n",
       "      <td>23</td>\n",
       "      <td>2</td>\n",
       "      <td>2020-05-15</td>\n",
       "    </tr>\n",
       "    <tr>\n",
       "      <th>5</th>\n",
       "      <td>1000</td>\n",
       "      <td>Jonathan Medina</td>\n",
       "      <td>Toothbrush</td>\n",
       "      <td>5.96</td>\n",
       "      <td>123</td>\n",
       "      <td>1</td>\n",
       "      <td>2020-05-16</td>\n",
       "    </tr>\n",
       "    <tr>\n",
       "      <th>6</th>\n",
       "      <td>1019</td>\n",
       "      <td>Brandon Beasley</td>\n",
       "      <td>Sanitizer</td>\n",
       "      <td>2.23</td>\n",
       "      <td>12</td>\n",
       "      <td>3</td>\n",
       "      <td>2020-05-17</td>\n",
       "    </tr>\n",
       "    <tr>\n",
       "      <th>7</th>\n",
       "      <td>1011</td>\n",
       "      <td>Austin Thomas</td>\n",
       "      <td>Wine</td>\n",
       "      <td>15.67</td>\n",
       "      <td>122</td>\n",
       "      <td>1</td>\n",
       "      <td>2020-04-04</td>\n",
       "    </tr>\n",
       "    <tr>\n",
       "      <th>8</th>\n",
       "      <td>1014</td>\n",
       "      <td>Susan Morales</td>\n",
       "      <td>Yoga mat</td>\n",
       "      <td>45.53</td>\n",
       "      <td>1212</td>\n",
       "      <td>2</td>\n",
       "      <td>2020-04-05</td>\n",
       "    </tr>\n",
       "    <tr>\n",
       "      <th>9</th>\n",
       "      <td>1001</td>\n",
       "      <td>Rachael Massey</td>\n",
       "      <td>Beer</td>\n",
       "      <td>2.45</td>\n",
       "      <td>42</td>\n",
       "      <td>4</td>\n",
       "      <td>2020-04-06</td>\n",
       "    </tr>\n",
       "    <tr>\n",
       "      <th>10</th>\n",
       "      <td>1005</td>\n",
       "      <td>Ross Strickland</td>\n",
       "      <td>Coffee</td>\n",
       "      <td>8.45</td>\n",
       "      <td>356</td>\n",
       "      <td>5</td>\n",
       "      <td>2020-04-07</td>\n",
       "    </tr>\n",
       "    <tr>\n",
       "      <th>11</th>\n",
       "      <td>1014</td>\n",
       "      <td>Susan Morales</td>\n",
       "      <td>Lotion</td>\n",
       "      <td>4.44</td>\n",
       "      <td>23</td>\n",
       "      <td>3</td>\n",
       "      <td>2020-04-08</td>\n",
       "    </tr>\n",
       "    <tr>\n",
       "      <th>12</th>\n",
       "      <td>1020</td>\n",
       "      <td>Jennifer Cox</td>\n",
       "      <td>Coffee</td>\n",
       "      <td>8.45</td>\n",
       "      <td>356</td>\n",
       "      <td>4</td>\n",
       "      <td>2020-04-09</td>\n",
       "    </tr>\n",
       "    <tr>\n",
       "      <th>13</th>\n",
       "      <td>1001</td>\n",
       "      <td>Danny Lynn DDS</td>\n",
       "      <td>TV</td>\n",
       "      <td>199.95</td>\n",
       "      <td>14</td>\n",
       "      <td>2</td>\n",
       "      <td>2020-04-10</td>\n",
       "    </tr>\n",
       "    <tr>\n",
       "      <th>14</th>\n",
       "      <td>1019</td>\n",
       "      <td>Brandon Beasley</td>\n",
       "      <td>Vaccum</td>\n",
       "      <td>95.12</td>\n",
       "      <td>15</td>\n",
       "      <td>6</td>\n",
       "      <td>2020-05-06</td>\n",
       "    </tr>\n",
       "    <tr>\n",
       "      <th>15</th>\n",
       "      <td>1006</td>\n",
       "      <td>Ashley Nichols</td>\n",
       "      <td>Sanitizer</td>\n",
       "      <td>2.23</td>\n",
       "      <td>12</td>\n",
       "      <td>1</td>\n",
       "      <td>2020-05-07</td>\n",
       "    </tr>\n",
       "    <tr>\n",
       "      <th>16</th>\n",
       "      <td>1015</td>\n",
       "      <td>Angela Oneill</td>\n",
       "      <td>Wine</td>\n",
       "      <td>15.67</td>\n",
       "      <td>122</td>\n",
       "      <td>2</td>\n",
       "      <td>2020-05-08</td>\n",
       "    </tr>\n",
       "    <tr>\n",
       "      <th>17</th>\n",
       "      <td>1009</td>\n",
       "      <td>Cody Moreno</td>\n",
       "      <td>Plate</td>\n",
       "      <td>5.55</td>\n",
       "      <td>156</td>\n",
       "      <td>4</td>\n",
       "      <td>2020-05-09</td>\n",
       "    </tr>\n",
       "    <tr>\n",
       "      <th>18</th>\n",
       "      <td>1005</td>\n",
       "      <td>Douglas Atkinson</td>\n",
       "      <td>TV</td>\n",
       "      <td>199.95</td>\n",
       "      <td>14</td>\n",
       "      <td>1</td>\n",
       "      <td>2020-05-10</td>\n",
       "    </tr>\n",
       "    <tr>\n",
       "      <th>19</th>\n",
       "      <td>1016</td>\n",
       "      <td>Ellen Mccarthy</td>\n",
       "      <td>Vaccum</td>\n",
       "      <td>95.12</td>\n",
       "      <td>15</td>\n",
       "      <td>1</td>\n",
       "      <td>2020-05-11</td>\n",
       "    </tr>\n",
       "  </tbody>\n",
       "</table>\n",
       "</div>"
      ],
      "text/plain": [
       "    user_id              name        item  amount  category_id  \\\n",
       "0      1004      Donna Martin          TV  199.95           14   \n",
       "1      1004      Donna Martin      Vaccum   95.12           15   \n",
       "2      1003     Bobby Bradley         Cup   12.76           44   \n",
       "3      1011     Austin Thomas       Plate    5.55          156   \n",
       "4      1000   Jonathan Medina      Lotion    4.44           23   \n",
       "5      1000   Jonathan Medina  Toothbrush    5.96          123   \n",
       "6      1019   Brandon Beasley   Sanitizer    2.23           12   \n",
       "7      1011     Austin Thomas        Wine   15.67          122   \n",
       "8      1014     Susan Morales    Yoga mat   45.53         1212   \n",
       "9      1001    Rachael Massey        Beer    2.45           42   \n",
       "10     1005   Ross Strickland      Coffee    8.45          356   \n",
       "11     1014     Susan Morales      Lotion    4.44           23   \n",
       "12     1020      Jennifer Cox      Coffee    8.45          356   \n",
       "13     1001    Danny Lynn DDS          TV  199.95           14   \n",
       "14     1019   Brandon Beasley      Vaccum   95.12           15   \n",
       "15     1006    Ashley Nichols   Sanitizer    2.23           12   \n",
       "16     1015     Angela Oneill        Wine   15.67          122   \n",
       "17     1009       Cody Moreno       Plate    5.55          156   \n",
       "18     1005  Douglas Atkinson          TV  199.95           14   \n",
       "19     1016    Ellen Mccarthy      Vaccum   95.12           15   \n",
       "\n",
       "    purchased_quantity purchased_date  \n",
       "0                    1     2020-04-04  \n",
       "1                    2     2020-05-12  \n",
       "2                    1     2020-05-13  \n",
       "3                    1     2020-05-14  \n",
       "4                    2     2020-05-15  \n",
       "5                    1     2020-05-16  \n",
       "6                    3     2020-05-17  \n",
       "7                    1     2020-04-04  \n",
       "8                    2     2020-04-05  \n",
       "9                    4     2020-04-06  \n",
       "10                   5     2020-04-07  \n",
       "11                   3     2020-04-08  \n",
       "12                   4     2020-04-09  \n",
       "13                   2     2020-04-10  \n",
       "14                   6     2020-05-06  \n",
       "15                   1     2020-05-07  \n",
       "16                   2     2020-05-08  \n",
       "17                   4     2020-05-09  \n",
       "18                   1     2020-05-10  \n",
       "19                   1     2020-05-11  "
      ]
     },
     "execution_count": 44,
     "metadata": {},
     "output_type": "execute_result"
    }
   ],
   "source": [
    "df_original"
   ]
  },
  {
   "cell_type": "code",
   "execution_count": 43,
   "metadata": {},
   "outputs": [
    {
     "data": {
      "text/html": [
       "<div>\n",
       "<style scoped>\n",
       "    .dataframe tbody tr th:only-of-type {\n",
       "        vertical-align: middle;\n",
       "    }\n",
       "\n",
       "    .dataframe tbody tr th {\n",
       "        vertical-align: top;\n",
       "    }\n",
       "\n",
       "    .dataframe thead th {\n",
       "        text-align: right;\n",
       "    }\n",
       "</style>\n",
       "<table border=\"1\" class=\"dataframe\">\n",
       "  <thead>\n",
       "    <tr style=\"text-align: right;\">\n",
       "      <th></th>\n",
       "      <th>user_id</th>\n",
       "      <th>name</th>\n",
       "      <th>item</th>\n",
       "      <th>amount</th>\n",
       "      <th>category_id</th>\n",
       "      <th>purchased_quantity</th>\n",
       "      <th>purchased_date</th>\n",
       "    </tr>\n",
       "  </thead>\n",
       "  <tbody>\n",
       "    <tr>\n",
       "      <th>0</th>\n",
       "      <td>RSBJ06934559884607</td>\n",
       "      <td>Richard Harris DDS</td>\n",
       "      <td>Category_691 0</td>\n",
       "      <td>148.24</td>\n",
       "      <td>14</td>\n",
       "      <td>6</td>\n",
       "      <td>2020-04-13</td>\n",
       "    </tr>\n",
       "    <tr>\n",
       "      <th>1</th>\n",
       "      <td>RSBJ06934559884607</td>\n",
       "      <td>Richard Harris DDS</td>\n",
       "      <td>Category_691 1</td>\n",
       "      <td>31.57</td>\n",
       "      <td>15</td>\n",
       "      <td>1</td>\n",
       "      <td>2020-05-16</td>\n",
       "    </tr>\n",
       "    <tr>\n",
       "      <th>2</th>\n",
       "      <td>MMGG75106666265568</td>\n",
       "      <td>Aaron Gallegos</td>\n",
       "      <td>Category_691 2</td>\n",
       "      <td>57.00</td>\n",
       "      <td>44</td>\n",
       "      <td>6</td>\n",
       "      <td>2020-04-24</td>\n",
       "    </tr>\n",
       "    <tr>\n",
       "      <th>3</th>\n",
       "      <td>VKKF09955534977533</td>\n",
       "      <td>Howard Thomas</td>\n",
       "      <td>Category_691 3</td>\n",
       "      <td>123.90</td>\n",
       "      <td>156</td>\n",
       "      <td>6</td>\n",
       "      <td>2020-04-14</td>\n",
       "    </tr>\n",
       "    <tr>\n",
       "      <th>4</th>\n",
       "      <td>YXRM33961496937181</td>\n",
       "      <td>Felicia Reynolds MD</td>\n",
       "      <td>Category_691 4</td>\n",
       "      <td>130.69</td>\n",
       "      <td>23</td>\n",
       "      <td>1</td>\n",
       "      <td>2020-04-10</td>\n",
       "    </tr>\n",
       "    <tr>\n",
       "      <th>5</th>\n",
       "      <td>YXRM33961496937181</td>\n",
       "      <td>Felicia Reynolds MD</td>\n",
       "      <td>Category_691 5</td>\n",
       "      <td>75.35</td>\n",
       "      <td>123</td>\n",
       "      <td>6</td>\n",
       "      <td>2020-05-16</td>\n",
       "    </tr>\n",
       "    <tr>\n",
       "      <th>6</th>\n",
       "      <td>ETML73570585385287</td>\n",
       "      <td>Hunter Davidson</td>\n",
       "      <td>Category_691 6</td>\n",
       "      <td>39.89</td>\n",
       "      <td>12</td>\n",
       "      <td>5</td>\n",
       "      <td>2020-05-04</td>\n",
       "    </tr>\n",
       "    <tr>\n",
       "      <th>7</th>\n",
       "      <td>VKKF09955534977533</td>\n",
       "      <td>Howard Thomas</td>\n",
       "      <td>Category_691 7</td>\n",
       "      <td>22.49</td>\n",
       "      <td>122</td>\n",
       "      <td>6</td>\n",
       "      <td>2020-04-13</td>\n",
       "    </tr>\n",
       "    <tr>\n",
       "      <th>8</th>\n",
       "      <td>SQZO25459914972527</td>\n",
       "      <td>Matthew Garcia</td>\n",
       "      <td>Category_691 8</td>\n",
       "      <td>22.97</td>\n",
       "      <td>1212</td>\n",
       "      <td>1</td>\n",
       "      <td>2020-04-24</td>\n",
       "    </tr>\n",
       "    <tr>\n",
       "      <th>9</th>\n",
       "      <td>YQMU44020867087731</td>\n",
       "      <td>Michael Long</td>\n",
       "      <td>Category_691 9</td>\n",
       "      <td>141.01</td>\n",
       "      <td>42</td>\n",
       "      <td>5</td>\n",
       "      <td>2020-04-23</td>\n",
       "    </tr>\n",
       "    <tr>\n",
       "      <th>10</th>\n",
       "      <td>SJVP24080675540085</td>\n",
       "      <td>Ryan Melton</td>\n",
       "      <td>Category_691 10</td>\n",
       "      <td>95.52</td>\n",
       "      <td>356</td>\n",
       "      <td>5</td>\n",
       "      <td>2020-05-08</td>\n",
       "    </tr>\n",
       "    <tr>\n",
       "      <th>11</th>\n",
       "      <td>SQZO25459914972527</td>\n",
       "      <td>Matthew Garcia</td>\n",
       "      <td>Category_691 4</td>\n",
       "      <td>130.69</td>\n",
       "      <td>23</td>\n",
       "      <td>5</td>\n",
       "      <td>2020-05-02</td>\n",
       "    </tr>\n",
       "    <tr>\n",
       "      <th>12</th>\n",
       "      <td>ACIK96484930708140</td>\n",
       "      <td>Christopher Hawkins</td>\n",
       "      <td>Category_691 10</td>\n",
       "      <td>95.52</td>\n",
       "      <td>356</td>\n",
       "      <td>5</td>\n",
       "      <td>2020-04-25</td>\n",
       "    </tr>\n",
       "    <tr>\n",
       "      <th>13</th>\n",
       "      <td>YQMU44020867087731</td>\n",
       "      <td>Susan Summers</td>\n",
       "      <td>Category_691 0</td>\n",
       "      <td>148.24</td>\n",
       "      <td>14</td>\n",
       "      <td>1</td>\n",
       "      <td>2020-04-07</td>\n",
       "    </tr>\n",
       "    <tr>\n",
       "      <th>14</th>\n",
       "      <td>ETML73570585385287</td>\n",
       "      <td>Hunter Davidson</td>\n",
       "      <td>Category_691 1</td>\n",
       "      <td>31.57</td>\n",
       "      <td>15</td>\n",
       "      <td>5</td>\n",
       "      <td>2020-05-11</td>\n",
       "    </tr>\n",
       "    <tr>\n",
       "      <th>15</th>\n",
       "      <td>DADE92558114142905</td>\n",
       "      <td>Jaime Cooper</td>\n",
       "      <td>Category_691 6</td>\n",
       "      <td>39.89</td>\n",
       "      <td>12</td>\n",
       "      <td>6</td>\n",
       "      <td>2020-04-11</td>\n",
       "    </tr>\n",
       "    <tr>\n",
       "      <th>16</th>\n",
       "      <td>ITVP10053562819477</td>\n",
       "      <td>Ruth Medina</td>\n",
       "      <td>Category_691 7</td>\n",
       "      <td>22.49</td>\n",
       "      <td>122</td>\n",
       "      <td>1</td>\n",
       "      <td>2020-04-22</td>\n",
       "    </tr>\n",
       "    <tr>\n",
       "      <th>17</th>\n",
       "      <td>MWPN13984004206227</td>\n",
       "      <td>Robert Brown</td>\n",
       "      <td>Category_691 3</td>\n",
       "      <td>123.90</td>\n",
       "      <td>156</td>\n",
       "      <td>5</td>\n",
       "      <td>2020-04-19</td>\n",
       "    </tr>\n",
       "    <tr>\n",
       "      <th>18</th>\n",
       "      <td>SJVP24080675540085</td>\n",
       "      <td>Nicole Newton</td>\n",
       "      <td>Category_691 0</td>\n",
       "      <td>148.24</td>\n",
       "      <td>14</td>\n",
       "      <td>6</td>\n",
       "      <td>2020-04-26</td>\n",
       "    </tr>\n",
       "    <tr>\n",
       "      <th>19</th>\n",
       "      <td>BMPX17955070692669</td>\n",
       "      <td>Kaitlyn Gibson</td>\n",
       "      <td>Category_691 1</td>\n",
       "      <td>31.57</td>\n",
       "      <td>15</td>\n",
       "      <td>6</td>\n",
       "      <td>2020-05-12</td>\n",
       "    </tr>\n",
       "  </tbody>\n",
       "</table>\n",
       "</div>"
      ],
      "text/plain": [
       "               user_id                 name             item  amount  \\\n",
       "0   RSBJ06934559884607   Richard Harris DDS   Category_691 0  148.24   \n",
       "1   RSBJ06934559884607   Richard Harris DDS   Category_691 1   31.57   \n",
       "2   MMGG75106666265568       Aaron Gallegos   Category_691 2   57.00   \n",
       "3   VKKF09955534977533        Howard Thomas   Category_691 3  123.90   \n",
       "4   YXRM33961496937181  Felicia Reynolds MD   Category_691 4  130.69   \n",
       "5   YXRM33961496937181  Felicia Reynolds MD   Category_691 5   75.35   \n",
       "6   ETML73570585385287      Hunter Davidson   Category_691 6   39.89   \n",
       "7   VKKF09955534977533        Howard Thomas   Category_691 7   22.49   \n",
       "8   SQZO25459914972527       Matthew Garcia   Category_691 8   22.97   \n",
       "9   YQMU44020867087731         Michael Long   Category_691 9  141.01   \n",
       "10  SJVP24080675540085          Ryan Melton  Category_691 10   95.52   \n",
       "11  SQZO25459914972527       Matthew Garcia   Category_691 4  130.69   \n",
       "12  ACIK96484930708140  Christopher Hawkins  Category_691 10   95.52   \n",
       "13  YQMU44020867087731        Susan Summers   Category_691 0  148.24   \n",
       "14  ETML73570585385287      Hunter Davidson   Category_691 1   31.57   \n",
       "15  DADE92558114142905         Jaime Cooper   Category_691 6   39.89   \n",
       "16  ITVP10053562819477          Ruth Medina   Category_691 7   22.49   \n",
       "17  MWPN13984004206227         Robert Brown   Category_691 3  123.90   \n",
       "18  SJVP24080675540085        Nicole Newton   Category_691 0  148.24   \n",
       "19  BMPX17955070692669       Kaitlyn Gibson   Category_691 1   31.57   \n",
       "\n",
       "    category_id  purchased_quantity purchased_date  \n",
       "0            14                   6     2020-04-13  \n",
       "1            15                   1     2020-05-16  \n",
       "2            44                   6     2020-04-24  \n",
       "3           156                   6     2020-04-14  \n",
       "4            23                   1     2020-04-10  \n",
       "5           123                   6     2020-05-16  \n",
       "6            12                   5     2020-05-04  \n",
       "7           122                   6     2020-04-13  \n",
       "8          1212                   1     2020-04-24  \n",
       "9            42                   5     2020-04-23  \n",
       "10          356                   5     2020-05-08  \n",
       "11           23                   5     2020-05-02  \n",
       "12          356                   5     2020-04-25  \n",
       "13           14                   1     2020-04-07  \n",
       "14           15                   5     2020-05-11  \n",
       "15           12                   6     2020-04-11  \n",
       "16          122                   1     2020-04-22  \n",
       "17          156                   5     2020-04-19  \n",
       "18           14                   6     2020-04-26  \n",
       "19           15                   6     2020-05-12  "
      ]
     },
     "execution_count": 43,
     "metadata": {},
     "output_type": "execute_result"
    }
   ],
   "source": [
    "df"
   ]
  },
  {
   "cell_type": "code",
   "execution_count": null,
   "metadata": {},
   "outputs": [],
   "source": []
  }
 ],
 "metadata": {
  "kernelspec": {
   "display_name": "Python 3",
   "language": "python",
   "name": "python3"
  },
  "language_info": {
   "codemirror_mode": {
    "name": "ipython",
    "version": 3
   },
   "file_extension": ".py",
   "mimetype": "text/x-python",
   "name": "python",
   "nbconvert_exporter": "python",
   "pygments_lexer": "ipython3",
   "version": "3.8.5"
  }
 },
 "nbformat": 4,
 "nbformat_minor": 4
}
