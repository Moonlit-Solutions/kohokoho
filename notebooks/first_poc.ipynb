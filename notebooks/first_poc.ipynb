{
 "cells": [
  {
   "cell_type": "markdown",
   "metadata": {},
   "source": [
    "# First POC for dataset anonymization"
   ]
  },
  {
   "cell_type": "markdown",
   "metadata": {},
   "source": [
    "## Imports"
   ]
  },
  {
   "cell_type": "code",
   "execution_count": 1,
   "metadata": {},
   "outputs": [],
   "source": [
    "import pandas as pd\n",
    "import random\n",
    "import datetime as dt\n",
    "from faker import Faker"
   ]
  },
  {
   "cell_type": "code",
   "execution_count": 2,
   "metadata": {},
   "outputs": [],
   "source": [
    "fake = Faker()"
   ]
  },
  {
   "cell_type": "code",
   "execution_count": 3,
   "metadata": {},
   "outputs": [
    {
     "name": "stdout",
     "output_type": "stream",
     "text": [
      "Madison Barnett\n",
      "Debra Andrade\n",
      "Tara Reynolds\n",
      "Eric Aguilar\n",
      "Bradley Walker\n",
      "Michael Mejia\n",
      "Cassandra Bates\n",
      "Sarah Mitchell\n",
      "Dr. Thomas Powell\n",
      "Lisa Garner\n",
      "Thomas Torres\n",
      "Julia Ryan\n",
      "Donna Martinez\n",
      "David Hanson\n",
      "Robert Greer\n",
      "Stephen Dawson\n",
      "Lisa Campbell\n",
      "Thomas Morgan\n",
      "Charlene Lewis\n",
      "Travis Mathews\n"
     ]
    }
   ],
   "source": [
    "for _ in range(20):\n",
    "  print(fake.name())"
   ]
  },
  {
   "cell_type": "markdown",
   "metadata": {},
   "source": [
    "## Create and import a sample dataset"
   ]
  },
  {
   "cell_type": "code",
   "execution_count": 4,
   "metadata": {},
   "outputs": [],
   "source": [
    "df = pd.read_csv('../datasets/test_dataset1.csv', parse_dates=['purchased_date'])"
   ]
  },
  {
   "cell_type": "code",
   "execution_count": 5,
   "metadata": {},
   "outputs": [],
   "source": [
    "df_original = df.copy()"
   ]
  },
  {
   "cell_type": "code",
   "execution_count": 6,
   "metadata": {},
   "outputs": [
    {
     "data": {
      "text/html": [
       "<div>\n",
       "<style scoped>\n",
       "    .dataframe tbody tr th:only-of-type {\n",
       "        vertical-align: middle;\n",
       "    }\n",
       "\n",
       "    .dataframe tbody tr th {\n",
       "        vertical-align: top;\n",
       "    }\n",
       "\n",
       "    .dataframe thead th {\n",
       "        text-align: right;\n",
       "    }\n",
       "</style>\n",
       "<table border=\"1\" class=\"dataframe\">\n",
       "  <thead>\n",
       "    <tr style=\"text-align: right;\">\n",
       "      <th></th>\n",
       "      <th>user_id</th>\n",
       "      <th>name</th>\n",
       "      <th>item_name</th>\n",
       "      <th>price</th>\n",
       "      <th>category_id</th>\n",
       "      <th>quantity</th>\n",
       "      <th>purchased_date</th>\n",
       "    </tr>\n",
       "  </thead>\n",
       "  <tbody>\n",
       "    <tr>\n",
       "      <th>0</th>\n",
       "      <td>1004</td>\n",
       "      <td>Donna Martin</td>\n",
       "      <td>TV</td>\n",
       "      <td>199.95</td>\n",
       "      <td>14</td>\n",
       "      <td>1</td>\n",
       "      <td>2020-04-04</td>\n",
       "    </tr>\n",
       "    <tr>\n",
       "      <th>1</th>\n",
       "      <td>1004</td>\n",
       "      <td>Donna Martin</td>\n",
       "      <td>Vaccum</td>\n",
       "      <td>95.12</td>\n",
       "      <td>15</td>\n",
       "      <td>2</td>\n",
       "      <td>2020-05-12</td>\n",
       "    </tr>\n",
       "    <tr>\n",
       "      <th>2</th>\n",
       "      <td>1003</td>\n",
       "      <td>Bobby Bradley</td>\n",
       "      <td>Cup</td>\n",
       "      <td>12.76</td>\n",
       "      <td>44</td>\n",
       "      <td>1</td>\n",
       "      <td>2020-05-13</td>\n",
       "    </tr>\n",
       "    <tr>\n",
       "      <th>3</th>\n",
       "      <td>1011</td>\n",
       "      <td>Austin Thomas</td>\n",
       "      <td>Plate</td>\n",
       "      <td>5.55</td>\n",
       "      <td>156</td>\n",
       "      <td>1</td>\n",
       "      <td>2020-05-14</td>\n",
       "    </tr>\n",
       "    <tr>\n",
       "      <th>4</th>\n",
       "      <td>1000</td>\n",
       "      <td>Jonathan Medina</td>\n",
       "      <td>Lotion</td>\n",
       "      <td>4.44</td>\n",
       "      <td>23</td>\n",
       "      <td>2</td>\n",
       "      <td>2020-05-15</td>\n",
       "    </tr>\n",
       "    <tr>\n",
       "      <th>5</th>\n",
       "      <td>1000</td>\n",
       "      <td>Jonathan Medina</td>\n",
       "      <td>Toothbrush</td>\n",
       "      <td>5.96</td>\n",
       "      <td>123</td>\n",
       "      <td>1</td>\n",
       "      <td>2020-05-16</td>\n",
       "    </tr>\n",
       "    <tr>\n",
       "      <th>6</th>\n",
       "      <td>1019</td>\n",
       "      <td>Brandon Beasley</td>\n",
       "      <td>Sanitizer</td>\n",
       "      <td>2.23</td>\n",
       "      <td>12</td>\n",
       "      <td>3</td>\n",
       "      <td>2020-05-17</td>\n",
       "    </tr>\n",
       "    <tr>\n",
       "      <th>7</th>\n",
       "      <td>1011</td>\n",
       "      <td>Austin Thomas</td>\n",
       "      <td>Wine</td>\n",
       "      <td>15.67</td>\n",
       "      <td>122</td>\n",
       "      <td>1</td>\n",
       "      <td>2020-04-04</td>\n",
       "    </tr>\n",
       "    <tr>\n",
       "      <th>8</th>\n",
       "      <td>1014</td>\n",
       "      <td>Susan Morales</td>\n",
       "      <td>Yoga mat</td>\n",
       "      <td>45.53</td>\n",
       "      <td>1212</td>\n",
       "      <td>2</td>\n",
       "      <td>2020-04-05</td>\n",
       "    </tr>\n",
       "    <tr>\n",
       "      <th>9</th>\n",
       "      <td>1001</td>\n",
       "      <td>Rachael Massey</td>\n",
       "      <td>Beer</td>\n",
       "      <td>2.45</td>\n",
       "      <td>42</td>\n",
       "      <td>4</td>\n",
       "      <td>2020-04-06</td>\n",
       "    </tr>\n",
       "    <tr>\n",
       "      <th>10</th>\n",
       "      <td>1005</td>\n",
       "      <td>Ross Strickland</td>\n",
       "      <td>Coffee</td>\n",
       "      <td>8.45</td>\n",
       "      <td>356</td>\n",
       "      <td>5</td>\n",
       "      <td>2020-04-07</td>\n",
       "    </tr>\n",
       "    <tr>\n",
       "      <th>11</th>\n",
       "      <td>1014</td>\n",
       "      <td>Susan Morales</td>\n",
       "      <td>Lotion</td>\n",
       "      <td>4.44</td>\n",
       "      <td>23</td>\n",
       "      <td>3</td>\n",
       "      <td>2020-04-08</td>\n",
       "    </tr>\n",
       "    <tr>\n",
       "      <th>12</th>\n",
       "      <td>1020</td>\n",
       "      <td>Jennifer Cox</td>\n",
       "      <td>Coffee</td>\n",
       "      <td>8.45</td>\n",
       "      <td>356</td>\n",
       "      <td>4</td>\n",
       "      <td>2020-04-09</td>\n",
       "    </tr>\n",
       "    <tr>\n",
       "      <th>13</th>\n",
       "      <td>1001</td>\n",
       "      <td>Danny Lynn DDS</td>\n",
       "      <td>TV</td>\n",
       "      <td>199.95</td>\n",
       "      <td>14</td>\n",
       "      <td>2</td>\n",
       "      <td>2020-04-10</td>\n",
       "    </tr>\n",
       "    <tr>\n",
       "      <th>14</th>\n",
       "      <td>1019</td>\n",
       "      <td>Brandon Beasley</td>\n",
       "      <td>Vaccum</td>\n",
       "      <td>95.12</td>\n",
       "      <td>15</td>\n",
       "      <td>6</td>\n",
       "      <td>2020-05-06</td>\n",
       "    </tr>\n",
       "    <tr>\n",
       "      <th>15</th>\n",
       "      <td>1006</td>\n",
       "      <td>Ashley Nichols</td>\n",
       "      <td>Sanitizer</td>\n",
       "      <td>2.23</td>\n",
       "      <td>12</td>\n",
       "      <td>1</td>\n",
       "      <td>2020-05-07</td>\n",
       "    </tr>\n",
       "    <tr>\n",
       "      <th>16</th>\n",
       "      <td>1015</td>\n",
       "      <td>Angela Oneill</td>\n",
       "      <td>Wine</td>\n",
       "      <td>15.67</td>\n",
       "      <td>122</td>\n",
       "      <td>2</td>\n",
       "      <td>2020-05-08</td>\n",
       "    </tr>\n",
       "    <tr>\n",
       "      <th>17</th>\n",
       "      <td>1009</td>\n",
       "      <td>Cody Moreno</td>\n",
       "      <td>Plate</td>\n",
       "      <td>5.55</td>\n",
       "      <td>156</td>\n",
       "      <td>4</td>\n",
       "      <td>2020-05-09</td>\n",
       "    </tr>\n",
       "    <tr>\n",
       "      <th>18</th>\n",
       "      <td>1005</td>\n",
       "      <td>Douglas Atkinson</td>\n",
       "      <td>TV</td>\n",
       "      <td>199.95</td>\n",
       "      <td>14</td>\n",
       "      <td>1</td>\n",
       "      <td>2020-05-10</td>\n",
       "    </tr>\n",
       "    <tr>\n",
       "      <th>19</th>\n",
       "      <td>1016</td>\n",
       "      <td>Ellen Mccarthy</td>\n",
       "      <td>Vaccum</td>\n",
       "      <td>95.12</td>\n",
       "      <td>15</td>\n",
       "      <td>1</td>\n",
       "      <td>2020-05-11</td>\n",
       "    </tr>\n",
       "  </tbody>\n",
       "</table>\n",
       "</div>"
      ],
      "text/plain": [
       "    user_id              name   item_name   price  category_id  quantity  \\\n",
       "0      1004      Donna Martin          TV  199.95           14         1   \n",
       "1      1004      Donna Martin      Vaccum   95.12           15         2   \n",
       "2      1003     Bobby Bradley         Cup   12.76           44         1   \n",
       "3      1011     Austin Thomas       Plate    5.55          156         1   \n",
       "4      1000   Jonathan Medina      Lotion    4.44           23         2   \n",
       "5      1000   Jonathan Medina  Toothbrush    5.96          123         1   \n",
       "6      1019   Brandon Beasley   Sanitizer    2.23           12         3   \n",
       "7      1011     Austin Thomas        Wine   15.67          122         1   \n",
       "8      1014     Susan Morales    Yoga mat   45.53         1212         2   \n",
       "9      1001    Rachael Massey        Beer    2.45           42         4   \n",
       "10     1005   Ross Strickland      Coffee    8.45          356         5   \n",
       "11     1014     Susan Morales      Lotion    4.44           23         3   \n",
       "12     1020      Jennifer Cox      Coffee    8.45          356         4   \n",
       "13     1001    Danny Lynn DDS          TV  199.95           14         2   \n",
       "14     1019   Brandon Beasley      Vaccum   95.12           15         6   \n",
       "15     1006    Ashley Nichols   Sanitizer    2.23           12         1   \n",
       "16     1015     Angela Oneill        Wine   15.67          122         2   \n",
       "17     1009       Cody Moreno       Plate    5.55          156         4   \n",
       "18     1005  Douglas Atkinson          TV  199.95           14         1   \n",
       "19     1016    Ellen Mccarthy      Vaccum   95.12           15         1   \n",
       "\n",
       "   purchased_date  \n",
       "0      2020-04-04  \n",
       "1      2020-05-12  \n",
       "2      2020-05-13  \n",
       "3      2020-05-14  \n",
       "4      2020-05-15  \n",
       "5      2020-05-16  \n",
       "6      2020-05-17  \n",
       "7      2020-04-04  \n",
       "8      2020-04-05  \n",
       "9      2020-04-06  \n",
       "10     2020-04-07  \n",
       "11     2020-04-08  \n",
       "12     2020-04-09  \n",
       "13     2020-04-10  \n",
       "14     2020-05-06  \n",
       "15     2020-05-07  \n",
       "16     2020-05-08  \n",
       "17     2020-05-09  \n",
       "18     2020-05-10  \n",
       "19     2020-05-11  "
      ]
     },
     "execution_count": 6,
     "metadata": {},
     "output_type": "execute_result"
    }
   ],
   "source": [
    "df"
   ]
  },
  {
   "cell_type": "markdown",
   "metadata": {},
   "source": [
    "## Replace names"
   ]
  },
  {
   "cell_type": "code",
   "execution_count": 7,
   "metadata": {},
   "outputs": [],
   "source": [
    "unique_names = df['name'].unique()"
   ]
  },
  {
   "cell_type": "code",
   "execution_count": 8,
   "metadata": {},
   "outputs": [
    {
     "data": {
      "text/plain": [
       "array(['Donna Martin', 'Bobby Bradley', 'Austin Thomas',\n",
       "       'Jonathan Medina', 'Brandon Beasley', 'Susan Morales',\n",
       "       'Rachael Massey', 'Ross Strickland', 'Jennifer Cox',\n",
       "       'Danny Lynn DDS', 'Ashley Nichols', 'Angela Oneill', 'Cody Moreno',\n",
       "       'Douglas Atkinson', 'Ellen Mccarthy'], dtype=object)"
      ]
     },
     "execution_count": 8,
     "metadata": {},
     "output_type": "execute_result"
    }
   ],
   "source": [
    "unique_names"
   ]
  },
  {
   "cell_type": "code",
   "execution_count": 9,
   "metadata": {},
   "outputs": [],
   "source": [
    "name_dict = {name: fake.name() for name in unique_names}"
   ]
  },
  {
   "cell_type": "code",
   "execution_count": 10,
   "metadata": {},
   "outputs": [
    {
     "data": {
      "text/plain": [
       "{'Donna Martin': 'Roger Mays',\n",
       " 'Bobby Bradley': 'Brian Wagner',\n",
       " 'Austin Thomas': 'Natalie Foster',\n",
       " 'Jonathan Medina': 'Deborah White',\n",
       " 'Brandon Beasley': 'Daniel Shaw',\n",
       " 'Susan Morales': 'Ellen Ward',\n",
       " 'Rachael Massey': 'Robin Yang',\n",
       " 'Ross Strickland': 'Samantha Smith',\n",
       " 'Jennifer Cox': 'John Glover',\n",
       " 'Danny Lynn DDS': 'Michael Johnson',\n",
       " 'Ashley Nichols': 'Jean Williams',\n",
       " 'Angela Oneill': 'Maria Mitchell',\n",
       " 'Cody Moreno': 'David Lawrence',\n",
       " 'Douglas Atkinson': 'Richard Brady',\n",
       " 'Ellen Mccarthy': 'Maria Miller'}"
      ]
     },
     "execution_count": 10,
     "metadata": {},
     "output_type": "execute_result"
    }
   ],
   "source": [
    "name_dict"
   ]
  },
  {
   "cell_type": "code",
   "execution_count": 11,
   "metadata": {},
   "outputs": [],
   "source": [
    "df['name'] = df['name'].map(name_dict)"
   ]
  },
  {
   "cell_type": "markdown",
   "metadata": {},
   "source": [
    "## Replace ids"
   ]
  },
  {
   "cell_type": "code",
   "execution_count": 12,
   "metadata": {},
   "outputs": [],
   "source": [
    "unique_ids = df['user_id'].unique()"
   ]
  },
  {
   "cell_type": "code",
   "execution_count": 13,
   "metadata": {},
   "outputs": [],
   "source": [
    "id_dict = {id_: fake.uuid4() for id_ in unique_ids}"
   ]
  },
  {
   "cell_type": "code",
   "execution_count": 14,
   "metadata": {},
   "outputs": [
    {
     "data": {
      "text/plain": [
       "{1004: '6d5e681b-d159-4c8b-9f3e-5d59831e7c17',\n",
       " 1003: '421cc376-3dbd-4f3e-b518-d6d952907290',\n",
       " 1011: '334d6575-ad67-4259-950f-e3292f74ef4f',\n",
       " 1000: '489c2597-63d8-47ad-9709-9605746437ca',\n",
       " 1019: '49fee7f4-997f-4ed7-a939-6eda703c3b28',\n",
       " 1014: '6596ee2d-408c-4d3a-bcd8-d5c2d3ee8726',\n",
       " 1001: '98674a13-1c1b-4188-b1f4-826dbe35871a',\n",
       " 1005: '1a09f20d-accf-4339-858f-73373ed25df2',\n",
       " 1020: '02ee4f7f-8ab5-4ee1-9fdc-ddf77bd0f80e',\n",
       " 1006: 'd271a72d-e7c9-4d92-9af8-128da3f00e89',\n",
       " 1015: 'dc51580e-1756-4221-8138-985825da4c98',\n",
       " 1009: '9473e8d3-6dba-446c-b333-3bfdc923e775',\n",
       " 1016: '9954b820-705e-4a19-b2b0-bfb67e98524c'}"
      ]
     },
     "execution_count": 14,
     "metadata": {},
     "output_type": "execute_result"
    }
   ],
   "source": [
    "id_dict"
   ]
  },
  {
   "cell_type": "code",
   "execution_count": 15,
   "metadata": {},
   "outputs": [],
   "source": [
    "df['user_id'] = df['user_id'].map(id_dict)"
   ]
  },
  {
   "cell_type": "markdown",
   "metadata": {},
   "source": [
    "## Replace whole numbers"
   ]
  },
  {
   "cell_type": "code",
   "execution_count": 17,
   "metadata": {},
   "outputs": [],
   "source": [
    "whole_numbers = df['quantity']"
   ]
  },
  {
   "cell_type": "code",
   "execution_count": 18,
   "metadata": {},
   "outputs": [],
   "source": [
    "whole_number_dict = {\n",
    "    number: fake.random_int(\n",
    "        min=min(whole_numbers), max=max(whole_numbers)\n",
    "    )\n",
    "    for number in whole_numbers\n",
    "}"
   ]
  },
  {
   "cell_type": "code",
   "execution_count": 19,
   "metadata": {},
   "outputs": [
    {
     "data": {
      "text/plain": [
       "{1: 6, 2: 3, 3: 2, 4: 5, 5: 2, 6: 6}"
      ]
     },
     "execution_count": 19,
     "metadata": {},
     "output_type": "execute_result"
    }
   ],
   "source": [
    "whole_number_dict"
   ]
  },
  {
   "cell_type": "code",
   "execution_count": 21,
   "metadata": {},
   "outputs": [],
   "source": [
    "df['quantity'] = df['quantity'].map(whole_number_dict)"
   ]
  },
  {
   "cell_type": "markdown",
   "metadata": {},
   "source": [
    "## Replace decimal numbers"
   ]
  },
  {
   "cell_type": "code",
   "execution_count": 23,
   "metadata": {},
   "outputs": [],
   "source": [
    "decimal_numbers = df['price']"
   ]
  },
  {
   "cell_type": "code",
   "execution_count": 24,
   "metadata": {},
   "outputs": [],
   "source": [
    "decimal_number_dict = {\n",
    "    number: round(random.uniform(\n",
    "        min(decimal_numbers), max(decimal_numbers)\n",
    "    ), 2)\n",
    "    for number in decimal_numbers\n",
    "}"
   ]
  },
  {
   "cell_type": "code",
   "execution_count": 25,
   "metadata": {},
   "outputs": [
    {
     "data": {
      "text/plain": [
       "{199.95: 40.9,\n",
       " 95.12: 21.84,\n",
       " 12.76: 43.75,\n",
       " 5.55: 119.72,\n",
       " 4.44: 82.54,\n",
       " 5.96: 53.85,\n",
       " 2.23: 148.61,\n",
       " 15.67: 16.35,\n",
       " 45.53: 19.98,\n",
       " 2.45: 131.72,\n",
       " 8.45: 11.62}"
      ]
     },
     "execution_count": 25,
     "metadata": {},
     "output_type": "execute_result"
    }
   ],
   "source": [
    "decimal_number_dict"
   ]
  },
  {
   "cell_type": "code",
   "execution_count": 26,
   "metadata": {},
   "outputs": [],
   "source": [
    "df['price'] = df['price'].map(decimal_number_dict)"
   ]
  },
  {
   "cell_type": "markdown",
   "metadata": {},
   "source": [
    "## Categorical data"
   ]
  },
  {
   "cell_type": "code",
   "execution_count": 28,
   "metadata": {},
   "outputs": [],
   "source": [
    "category = df['item_name']"
   ]
  },
  {
   "cell_type": "code",
   "execution_count": 29,
   "metadata": {},
   "outputs": [
    {
     "data": {
      "text/plain": [
       "0             TV\n",
       "1         Vaccum\n",
       "2            Cup\n",
       "3          Plate\n",
       "4         Lotion\n",
       "5     Toothbrush\n",
       "6      Sanitizer\n",
       "7           Wine\n",
       "8       Yoga mat\n",
       "9           Beer\n",
       "10        Coffee\n",
       "11        Lotion\n",
       "12        Coffee\n",
       "13            TV\n",
       "14        Vaccum\n",
       "15     Sanitizer\n",
       "16          Wine\n",
       "17         Plate\n",
       "18            TV\n",
       "19        Vaccum\n",
       "Name: item_name, dtype: object"
      ]
     },
     "execution_count": 29,
     "metadata": {},
     "output_type": "execute_result"
    }
   ],
   "source": [
    "category"
   ]
  },
  {
   "cell_type": "code",
   "execution_count": 30,
   "metadata": {},
   "outputs": [],
   "source": [
    "unique_category = category.unique()"
   ]
  },
  {
   "cell_type": "code",
   "execution_count": 31,
   "metadata": {},
   "outputs": [],
   "source": [
    "rand_category = random.randint(0,1000)\n",
    "category_dict = {\n",
    "    category:  \"Category_\" + str(rand_category) + \" \" +str(iteration)\n",
    "    for iteration, category in enumerate(unique_category)\n",
    "}"
   ]
  },
  {
   "cell_type": "code",
   "execution_count": 32,
   "metadata": {},
   "outputs": [
    {
     "data": {
      "text/plain": [
       "{'TV': 'Category_547 0',\n",
       " 'Vaccum': 'Category_547 1',\n",
       " 'Cup': 'Category_547 2',\n",
       " 'Plate': 'Category_547 3',\n",
       " 'Lotion': 'Category_547 4',\n",
       " 'Toothbrush': 'Category_547 5',\n",
       " 'Sanitizer': 'Category_547 6',\n",
       " 'Wine': 'Category_547 7',\n",
       " 'Yoga mat': 'Category_547 8',\n",
       " 'Beer': 'Category_547 9',\n",
       " 'Coffee': 'Category_547 10'}"
      ]
     },
     "execution_count": 32,
     "metadata": {},
     "output_type": "execute_result"
    }
   ],
   "source": [
    "category_dict"
   ]
  },
  {
   "cell_type": "code",
   "execution_count": 34,
   "metadata": {},
   "outputs": [],
   "source": [
    "df['item_name'] = df['item_name'].map(category_dict)"
   ]
  },
  {
   "cell_type": "markdown",
   "metadata": {},
   "source": [
    "### Dates"
   ]
  },
  {
   "cell_type": "code",
   "execution_count": 35,
   "metadata": {},
   "outputs": [],
   "source": [
    "dates = df['purchased_date']"
   ]
  },
  {
   "cell_type": "code",
   "execution_count": 36,
   "metadata": {},
   "outputs": [
    {
     "data": {
      "text/plain": [
       "datetime.date(2020, 4, 17)"
      ]
     },
     "execution_count": 36,
     "metadata": {},
     "output_type": "execute_result"
    }
   ],
   "source": [
    "fake.date_between(start_date=dates.min(), end_date=dates.max())"
   ]
  },
  {
   "cell_type": "code",
   "execution_count": 37,
   "metadata": {},
   "outputs": [],
   "source": [
    "dates_dict = {\n",
    "    date: fake.date_between(start_date=dates.min(), end_date=dates.max()).strftime('%Y-%m-%d')\n",
    "    for date in dates\n",
    "}"
   ]
  },
  {
   "cell_type": "code",
   "execution_count": 38,
   "metadata": {},
   "outputs": [
    {
     "data": {
      "text/plain": [
       "{Timestamp('2020-04-04 00:00:00'): '2020-04-28',\n",
       " Timestamp('2020-05-12 00:00:00'): '2020-05-05',\n",
       " Timestamp('2020-05-13 00:00:00'): '2020-04-21',\n",
       " Timestamp('2020-05-14 00:00:00'): '2020-04-24',\n",
       " Timestamp('2020-05-15 00:00:00'): '2020-05-13',\n",
       " Timestamp('2020-05-16 00:00:00'): '2020-04-26',\n",
       " Timestamp('2020-05-17 00:00:00'): '2020-04-12',\n",
       " Timestamp('2020-04-05 00:00:00'): '2020-05-11',\n",
       " Timestamp('2020-04-06 00:00:00'): '2020-05-04',\n",
       " Timestamp('2020-04-07 00:00:00'): '2020-05-08',\n",
       " Timestamp('2020-04-08 00:00:00'): '2020-05-13',\n",
       " Timestamp('2020-04-09 00:00:00'): '2020-04-19',\n",
       " Timestamp('2020-04-10 00:00:00'): '2020-04-10',\n",
       " Timestamp('2020-05-06 00:00:00'): '2020-05-02',\n",
       " Timestamp('2020-05-07 00:00:00'): '2020-04-08',\n",
       " Timestamp('2020-05-08 00:00:00'): '2020-04-16',\n",
       " Timestamp('2020-05-09 00:00:00'): '2020-05-15',\n",
       " Timestamp('2020-05-10 00:00:00'): '2020-04-20',\n",
       " Timestamp('2020-05-11 00:00:00'): '2020-04-17'}"
      ]
     },
     "execution_count": 38,
     "metadata": {},
     "output_type": "execute_result"
    }
   ],
   "source": [
    "dates_dict"
   ]
  },
  {
   "cell_type": "code",
   "execution_count": 39,
   "metadata": {},
   "outputs": [],
   "source": [
    "df['purchased_date'] = df['purchased_date'].map(dates_dict)"
   ]
  },
  {
   "cell_type": "markdown",
   "metadata": {},
   "source": [
    "# Original vs Final"
   ]
  },
  {
   "cell_type": "code",
   "execution_count": 40,
   "metadata": {},
   "outputs": [
    {
     "data": {
      "text/html": [
       "<div>\n",
       "<style scoped>\n",
       "    .dataframe tbody tr th:only-of-type {\n",
       "        vertical-align: middle;\n",
       "    }\n",
       "\n",
       "    .dataframe tbody tr th {\n",
       "        vertical-align: top;\n",
       "    }\n",
       "\n",
       "    .dataframe thead th {\n",
       "        text-align: right;\n",
       "    }\n",
       "</style>\n",
       "<table border=\"1\" class=\"dataframe\">\n",
       "  <thead>\n",
       "    <tr style=\"text-align: right;\">\n",
       "      <th></th>\n",
       "      <th>user_id</th>\n",
       "      <th>name</th>\n",
       "      <th>item_name</th>\n",
       "      <th>price</th>\n",
       "      <th>category_id</th>\n",
       "      <th>quantity</th>\n",
       "      <th>purchased_date</th>\n",
       "    </tr>\n",
       "  </thead>\n",
       "  <tbody>\n",
       "    <tr>\n",
       "      <th>0</th>\n",
       "      <td>1004</td>\n",
       "      <td>Donna Martin</td>\n",
       "      <td>TV</td>\n",
       "      <td>199.95</td>\n",
       "      <td>14</td>\n",
       "      <td>1</td>\n",
       "      <td>2020-04-04</td>\n",
       "    </tr>\n",
       "    <tr>\n",
       "      <th>1</th>\n",
       "      <td>1004</td>\n",
       "      <td>Donna Martin</td>\n",
       "      <td>Vaccum</td>\n",
       "      <td>95.12</td>\n",
       "      <td>15</td>\n",
       "      <td>2</td>\n",
       "      <td>2020-05-12</td>\n",
       "    </tr>\n",
       "    <tr>\n",
       "      <th>2</th>\n",
       "      <td>1003</td>\n",
       "      <td>Bobby Bradley</td>\n",
       "      <td>Cup</td>\n",
       "      <td>12.76</td>\n",
       "      <td>44</td>\n",
       "      <td>1</td>\n",
       "      <td>2020-05-13</td>\n",
       "    </tr>\n",
       "    <tr>\n",
       "      <th>3</th>\n",
       "      <td>1011</td>\n",
       "      <td>Austin Thomas</td>\n",
       "      <td>Plate</td>\n",
       "      <td>5.55</td>\n",
       "      <td>156</td>\n",
       "      <td>1</td>\n",
       "      <td>2020-05-14</td>\n",
       "    </tr>\n",
       "    <tr>\n",
       "      <th>4</th>\n",
       "      <td>1000</td>\n",
       "      <td>Jonathan Medina</td>\n",
       "      <td>Lotion</td>\n",
       "      <td>4.44</td>\n",
       "      <td>23</td>\n",
       "      <td>2</td>\n",
       "      <td>2020-05-15</td>\n",
       "    </tr>\n",
       "    <tr>\n",
       "      <th>5</th>\n",
       "      <td>1000</td>\n",
       "      <td>Jonathan Medina</td>\n",
       "      <td>Toothbrush</td>\n",
       "      <td>5.96</td>\n",
       "      <td>123</td>\n",
       "      <td>1</td>\n",
       "      <td>2020-05-16</td>\n",
       "    </tr>\n",
       "    <tr>\n",
       "      <th>6</th>\n",
       "      <td>1019</td>\n",
       "      <td>Brandon Beasley</td>\n",
       "      <td>Sanitizer</td>\n",
       "      <td>2.23</td>\n",
       "      <td>12</td>\n",
       "      <td>3</td>\n",
       "      <td>2020-05-17</td>\n",
       "    </tr>\n",
       "    <tr>\n",
       "      <th>7</th>\n",
       "      <td>1011</td>\n",
       "      <td>Austin Thomas</td>\n",
       "      <td>Wine</td>\n",
       "      <td>15.67</td>\n",
       "      <td>122</td>\n",
       "      <td>1</td>\n",
       "      <td>2020-04-04</td>\n",
       "    </tr>\n",
       "    <tr>\n",
       "      <th>8</th>\n",
       "      <td>1014</td>\n",
       "      <td>Susan Morales</td>\n",
       "      <td>Yoga mat</td>\n",
       "      <td>45.53</td>\n",
       "      <td>1212</td>\n",
       "      <td>2</td>\n",
       "      <td>2020-04-05</td>\n",
       "    </tr>\n",
       "    <tr>\n",
       "      <th>9</th>\n",
       "      <td>1001</td>\n",
       "      <td>Rachael Massey</td>\n",
       "      <td>Beer</td>\n",
       "      <td>2.45</td>\n",
       "      <td>42</td>\n",
       "      <td>4</td>\n",
       "      <td>2020-04-06</td>\n",
       "    </tr>\n",
       "    <tr>\n",
       "      <th>10</th>\n",
       "      <td>1005</td>\n",
       "      <td>Ross Strickland</td>\n",
       "      <td>Coffee</td>\n",
       "      <td>8.45</td>\n",
       "      <td>356</td>\n",
       "      <td>5</td>\n",
       "      <td>2020-04-07</td>\n",
       "    </tr>\n",
       "    <tr>\n",
       "      <th>11</th>\n",
       "      <td>1014</td>\n",
       "      <td>Susan Morales</td>\n",
       "      <td>Lotion</td>\n",
       "      <td>4.44</td>\n",
       "      <td>23</td>\n",
       "      <td>3</td>\n",
       "      <td>2020-04-08</td>\n",
       "    </tr>\n",
       "    <tr>\n",
       "      <th>12</th>\n",
       "      <td>1020</td>\n",
       "      <td>Jennifer Cox</td>\n",
       "      <td>Coffee</td>\n",
       "      <td>8.45</td>\n",
       "      <td>356</td>\n",
       "      <td>4</td>\n",
       "      <td>2020-04-09</td>\n",
       "    </tr>\n",
       "    <tr>\n",
       "      <th>13</th>\n",
       "      <td>1001</td>\n",
       "      <td>Danny Lynn DDS</td>\n",
       "      <td>TV</td>\n",
       "      <td>199.95</td>\n",
       "      <td>14</td>\n",
       "      <td>2</td>\n",
       "      <td>2020-04-10</td>\n",
       "    </tr>\n",
       "    <tr>\n",
       "      <th>14</th>\n",
       "      <td>1019</td>\n",
       "      <td>Brandon Beasley</td>\n",
       "      <td>Vaccum</td>\n",
       "      <td>95.12</td>\n",
       "      <td>15</td>\n",
       "      <td>6</td>\n",
       "      <td>2020-05-06</td>\n",
       "    </tr>\n",
       "    <tr>\n",
       "      <th>15</th>\n",
       "      <td>1006</td>\n",
       "      <td>Ashley Nichols</td>\n",
       "      <td>Sanitizer</td>\n",
       "      <td>2.23</td>\n",
       "      <td>12</td>\n",
       "      <td>1</td>\n",
       "      <td>2020-05-07</td>\n",
       "    </tr>\n",
       "    <tr>\n",
       "      <th>16</th>\n",
       "      <td>1015</td>\n",
       "      <td>Angela Oneill</td>\n",
       "      <td>Wine</td>\n",
       "      <td>15.67</td>\n",
       "      <td>122</td>\n",
       "      <td>2</td>\n",
       "      <td>2020-05-08</td>\n",
       "    </tr>\n",
       "    <tr>\n",
       "      <th>17</th>\n",
       "      <td>1009</td>\n",
       "      <td>Cody Moreno</td>\n",
       "      <td>Plate</td>\n",
       "      <td>5.55</td>\n",
       "      <td>156</td>\n",
       "      <td>4</td>\n",
       "      <td>2020-05-09</td>\n",
       "    </tr>\n",
       "    <tr>\n",
       "      <th>18</th>\n",
       "      <td>1005</td>\n",
       "      <td>Douglas Atkinson</td>\n",
       "      <td>TV</td>\n",
       "      <td>199.95</td>\n",
       "      <td>14</td>\n",
       "      <td>1</td>\n",
       "      <td>2020-05-10</td>\n",
       "    </tr>\n",
       "    <tr>\n",
       "      <th>19</th>\n",
       "      <td>1016</td>\n",
       "      <td>Ellen Mccarthy</td>\n",
       "      <td>Vaccum</td>\n",
       "      <td>95.12</td>\n",
       "      <td>15</td>\n",
       "      <td>1</td>\n",
       "      <td>2020-05-11</td>\n",
       "    </tr>\n",
       "  </tbody>\n",
       "</table>\n",
       "</div>"
      ],
      "text/plain": [
       "    user_id              name   item_name   price  category_id  quantity  \\\n",
       "0      1004      Donna Martin          TV  199.95           14         1   \n",
       "1      1004      Donna Martin      Vaccum   95.12           15         2   \n",
       "2      1003     Bobby Bradley         Cup   12.76           44         1   \n",
       "3      1011     Austin Thomas       Plate    5.55          156         1   \n",
       "4      1000   Jonathan Medina      Lotion    4.44           23         2   \n",
       "5      1000   Jonathan Medina  Toothbrush    5.96          123         1   \n",
       "6      1019   Brandon Beasley   Sanitizer    2.23           12         3   \n",
       "7      1011     Austin Thomas        Wine   15.67          122         1   \n",
       "8      1014     Susan Morales    Yoga mat   45.53         1212         2   \n",
       "9      1001    Rachael Massey        Beer    2.45           42         4   \n",
       "10     1005   Ross Strickland      Coffee    8.45          356         5   \n",
       "11     1014     Susan Morales      Lotion    4.44           23         3   \n",
       "12     1020      Jennifer Cox      Coffee    8.45          356         4   \n",
       "13     1001    Danny Lynn DDS          TV  199.95           14         2   \n",
       "14     1019   Brandon Beasley      Vaccum   95.12           15         6   \n",
       "15     1006    Ashley Nichols   Sanitizer    2.23           12         1   \n",
       "16     1015     Angela Oneill        Wine   15.67          122         2   \n",
       "17     1009       Cody Moreno       Plate    5.55          156         4   \n",
       "18     1005  Douglas Atkinson          TV  199.95           14         1   \n",
       "19     1016    Ellen Mccarthy      Vaccum   95.12           15         1   \n",
       "\n",
       "   purchased_date  \n",
       "0      2020-04-04  \n",
       "1      2020-05-12  \n",
       "2      2020-05-13  \n",
       "3      2020-05-14  \n",
       "4      2020-05-15  \n",
       "5      2020-05-16  \n",
       "6      2020-05-17  \n",
       "7      2020-04-04  \n",
       "8      2020-04-05  \n",
       "9      2020-04-06  \n",
       "10     2020-04-07  \n",
       "11     2020-04-08  \n",
       "12     2020-04-09  \n",
       "13     2020-04-10  \n",
       "14     2020-05-06  \n",
       "15     2020-05-07  \n",
       "16     2020-05-08  \n",
       "17     2020-05-09  \n",
       "18     2020-05-10  \n",
       "19     2020-05-11  "
      ]
     },
     "execution_count": 40,
     "metadata": {},
     "output_type": "execute_result"
    }
   ],
   "source": [
    "df_original"
   ]
  },
  {
   "cell_type": "code",
   "execution_count": 41,
   "metadata": {},
   "outputs": [
    {
     "data": {
      "text/html": [
       "<div>\n",
       "<style scoped>\n",
       "    .dataframe tbody tr th:only-of-type {\n",
       "        vertical-align: middle;\n",
       "    }\n",
       "\n",
       "    .dataframe tbody tr th {\n",
       "        vertical-align: top;\n",
       "    }\n",
       "\n",
       "    .dataframe thead th {\n",
       "        text-align: right;\n",
       "    }\n",
       "</style>\n",
       "<table border=\"1\" class=\"dataframe\">\n",
       "  <thead>\n",
       "    <tr style=\"text-align: right;\">\n",
       "      <th></th>\n",
       "      <th>user_id</th>\n",
       "      <th>name</th>\n",
       "      <th>item_name</th>\n",
       "      <th>price</th>\n",
       "      <th>category_id</th>\n",
       "      <th>quantity</th>\n",
       "      <th>purchased_date</th>\n",
       "    </tr>\n",
       "  </thead>\n",
       "  <tbody>\n",
       "    <tr>\n",
       "      <th>0</th>\n",
       "      <td>6d5e681b-d159-4c8b-9f3e-5d59831e7c17</td>\n",
       "      <td>Roger Mays</td>\n",
       "      <td>Category_547 0</td>\n",
       "      <td>40.90</td>\n",
       "      <td>14</td>\n",
       "      <td>6</td>\n",
       "      <td>2020-04-28</td>\n",
       "    </tr>\n",
       "    <tr>\n",
       "      <th>1</th>\n",
       "      <td>6d5e681b-d159-4c8b-9f3e-5d59831e7c17</td>\n",
       "      <td>Roger Mays</td>\n",
       "      <td>Category_547 1</td>\n",
       "      <td>21.84</td>\n",
       "      <td>15</td>\n",
       "      <td>3</td>\n",
       "      <td>2020-05-05</td>\n",
       "    </tr>\n",
       "    <tr>\n",
       "      <th>2</th>\n",
       "      <td>421cc376-3dbd-4f3e-b518-d6d952907290</td>\n",
       "      <td>Brian Wagner</td>\n",
       "      <td>Category_547 2</td>\n",
       "      <td>43.75</td>\n",
       "      <td>44</td>\n",
       "      <td>6</td>\n",
       "      <td>2020-04-21</td>\n",
       "    </tr>\n",
       "    <tr>\n",
       "      <th>3</th>\n",
       "      <td>334d6575-ad67-4259-950f-e3292f74ef4f</td>\n",
       "      <td>Natalie Foster</td>\n",
       "      <td>Category_547 3</td>\n",
       "      <td>119.72</td>\n",
       "      <td>156</td>\n",
       "      <td>6</td>\n",
       "      <td>2020-04-24</td>\n",
       "    </tr>\n",
       "    <tr>\n",
       "      <th>4</th>\n",
       "      <td>489c2597-63d8-47ad-9709-9605746437ca</td>\n",
       "      <td>Deborah White</td>\n",
       "      <td>Category_547 4</td>\n",
       "      <td>82.54</td>\n",
       "      <td>23</td>\n",
       "      <td>3</td>\n",
       "      <td>2020-05-13</td>\n",
       "    </tr>\n",
       "    <tr>\n",
       "      <th>5</th>\n",
       "      <td>489c2597-63d8-47ad-9709-9605746437ca</td>\n",
       "      <td>Deborah White</td>\n",
       "      <td>Category_547 5</td>\n",
       "      <td>53.85</td>\n",
       "      <td>123</td>\n",
       "      <td>6</td>\n",
       "      <td>2020-04-26</td>\n",
       "    </tr>\n",
       "    <tr>\n",
       "      <th>6</th>\n",
       "      <td>49fee7f4-997f-4ed7-a939-6eda703c3b28</td>\n",
       "      <td>Daniel Shaw</td>\n",
       "      <td>Category_547 6</td>\n",
       "      <td>148.61</td>\n",
       "      <td>12</td>\n",
       "      <td>2</td>\n",
       "      <td>2020-04-12</td>\n",
       "    </tr>\n",
       "    <tr>\n",
       "      <th>7</th>\n",
       "      <td>334d6575-ad67-4259-950f-e3292f74ef4f</td>\n",
       "      <td>Natalie Foster</td>\n",
       "      <td>Category_547 7</td>\n",
       "      <td>16.35</td>\n",
       "      <td>122</td>\n",
       "      <td>6</td>\n",
       "      <td>2020-04-28</td>\n",
       "    </tr>\n",
       "    <tr>\n",
       "      <th>8</th>\n",
       "      <td>6596ee2d-408c-4d3a-bcd8-d5c2d3ee8726</td>\n",
       "      <td>Ellen Ward</td>\n",
       "      <td>Category_547 8</td>\n",
       "      <td>19.98</td>\n",
       "      <td>1212</td>\n",
       "      <td>3</td>\n",
       "      <td>2020-05-11</td>\n",
       "    </tr>\n",
       "    <tr>\n",
       "      <th>9</th>\n",
       "      <td>98674a13-1c1b-4188-b1f4-826dbe35871a</td>\n",
       "      <td>Robin Yang</td>\n",
       "      <td>Category_547 9</td>\n",
       "      <td>131.72</td>\n",
       "      <td>42</td>\n",
       "      <td>5</td>\n",
       "      <td>2020-05-04</td>\n",
       "    </tr>\n",
       "    <tr>\n",
       "      <th>10</th>\n",
       "      <td>1a09f20d-accf-4339-858f-73373ed25df2</td>\n",
       "      <td>Samantha Smith</td>\n",
       "      <td>Category_547 10</td>\n",
       "      <td>11.62</td>\n",
       "      <td>356</td>\n",
       "      <td>2</td>\n",
       "      <td>2020-05-08</td>\n",
       "    </tr>\n",
       "    <tr>\n",
       "      <th>11</th>\n",
       "      <td>6596ee2d-408c-4d3a-bcd8-d5c2d3ee8726</td>\n",
       "      <td>Ellen Ward</td>\n",
       "      <td>Category_547 4</td>\n",
       "      <td>82.54</td>\n",
       "      <td>23</td>\n",
       "      <td>2</td>\n",
       "      <td>2020-05-13</td>\n",
       "    </tr>\n",
       "    <tr>\n",
       "      <th>12</th>\n",
       "      <td>02ee4f7f-8ab5-4ee1-9fdc-ddf77bd0f80e</td>\n",
       "      <td>John Glover</td>\n",
       "      <td>Category_547 10</td>\n",
       "      <td>11.62</td>\n",
       "      <td>356</td>\n",
       "      <td>5</td>\n",
       "      <td>2020-04-19</td>\n",
       "    </tr>\n",
       "    <tr>\n",
       "      <th>13</th>\n",
       "      <td>98674a13-1c1b-4188-b1f4-826dbe35871a</td>\n",
       "      <td>Michael Johnson</td>\n",
       "      <td>Category_547 0</td>\n",
       "      <td>40.90</td>\n",
       "      <td>14</td>\n",
       "      <td>3</td>\n",
       "      <td>2020-04-10</td>\n",
       "    </tr>\n",
       "    <tr>\n",
       "      <th>14</th>\n",
       "      <td>49fee7f4-997f-4ed7-a939-6eda703c3b28</td>\n",
       "      <td>Daniel Shaw</td>\n",
       "      <td>Category_547 1</td>\n",
       "      <td>21.84</td>\n",
       "      <td>15</td>\n",
       "      <td>6</td>\n",
       "      <td>2020-05-02</td>\n",
       "    </tr>\n",
       "    <tr>\n",
       "      <th>15</th>\n",
       "      <td>d271a72d-e7c9-4d92-9af8-128da3f00e89</td>\n",
       "      <td>Jean Williams</td>\n",
       "      <td>Category_547 6</td>\n",
       "      <td>148.61</td>\n",
       "      <td>12</td>\n",
       "      <td>6</td>\n",
       "      <td>2020-04-08</td>\n",
       "    </tr>\n",
       "    <tr>\n",
       "      <th>16</th>\n",
       "      <td>dc51580e-1756-4221-8138-985825da4c98</td>\n",
       "      <td>Maria Mitchell</td>\n",
       "      <td>Category_547 7</td>\n",
       "      <td>16.35</td>\n",
       "      <td>122</td>\n",
       "      <td>3</td>\n",
       "      <td>2020-04-16</td>\n",
       "    </tr>\n",
       "    <tr>\n",
       "      <th>17</th>\n",
       "      <td>9473e8d3-6dba-446c-b333-3bfdc923e775</td>\n",
       "      <td>David Lawrence</td>\n",
       "      <td>Category_547 3</td>\n",
       "      <td>119.72</td>\n",
       "      <td>156</td>\n",
       "      <td>5</td>\n",
       "      <td>2020-05-15</td>\n",
       "    </tr>\n",
       "    <tr>\n",
       "      <th>18</th>\n",
       "      <td>1a09f20d-accf-4339-858f-73373ed25df2</td>\n",
       "      <td>Richard Brady</td>\n",
       "      <td>Category_547 0</td>\n",
       "      <td>40.90</td>\n",
       "      <td>14</td>\n",
       "      <td>6</td>\n",
       "      <td>2020-04-20</td>\n",
       "    </tr>\n",
       "    <tr>\n",
       "      <th>19</th>\n",
       "      <td>9954b820-705e-4a19-b2b0-bfb67e98524c</td>\n",
       "      <td>Maria Miller</td>\n",
       "      <td>Category_547 1</td>\n",
       "      <td>21.84</td>\n",
       "      <td>15</td>\n",
       "      <td>6</td>\n",
       "      <td>2020-04-17</td>\n",
       "    </tr>\n",
       "  </tbody>\n",
       "</table>\n",
       "</div>"
      ],
      "text/plain": [
       "                                 user_id             name        item_name  \\\n",
       "0   6d5e681b-d159-4c8b-9f3e-5d59831e7c17       Roger Mays   Category_547 0   \n",
       "1   6d5e681b-d159-4c8b-9f3e-5d59831e7c17       Roger Mays   Category_547 1   \n",
       "2   421cc376-3dbd-4f3e-b518-d6d952907290     Brian Wagner   Category_547 2   \n",
       "3   334d6575-ad67-4259-950f-e3292f74ef4f   Natalie Foster   Category_547 3   \n",
       "4   489c2597-63d8-47ad-9709-9605746437ca    Deborah White   Category_547 4   \n",
       "5   489c2597-63d8-47ad-9709-9605746437ca    Deborah White   Category_547 5   \n",
       "6   49fee7f4-997f-4ed7-a939-6eda703c3b28      Daniel Shaw   Category_547 6   \n",
       "7   334d6575-ad67-4259-950f-e3292f74ef4f   Natalie Foster   Category_547 7   \n",
       "8   6596ee2d-408c-4d3a-bcd8-d5c2d3ee8726       Ellen Ward   Category_547 8   \n",
       "9   98674a13-1c1b-4188-b1f4-826dbe35871a       Robin Yang   Category_547 9   \n",
       "10  1a09f20d-accf-4339-858f-73373ed25df2   Samantha Smith  Category_547 10   \n",
       "11  6596ee2d-408c-4d3a-bcd8-d5c2d3ee8726       Ellen Ward   Category_547 4   \n",
       "12  02ee4f7f-8ab5-4ee1-9fdc-ddf77bd0f80e      John Glover  Category_547 10   \n",
       "13  98674a13-1c1b-4188-b1f4-826dbe35871a  Michael Johnson   Category_547 0   \n",
       "14  49fee7f4-997f-4ed7-a939-6eda703c3b28      Daniel Shaw   Category_547 1   \n",
       "15  d271a72d-e7c9-4d92-9af8-128da3f00e89    Jean Williams   Category_547 6   \n",
       "16  dc51580e-1756-4221-8138-985825da4c98   Maria Mitchell   Category_547 7   \n",
       "17  9473e8d3-6dba-446c-b333-3bfdc923e775   David Lawrence   Category_547 3   \n",
       "18  1a09f20d-accf-4339-858f-73373ed25df2    Richard Brady   Category_547 0   \n",
       "19  9954b820-705e-4a19-b2b0-bfb67e98524c     Maria Miller   Category_547 1   \n",
       "\n",
       "     price  category_id  quantity purchased_date  \n",
       "0    40.90           14         6     2020-04-28  \n",
       "1    21.84           15         3     2020-05-05  \n",
       "2    43.75           44         6     2020-04-21  \n",
       "3   119.72          156         6     2020-04-24  \n",
       "4    82.54           23         3     2020-05-13  \n",
       "5    53.85          123         6     2020-04-26  \n",
       "6   148.61           12         2     2020-04-12  \n",
       "7    16.35          122         6     2020-04-28  \n",
       "8    19.98         1212         3     2020-05-11  \n",
       "9   131.72           42         5     2020-05-04  \n",
       "10   11.62          356         2     2020-05-08  \n",
       "11   82.54           23         2     2020-05-13  \n",
       "12   11.62          356         5     2020-04-19  \n",
       "13   40.90           14         3     2020-04-10  \n",
       "14   21.84           15         6     2020-05-02  \n",
       "15  148.61           12         6     2020-04-08  \n",
       "16   16.35          122         3     2020-04-16  \n",
       "17  119.72          156         5     2020-05-15  \n",
       "18   40.90           14         6     2020-04-20  \n",
       "19   21.84           15         6     2020-04-17  "
      ]
     },
     "execution_count": 41,
     "metadata": {},
     "output_type": "execute_result"
    }
   ],
   "source": [
    "df"
   ]
  }
 ],
 "metadata": {
  "kernelspec": {
   "display_name": "Python 3",
   "language": "python",
   "name": "python3"
  },
  "language_info": {
   "codemirror_mode": {
    "name": "ipython",
    "version": 3
   },
   "file_extension": ".py",
   "mimetype": "text/x-python",
   "name": "python",
   "nbconvert_exporter": "python",
   "pygments_lexer": "ipython3",
   "version": "3.8.5"
  }
 },
 "nbformat": 4,
 "nbformat_minor": 4
}
