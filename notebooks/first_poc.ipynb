{
 "cells": [
  {
   "cell_type": "markdown",
   "metadata": {},
   "source": [
    "# First POC for dataset anonymization"
   ]
  },
  {
   "cell_type": "markdown",
   "metadata": {},
   "source": [
    "## Imports"
   ]
  },
  {
   "cell_type": "code",
   "execution_count": 72,
   "metadata": {},
   "outputs": [],
   "source": [
    "import pandas as pd\n",
    "import random\n",
    "import datetime as dt\n",
    "from faker import Faker"
   ]
  },
  {
   "cell_type": "code",
   "execution_count": 73,
   "metadata": {},
   "outputs": [],
   "source": [
    "fake = Faker()"
   ]
  },
  {
   "cell_type": "code",
   "execution_count": 74,
   "metadata": {},
   "outputs": [
    {
     "name": "stdout",
     "output_type": "stream",
     "text": [
      "William Hobbs\n",
      "Lauren Thompson\n",
      "Kevin Williams\n",
      "Nicole Rojas\n",
      "Dr. Patrick Cruz PhD\n",
      "Tami Sullivan\n",
      "Steven Rogers\n",
      "Gabriella Brown\n",
      "Mallory Watson\n",
      "Julie Adams\n",
      "Glen Park\n",
      "Gary Lee\n",
      "Kirsten Archer\n",
      "Yesenia Tate\n",
      "Mark Ward\n",
      "Susan Lopez\n",
      "Catherine Abbott\n",
      "Holly Ballard\n",
      "William Horn\n",
      "Jay Nguyen\n"
     ]
    }
   ],
   "source": [
    "for _ in range(20):\n",
    "  print(fake.name())"
   ]
  },
  {
   "cell_type": "markdown",
   "metadata": {},
   "source": [
    "## Create and import a sample dataset"
   ]
  },
  {
   "cell_type": "code",
   "execution_count": 75,
   "metadata": {},
   "outputs": [],
   "source": [
    "df = pd.read_csv('../datasets/test_dataset1.csv', parse_dates=['purchased_date'])"
   ]
  },
  {
   "cell_type": "code",
   "execution_count": 76,
   "metadata": {},
   "outputs": [],
   "source": [
    "df_original = df.copy()"
   ]
  },
  {
   "cell_type": "code",
   "execution_count": 77,
   "metadata": {},
   "outputs": [
    {
     "data": {
      "text/html": [
       "<div>\n",
       "<style scoped>\n",
       "    .dataframe tbody tr th:only-of-type {\n",
       "        vertical-align: middle;\n",
       "    }\n",
       "\n",
       "    .dataframe tbody tr th {\n",
       "        vertical-align: top;\n",
       "    }\n",
       "\n",
       "    .dataframe thead th {\n",
       "        text-align: right;\n",
       "    }\n",
       "</style>\n",
       "<table border=\"1\" class=\"dataframe\">\n",
       "  <thead>\n",
       "    <tr style=\"text-align: right;\">\n",
       "      <th></th>\n",
       "      <th>user_id</th>\n",
       "      <th>name</th>\n",
       "      <th>item</th>\n",
       "      <th>amount</th>\n",
       "      <th>category_id</th>\n",
       "      <th>purchased_quantity</th>\n",
       "      <th>purchased_date</th>\n",
       "    </tr>\n",
       "  </thead>\n",
       "  <tbody>\n",
       "    <tr>\n",
       "      <th>0</th>\n",
       "      <td>1004</td>\n",
       "      <td>Donna Martin</td>\n",
       "      <td>TV</td>\n",
       "      <td>199.95</td>\n",
       "      <td>14</td>\n",
       "      <td>1</td>\n",
       "      <td>2020-04-04</td>\n",
       "    </tr>\n",
       "    <tr>\n",
       "      <th>1</th>\n",
       "      <td>1004</td>\n",
       "      <td>Donna Martin</td>\n",
       "      <td>Vaccum</td>\n",
       "      <td>95.12</td>\n",
       "      <td>15</td>\n",
       "      <td>2</td>\n",
       "      <td>2020-05-12</td>\n",
       "    </tr>\n",
       "    <tr>\n",
       "      <th>2</th>\n",
       "      <td>1003</td>\n",
       "      <td>Bobby Bradley</td>\n",
       "      <td>Cup</td>\n",
       "      <td>12.76</td>\n",
       "      <td>44</td>\n",
       "      <td>1</td>\n",
       "      <td>2020-05-13</td>\n",
       "    </tr>\n",
       "    <tr>\n",
       "      <th>3</th>\n",
       "      <td>1011</td>\n",
       "      <td>Austin Thomas</td>\n",
       "      <td>Plate</td>\n",
       "      <td>5.55</td>\n",
       "      <td>156</td>\n",
       "      <td>1</td>\n",
       "      <td>2020-05-14</td>\n",
       "    </tr>\n",
       "    <tr>\n",
       "      <th>4</th>\n",
       "      <td>1000</td>\n",
       "      <td>Jonathan Medina</td>\n",
       "      <td>Lotion</td>\n",
       "      <td>4.44</td>\n",
       "      <td>23</td>\n",
       "      <td>2</td>\n",
       "      <td>2020-05-15</td>\n",
       "    </tr>\n",
       "    <tr>\n",
       "      <th>5</th>\n",
       "      <td>1000</td>\n",
       "      <td>Jonathan Medina</td>\n",
       "      <td>Toothbrush</td>\n",
       "      <td>5.96</td>\n",
       "      <td>123</td>\n",
       "      <td>1</td>\n",
       "      <td>2020-05-16</td>\n",
       "    </tr>\n",
       "    <tr>\n",
       "      <th>6</th>\n",
       "      <td>1019</td>\n",
       "      <td>Brandon Beasley</td>\n",
       "      <td>Sanitizer</td>\n",
       "      <td>2.23</td>\n",
       "      <td>12</td>\n",
       "      <td>3</td>\n",
       "      <td>2020-05-17</td>\n",
       "    </tr>\n",
       "    <tr>\n",
       "      <th>7</th>\n",
       "      <td>1011</td>\n",
       "      <td>Austin Thomas</td>\n",
       "      <td>Wine</td>\n",
       "      <td>15.67</td>\n",
       "      <td>122</td>\n",
       "      <td>1</td>\n",
       "      <td>2020-04-04</td>\n",
       "    </tr>\n",
       "    <tr>\n",
       "      <th>8</th>\n",
       "      <td>1014</td>\n",
       "      <td>Susan Morales</td>\n",
       "      <td>Yoga mat</td>\n",
       "      <td>45.53</td>\n",
       "      <td>1212</td>\n",
       "      <td>2</td>\n",
       "      <td>2020-04-05</td>\n",
       "    </tr>\n",
       "    <tr>\n",
       "      <th>9</th>\n",
       "      <td>1001</td>\n",
       "      <td>Rachael Massey</td>\n",
       "      <td>Beer</td>\n",
       "      <td>2.45</td>\n",
       "      <td>42</td>\n",
       "      <td>4</td>\n",
       "      <td>2020-04-06</td>\n",
       "    </tr>\n",
       "    <tr>\n",
       "      <th>10</th>\n",
       "      <td>1005</td>\n",
       "      <td>Ross Strickland</td>\n",
       "      <td>Coffee</td>\n",
       "      <td>8.45</td>\n",
       "      <td>356</td>\n",
       "      <td>5</td>\n",
       "      <td>2020-04-07</td>\n",
       "    </tr>\n",
       "    <tr>\n",
       "      <th>11</th>\n",
       "      <td>1014</td>\n",
       "      <td>Susan Morales</td>\n",
       "      <td>Lotion</td>\n",
       "      <td>4.44</td>\n",
       "      <td>23</td>\n",
       "      <td>3</td>\n",
       "      <td>2020-04-08</td>\n",
       "    </tr>\n",
       "    <tr>\n",
       "      <th>12</th>\n",
       "      <td>1020</td>\n",
       "      <td>Jennifer Cox</td>\n",
       "      <td>Coffee</td>\n",
       "      <td>8.45</td>\n",
       "      <td>356</td>\n",
       "      <td>4</td>\n",
       "      <td>2020-04-09</td>\n",
       "    </tr>\n",
       "    <tr>\n",
       "      <th>13</th>\n",
       "      <td>1001</td>\n",
       "      <td>Danny Lynn DDS</td>\n",
       "      <td>TV</td>\n",
       "      <td>199.95</td>\n",
       "      <td>14</td>\n",
       "      <td>2</td>\n",
       "      <td>2020-04-10</td>\n",
       "    </tr>\n",
       "    <tr>\n",
       "      <th>14</th>\n",
       "      <td>1019</td>\n",
       "      <td>Brandon Beasley</td>\n",
       "      <td>Vaccum</td>\n",
       "      <td>95.12</td>\n",
       "      <td>15</td>\n",
       "      <td>6</td>\n",
       "      <td>2020-05-06</td>\n",
       "    </tr>\n",
       "    <tr>\n",
       "      <th>15</th>\n",
       "      <td>1006</td>\n",
       "      <td>Ashley Nichols</td>\n",
       "      <td>Sanitizer</td>\n",
       "      <td>2.23</td>\n",
       "      <td>12</td>\n",
       "      <td>1</td>\n",
       "      <td>2020-05-07</td>\n",
       "    </tr>\n",
       "    <tr>\n",
       "      <th>16</th>\n",
       "      <td>1015</td>\n",
       "      <td>Angela Oneill</td>\n",
       "      <td>Wine</td>\n",
       "      <td>15.67</td>\n",
       "      <td>122</td>\n",
       "      <td>2</td>\n",
       "      <td>2020-05-08</td>\n",
       "    </tr>\n",
       "    <tr>\n",
       "      <th>17</th>\n",
       "      <td>1009</td>\n",
       "      <td>Cody Moreno</td>\n",
       "      <td>Plate</td>\n",
       "      <td>5.55</td>\n",
       "      <td>156</td>\n",
       "      <td>4</td>\n",
       "      <td>2020-05-09</td>\n",
       "    </tr>\n",
       "    <tr>\n",
       "      <th>18</th>\n",
       "      <td>1005</td>\n",
       "      <td>Douglas Atkinson</td>\n",
       "      <td>TV</td>\n",
       "      <td>199.95</td>\n",
       "      <td>14</td>\n",
       "      <td>1</td>\n",
       "      <td>2020-05-10</td>\n",
       "    </tr>\n",
       "    <tr>\n",
       "      <th>19</th>\n",
       "      <td>1016</td>\n",
       "      <td>Ellen Mccarthy</td>\n",
       "      <td>Vaccum</td>\n",
       "      <td>95.12</td>\n",
       "      <td>15</td>\n",
       "      <td>1</td>\n",
       "      <td>2020-05-11</td>\n",
       "    </tr>\n",
       "  </tbody>\n",
       "</table>\n",
       "</div>"
      ],
      "text/plain": [
       "    user_id              name        item  amount  category_id  \\\n",
       "0      1004      Donna Martin          TV  199.95           14   \n",
       "1      1004      Donna Martin      Vaccum   95.12           15   \n",
       "2      1003     Bobby Bradley         Cup   12.76           44   \n",
       "3      1011     Austin Thomas       Plate    5.55          156   \n",
       "4      1000   Jonathan Medina      Lotion    4.44           23   \n",
       "5      1000   Jonathan Medina  Toothbrush    5.96          123   \n",
       "6      1019   Brandon Beasley   Sanitizer    2.23           12   \n",
       "7      1011     Austin Thomas        Wine   15.67          122   \n",
       "8      1014     Susan Morales    Yoga mat   45.53         1212   \n",
       "9      1001    Rachael Massey        Beer    2.45           42   \n",
       "10     1005   Ross Strickland      Coffee    8.45          356   \n",
       "11     1014     Susan Morales      Lotion    4.44           23   \n",
       "12     1020      Jennifer Cox      Coffee    8.45          356   \n",
       "13     1001    Danny Lynn DDS          TV  199.95           14   \n",
       "14     1019   Brandon Beasley      Vaccum   95.12           15   \n",
       "15     1006    Ashley Nichols   Sanitizer    2.23           12   \n",
       "16     1015     Angela Oneill        Wine   15.67          122   \n",
       "17     1009       Cody Moreno       Plate    5.55          156   \n",
       "18     1005  Douglas Atkinson          TV  199.95           14   \n",
       "19     1016    Ellen Mccarthy      Vaccum   95.12           15   \n",
       "\n",
       "    purchased_quantity purchased_date  \n",
       "0                    1     2020-04-04  \n",
       "1                    2     2020-05-12  \n",
       "2                    1     2020-05-13  \n",
       "3                    1     2020-05-14  \n",
       "4                    2     2020-05-15  \n",
       "5                    1     2020-05-16  \n",
       "6                    3     2020-05-17  \n",
       "7                    1     2020-04-04  \n",
       "8                    2     2020-04-05  \n",
       "9                    4     2020-04-06  \n",
       "10                   5     2020-04-07  \n",
       "11                   3     2020-04-08  \n",
       "12                   4     2020-04-09  \n",
       "13                   2     2020-04-10  \n",
       "14                   6     2020-05-06  \n",
       "15                   1     2020-05-07  \n",
       "16                   2     2020-05-08  \n",
       "17                   4     2020-05-09  \n",
       "18                   1     2020-05-10  \n",
       "19                   1     2020-05-11  "
      ]
     },
     "execution_count": 77,
     "metadata": {},
     "output_type": "execute_result"
    }
   ],
   "source": [
    "df"
   ]
  },
  {
   "cell_type": "markdown",
   "metadata": {},
   "source": [
    "## Replace names"
   ]
  },
  {
   "cell_type": "code",
   "execution_count": 78,
   "metadata": {},
   "outputs": [],
   "source": [
    "unique_names = df['name'].unique()"
   ]
  },
  {
   "cell_type": "code",
   "execution_count": 79,
   "metadata": {},
   "outputs": [
    {
     "data": {
      "text/plain": [
       "array(['Donna Martin', 'Bobby Bradley', 'Austin Thomas',\n",
       "       'Jonathan Medina', 'Brandon Beasley', 'Susan Morales',\n",
       "       'Rachael Massey', 'Ross Strickland', 'Jennifer Cox',\n",
       "       'Danny Lynn DDS', 'Ashley Nichols', 'Angela Oneill', 'Cody Moreno',\n",
       "       'Douglas Atkinson', 'Ellen Mccarthy'], dtype=object)"
      ]
     },
     "execution_count": 79,
     "metadata": {},
     "output_type": "execute_result"
    }
   ],
   "source": [
    "unique_names"
   ]
  },
  {
   "cell_type": "code",
   "execution_count": 80,
   "metadata": {},
   "outputs": [],
   "source": [
    "name_dict = {name: fake.name() for name in unique_names}"
   ]
  },
  {
   "cell_type": "code",
   "execution_count": 81,
   "metadata": {},
   "outputs": [
    {
     "data": {
      "text/plain": [
       "{'Donna Martin': 'Kristin Gonzalez',\n",
       " 'Bobby Bradley': 'Katie Mccormick',\n",
       " 'Austin Thomas': 'Robert Miller',\n",
       " 'Jonathan Medina': 'Taylor Smith',\n",
       " 'Brandon Beasley': 'William Rosales',\n",
       " 'Susan Morales': 'Angela Martinez',\n",
       " 'Rachael Massey': 'Jason Carter',\n",
       " 'Ross Strickland': 'Nancy Harris',\n",
       " 'Jennifer Cox': 'Andrew Mcintosh',\n",
       " 'Danny Lynn DDS': 'Tina Mitchell',\n",
       " 'Ashley Nichols': 'Mark Garcia',\n",
       " 'Angela Oneill': 'Whitney Brock',\n",
       " 'Cody Moreno': 'Amanda Martin MD',\n",
       " 'Douglas Atkinson': 'Mr. Ivan Salazar MD',\n",
       " 'Ellen Mccarthy': 'Sheena Atkinson'}"
      ]
     },
     "execution_count": 81,
     "metadata": {},
     "output_type": "execute_result"
    }
   ],
   "source": [
    "name_dict"
   ]
  },
  {
   "cell_type": "code",
   "execution_count": 82,
   "metadata": {},
   "outputs": [],
   "source": [
    "df['name'] = df['name'].map(name_dict)"
   ]
  },
  {
   "cell_type": "markdown",
   "metadata": {},
   "source": [
    "## Replace ids"
   ]
  },
  {
   "cell_type": "code",
   "execution_count": 83,
   "metadata": {},
   "outputs": [],
   "source": [
    "unique_ids = df['user_id'].unique()"
   ]
  },
  {
   "cell_type": "code",
   "execution_count": 84,
   "metadata": {},
   "outputs": [],
   "source": [
    "id_dict = {id_: fake.uuid4() for id_ in unique_ids}"
   ]
  },
  {
   "cell_type": "code",
   "execution_count": 85,
   "metadata": {},
   "outputs": [
    {
     "data": {
      "text/plain": [
       "{1004: 'cb57a54b-4ee0-4e3f-9ecc-d917b368bcfd',\n",
       " 1003: 'f4d555f4-f715-4f54-9e17-18dde69ad6f4',\n",
       " 1011: '581d2436-9a71-4329-84b6-8f648a6af777',\n",
       " 1000: '172cc469-9271-4650-926b-455b9b337411',\n",
       " 1019: 'dec64b5f-8a3e-48b4-8143-78cefa4a6283',\n",
       " 1014: '5c2041ba-c4fb-48ce-859a-8c0bfc0652c0',\n",
       " 1001: 'f26141f9-a74c-442e-8545-5ce9c0d6b9d2',\n",
       " 1005: '3fbf0820-4f3a-4566-aced-a635542df823',\n",
       " 1020: 'a4b75364-804c-4f95-b927-f31f95fdc48a',\n",
       " 1006: '2c80313d-3b0b-464e-9071-21a7ddbce865',\n",
       " 1015: '1e7db155-07b7-4f03-9e8f-a3d5d9ae23d4',\n",
       " 1009: 'bc01178b-de82-48f1-8a11-fb83745f04eb',\n",
       " 1016: '1ac52da8-9810-460d-9c9e-3c439a46e5c7'}"
      ]
     },
     "execution_count": 85,
     "metadata": {},
     "output_type": "execute_result"
    }
   ],
   "source": [
    "id_dict"
   ]
  },
  {
   "cell_type": "code",
   "execution_count": 86,
   "metadata": {},
   "outputs": [],
   "source": [
    "df['user_id'] = df['user_id'].map(id_dict)"
   ]
  },
  {
   "cell_type": "markdown",
   "metadata": {},
   "source": [
    "## Replace whole numbers"
   ]
  },
  {
   "cell_type": "code",
   "execution_count": 90,
   "metadata": {},
   "outputs": [],
   "source": [
    "whole_numbers = df['purchased_quantity']"
   ]
  },
  {
   "cell_type": "code",
   "execution_count": 91,
   "metadata": {},
   "outputs": [],
   "source": [
    "whole_number_dict = {\n",
    "    number: fake.random_int(\n",
    "        min=min(whole_numbers), max=max(whole_numbers)\n",
    "    )\n",
    "    for number in whole_numbers\n",
    "}"
   ]
  },
  {
   "cell_type": "code",
   "execution_count": 92,
   "metadata": {},
   "outputs": [
    {
     "data": {
      "text/plain": [
       "{1: 6, 2: 2, 3: 5, 4: 1, 5: 3, 6: 2}"
      ]
     },
     "execution_count": 92,
     "metadata": {},
     "output_type": "execute_result"
    }
   ],
   "source": [
    "whole_number_dict"
   ]
  },
  {
   "cell_type": "code",
   "execution_count": 93,
   "metadata": {},
   "outputs": [],
   "source": [
    "df['purchased_quantity'] = df['purchased_quantity'].map(whole_number_dict)"
   ]
  },
  {
   "cell_type": "markdown",
   "metadata": {},
   "source": [
    "## Replace decimal numbers"
   ]
  },
  {
   "cell_type": "code",
   "execution_count": 94,
   "metadata": {},
   "outputs": [],
   "source": [
    "decimal_numbers = df['amount']"
   ]
  },
  {
   "cell_type": "code",
   "execution_count": 95,
   "metadata": {},
   "outputs": [],
   "source": [
    "decimal_number_dict = {\n",
    "    number: round(random.uniform(\n",
    "        min(decimal_numbers), max(decimal_numbers)\n",
    "    ), 2)\n",
    "    for number in decimal_numbers\n",
    "}"
   ]
  },
  {
   "cell_type": "code",
   "execution_count": 96,
   "metadata": {},
   "outputs": [
    {
     "data": {
      "text/plain": [
       "{199.95: 97.98,\n",
       " 95.12: 10.5,\n",
       " 12.76: 39.9,\n",
       " 5.55: 44.76,\n",
       " 4.44: 130.12,\n",
       " 5.96: 71.62,\n",
       " 2.23: 164.47,\n",
       " 15.67: 132.14,\n",
       " 45.53: 76.27,\n",
       " 2.45: 78.86,\n",
       " 8.45: 142.59}"
      ]
     },
     "execution_count": 96,
     "metadata": {},
     "output_type": "execute_result"
    }
   ],
   "source": [
    "decimal_number_dict"
   ]
  },
  {
   "cell_type": "code",
   "execution_count": 29,
   "metadata": {},
   "outputs": [],
   "source": [
    "df['amount'] = df['amount'].map(decimal_number_dict)"
   ]
  },
  {
   "cell_type": "markdown",
   "metadata": {},
   "source": [
    "## Categorical data"
   ]
  },
  {
   "cell_type": "code",
   "execution_count": 97,
   "metadata": {},
   "outputs": [],
   "source": [
    "category = df['item']"
   ]
  },
  {
   "cell_type": "code",
   "execution_count": 98,
   "metadata": {},
   "outputs": [
    {
     "data": {
      "text/plain": [
       "0             TV\n",
       "1         Vaccum\n",
       "2            Cup\n",
       "3          Plate\n",
       "4         Lotion\n",
       "5     Toothbrush\n",
       "6      Sanitizer\n",
       "7           Wine\n",
       "8       Yoga mat\n",
       "9           Beer\n",
       "10        Coffee\n",
       "11        Lotion\n",
       "12        Coffee\n",
       "13            TV\n",
       "14        Vaccum\n",
       "15     Sanitizer\n",
       "16          Wine\n",
       "17         Plate\n",
       "18            TV\n",
       "19        Vaccum\n",
       "Name: item, dtype: object"
      ]
     },
     "execution_count": 98,
     "metadata": {},
     "output_type": "execute_result"
    }
   ],
   "source": [
    "category"
   ]
  },
  {
   "cell_type": "code",
   "execution_count": 99,
   "metadata": {},
   "outputs": [],
   "source": [
    "unique_category = category.unique()"
   ]
  },
  {
   "cell_type": "code",
   "execution_count": 100,
   "metadata": {},
   "outputs": [],
   "source": [
    "rand_category = random.randint(0,1000)\n",
    "category_dict = {\n",
    "    category:  \"Category_\" + str(rand_category) + \" \" +str(iteration)\n",
    "    for iteration, category in enumerate(unique_category)\n",
    "}"
   ]
  },
  {
   "cell_type": "code",
   "execution_count": 101,
   "metadata": {},
   "outputs": [
    {
     "data": {
      "text/plain": [
       "{'TV': 'Category_179 0',\n",
       " 'Vaccum': 'Category_179 1',\n",
       " 'Cup': 'Category_179 2',\n",
       " 'Plate': 'Category_179 3',\n",
       " 'Lotion': 'Category_179 4',\n",
       " 'Toothbrush': 'Category_179 5',\n",
       " 'Sanitizer': 'Category_179 6',\n",
       " 'Wine': 'Category_179 7',\n",
       " 'Yoga mat': 'Category_179 8',\n",
       " 'Beer': 'Category_179 9',\n",
       " 'Coffee': 'Category_179 10'}"
      ]
     },
     "execution_count": 101,
     "metadata": {},
     "output_type": "execute_result"
    }
   ],
   "source": [
    "category_dict"
   ]
  },
  {
   "cell_type": "code",
   "execution_count": 102,
   "metadata": {},
   "outputs": [],
   "source": [
    "df['item'] = df['item'].map(category_dict)"
   ]
  },
  {
   "cell_type": "markdown",
   "metadata": {},
   "source": [
    "### Dates"
   ]
  },
  {
   "cell_type": "code",
   "execution_count": 104,
   "metadata": {},
   "outputs": [],
   "source": [
    "dates = df['purchased_date']"
   ]
  },
  {
   "cell_type": "code",
   "execution_count": 105,
   "metadata": {},
   "outputs": [
    {
     "data": {
      "text/plain": [
       "datetime.date(2020, 5, 16)"
      ]
     },
     "execution_count": 105,
     "metadata": {},
     "output_type": "execute_result"
    }
   ],
   "source": [
    "fake.date_between(start_date=dates.min(), end_date=dates.max())"
   ]
  },
  {
   "cell_type": "code",
   "execution_count": 106,
   "metadata": {},
   "outputs": [],
   "source": [
    "dates_dict = {\n",
    "    date: fake.date_between(start_date=dates.min(), end_date=dates.max()).strftime('%Y-%m-%d')\n",
    "    for date in dates\n",
    "}"
   ]
  },
  {
   "cell_type": "code",
   "execution_count": 107,
   "metadata": {},
   "outputs": [
    {
     "data": {
      "text/plain": [
       "{Timestamp('2020-04-04 00:00:00'): '2020-04-09',\n",
       " Timestamp('2020-05-12 00:00:00'): '2020-05-10',\n",
       " Timestamp('2020-05-13 00:00:00'): '2020-05-04',\n",
       " Timestamp('2020-05-14 00:00:00'): '2020-05-16',\n",
       " Timestamp('2020-05-15 00:00:00'): '2020-05-06',\n",
       " Timestamp('2020-05-16 00:00:00'): '2020-04-25',\n",
       " Timestamp('2020-05-17 00:00:00'): '2020-04-30',\n",
       " Timestamp('2020-04-05 00:00:00'): '2020-05-09',\n",
       " Timestamp('2020-04-06 00:00:00'): '2020-04-16',\n",
       " Timestamp('2020-04-07 00:00:00'): '2020-04-27',\n",
       " Timestamp('2020-04-08 00:00:00'): '2020-04-10',\n",
       " Timestamp('2020-04-09 00:00:00'): '2020-04-14',\n",
       " Timestamp('2020-04-10 00:00:00'): '2020-04-26',\n",
       " Timestamp('2020-05-06 00:00:00'): '2020-04-12',\n",
       " Timestamp('2020-05-07 00:00:00'): '2020-04-28',\n",
       " Timestamp('2020-05-08 00:00:00'): '2020-04-28',\n",
       " Timestamp('2020-05-09 00:00:00'): '2020-04-17',\n",
       " Timestamp('2020-05-10 00:00:00'): '2020-04-11',\n",
       " Timestamp('2020-05-11 00:00:00'): '2020-04-22'}"
      ]
     },
     "execution_count": 107,
     "metadata": {},
     "output_type": "execute_result"
    }
   ],
   "source": [
    "dates_dict"
   ]
  },
  {
   "cell_type": "code",
   "execution_count": 108,
   "metadata": {},
   "outputs": [],
   "source": [
    "df['purchased_date'] = df['purchased_date'].map(dates_dict)"
   ]
  },
  {
   "cell_type": "markdown",
   "metadata": {},
   "source": [
    "# Original vs Final"
   ]
  },
  {
   "cell_type": "code",
   "execution_count": 110,
   "metadata": {},
   "outputs": [
    {
     "data": {
      "text/html": [
       "<div>\n",
       "<style scoped>\n",
       "    .dataframe tbody tr th:only-of-type {\n",
       "        vertical-align: middle;\n",
       "    }\n",
       "\n",
       "    .dataframe tbody tr th {\n",
       "        vertical-align: top;\n",
       "    }\n",
       "\n",
       "    .dataframe thead th {\n",
       "        text-align: right;\n",
       "    }\n",
       "</style>\n",
       "<table border=\"1\" class=\"dataframe\">\n",
       "  <thead>\n",
       "    <tr style=\"text-align: right;\">\n",
       "      <th></th>\n",
       "      <th>user_id</th>\n",
       "      <th>name</th>\n",
       "      <th>item</th>\n",
       "      <th>amount</th>\n",
       "      <th>category_id</th>\n",
       "      <th>purchased_quantity</th>\n",
       "      <th>purchased_date</th>\n",
       "    </tr>\n",
       "  </thead>\n",
       "  <tbody>\n",
       "    <tr>\n",
       "      <th>0</th>\n",
       "      <td>1004</td>\n",
       "      <td>Donna Martin</td>\n",
       "      <td>TV</td>\n",
       "      <td>199.95</td>\n",
       "      <td>14</td>\n",
       "      <td>1</td>\n",
       "      <td>2020-04-04</td>\n",
       "    </tr>\n",
       "    <tr>\n",
       "      <th>1</th>\n",
       "      <td>1004</td>\n",
       "      <td>Donna Martin</td>\n",
       "      <td>Vaccum</td>\n",
       "      <td>95.12</td>\n",
       "      <td>15</td>\n",
       "      <td>2</td>\n",
       "      <td>2020-05-12</td>\n",
       "    </tr>\n",
       "    <tr>\n",
       "      <th>2</th>\n",
       "      <td>1003</td>\n",
       "      <td>Bobby Bradley</td>\n",
       "      <td>Cup</td>\n",
       "      <td>12.76</td>\n",
       "      <td>44</td>\n",
       "      <td>1</td>\n",
       "      <td>2020-05-13</td>\n",
       "    </tr>\n",
       "    <tr>\n",
       "      <th>3</th>\n",
       "      <td>1011</td>\n",
       "      <td>Austin Thomas</td>\n",
       "      <td>Plate</td>\n",
       "      <td>5.55</td>\n",
       "      <td>156</td>\n",
       "      <td>1</td>\n",
       "      <td>2020-05-14</td>\n",
       "    </tr>\n",
       "    <tr>\n",
       "      <th>4</th>\n",
       "      <td>1000</td>\n",
       "      <td>Jonathan Medina</td>\n",
       "      <td>Lotion</td>\n",
       "      <td>4.44</td>\n",
       "      <td>23</td>\n",
       "      <td>2</td>\n",
       "      <td>2020-05-15</td>\n",
       "    </tr>\n",
       "    <tr>\n",
       "      <th>5</th>\n",
       "      <td>1000</td>\n",
       "      <td>Jonathan Medina</td>\n",
       "      <td>Toothbrush</td>\n",
       "      <td>5.96</td>\n",
       "      <td>123</td>\n",
       "      <td>1</td>\n",
       "      <td>2020-05-16</td>\n",
       "    </tr>\n",
       "    <tr>\n",
       "      <th>6</th>\n",
       "      <td>1019</td>\n",
       "      <td>Brandon Beasley</td>\n",
       "      <td>Sanitizer</td>\n",
       "      <td>2.23</td>\n",
       "      <td>12</td>\n",
       "      <td>3</td>\n",
       "      <td>2020-05-17</td>\n",
       "    </tr>\n",
       "    <tr>\n",
       "      <th>7</th>\n",
       "      <td>1011</td>\n",
       "      <td>Austin Thomas</td>\n",
       "      <td>Wine</td>\n",
       "      <td>15.67</td>\n",
       "      <td>122</td>\n",
       "      <td>1</td>\n",
       "      <td>2020-04-04</td>\n",
       "    </tr>\n",
       "    <tr>\n",
       "      <th>8</th>\n",
       "      <td>1014</td>\n",
       "      <td>Susan Morales</td>\n",
       "      <td>Yoga mat</td>\n",
       "      <td>45.53</td>\n",
       "      <td>1212</td>\n",
       "      <td>2</td>\n",
       "      <td>2020-04-05</td>\n",
       "    </tr>\n",
       "    <tr>\n",
       "      <th>9</th>\n",
       "      <td>1001</td>\n",
       "      <td>Rachael Massey</td>\n",
       "      <td>Beer</td>\n",
       "      <td>2.45</td>\n",
       "      <td>42</td>\n",
       "      <td>4</td>\n",
       "      <td>2020-04-06</td>\n",
       "    </tr>\n",
       "    <tr>\n",
       "      <th>10</th>\n",
       "      <td>1005</td>\n",
       "      <td>Ross Strickland</td>\n",
       "      <td>Coffee</td>\n",
       "      <td>8.45</td>\n",
       "      <td>356</td>\n",
       "      <td>5</td>\n",
       "      <td>2020-04-07</td>\n",
       "    </tr>\n",
       "    <tr>\n",
       "      <th>11</th>\n",
       "      <td>1014</td>\n",
       "      <td>Susan Morales</td>\n",
       "      <td>Lotion</td>\n",
       "      <td>4.44</td>\n",
       "      <td>23</td>\n",
       "      <td>3</td>\n",
       "      <td>2020-04-08</td>\n",
       "    </tr>\n",
       "    <tr>\n",
       "      <th>12</th>\n",
       "      <td>1020</td>\n",
       "      <td>Jennifer Cox</td>\n",
       "      <td>Coffee</td>\n",
       "      <td>8.45</td>\n",
       "      <td>356</td>\n",
       "      <td>4</td>\n",
       "      <td>2020-04-09</td>\n",
       "    </tr>\n",
       "    <tr>\n",
       "      <th>13</th>\n",
       "      <td>1001</td>\n",
       "      <td>Danny Lynn DDS</td>\n",
       "      <td>TV</td>\n",
       "      <td>199.95</td>\n",
       "      <td>14</td>\n",
       "      <td>2</td>\n",
       "      <td>2020-04-10</td>\n",
       "    </tr>\n",
       "    <tr>\n",
       "      <th>14</th>\n",
       "      <td>1019</td>\n",
       "      <td>Brandon Beasley</td>\n",
       "      <td>Vaccum</td>\n",
       "      <td>95.12</td>\n",
       "      <td>15</td>\n",
       "      <td>6</td>\n",
       "      <td>2020-05-06</td>\n",
       "    </tr>\n",
       "    <tr>\n",
       "      <th>15</th>\n",
       "      <td>1006</td>\n",
       "      <td>Ashley Nichols</td>\n",
       "      <td>Sanitizer</td>\n",
       "      <td>2.23</td>\n",
       "      <td>12</td>\n",
       "      <td>1</td>\n",
       "      <td>2020-05-07</td>\n",
       "    </tr>\n",
       "    <tr>\n",
       "      <th>16</th>\n",
       "      <td>1015</td>\n",
       "      <td>Angela Oneill</td>\n",
       "      <td>Wine</td>\n",
       "      <td>15.67</td>\n",
       "      <td>122</td>\n",
       "      <td>2</td>\n",
       "      <td>2020-05-08</td>\n",
       "    </tr>\n",
       "    <tr>\n",
       "      <th>17</th>\n",
       "      <td>1009</td>\n",
       "      <td>Cody Moreno</td>\n",
       "      <td>Plate</td>\n",
       "      <td>5.55</td>\n",
       "      <td>156</td>\n",
       "      <td>4</td>\n",
       "      <td>2020-05-09</td>\n",
       "    </tr>\n",
       "    <tr>\n",
       "      <th>18</th>\n",
       "      <td>1005</td>\n",
       "      <td>Douglas Atkinson</td>\n",
       "      <td>TV</td>\n",
       "      <td>199.95</td>\n",
       "      <td>14</td>\n",
       "      <td>1</td>\n",
       "      <td>2020-05-10</td>\n",
       "    </tr>\n",
       "    <tr>\n",
       "      <th>19</th>\n",
       "      <td>1016</td>\n",
       "      <td>Ellen Mccarthy</td>\n",
       "      <td>Vaccum</td>\n",
       "      <td>95.12</td>\n",
       "      <td>15</td>\n",
       "      <td>1</td>\n",
       "      <td>2020-05-11</td>\n",
       "    </tr>\n",
       "  </tbody>\n",
       "</table>\n",
       "</div>"
      ],
      "text/plain": [
       "    user_id              name        item  amount  category_id  \\\n",
       "0      1004      Donna Martin          TV  199.95           14   \n",
       "1      1004      Donna Martin      Vaccum   95.12           15   \n",
       "2      1003     Bobby Bradley         Cup   12.76           44   \n",
       "3      1011     Austin Thomas       Plate    5.55          156   \n",
       "4      1000   Jonathan Medina      Lotion    4.44           23   \n",
       "5      1000   Jonathan Medina  Toothbrush    5.96          123   \n",
       "6      1019   Brandon Beasley   Sanitizer    2.23           12   \n",
       "7      1011     Austin Thomas        Wine   15.67          122   \n",
       "8      1014     Susan Morales    Yoga mat   45.53         1212   \n",
       "9      1001    Rachael Massey        Beer    2.45           42   \n",
       "10     1005   Ross Strickland      Coffee    8.45          356   \n",
       "11     1014     Susan Morales      Lotion    4.44           23   \n",
       "12     1020      Jennifer Cox      Coffee    8.45          356   \n",
       "13     1001    Danny Lynn DDS          TV  199.95           14   \n",
       "14     1019   Brandon Beasley      Vaccum   95.12           15   \n",
       "15     1006    Ashley Nichols   Sanitizer    2.23           12   \n",
       "16     1015     Angela Oneill        Wine   15.67          122   \n",
       "17     1009       Cody Moreno       Plate    5.55          156   \n",
       "18     1005  Douglas Atkinson          TV  199.95           14   \n",
       "19     1016    Ellen Mccarthy      Vaccum   95.12           15   \n",
       "\n",
       "    purchased_quantity purchased_date  \n",
       "0                    1     2020-04-04  \n",
       "1                    2     2020-05-12  \n",
       "2                    1     2020-05-13  \n",
       "3                    1     2020-05-14  \n",
       "4                    2     2020-05-15  \n",
       "5                    1     2020-05-16  \n",
       "6                    3     2020-05-17  \n",
       "7                    1     2020-04-04  \n",
       "8                    2     2020-04-05  \n",
       "9                    4     2020-04-06  \n",
       "10                   5     2020-04-07  \n",
       "11                   3     2020-04-08  \n",
       "12                   4     2020-04-09  \n",
       "13                   2     2020-04-10  \n",
       "14                   6     2020-05-06  \n",
       "15                   1     2020-05-07  \n",
       "16                   2     2020-05-08  \n",
       "17                   4     2020-05-09  \n",
       "18                   1     2020-05-10  \n",
       "19                   1     2020-05-11  "
      ]
     },
     "execution_count": 110,
     "metadata": {},
     "output_type": "execute_result"
    }
   ],
   "source": [
    "df_original"
   ]
  },
  {
   "cell_type": "code",
   "execution_count": 111,
   "metadata": {},
   "outputs": [
    {
     "data": {
      "text/html": [
       "<div>\n",
       "<style scoped>\n",
       "    .dataframe tbody tr th:only-of-type {\n",
       "        vertical-align: middle;\n",
       "    }\n",
       "\n",
       "    .dataframe tbody tr th {\n",
       "        vertical-align: top;\n",
       "    }\n",
       "\n",
       "    .dataframe thead th {\n",
       "        text-align: right;\n",
       "    }\n",
       "</style>\n",
       "<table border=\"1\" class=\"dataframe\">\n",
       "  <thead>\n",
       "    <tr style=\"text-align: right;\">\n",
       "      <th></th>\n",
       "      <th>user_id</th>\n",
       "      <th>name</th>\n",
       "      <th>item</th>\n",
       "      <th>amount</th>\n",
       "      <th>category_id</th>\n",
       "      <th>purchased_quantity</th>\n",
       "      <th>purchased_date</th>\n",
       "    </tr>\n",
       "  </thead>\n",
       "  <tbody>\n",
       "    <tr>\n",
       "      <th>0</th>\n",
       "      <td>cb57a54b-4ee0-4e3f-9ecc-d917b368bcfd</td>\n",
       "      <td>Kristin Gonzalez</td>\n",
       "      <td>Category_179 0</td>\n",
       "      <td>199.95</td>\n",
       "      <td>14</td>\n",
       "      <td>6</td>\n",
       "      <td>2020-04-09</td>\n",
       "    </tr>\n",
       "    <tr>\n",
       "      <th>1</th>\n",
       "      <td>cb57a54b-4ee0-4e3f-9ecc-d917b368bcfd</td>\n",
       "      <td>Kristin Gonzalez</td>\n",
       "      <td>Category_179 1</td>\n",
       "      <td>95.12</td>\n",
       "      <td>15</td>\n",
       "      <td>2</td>\n",
       "      <td>2020-05-10</td>\n",
       "    </tr>\n",
       "    <tr>\n",
       "      <th>2</th>\n",
       "      <td>f4d555f4-f715-4f54-9e17-18dde69ad6f4</td>\n",
       "      <td>Katie Mccormick</td>\n",
       "      <td>Category_179 2</td>\n",
       "      <td>12.76</td>\n",
       "      <td>44</td>\n",
       "      <td>6</td>\n",
       "      <td>2020-05-04</td>\n",
       "    </tr>\n",
       "    <tr>\n",
       "      <th>3</th>\n",
       "      <td>581d2436-9a71-4329-84b6-8f648a6af777</td>\n",
       "      <td>Robert Miller</td>\n",
       "      <td>Category_179 3</td>\n",
       "      <td>5.55</td>\n",
       "      <td>156</td>\n",
       "      <td>6</td>\n",
       "      <td>2020-05-16</td>\n",
       "    </tr>\n",
       "    <tr>\n",
       "      <th>4</th>\n",
       "      <td>172cc469-9271-4650-926b-455b9b337411</td>\n",
       "      <td>Taylor Smith</td>\n",
       "      <td>Category_179 4</td>\n",
       "      <td>4.44</td>\n",
       "      <td>23</td>\n",
       "      <td>2</td>\n",
       "      <td>2020-05-06</td>\n",
       "    </tr>\n",
       "    <tr>\n",
       "      <th>5</th>\n",
       "      <td>172cc469-9271-4650-926b-455b9b337411</td>\n",
       "      <td>Taylor Smith</td>\n",
       "      <td>Category_179 5</td>\n",
       "      <td>5.96</td>\n",
       "      <td>123</td>\n",
       "      <td>6</td>\n",
       "      <td>2020-04-25</td>\n",
       "    </tr>\n",
       "    <tr>\n",
       "      <th>6</th>\n",
       "      <td>dec64b5f-8a3e-48b4-8143-78cefa4a6283</td>\n",
       "      <td>William Rosales</td>\n",
       "      <td>Category_179 6</td>\n",
       "      <td>2.23</td>\n",
       "      <td>12</td>\n",
       "      <td>5</td>\n",
       "      <td>2020-04-30</td>\n",
       "    </tr>\n",
       "    <tr>\n",
       "      <th>7</th>\n",
       "      <td>581d2436-9a71-4329-84b6-8f648a6af777</td>\n",
       "      <td>Robert Miller</td>\n",
       "      <td>Category_179 7</td>\n",
       "      <td>15.67</td>\n",
       "      <td>122</td>\n",
       "      <td>6</td>\n",
       "      <td>2020-04-09</td>\n",
       "    </tr>\n",
       "    <tr>\n",
       "      <th>8</th>\n",
       "      <td>5c2041ba-c4fb-48ce-859a-8c0bfc0652c0</td>\n",
       "      <td>Angela Martinez</td>\n",
       "      <td>Category_179 8</td>\n",
       "      <td>45.53</td>\n",
       "      <td>1212</td>\n",
       "      <td>2</td>\n",
       "      <td>2020-05-09</td>\n",
       "    </tr>\n",
       "    <tr>\n",
       "      <th>9</th>\n",
       "      <td>f26141f9-a74c-442e-8545-5ce9c0d6b9d2</td>\n",
       "      <td>Jason Carter</td>\n",
       "      <td>Category_179 9</td>\n",
       "      <td>2.45</td>\n",
       "      <td>42</td>\n",
       "      <td>1</td>\n",
       "      <td>2020-04-16</td>\n",
       "    </tr>\n",
       "    <tr>\n",
       "      <th>10</th>\n",
       "      <td>3fbf0820-4f3a-4566-aced-a635542df823</td>\n",
       "      <td>Nancy Harris</td>\n",
       "      <td>Category_179 10</td>\n",
       "      <td>8.45</td>\n",
       "      <td>356</td>\n",
       "      <td>3</td>\n",
       "      <td>2020-04-27</td>\n",
       "    </tr>\n",
       "    <tr>\n",
       "      <th>11</th>\n",
       "      <td>5c2041ba-c4fb-48ce-859a-8c0bfc0652c0</td>\n",
       "      <td>Angela Martinez</td>\n",
       "      <td>Category_179 4</td>\n",
       "      <td>4.44</td>\n",
       "      <td>23</td>\n",
       "      <td>5</td>\n",
       "      <td>2020-04-10</td>\n",
       "    </tr>\n",
       "    <tr>\n",
       "      <th>12</th>\n",
       "      <td>a4b75364-804c-4f95-b927-f31f95fdc48a</td>\n",
       "      <td>Andrew Mcintosh</td>\n",
       "      <td>Category_179 10</td>\n",
       "      <td>8.45</td>\n",
       "      <td>356</td>\n",
       "      <td>1</td>\n",
       "      <td>2020-04-14</td>\n",
       "    </tr>\n",
       "    <tr>\n",
       "      <th>13</th>\n",
       "      <td>f26141f9-a74c-442e-8545-5ce9c0d6b9d2</td>\n",
       "      <td>Tina Mitchell</td>\n",
       "      <td>Category_179 0</td>\n",
       "      <td>199.95</td>\n",
       "      <td>14</td>\n",
       "      <td>2</td>\n",
       "      <td>2020-04-26</td>\n",
       "    </tr>\n",
       "    <tr>\n",
       "      <th>14</th>\n",
       "      <td>dec64b5f-8a3e-48b4-8143-78cefa4a6283</td>\n",
       "      <td>William Rosales</td>\n",
       "      <td>Category_179 1</td>\n",
       "      <td>95.12</td>\n",
       "      <td>15</td>\n",
       "      <td>2</td>\n",
       "      <td>2020-04-12</td>\n",
       "    </tr>\n",
       "    <tr>\n",
       "      <th>15</th>\n",
       "      <td>2c80313d-3b0b-464e-9071-21a7ddbce865</td>\n",
       "      <td>Mark Garcia</td>\n",
       "      <td>Category_179 6</td>\n",
       "      <td>2.23</td>\n",
       "      <td>12</td>\n",
       "      <td>6</td>\n",
       "      <td>2020-04-28</td>\n",
       "    </tr>\n",
       "    <tr>\n",
       "      <th>16</th>\n",
       "      <td>1e7db155-07b7-4f03-9e8f-a3d5d9ae23d4</td>\n",
       "      <td>Whitney Brock</td>\n",
       "      <td>Category_179 7</td>\n",
       "      <td>15.67</td>\n",
       "      <td>122</td>\n",
       "      <td>2</td>\n",
       "      <td>2020-04-28</td>\n",
       "    </tr>\n",
       "    <tr>\n",
       "      <th>17</th>\n",
       "      <td>bc01178b-de82-48f1-8a11-fb83745f04eb</td>\n",
       "      <td>Amanda Martin MD</td>\n",
       "      <td>Category_179 3</td>\n",
       "      <td>5.55</td>\n",
       "      <td>156</td>\n",
       "      <td>1</td>\n",
       "      <td>2020-04-17</td>\n",
       "    </tr>\n",
       "    <tr>\n",
       "      <th>18</th>\n",
       "      <td>3fbf0820-4f3a-4566-aced-a635542df823</td>\n",
       "      <td>Mr. Ivan Salazar MD</td>\n",
       "      <td>Category_179 0</td>\n",
       "      <td>199.95</td>\n",
       "      <td>14</td>\n",
       "      <td>6</td>\n",
       "      <td>2020-04-11</td>\n",
       "    </tr>\n",
       "    <tr>\n",
       "      <th>19</th>\n",
       "      <td>1ac52da8-9810-460d-9c9e-3c439a46e5c7</td>\n",
       "      <td>Sheena Atkinson</td>\n",
       "      <td>Category_179 1</td>\n",
       "      <td>95.12</td>\n",
       "      <td>15</td>\n",
       "      <td>6</td>\n",
       "      <td>2020-04-22</td>\n",
       "    </tr>\n",
       "  </tbody>\n",
       "</table>\n",
       "</div>"
      ],
      "text/plain": [
       "                                 user_id                 name  \\\n",
       "0   cb57a54b-4ee0-4e3f-9ecc-d917b368bcfd     Kristin Gonzalez   \n",
       "1   cb57a54b-4ee0-4e3f-9ecc-d917b368bcfd     Kristin Gonzalez   \n",
       "2   f4d555f4-f715-4f54-9e17-18dde69ad6f4      Katie Mccormick   \n",
       "3   581d2436-9a71-4329-84b6-8f648a6af777        Robert Miller   \n",
       "4   172cc469-9271-4650-926b-455b9b337411         Taylor Smith   \n",
       "5   172cc469-9271-4650-926b-455b9b337411         Taylor Smith   \n",
       "6   dec64b5f-8a3e-48b4-8143-78cefa4a6283      William Rosales   \n",
       "7   581d2436-9a71-4329-84b6-8f648a6af777        Robert Miller   \n",
       "8   5c2041ba-c4fb-48ce-859a-8c0bfc0652c0      Angela Martinez   \n",
       "9   f26141f9-a74c-442e-8545-5ce9c0d6b9d2         Jason Carter   \n",
       "10  3fbf0820-4f3a-4566-aced-a635542df823         Nancy Harris   \n",
       "11  5c2041ba-c4fb-48ce-859a-8c0bfc0652c0      Angela Martinez   \n",
       "12  a4b75364-804c-4f95-b927-f31f95fdc48a      Andrew Mcintosh   \n",
       "13  f26141f9-a74c-442e-8545-5ce9c0d6b9d2        Tina Mitchell   \n",
       "14  dec64b5f-8a3e-48b4-8143-78cefa4a6283      William Rosales   \n",
       "15  2c80313d-3b0b-464e-9071-21a7ddbce865          Mark Garcia   \n",
       "16  1e7db155-07b7-4f03-9e8f-a3d5d9ae23d4        Whitney Brock   \n",
       "17  bc01178b-de82-48f1-8a11-fb83745f04eb     Amanda Martin MD   \n",
       "18  3fbf0820-4f3a-4566-aced-a635542df823  Mr. Ivan Salazar MD   \n",
       "19  1ac52da8-9810-460d-9c9e-3c439a46e5c7      Sheena Atkinson   \n",
       "\n",
       "               item  amount  category_id  purchased_quantity purchased_date  \n",
       "0    Category_179 0  199.95           14                   6     2020-04-09  \n",
       "1    Category_179 1   95.12           15                   2     2020-05-10  \n",
       "2    Category_179 2   12.76           44                   6     2020-05-04  \n",
       "3    Category_179 3    5.55          156                   6     2020-05-16  \n",
       "4    Category_179 4    4.44           23                   2     2020-05-06  \n",
       "5    Category_179 5    5.96          123                   6     2020-04-25  \n",
       "6    Category_179 6    2.23           12                   5     2020-04-30  \n",
       "7    Category_179 7   15.67          122                   6     2020-04-09  \n",
       "8    Category_179 8   45.53         1212                   2     2020-05-09  \n",
       "9    Category_179 9    2.45           42                   1     2020-04-16  \n",
       "10  Category_179 10    8.45          356                   3     2020-04-27  \n",
       "11   Category_179 4    4.44           23                   5     2020-04-10  \n",
       "12  Category_179 10    8.45          356                   1     2020-04-14  \n",
       "13   Category_179 0  199.95           14                   2     2020-04-26  \n",
       "14   Category_179 1   95.12           15                   2     2020-04-12  \n",
       "15   Category_179 6    2.23           12                   6     2020-04-28  \n",
       "16   Category_179 7   15.67          122                   2     2020-04-28  \n",
       "17   Category_179 3    5.55          156                   1     2020-04-17  \n",
       "18   Category_179 0  199.95           14                   6     2020-04-11  \n",
       "19   Category_179 1   95.12           15                   6     2020-04-22  "
      ]
     },
     "execution_count": 111,
     "metadata": {},
     "output_type": "execute_result"
    }
   ],
   "source": [
    "df"
   ]
  }
 ],
 "metadata": {
  "kernelspec": {
   "display_name": "Python 3",
   "language": "python",
   "name": "python3"
  },
  "language_info": {
   "codemirror_mode": {
    "name": "ipython",
    "version": 3
   },
   "file_extension": ".py",
   "mimetype": "text/x-python",
   "name": "python",
   "nbconvert_exporter": "python",
   "pygments_lexer": "ipython3",
   "version": "3.8.5"
  }
 },
 "nbformat": 4,
 "nbformat_minor": 4
}
