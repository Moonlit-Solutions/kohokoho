{
 "cells": [
  {
   "cell_type": "markdown",
   "metadata": {},
   "source": [
    "# First POC for dataset anonymization"
   ]
  },
  {
   "cell_type": "markdown",
   "metadata": {},
   "source": [
    "## Imports"
   ]
  },
  {
   "cell_type": "code",
   "execution_count": 1,
   "metadata": {},
   "outputs": [],
   "source": [
    "import pandas as pd\n",
    "import random\n",
    "import datetime as dt\n",
    "from faker import Faker"
   ]
  },
  {
   "cell_type": "code",
   "execution_count": 2,
   "metadata": {},
   "outputs": [],
   "source": [
    "fake = Faker()"
   ]
  },
  {
   "cell_type": "code",
   "execution_count": 3,
   "metadata": {},
   "outputs": [
    {
     "name": "stdout",
     "output_type": "stream",
     "text": [
      "Laura Patel\n",
      "Devon Wise\n",
      "Lynn Perry\n",
      "Sandra Gibson\n",
      "Melissa Smith\n",
      "Abigail King\n",
      "Jeanne Saunders\n",
      "Chad Chavez\n",
      "William Francis\n",
      "Holly Watson\n",
      "Caroline Elliott\n",
      "William Davis\n",
      "Kent Lopez\n",
      "Heather Lewis\n",
      "Brenda Small\n",
      "Christopher Ramirez\n",
      "Faith Barr\n",
      "Lynn Gonzalez\n",
      "Megan Smith\n",
      "Timothy Riley\n"
     ]
    }
   ],
   "source": [
    "for _ in range(20):\n",
    "  print(fake.name())"
   ]
  },
  {
   "cell_type": "markdown",
   "metadata": {},
   "source": [
    "## Create and import a sample dataset"
   ]
  },
  {
   "cell_type": "code",
   "execution_count": 4,
   "metadata": {},
   "outputs": [],
   "source": [
    "df = pd.read_csv('../datasets/test_dataset1.csv', parse_dates=['purchased_date'])"
   ]
  },
  {
   "cell_type": "code",
   "execution_count": 5,
   "metadata": {},
   "outputs": [],
   "source": [
    "df_original = df.copy()"
   ]
  },
  {
   "cell_type": "code",
   "execution_count": 6,
   "metadata": {},
   "outputs": [
    {
     "data": {
      "text/html": [
       "<div>\n",
       "<style scoped>\n",
       "    .dataframe tbody tr th:only-of-type {\n",
       "        vertical-align: middle;\n",
       "    }\n",
       "\n",
       "    .dataframe tbody tr th {\n",
       "        vertical-align: top;\n",
       "    }\n",
       "\n",
       "    .dataframe thead th {\n",
       "        text-align: right;\n",
       "    }\n",
       "</style>\n",
       "<table border=\"1\" class=\"dataframe\">\n",
       "  <thead>\n",
       "    <tr style=\"text-align: right;\">\n",
       "      <th></th>\n",
       "      <th>user_id</th>\n",
       "      <th>name</th>\n",
       "      <th>item</th>\n",
       "      <th>amount</th>\n",
       "      <th>category_id</th>\n",
       "      <th>purchased_quantity</th>\n",
       "      <th>purchased_date</th>\n",
       "    </tr>\n",
       "  </thead>\n",
       "  <tbody>\n",
       "    <tr>\n",
       "      <th>0</th>\n",
       "      <td>1004</td>\n",
       "      <td>Donna Martin</td>\n",
       "      <td>TV</td>\n",
       "      <td>199.95</td>\n",
       "      <td>14</td>\n",
       "      <td>1</td>\n",
       "      <td>2020-04-04</td>\n",
       "    </tr>\n",
       "    <tr>\n",
       "      <th>1</th>\n",
       "      <td>1004</td>\n",
       "      <td>Donna Martin</td>\n",
       "      <td>Vaccum</td>\n",
       "      <td>95.12</td>\n",
       "      <td>15</td>\n",
       "      <td>2</td>\n",
       "      <td>2020-05-12</td>\n",
       "    </tr>\n",
       "    <tr>\n",
       "      <th>2</th>\n",
       "      <td>1003</td>\n",
       "      <td>Bobby Bradley</td>\n",
       "      <td>Cup</td>\n",
       "      <td>12.76</td>\n",
       "      <td>44</td>\n",
       "      <td>1</td>\n",
       "      <td>2020-05-13</td>\n",
       "    </tr>\n",
       "    <tr>\n",
       "      <th>3</th>\n",
       "      <td>1011</td>\n",
       "      <td>Austin Thomas</td>\n",
       "      <td>Plate</td>\n",
       "      <td>5.55</td>\n",
       "      <td>156</td>\n",
       "      <td>1</td>\n",
       "      <td>2020-05-14</td>\n",
       "    </tr>\n",
       "    <tr>\n",
       "      <th>4</th>\n",
       "      <td>1000</td>\n",
       "      <td>Jonathan Medina</td>\n",
       "      <td>Lotion</td>\n",
       "      <td>4.44</td>\n",
       "      <td>23</td>\n",
       "      <td>2</td>\n",
       "      <td>2020-05-15</td>\n",
       "    </tr>\n",
       "    <tr>\n",
       "      <th>5</th>\n",
       "      <td>1000</td>\n",
       "      <td>Jonathan Medina</td>\n",
       "      <td>Toothbrush</td>\n",
       "      <td>5.96</td>\n",
       "      <td>123</td>\n",
       "      <td>1</td>\n",
       "      <td>2020-05-16</td>\n",
       "    </tr>\n",
       "    <tr>\n",
       "      <th>6</th>\n",
       "      <td>1019</td>\n",
       "      <td>Brandon Beasley</td>\n",
       "      <td>Sanitizer</td>\n",
       "      <td>2.23</td>\n",
       "      <td>12</td>\n",
       "      <td>3</td>\n",
       "      <td>2020-05-17</td>\n",
       "    </tr>\n",
       "    <tr>\n",
       "      <th>7</th>\n",
       "      <td>1011</td>\n",
       "      <td>Austin Thomas</td>\n",
       "      <td>Wine</td>\n",
       "      <td>15.67</td>\n",
       "      <td>122</td>\n",
       "      <td>1</td>\n",
       "      <td>2020-04-04</td>\n",
       "    </tr>\n",
       "    <tr>\n",
       "      <th>8</th>\n",
       "      <td>1014</td>\n",
       "      <td>Susan Morales</td>\n",
       "      <td>Yoga mat</td>\n",
       "      <td>45.53</td>\n",
       "      <td>1212</td>\n",
       "      <td>2</td>\n",
       "      <td>2020-04-05</td>\n",
       "    </tr>\n",
       "    <tr>\n",
       "      <th>9</th>\n",
       "      <td>1001</td>\n",
       "      <td>Rachael Massey</td>\n",
       "      <td>Beer</td>\n",
       "      <td>2.45</td>\n",
       "      <td>42</td>\n",
       "      <td>4</td>\n",
       "      <td>2020-04-06</td>\n",
       "    </tr>\n",
       "    <tr>\n",
       "      <th>10</th>\n",
       "      <td>1005</td>\n",
       "      <td>Ross Strickland</td>\n",
       "      <td>Coffee</td>\n",
       "      <td>8.45</td>\n",
       "      <td>356</td>\n",
       "      <td>5</td>\n",
       "      <td>2020-04-07</td>\n",
       "    </tr>\n",
       "    <tr>\n",
       "      <th>11</th>\n",
       "      <td>1014</td>\n",
       "      <td>Susan Morales</td>\n",
       "      <td>Lotion</td>\n",
       "      <td>4.44</td>\n",
       "      <td>23</td>\n",
       "      <td>3</td>\n",
       "      <td>2020-04-08</td>\n",
       "    </tr>\n",
       "    <tr>\n",
       "      <th>12</th>\n",
       "      <td>1020</td>\n",
       "      <td>Jennifer Cox</td>\n",
       "      <td>Coffee</td>\n",
       "      <td>8.45</td>\n",
       "      <td>356</td>\n",
       "      <td>4</td>\n",
       "      <td>2020-04-09</td>\n",
       "    </tr>\n",
       "    <tr>\n",
       "      <th>13</th>\n",
       "      <td>1001</td>\n",
       "      <td>Danny Lynn DDS</td>\n",
       "      <td>TV</td>\n",
       "      <td>199.95</td>\n",
       "      <td>14</td>\n",
       "      <td>2</td>\n",
       "      <td>2020-04-10</td>\n",
       "    </tr>\n",
       "    <tr>\n",
       "      <th>14</th>\n",
       "      <td>1019</td>\n",
       "      <td>Brandon Beasley</td>\n",
       "      <td>Vaccum</td>\n",
       "      <td>95.12</td>\n",
       "      <td>15</td>\n",
       "      <td>6</td>\n",
       "      <td>2020-05-06</td>\n",
       "    </tr>\n",
       "    <tr>\n",
       "      <th>15</th>\n",
       "      <td>1006</td>\n",
       "      <td>Ashley Nichols</td>\n",
       "      <td>Sanitizer</td>\n",
       "      <td>2.23</td>\n",
       "      <td>12</td>\n",
       "      <td>1</td>\n",
       "      <td>2020-05-07</td>\n",
       "    </tr>\n",
       "    <tr>\n",
       "      <th>16</th>\n",
       "      <td>1015</td>\n",
       "      <td>Angela Oneill</td>\n",
       "      <td>Wine</td>\n",
       "      <td>15.67</td>\n",
       "      <td>122</td>\n",
       "      <td>2</td>\n",
       "      <td>2020-05-08</td>\n",
       "    </tr>\n",
       "    <tr>\n",
       "      <th>17</th>\n",
       "      <td>1009</td>\n",
       "      <td>Cody Moreno</td>\n",
       "      <td>Plate</td>\n",
       "      <td>5.55</td>\n",
       "      <td>156</td>\n",
       "      <td>4</td>\n",
       "      <td>2020-05-09</td>\n",
       "    </tr>\n",
       "    <tr>\n",
       "      <th>18</th>\n",
       "      <td>1005</td>\n",
       "      <td>Douglas Atkinson</td>\n",
       "      <td>TV</td>\n",
       "      <td>199.95</td>\n",
       "      <td>14</td>\n",
       "      <td>1</td>\n",
       "      <td>2020-05-10</td>\n",
       "    </tr>\n",
       "    <tr>\n",
       "      <th>19</th>\n",
       "      <td>1016</td>\n",
       "      <td>Ellen Mccarthy</td>\n",
       "      <td>Vaccum</td>\n",
       "      <td>95.12</td>\n",
       "      <td>15</td>\n",
       "      <td>1</td>\n",
       "      <td>2020-05-11</td>\n",
       "    </tr>\n",
       "  </tbody>\n",
       "</table>\n",
       "</div>"
      ],
      "text/plain": [
       "    user_id              name        item  amount  category_id  \\\n",
       "0      1004      Donna Martin          TV  199.95           14   \n",
       "1      1004      Donna Martin      Vaccum   95.12           15   \n",
       "2      1003     Bobby Bradley         Cup   12.76           44   \n",
       "3      1011     Austin Thomas       Plate    5.55          156   \n",
       "4      1000   Jonathan Medina      Lotion    4.44           23   \n",
       "5      1000   Jonathan Medina  Toothbrush    5.96          123   \n",
       "6      1019   Brandon Beasley   Sanitizer    2.23           12   \n",
       "7      1011     Austin Thomas        Wine   15.67          122   \n",
       "8      1014     Susan Morales    Yoga mat   45.53         1212   \n",
       "9      1001    Rachael Massey        Beer    2.45           42   \n",
       "10     1005   Ross Strickland      Coffee    8.45          356   \n",
       "11     1014     Susan Morales      Lotion    4.44           23   \n",
       "12     1020      Jennifer Cox      Coffee    8.45          356   \n",
       "13     1001    Danny Lynn DDS          TV  199.95           14   \n",
       "14     1019   Brandon Beasley      Vaccum   95.12           15   \n",
       "15     1006    Ashley Nichols   Sanitizer    2.23           12   \n",
       "16     1015     Angela Oneill        Wine   15.67          122   \n",
       "17     1009       Cody Moreno       Plate    5.55          156   \n",
       "18     1005  Douglas Atkinson          TV  199.95           14   \n",
       "19     1016    Ellen Mccarthy      Vaccum   95.12           15   \n",
       "\n",
       "    purchased_quantity purchased_date  \n",
       "0                    1     2020-04-04  \n",
       "1                    2     2020-05-12  \n",
       "2                    1     2020-05-13  \n",
       "3                    1     2020-05-14  \n",
       "4                    2     2020-05-15  \n",
       "5                    1     2020-05-16  \n",
       "6                    3     2020-05-17  \n",
       "7                    1     2020-04-04  \n",
       "8                    2     2020-04-05  \n",
       "9                    4     2020-04-06  \n",
       "10                   5     2020-04-07  \n",
       "11                   3     2020-04-08  \n",
       "12                   4     2020-04-09  \n",
       "13                   2     2020-04-10  \n",
       "14                   6     2020-05-06  \n",
       "15                   1     2020-05-07  \n",
       "16                   2     2020-05-08  \n",
       "17                   4     2020-05-09  \n",
       "18                   1     2020-05-10  \n",
       "19                   1     2020-05-11  "
      ]
     },
     "execution_count": 6,
     "metadata": {},
     "output_type": "execute_result"
    }
   ],
   "source": [
    "df"
   ]
  },
  {
   "cell_type": "markdown",
   "metadata": {},
   "source": [
    "## Replace names"
   ]
  },
  {
   "cell_type": "code",
   "execution_count": 7,
   "metadata": {},
   "outputs": [],
   "source": [
    "unique_names = df['name'].unique()"
   ]
  },
  {
   "cell_type": "code",
   "execution_count": 8,
   "metadata": {},
   "outputs": [
    {
     "data": {
      "text/plain": [
       "array(['Donna Martin', 'Bobby Bradley', 'Austin Thomas',\n",
       "       'Jonathan Medina', 'Brandon Beasley', 'Susan Morales',\n",
       "       'Rachael Massey', 'Ross Strickland', 'Jennifer Cox',\n",
       "       'Danny Lynn DDS', 'Ashley Nichols', 'Angela Oneill', 'Cody Moreno',\n",
       "       'Douglas Atkinson', 'Ellen Mccarthy'], dtype=object)"
      ]
     },
     "execution_count": 8,
     "metadata": {},
     "output_type": "execute_result"
    }
   ],
   "source": [
    "unique_names"
   ]
  },
  {
   "cell_type": "code",
   "execution_count": 9,
   "metadata": {},
   "outputs": [],
   "source": [
    "name_dict = {name: fake.name() for name in unique_names}"
   ]
  },
  {
   "cell_type": "code",
   "execution_count": 10,
   "metadata": {},
   "outputs": [
    {
     "data": {
      "text/plain": [
       "{'Donna Martin': 'Patrick Franklin',\n",
       " 'Bobby Bradley': 'Craig James',\n",
       " 'Austin Thomas': 'Kenneth Miller',\n",
       " 'Jonathan Medina': 'Karen Hicks',\n",
       " 'Brandon Beasley': 'Richard Johnson',\n",
       " 'Susan Morales': 'Dr. Brandon Hicks',\n",
       " 'Rachael Massey': 'Michelle Barrera',\n",
       " 'Ross Strickland': 'Katherine Sanders',\n",
       " 'Jennifer Cox': 'Victor Johnson',\n",
       " 'Danny Lynn DDS': 'Jeremy Rose',\n",
       " 'Ashley Nichols': 'Karen Shaffer',\n",
       " 'Angela Oneill': 'James Gibbs',\n",
       " 'Cody Moreno': 'Theresa Smith',\n",
       " 'Douglas Atkinson': 'Austin Aguilar',\n",
       " 'Ellen Mccarthy': 'Ashley Willis'}"
      ]
     },
     "execution_count": 10,
     "metadata": {},
     "output_type": "execute_result"
    }
   ],
   "source": [
    "name_dict"
   ]
  },
  {
   "cell_type": "code",
   "execution_count": 11,
   "metadata": {},
   "outputs": [],
   "source": [
    "df['name'] = df['name'].map(name_dict)"
   ]
  },
  {
   "cell_type": "markdown",
   "metadata": {},
   "source": [
    "## Replace ids"
   ]
  },
  {
   "cell_type": "markdown",
   "metadata": {},
   "source": [
    "### UserId"
   ]
  },
  {
   "cell_type": "code",
   "execution_count": 12,
   "metadata": {},
   "outputs": [],
   "source": [
    "unique_user_ids = df['user_id'].unique()"
   ]
  },
  {
   "cell_type": "code",
   "execution_count": 13,
   "metadata": {},
   "outputs": [],
   "source": [
    "user_id_dict = {id_: fake.uuid4() for id_ in unique_user_ids}"
   ]
  },
  {
   "cell_type": "code",
   "execution_count": 14,
   "metadata": {},
   "outputs": [
    {
     "data": {
      "text/plain": [
       "{1004: '830870a6-a8cc-4b8c-a5bc-91917f9bea55',\n",
       " 1003: '00064f68-9bbf-480c-b9b8-6d5f644d4fbf',\n",
       " 1011: '22b66ffc-0a68-49b3-ace8-50f2594d84cb',\n",
       " 1000: 'ef563cb5-ca99-47f9-b6b5-55065b246032',\n",
       " 1019: '4c511fac-5caa-4bbf-99fa-e66570ebc1ea',\n",
       " 1014: '11def67e-a57c-4dd7-a4cc-b9ab256c66f8',\n",
       " 1001: 'e203dea7-f0b4-49ac-9a50-f033d5d76e87',\n",
       " 1005: '2873ff92-b038-44d9-a1ba-e82be415aeb2',\n",
       " 1020: '77f69293-073c-4e81-a158-ca1286b7cef9',\n",
       " 1006: '81ae4265-85c9-43f9-ba85-fae4a992fc6e',\n",
       " 1015: 'eee7dbb7-7eb0-4105-a274-397d4874de6a',\n",
       " 1009: '177e3013-452b-4c65-b6ce-d1e1e489fcf3',\n",
       " 1016: '66499eee-5eab-4d9e-b224-94fe3c3a9e0f'}"
      ]
     },
     "execution_count": 14,
     "metadata": {},
     "output_type": "execute_result"
    }
   ],
   "source": [
    "user_id_dict"
   ]
  },
  {
   "cell_type": "code",
   "execution_count": 15,
   "metadata": {},
   "outputs": [],
   "source": [
    "df['user_id'] = df['user_id'].map(user_id_dict)"
   ]
  },
  {
   "cell_type": "markdown",
   "metadata": {},
   "source": [
    "### Category_id"
   ]
  },
  {
   "cell_type": "code",
   "execution_count": 16,
   "metadata": {},
   "outputs": [],
   "source": [
    "unique_category_ids = df['category_id'].unique()"
   ]
  },
  {
   "cell_type": "code",
   "execution_count": 17,
   "metadata": {},
   "outputs": [],
   "source": [
    "category_id_dict = {id_: fake.uuid4() for id_ in unique_category_ids}"
   ]
  },
  {
   "cell_type": "code",
   "execution_count": 18,
   "metadata": {},
   "outputs": [
    {
     "data": {
      "text/plain": [
       "{14: '76b443eb-9fe6-4d56-a772-e6ccd943439e',\n",
       " 15: '2b8eae6c-e8fa-401c-a966-0c980da2dc8b',\n",
       " 44: 'c0c7cec4-2699-45e7-8c09-9d5040aa4f62',\n",
       " 156: 'bdd84506-87fb-426a-a3ec-d2db46a99e9b',\n",
       " 23: 'bb47ac89-1687-4ef9-9d10-a7dd8f8d192c',\n",
       " 123: 'ba5d2313-8123-4377-a448-973b3d141e16',\n",
       " 12: 'd847a532-e355-4684-8f56-9d1e3803030a',\n",
       " 122: '4e2962fe-9863-485e-b37c-cd66a689b371',\n",
       " 1212: 'fd05dac6-3082-4d67-95ff-9cf07df5c0ae',\n",
       " 42: 'f0991b9d-fff9-42a1-999e-f5fefc676c9d',\n",
       " 356: 'd85adc4e-78ef-43de-a5ba-3be9f10935c4'}"
      ]
     },
     "execution_count": 18,
     "metadata": {},
     "output_type": "execute_result"
    }
   ],
   "source": [
    "category_id_dict"
   ]
  },
  {
   "cell_type": "code",
   "execution_count": 19,
   "metadata": {},
   "outputs": [],
   "source": [
    "df['category_id'] = df['category_id'].map(category_id_dict)"
   ]
  },
  {
   "cell_type": "markdown",
   "metadata": {},
   "source": [
    "## Replace whole numbers"
   ]
  },
  {
   "cell_type": "code",
   "execution_count": 20,
   "metadata": {},
   "outputs": [],
   "source": [
    "whole_numbers = df['purchased_quantity']"
   ]
  },
  {
   "cell_type": "code",
   "execution_count": 21,
   "metadata": {},
   "outputs": [
    {
     "data": {
      "text/plain": [
       "0     1\n",
       "1     2\n",
       "2     1\n",
       "3     1\n",
       "4     2\n",
       "5     1\n",
       "6     3\n",
       "7     1\n",
       "8     2\n",
       "9     4\n",
       "10    5\n",
       "11    3\n",
       "12    4\n",
       "13    2\n",
       "14    6\n",
       "15    1\n",
       "16    2\n",
       "17    4\n",
       "18    1\n",
       "19    1\n",
       "Name: purchased_quantity, dtype: int64"
      ]
     },
     "execution_count": 21,
     "metadata": {},
     "output_type": "execute_result"
    }
   ],
   "source": [
    "whole_numbers"
   ]
  },
  {
   "cell_type": "code",
   "execution_count": 22,
   "metadata": {},
   "outputs": [],
   "source": [
    "X_std = (whole_numbers - whole_numbers.min()) / (whole_numbers.max() - whole_numbers.min())\n",
    "X_scaled = (X_std * (10 - 1) + 1) \n",
    "X_scaled_whole_randomized = (X_scaled * random.randint(1, 10)).astype(int)"
   ]
  },
  {
   "cell_type": "code",
   "execution_count": 23,
   "metadata": {},
   "outputs": [
    {
     "data": {
      "text/plain": [
       "0      8\n",
       "1     22\n",
       "2      8\n",
       "3      8\n",
       "4     22\n",
       "5      8\n",
       "6     36\n",
       "7      8\n",
       "8     22\n",
       "9     51\n",
       "10    65\n",
       "11    36\n",
       "12    51\n",
       "13    22\n",
       "14    80\n",
       "15     8\n",
       "16    22\n",
       "17    51\n",
       "18     8\n",
       "19     8\n",
       "Name: purchased_quantity, dtype: int64"
      ]
     },
     "execution_count": 23,
     "metadata": {},
     "output_type": "execute_result"
    }
   ],
   "source": [
    "X_scaled_whole_randomized"
   ]
  },
  {
   "cell_type": "code",
   "execution_count": 24,
   "metadata": {},
   "outputs": [],
   "source": [
    "# whole_number_dict = {\n",
    "#     number: fake.random_int(\n",
    "#         min=min(whole_numbers), max=max(whole_numbers)\n",
    "#     )\n",
    "#     for number in whole_numbers\n",
    "# }"
   ]
  },
  {
   "cell_type": "code",
   "execution_count": 25,
   "metadata": {},
   "outputs": [],
   "source": [
    "# whole_number_dict"
   ]
  },
  {
   "cell_type": "code",
   "execution_count": 26,
   "metadata": {},
   "outputs": [],
   "source": [
    "df['purchased_quantity'] = X_scaled_whole_randomized"
   ]
  },
  {
   "cell_type": "markdown",
   "metadata": {},
   "source": [
    "## Replace decimal numbers"
   ]
  },
  {
   "cell_type": "code",
   "execution_count": 27,
   "metadata": {},
   "outputs": [],
   "source": [
    "decimal_numbers = df['amount']"
   ]
  },
  {
   "cell_type": "code",
   "execution_count": 28,
   "metadata": {},
   "outputs": [],
   "source": [
    "X_std = (decimal_numbers - decimal_numbers.min()) / (decimal_numbers.max() - decimal_numbers.min())\n",
    "X_scaled = (X_std * (10 - 1) + 1) \n",
    "X_scaled_decimal_randomized = (X_scaled * random.randint(1, 10))"
   ]
  },
  {
   "cell_type": "code",
   "execution_count": 29,
   "metadata": {},
   "outputs": [],
   "source": [
    "# decimal_number_dict"
   ]
  },
  {
   "cell_type": "code",
   "execution_count": 30,
   "metadata": {},
   "outputs": [],
   "source": [
    "df['amount'] = X_scaled_decimal_randomized"
   ]
  },
  {
   "cell_type": "markdown",
   "metadata": {},
   "source": [
    "## Categorical data"
   ]
  },
  {
   "cell_type": "code",
   "execution_count": 31,
   "metadata": {},
   "outputs": [],
   "source": [
    "category = df['item']"
   ]
  },
  {
   "cell_type": "code",
   "execution_count": 32,
   "metadata": {},
   "outputs": [
    {
     "data": {
      "text/plain": [
       "0             TV\n",
       "1         Vaccum\n",
       "2            Cup\n",
       "3          Plate\n",
       "4         Lotion\n",
       "5     Toothbrush\n",
       "6      Sanitizer\n",
       "7           Wine\n",
       "8       Yoga mat\n",
       "9           Beer\n",
       "10        Coffee\n",
       "11        Lotion\n",
       "12        Coffee\n",
       "13            TV\n",
       "14        Vaccum\n",
       "15     Sanitizer\n",
       "16          Wine\n",
       "17         Plate\n",
       "18            TV\n",
       "19        Vaccum\n",
       "Name: item, dtype: object"
      ]
     },
     "execution_count": 32,
     "metadata": {},
     "output_type": "execute_result"
    }
   ],
   "source": [
    "category"
   ]
  },
  {
   "cell_type": "code",
   "execution_count": 33,
   "metadata": {},
   "outputs": [],
   "source": [
    "unique_category = category.unique()"
   ]
  },
  {
   "cell_type": "code",
   "execution_count": 34,
   "metadata": {},
   "outputs": [],
   "source": [
    "rand_category = random.randint(0,1000)\n",
    "category_dict = {\n",
    "    category:  \"Category_\" + str(rand_category) + \" \" +str(iteration)\n",
    "    for iteration, category in enumerate(unique_category)\n",
    "}"
   ]
  },
  {
   "cell_type": "code",
   "execution_count": 35,
   "metadata": {},
   "outputs": [
    {
     "data": {
      "text/plain": [
       "{'TV': 'Category_511 0',\n",
       " 'Vaccum': 'Category_511 1',\n",
       " 'Cup': 'Category_511 2',\n",
       " 'Plate': 'Category_511 3',\n",
       " 'Lotion': 'Category_511 4',\n",
       " 'Toothbrush': 'Category_511 5',\n",
       " 'Sanitizer': 'Category_511 6',\n",
       " 'Wine': 'Category_511 7',\n",
       " 'Yoga mat': 'Category_511 8',\n",
       " 'Beer': 'Category_511 9',\n",
       " 'Coffee': 'Category_511 10'}"
      ]
     },
     "execution_count": 35,
     "metadata": {},
     "output_type": "execute_result"
    }
   ],
   "source": [
    "category_dict"
   ]
  },
  {
   "cell_type": "code",
   "execution_count": 36,
   "metadata": {},
   "outputs": [],
   "source": [
    "df['item'] = df['item'].map(category_dict)"
   ]
  },
  {
   "cell_type": "markdown",
   "metadata": {},
   "source": [
    "### Dates"
   ]
  },
  {
   "cell_type": "code",
   "execution_count": 37,
   "metadata": {},
   "outputs": [],
   "source": [
    "dates = df['purchased_date']"
   ]
  },
  {
   "cell_type": "code",
   "execution_count": 38,
   "metadata": {},
   "outputs": [
    {
     "data": {
      "text/plain": [
       "datetime.date(2020, 5, 16)"
      ]
     },
     "execution_count": 38,
     "metadata": {},
     "output_type": "execute_result"
    }
   ],
   "source": [
    "fake.date_between(start_date=dates.min(), end_date=dates.max())"
   ]
  },
  {
   "cell_type": "code",
   "execution_count": 39,
   "metadata": {},
   "outputs": [],
   "source": [
    "dates_dict = {\n",
    "    date: fake.date_between(start_date=dates.min(), end_date=dates.max()).strftime('%Y-%m-%d')\n",
    "    for date in dates\n",
    "}"
   ]
  },
  {
   "cell_type": "code",
   "execution_count": 40,
   "metadata": {},
   "outputs": [
    {
     "data": {
      "text/plain": [
       "{Timestamp('2020-04-04 00:00:00'): '2020-04-10',\n",
       " Timestamp('2020-05-12 00:00:00'): '2020-04-25',\n",
       " Timestamp('2020-05-13 00:00:00'): '2020-04-28',\n",
       " Timestamp('2020-05-14 00:00:00'): '2020-04-12',\n",
       " Timestamp('2020-05-15 00:00:00'): '2020-05-05',\n",
       " Timestamp('2020-05-16 00:00:00'): '2020-05-05',\n",
       " Timestamp('2020-05-17 00:00:00'): '2020-04-18',\n",
       " Timestamp('2020-04-05 00:00:00'): '2020-05-07',\n",
       " Timestamp('2020-04-06 00:00:00'): '2020-04-24',\n",
       " Timestamp('2020-04-07 00:00:00'): '2020-05-08',\n",
       " Timestamp('2020-04-08 00:00:00'): '2020-05-02',\n",
       " Timestamp('2020-04-09 00:00:00'): '2020-05-02',\n",
       " Timestamp('2020-04-10 00:00:00'): '2020-05-11',\n",
       " Timestamp('2020-05-06 00:00:00'): '2020-04-07',\n",
       " Timestamp('2020-05-07 00:00:00'): '2020-05-10',\n",
       " Timestamp('2020-05-08 00:00:00'): '2020-04-22',\n",
       " Timestamp('2020-05-09 00:00:00'): '2020-04-20',\n",
       " Timestamp('2020-05-10 00:00:00'): '2020-04-21',\n",
       " Timestamp('2020-05-11 00:00:00'): '2020-04-22'}"
      ]
     },
     "execution_count": 40,
     "metadata": {},
     "output_type": "execute_result"
    }
   ],
   "source": [
    "dates_dict"
   ]
  },
  {
   "cell_type": "code",
   "execution_count": 41,
   "metadata": {},
   "outputs": [],
   "source": [
    "df['purchased_date'] = df['purchased_date'].map(dates_dict)"
   ]
  },
  {
   "cell_type": "markdown",
   "metadata": {},
   "source": [
    "# Original vs Final"
   ]
  },
  {
   "cell_type": "code",
   "execution_count": 42,
   "metadata": {},
   "outputs": [
    {
     "data": {
      "text/html": [
       "<div>\n",
       "<style scoped>\n",
       "    .dataframe tbody tr th:only-of-type {\n",
       "        vertical-align: middle;\n",
       "    }\n",
       "\n",
       "    .dataframe tbody tr th {\n",
       "        vertical-align: top;\n",
       "    }\n",
       "\n",
       "    .dataframe thead th {\n",
       "        text-align: right;\n",
       "    }\n",
       "</style>\n",
       "<table border=\"1\" class=\"dataframe\">\n",
       "  <thead>\n",
       "    <tr style=\"text-align: right;\">\n",
       "      <th></th>\n",
       "      <th>user_id</th>\n",
       "      <th>name</th>\n",
       "      <th>item</th>\n",
       "      <th>amount</th>\n",
       "      <th>category_id</th>\n",
       "      <th>purchased_quantity</th>\n",
       "      <th>purchased_date</th>\n",
       "    </tr>\n",
       "  </thead>\n",
       "  <tbody>\n",
       "    <tr>\n",
       "      <th>0</th>\n",
       "      <td>1004</td>\n",
       "      <td>Donna Martin</td>\n",
       "      <td>TV</td>\n",
       "      <td>199.95</td>\n",
       "      <td>14</td>\n",
       "      <td>1</td>\n",
       "      <td>2020-04-04</td>\n",
       "    </tr>\n",
       "    <tr>\n",
       "      <th>1</th>\n",
       "      <td>1004</td>\n",
       "      <td>Donna Martin</td>\n",
       "      <td>Vaccum</td>\n",
       "      <td>95.12</td>\n",
       "      <td>15</td>\n",
       "      <td>2</td>\n",
       "      <td>2020-05-12</td>\n",
       "    </tr>\n",
       "    <tr>\n",
       "      <th>2</th>\n",
       "      <td>1003</td>\n",
       "      <td>Bobby Bradley</td>\n",
       "      <td>Cup</td>\n",
       "      <td>12.76</td>\n",
       "      <td>44</td>\n",
       "      <td>1</td>\n",
       "      <td>2020-05-13</td>\n",
       "    </tr>\n",
       "    <tr>\n",
       "      <th>3</th>\n",
       "      <td>1011</td>\n",
       "      <td>Austin Thomas</td>\n",
       "      <td>Plate</td>\n",
       "      <td>5.55</td>\n",
       "      <td>156</td>\n",
       "      <td>1</td>\n",
       "      <td>2020-05-14</td>\n",
       "    </tr>\n",
       "    <tr>\n",
       "      <th>4</th>\n",
       "      <td>1000</td>\n",
       "      <td>Jonathan Medina</td>\n",
       "      <td>Lotion</td>\n",
       "      <td>4.44</td>\n",
       "      <td>23</td>\n",
       "      <td>2</td>\n",
       "      <td>2020-05-15</td>\n",
       "    </tr>\n",
       "    <tr>\n",
       "      <th>5</th>\n",
       "      <td>1000</td>\n",
       "      <td>Jonathan Medina</td>\n",
       "      <td>Toothbrush</td>\n",
       "      <td>5.96</td>\n",
       "      <td>123</td>\n",
       "      <td>1</td>\n",
       "      <td>2020-05-16</td>\n",
       "    </tr>\n",
       "    <tr>\n",
       "      <th>6</th>\n",
       "      <td>1019</td>\n",
       "      <td>Brandon Beasley</td>\n",
       "      <td>Sanitizer</td>\n",
       "      <td>2.23</td>\n",
       "      <td>12</td>\n",
       "      <td>3</td>\n",
       "      <td>2020-05-17</td>\n",
       "    </tr>\n",
       "    <tr>\n",
       "      <th>7</th>\n",
       "      <td>1011</td>\n",
       "      <td>Austin Thomas</td>\n",
       "      <td>Wine</td>\n",
       "      <td>15.67</td>\n",
       "      <td>122</td>\n",
       "      <td>1</td>\n",
       "      <td>2020-04-04</td>\n",
       "    </tr>\n",
       "    <tr>\n",
       "      <th>8</th>\n",
       "      <td>1014</td>\n",
       "      <td>Susan Morales</td>\n",
       "      <td>Yoga mat</td>\n",
       "      <td>45.53</td>\n",
       "      <td>1212</td>\n",
       "      <td>2</td>\n",
       "      <td>2020-04-05</td>\n",
       "    </tr>\n",
       "    <tr>\n",
       "      <th>9</th>\n",
       "      <td>1001</td>\n",
       "      <td>Rachael Massey</td>\n",
       "      <td>Beer</td>\n",
       "      <td>2.45</td>\n",
       "      <td>42</td>\n",
       "      <td>4</td>\n",
       "      <td>2020-04-06</td>\n",
       "    </tr>\n",
       "    <tr>\n",
       "      <th>10</th>\n",
       "      <td>1005</td>\n",
       "      <td>Ross Strickland</td>\n",
       "      <td>Coffee</td>\n",
       "      <td>8.45</td>\n",
       "      <td>356</td>\n",
       "      <td>5</td>\n",
       "      <td>2020-04-07</td>\n",
       "    </tr>\n",
       "    <tr>\n",
       "      <th>11</th>\n",
       "      <td>1014</td>\n",
       "      <td>Susan Morales</td>\n",
       "      <td>Lotion</td>\n",
       "      <td>4.44</td>\n",
       "      <td>23</td>\n",
       "      <td>3</td>\n",
       "      <td>2020-04-08</td>\n",
       "    </tr>\n",
       "    <tr>\n",
       "      <th>12</th>\n",
       "      <td>1020</td>\n",
       "      <td>Jennifer Cox</td>\n",
       "      <td>Coffee</td>\n",
       "      <td>8.45</td>\n",
       "      <td>356</td>\n",
       "      <td>4</td>\n",
       "      <td>2020-04-09</td>\n",
       "    </tr>\n",
       "    <tr>\n",
       "      <th>13</th>\n",
       "      <td>1001</td>\n",
       "      <td>Danny Lynn DDS</td>\n",
       "      <td>TV</td>\n",
       "      <td>199.95</td>\n",
       "      <td>14</td>\n",
       "      <td>2</td>\n",
       "      <td>2020-04-10</td>\n",
       "    </tr>\n",
       "    <tr>\n",
       "      <th>14</th>\n",
       "      <td>1019</td>\n",
       "      <td>Brandon Beasley</td>\n",
       "      <td>Vaccum</td>\n",
       "      <td>95.12</td>\n",
       "      <td>15</td>\n",
       "      <td>6</td>\n",
       "      <td>2020-05-06</td>\n",
       "    </tr>\n",
       "    <tr>\n",
       "      <th>15</th>\n",
       "      <td>1006</td>\n",
       "      <td>Ashley Nichols</td>\n",
       "      <td>Sanitizer</td>\n",
       "      <td>2.23</td>\n",
       "      <td>12</td>\n",
       "      <td>1</td>\n",
       "      <td>2020-05-07</td>\n",
       "    </tr>\n",
       "    <tr>\n",
       "      <th>16</th>\n",
       "      <td>1015</td>\n",
       "      <td>Angela Oneill</td>\n",
       "      <td>Wine</td>\n",
       "      <td>15.67</td>\n",
       "      <td>122</td>\n",
       "      <td>2</td>\n",
       "      <td>2020-05-08</td>\n",
       "    </tr>\n",
       "    <tr>\n",
       "      <th>17</th>\n",
       "      <td>1009</td>\n",
       "      <td>Cody Moreno</td>\n",
       "      <td>Plate</td>\n",
       "      <td>5.55</td>\n",
       "      <td>156</td>\n",
       "      <td>4</td>\n",
       "      <td>2020-05-09</td>\n",
       "    </tr>\n",
       "    <tr>\n",
       "      <th>18</th>\n",
       "      <td>1005</td>\n",
       "      <td>Douglas Atkinson</td>\n",
       "      <td>TV</td>\n",
       "      <td>199.95</td>\n",
       "      <td>14</td>\n",
       "      <td>1</td>\n",
       "      <td>2020-05-10</td>\n",
       "    </tr>\n",
       "    <tr>\n",
       "      <th>19</th>\n",
       "      <td>1016</td>\n",
       "      <td>Ellen Mccarthy</td>\n",
       "      <td>Vaccum</td>\n",
       "      <td>95.12</td>\n",
       "      <td>15</td>\n",
       "      <td>1</td>\n",
       "      <td>2020-05-11</td>\n",
       "    </tr>\n",
       "  </tbody>\n",
       "</table>\n",
       "</div>"
      ],
      "text/plain": [
       "    user_id              name        item  amount  category_id  \\\n",
       "0      1004      Donna Martin          TV  199.95           14   \n",
       "1      1004      Donna Martin      Vaccum   95.12           15   \n",
       "2      1003     Bobby Bradley         Cup   12.76           44   \n",
       "3      1011     Austin Thomas       Plate    5.55          156   \n",
       "4      1000   Jonathan Medina      Lotion    4.44           23   \n",
       "5      1000   Jonathan Medina  Toothbrush    5.96          123   \n",
       "6      1019   Brandon Beasley   Sanitizer    2.23           12   \n",
       "7      1011     Austin Thomas        Wine   15.67          122   \n",
       "8      1014     Susan Morales    Yoga mat   45.53         1212   \n",
       "9      1001    Rachael Massey        Beer    2.45           42   \n",
       "10     1005   Ross Strickland      Coffee    8.45          356   \n",
       "11     1014     Susan Morales      Lotion    4.44           23   \n",
       "12     1020      Jennifer Cox      Coffee    8.45          356   \n",
       "13     1001    Danny Lynn DDS          TV  199.95           14   \n",
       "14     1019   Brandon Beasley      Vaccum   95.12           15   \n",
       "15     1006    Ashley Nichols   Sanitizer    2.23           12   \n",
       "16     1015     Angela Oneill        Wine   15.67          122   \n",
       "17     1009       Cody Moreno       Plate    5.55          156   \n",
       "18     1005  Douglas Atkinson          TV  199.95           14   \n",
       "19     1016    Ellen Mccarthy      Vaccum   95.12           15   \n",
       "\n",
       "    purchased_quantity purchased_date  \n",
       "0                    1     2020-04-04  \n",
       "1                    2     2020-05-12  \n",
       "2                    1     2020-05-13  \n",
       "3                    1     2020-05-14  \n",
       "4                    2     2020-05-15  \n",
       "5                    1     2020-05-16  \n",
       "6                    3     2020-05-17  \n",
       "7                    1     2020-04-04  \n",
       "8                    2     2020-04-05  \n",
       "9                    4     2020-04-06  \n",
       "10                   5     2020-04-07  \n",
       "11                   3     2020-04-08  \n",
       "12                   4     2020-04-09  \n",
       "13                   2     2020-04-10  \n",
       "14                   6     2020-05-06  \n",
       "15                   1     2020-05-07  \n",
       "16                   2     2020-05-08  \n",
       "17                   4     2020-05-09  \n",
       "18                   1     2020-05-10  \n",
       "19                   1     2020-05-11  "
      ]
     },
     "execution_count": 42,
     "metadata": {},
     "output_type": "execute_result"
    }
   ],
   "source": [
    "df_original"
   ]
  },
  {
   "cell_type": "code",
   "execution_count": 43,
   "metadata": {},
   "outputs": [
    {
     "data": {
      "text/html": [
       "<div>\n",
       "<style scoped>\n",
       "    .dataframe tbody tr th:only-of-type {\n",
       "        vertical-align: middle;\n",
       "    }\n",
       "\n",
       "    .dataframe tbody tr th {\n",
       "        vertical-align: top;\n",
       "    }\n",
       "\n",
       "    .dataframe thead th {\n",
       "        text-align: right;\n",
       "    }\n",
       "</style>\n",
       "<table border=\"1\" class=\"dataframe\">\n",
       "  <thead>\n",
       "    <tr style=\"text-align: right;\">\n",
       "      <th></th>\n",
       "      <th>user_id</th>\n",
       "      <th>name</th>\n",
       "      <th>item</th>\n",
       "      <th>amount</th>\n",
       "      <th>category_id</th>\n",
       "      <th>purchased_quantity</th>\n",
       "      <th>purchased_date</th>\n",
       "    </tr>\n",
       "  </thead>\n",
       "  <tbody>\n",
       "    <tr>\n",
       "      <th>0</th>\n",
       "      <td>830870a6-a8cc-4b8c-a5bc-91917f9bea55</td>\n",
       "      <td>Patrick Franklin</td>\n",
       "      <td>Category_511 0</td>\n",
       "      <td>80.000000</td>\n",
       "      <td>76b443eb-9fe6-4d56-a772-e6ccd943439e</td>\n",
       "      <td>8</td>\n",
       "      <td>2020-04-10</td>\n",
       "    </tr>\n",
       "    <tr>\n",
       "      <th>1</th>\n",
       "      <td>830870a6-a8cc-4b8c-a5bc-91917f9bea55</td>\n",
       "      <td>Patrick Franklin</td>\n",
       "      <td>Category_511 1</td>\n",
       "      <td>41.826017</td>\n",
       "      <td>2b8eae6c-e8fa-401c-a966-0c980da2dc8b</td>\n",
       "      <td>22</td>\n",
       "      <td>2020-04-25</td>\n",
       "    </tr>\n",
       "    <tr>\n",
       "      <th>2</th>\n",
       "      <td>00064f68-9bbf-480c-b9b8-6d5f644d4fbf</td>\n",
       "      <td>Craig James</td>\n",
       "      <td>Category_511 2</td>\n",
       "      <td>11.834513</td>\n",
       "      <td>c0c7cec4-2699-45e7-8c09-9d5040aa4f62</td>\n",
       "      <td>8</td>\n",
       "      <td>2020-04-28</td>\n",
       "    </tr>\n",
       "    <tr>\n",
       "      <th>3</th>\n",
       "      <td>22b66ffc-0a68-49b3-ace8-50f2594d84cb</td>\n",
       "      <td>Kenneth Miller</td>\n",
       "      <td>Category_511 3</td>\n",
       "      <td>9.208982</td>\n",
       "      <td>bdd84506-87fb-426a-a3ec-d2db46a99e9b</td>\n",
       "      <td>8</td>\n",
       "      <td>2020-04-12</td>\n",
       "    </tr>\n",
       "    <tr>\n",
       "      <th>4</th>\n",
       "      <td>ef563cb5-ca99-47f9-b6b5-55065b246032</td>\n",
       "      <td>Karen Hicks</td>\n",
       "      <td>Category_511 4</td>\n",
       "      <td>8.804774</td>\n",
       "      <td>bb47ac89-1687-4ef9-9d10-a7dd8f8d192c</td>\n",
       "      <td>22</td>\n",
       "      <td>2020-05-05</td>\n",
       "    </tr>\n",
       "    <tr>\n",
       "      <th>5</th>\n",
       "      <td>ef563cb5-ca99-47f9-b6b5-55065b246032</td>\n",
       "      <td>Karen Hicks</td>\n",
       "      <td>Category_511 5</td>\n",
       "      <td>9.358284</td>\n",
       "      <td>ba5d2313-8123-4377-a448-973b3d141e16</td>\n",
       "      <td>8</td>\n",
       "      <td>2020-05-05</td>\n",
       "    </tr>\n",
       "    <tr>\n",
       "      <th>6</th>\n",
       "      <td>4c511fac-5caa-4bbf-99fa-e66570ebc1ea</td>\n",
       "      <td>Richard Johnson</td>\n",
       "      <td>Category_511 6</td>\n",
       "      <td>8.000000</td>\n",
       "      <td>d847a532-e355-4684-8f56-9d1e3803030a</td>\n",
       "      <td>36</td>\n",
       "      <td>2020-04-18</td>\n",
       "    </tr>\n",
       "    <tr>\n",
       "      <th>7</th>\n",
       "      <td>22b66ffc-0a68-49b3-ace8-50f2594d84cb</td>\n",
       "      <td>Kenneth Miller</td>\n",
       "      <td>Category_511 7</td>\n",
       "      <td>12.894194</td>\n",
       "      <td>4e2962fe-9863-485e-b37c-cd66a689b371</td>\n",
       "      <td>8</td>\n",
       "      <td>2020-04-10</td>\n",
       "    </tr>\n",
       "    <tr>\n",
       "      <th>8</th>\n",
       "      <td>11def67e-a57c-4dd7-a4cc-b9ab256c66f8</td>\n",
       "      <td>Dr. Brandon Hicks</td>\n",
       "      <td>Category_511 8</td>\n",
       "      <td>23.767752</td>\n",
       "      <td>fd05dac6-3082-4d67-95ff-9cf07df5c0ae</td>\n",
       "      <td>22</td>\n",
       "      <td>2020-05-07</td>\n",
       "    </tr>\n",
       "    <tr>\n",
       "      <th>9</th>\n",
       "      <td>e203dea7-f0b4-49ac-9a50-f033d5d76e87</td>\n",
       "      <td>Michelle Barrera</td>\n",
       "      <td>Category_511 9</td>\n",
       "      <td>8.080113</td>\n",
       "      <td>f0991b9d-fff9-42a1-999e-f5fefc676c9d</td>\n",
       "      <td>51</td>\n",
       "      <td>2020-04-24</td>\n",
       "    </tr>\n",
       "    <tr>\n",
       "      <th>10</th>\n",
       "      <td>2873ff92-b038-44d9-a1ba-e82be415aeb2</td>\n",
       "      <td>Katherine Sanders</td>\n",
       "      <td>Category_511 10</td>\n",
       "      <td>10.265021</td>\n",
       "      <td>d85adc4e-78ef-43de-a5ba-3be9f10935c4</td>\n",
       "      <td>65</td>\n",
       "      <td>2020-05-08</td>\n",
       "    </tr>\n",
       "    <tr>\n",
       "      <th>11</th>\n",
       "      <td>11def67e-a57c-4dd7-a4cc-b9ab256c66f8</td>\n",
       "      <td>Dr. Brandon Hicks</td>\n",
       "      <td>Category_511 4</td>\n",
       "      <td>8.804774</td>\n",
       "      <td>bb47ac89-1687-4ef9-9d10-a7dd8f8d192c</td>\n",
       "      <td>36</td>\n",
       "      <td>2020-05-02</td>\n",
       "    </tr>\n",
       "    <tr>\n",
       "      <th>12</th>\n",
       "      <td>77f69293-073c-4e81-a158-ca1286b7cef9</td>\n",
       "      <td>Victor Johnson</td>\n",
       "      <td>Category_511 10</td>\n",
       "      <td>10.265021</td>\n",
       "      <td>d85adc4e-78ef-43de-a5ba-3be9f10935c4</td>\n",
       "      <td>51</td>\n",
       "      <td>2020-05-02</td>\n",
       "    </tr>\n",
       "    <tr>\n",
       "      <th>13</th>\n",
       "      <td>e203dea7-f0b4-49ac-9a50-f033d5d76e87</td>\n",
       "      <td>Jeremy Rose</td>\n",
       "      <td>Category_511 0</td>\n",
       "      <td>80.000000</td>\n",
       "      <td>76b443eb-9fe6-4d56-a772-e6ccd943439e</td>\n",
       "      <td>22</td>\n",
       "      <td>2020-05-11</td>\n",
       "    </tr>\n",
       "    <tr>\n",
       "      <th>14</th>\n",
       "      <td>4c511fac-5caa-4bbf-99fa-e66570ebc1ea</td>\n",
       "      <td>Richard Johnson</td>\n",
       "      <td>Category_511 1</td>\n",
       "      <td>41.826017</td>\n",
       "      <td>2b8eae6c-e8fa-401c-a966-0c980da2dc8b</td>\n",
       "      <td>80</td>\n",
       "      <td>2020-04-07</td>\n",
       "    </tr>\n",
       "    <tr>\n",
       "      <th>15</th>\n",
       "      <td>81ae4265-85c9-43f9-ba85-fae4a992fc6e</td>\n",
       "      <td>Karen Shaffer</td>\n",
       "      <td>Category_511 6</td>\n",
       "      <td>8.000000</td>\n",
       "      <td>d847a532-e355-4684-8f56-9d1e3803030a</td>\n",
       "      <td>8</td>\n",
       "      <td>2020-05-10</td>\n",
       "    </tr>\n",
       "    <tr>\n",
       "      <th>16</th>\n",
       "      <td>eee7dbb7-7eb0-4105-a274-397d4874de6a</td>\n",
       "      <td>James Gibbs</td>\n",
       "      <td>Category_511 7</td>\n",
       "      <td>12.894194</td>\n",
       "      <td>4e2962fe-9863-485e-b37c-cd66a689b371</td>\n",
       "      <td>22</td>\n",
       "      <td>2020-04-22</td>\n",
       "    </tr>\n",
       "    <tr>\n",
       "      <th>17</th>\n",
       "      <td>177e3013-452b-4c65-b6ce-d1e1e489fcf3</td>\n",
       "      <td>Theresa Smith</td>\n",
       "      <td>Category_511 3</td>\n",
       "      <td>9.208982</td>\n",
       "      <td>bdd84506-87fb-426a-a3ec-d2db46a99e9b</td>\n",
       "      <td>51</td>\n",
       "      <td>2020-04-20</td>\n",
       "    </tr>\n",
       "    <tr>\n",
       "      <th>18</th>\n",
       "      <td>2873ff92-b038-44d9-a1ba-e82be415aeb2</td>\n",
       "      <td>Austin Aguilar</td>\n",
       "      <td>Category_511 0</td>\n",
       "      <td>80.000000</td>\n",
       "      <td>76b443eb-9fe6-4d56-a772-e6ccd943439e</td>\n",
       "      <td>8</td>\n",
       "      <td>2020-04-21</td>\n",
       "    </tr>\n",
       "    <tr>\n",
       "      <th>19</th>\n",
       "      <td>66499eee-5eab-4d9e-b224-94fe3c3a9e0f</td>\n",
       "      <td>Ashley Willis</td>\n",
       "      <td>Category_511 1</td>\n",
       "      <td>41.826017</td>\n",
       "      <td>2b8eae6c-e8fa-401c-a966-0c980da2dc8b</td>\n",
       "      <td>8</td>\n",
       "      <td>2020-04-22</td>\n",
       "    </tr>\n",
       "  </tbody>\n",
       "</table>\n",
       "</div>"
      ],
      "text/plain": [
       "                                 user_id               name             item  \\\n",
       "0   830870a6-a8cc-4b8c-a5bc-91917f9bea55   Patrick Franklin   Category_511 0   \n",
       "1   830870a6-a8cc-4b8c-a5bc-91917f9bea55   Patrick Franklin   Category_511 1   \n",
       "2   00064f68-9bbf-480c-b9b8-6d5f644d4fbf        Craig James   Category_511 2   \n",
       "3   22b66ffc-0a68-49b3-ace8-50f2594d84cb     Kenneth Miller   Category_511 3   \n",
       "4   ef563cb5-ca99-47f9-b6b5-55065b246032        Karen Hicks   Category_511 4   \n",
       "5   ef563cb5-ca99-47f9-b6b5-55065b246032        Karen Hicks   Category_511 5   \n",
       "6   4c511fac-5caa-4bbf-99fa-e66570ebc1ea    Richard Johnson   Category_511 6   \n",
       "7   22b66ffc-0a68-49b3-ace8-50f2594d84cb     Kenneth Miller   Category_511 7   \n",
       "8   11def67e-a57c-4dd7-a4cc-b9ab256c66f8  Dr. Brandon Hicks   Category_511 8   \n",
       "9   e203dea7-f0b4-49ac-9a50-f033d5d76e87   Michelle Barrera   Category_511 9   \n",
       "10  2873ff92-b038-44d9-a1ba-e82be415aeb2  Katherine Sanders  Category_511 10   \n",
       "11  11def67e-a57c-4dd7-a4cc-b9ab256c66f8  Dr. Brandon Hicks   Category_511 4   \n",
       "12  77f69293-073c-4e81-a158-ca1286b7cef9     Victor Johnson  Category_511 10   \n",
       "13  e203dea7-f0b4-49ac-9a50-f033d5d76e87        Jeremy Rose   Category_511 0   \n",
       "14  4c511fac-5caa-4bbf-99fa-e66570ebc1ea    Richard Johnson   Category_511 1   \n",
       "15  81ae4265-85c9-43f9-ba85-fae4a992fc6e      Karen Shaffer   Category_511 6   \n",
       "16  eee7dbb7-7eb0-4105-a274-397d4874de6a        James Gibbs   Category_511 7   \n",
       "17  177e3013-452b-4c65-b6ce-d1e1e489fcf3      Theresa Smith   Category_511 3   \n",
       "18  2873ff92-b038-44d9-a1ba-e82be415aeb2     Austin Aguilar   Category_511 0   \n",
       "19  66499eee-5eab-4d9e-b224-94fe3c3a9e0f      Ashley Willis   Category_511 1   \n",
       "\n",
       "       amount                           category_id  purchased_quantity  \\\n",
       "0   80.000000  76b443eb-9fe6-4d56-a772-e6ccd943439e                   8   \n",
       "1   41.826017  2b8eae6c-e8fa-401c-a966-0c980da2dc8b                  22   \n",
       "2   11.834513  c0c7cec4-2699-45e7-8c09-9d5040aa4f62                   8   \n",
       "3    9.208982  bdd84506-87fb-426a-a3ec-d2db46a99e9b                   8   \n",
       "4    8.804774  bb47ac89-1687-4ef9-9d10-a7dd8f8d192c                  22   \n",
       "5    9.358284  ba5d2313-8123-4377-a448-973b3d141e16                   8   \n",
       "6    8.000000  d847a532-e355-4684-8f56-9d1e3803030a                  36   \n",
       "7   12.894194  4e2962fe-9863-485e-b37c-cd66a689b371                   8   \n",
       "8   23.767752  fd05dac6-3082-4d67-95ff-9cf07df5c0ae                  22   \n",
       "9    8.080113  f0991b9d-fff9-42a1-999e-f5fefc676c9d                  51   \n",
       "10  10.265021  d85adc4e-78ef-43de-a5ba-3be9f10935c4                  65   \n",
       "11   8.804774  bb47ac89-1687-4ef9-9d10-a7dd8f8d192c                  36   \n",
       "12  10.265021  d85adc4e-78ef-43de-a5ba-3be9f10935c4                  51   \n",
       "13  80.000000  76b443eb-9fe6-4d56-a772-e6ccd943439e                  22   \n",
       "14  41.826017  2b8eae6c-e8fa-401c-a966-0c980da2dc8b                  80   \n",
       "15   8.000000  d847a532-e355-4684-8f56-9d1e3803030a                   8   \n",
       "16  12.894194  4e2962fe-9863-485e-b37c-cd66a689b371                  22   \n",
       "17   9.208982  bdd84506-87fb-426a-a3ec-d2db46a99e9b                  51   \n",
       "18  80.000000  76b443eb-9fe6-4d56-a772-e6ccd943439e                   8   \n",
       "19  41.826017  2b8eae6c-e8fa-401c-a966-0c980da2dc8b                   8   \n",
       "\n",
       "   purchased_date  \n",
       "0      2020-04-10  \n",
       "1      2020-04-25  \n",
       "2      2020-04-28  \n",
       "3      2020-04-12  \n",
       "4      2020-05-05  \n",
       "5      2020-05-05  \n",
       "6      2020-04-18  \n",
       "7      2020-04-10  \n",
       "8      2020-05-07  \n",
       "9      2020-04-24  \n",
       "10     2020-05-08  \n",
       "11     2020-05-02  \n",
       "12     2020-05-02  \n",
       "13     2020-05-11  \n",
       "14     2020-04-07  \n",
       "15     2020-05-10  \n",
       "16     2020-04-22  \n",
       "17     2020-04-20  \n",
       "18     2020-04-21  \n",
       "19     2020-04-22  "
      ]
     },
     "execution_count": 43,
     "metadata": {},
     "output_type": "execute_result"
    }
   ],
   "source": [
    "df"
   ]
  }
 ],
 "metadata": {
  "kernelspec": {
   "display_name": "Python 3",
   "language": "python",
   "name": "python3"
  },
  "language_info": {
   "codemirror_mode": {
    "name": "ipython",
    "version": 3
   },
   "file_extension": ".py",
   "mimetype": "text/x-python",
   "name": "python",
   "nbconvert_exporter": "python",
   "pygments_lexer": "ipython3",
   "version": "3.8.5"
  }
 },
 "nbformat": 4,
 "nbformat_minor": 4
}
