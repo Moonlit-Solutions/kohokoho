{
 "cells": [
  {
   "cell_type": "markdown",
   "metadata": {},
   "source": [
    "# First POC for dataset anonymization"
   ]
  },
  {
   "cell_type": "markdown",
   "metadata": {},
   "source": [
    "## Imports"
   ]
  },
  {
   "cell_type": "code",
   "execution_count": 1,
   "metadata": {},
   "outputs": [],
   "source": [
    "import pandas as pd\n",
    "import random\n",
    "import datetime as dt\n",
    "from faker import Faker"
   ]
  },
  {
   "cell_type": "code",
   "execution_count": 2,
   "metadata": {},
   "outputs": [],
   "source": [
    "fake = Faker()"
   ]
  },
  {
   "cell_type": "code",
   "execution_count": 3,
   "metadata": {},
   "outputs": [
    {
     "name": "stdout",
     "output_type": "stream",
     "text": [
      "Tonya Ochoa\n",
      "Eric Romero\n",
      "Kimberly Preston\n",
      "Andrew Nelson\n",
      "Jason Grant\n",
      "Gary Hood\n",
      "Shawn Pacheco\n",
      "Colton Henry\n",
      "Cindy Miller\n",
      "Cassie Miller\n",
      "Ethan Hall\n",
      "Jordan Martinez\n",
      "Mark Olson\n",
      "Sherry Sutton\n",
      "Jonathan Bryan\n",
      "Mark Guerra\n",
      "Albert Blair\n",
      "Cynthia Tucker\n",
      "Timothy Henry\n",
      "Susan Weber\n"
     ]
    }
   ],
   "source": [
    "for _ in range(20):\n",
    "  print(fake.name())"
   ]
  },
  {
   "cell_type": "markdown",
   "metadata": {},
   "source": [
    "## Create and import a sample dataset"
   ]
  },
  {
   "cell_type": "code",
   "execution_count": 4,
   "metadata": {},
   "outputs": [],
   "source": [
    "df = pd.read_csv('../datasets/test_dataset1.csv', parse_dates=['purchased_date'])"
   ]
  },
  {
   "cell_type": "code",
   "execution_count": 5,
   "metadata": {},
   "outputs": [],
   "source": [
    "df_original = df.copy()"
   ]
  },
  {
   "cell_type": "code",
   "execution_count": 6,
   "metadata": {},
   "outputs": [
    {
     "data": {
      "text/html": [
       "<div>\n",
       "<style scoped>\n",
       "    .dataframe tbody tr th:only-of-type {\n",
       "        vertical-align: middle;\n",
       "    }\n",
       "\n",
       "    .dataframe tbody tr th {\n",
       "        vertical-align: top;\n",
       "    }\n",
       "\n",
       "    .dataframe thead th {\n",
       "        text-align: right;\n",
       "    }\n",
       "</style>\n",
       "<table border=\"1\" class=\"dataframe\">\n",
       "  <thead>\n",
       "    <tr style=\"text-align: right;\">\n",
       "      <th></th>\n",
       "      <th>user_id</th>\n",
       "      <th>name</th>\n",
       "      <th>item_name</th>\n",
       "      <th>price</th>\n",
       "      <th>category_id</th>\n",
       "      <th>quantity</th>\n",
       "      <th>purchased_date</th>\n",
       "    </tr>\n",
       "  </thead>\n",
       "  <tbody>\n",
       "    <tr>\n",
       "      <th>0</th>\n",
       "      <td>1004</td>\n",
       "      <td>Donna Martin</td>\n",
       "      <td>TV</td>\n",
       "      <td>199.95</td>\n",
       "      <td>14</td>\n",
       "      <td>1</td>\n",
       "      <td>2020-04-04</td>\n",
       "    </tr>\n",
       "    <tr>\n",
       "      <th>1</th>\n",
       "      <td>1004</td>\n",
       "      <td>Donna Martin</td>\n",
       "      <td>Vaccum</td>\n",
       "      <td>95.12</td>\n",
       "      <td>15</td>\n",
       "      <td>2</td>\n",
       "      <td>2020-05-12</td>\n",
       "    </tr>\n",
       "    <tr>\n",
       "      <th>2</th>\n",
       "      <td>1003</td>\n",
       "      <td>Bobby Bradley</td>\n",
       "      <td>Cup</td>\n",
       "      <td>12.76</td>\n",
       "      <td>44</td>\n",
       "      <td>1</td>\n",
       "      <td>2020-05-13</td>\n",
       "    </tr>\n",
       "    <tr>\n",
       "      <th>3</th>\n",
       "      <td>1011</td>\n",
       "      <td>Austin Thomas</td>\n",
       "      <td>Plate</td>\n",
       "      <td>5.55</td>\n",
       "      <td>156</td>\n",
       "      <td>1</td>\n",
       "      <td>2020-05-14</td>\n",
       "    </tr>\n",
       "    <tr>\n",
       "      <th>4</th>\n",
       "      <td>1000</td>\n",
       "      <td>Jonathan Medina</td>\n",
       "      <td>Lotion</td>\n",
       "      <td>4.44</td>\n",
       "      <td>23</td>\n",
       "      <td>2</td>\n",
       "      <td>2020-05-15</td>\n",
       "    </tr>\n",
       "    <tr>\n",
       "      <th>5</th>\n",
       "      <td>1000</td>\n",
       "      <td>Jonathan Medina</td>\n",
       "      <td>Toothbrush</td>\n",
       "      <td>5.96</td>\n",
       "      <td>123</td>\n",
       "      <td>1</td>\n",
       "      <td>2020-05-16</td>\n",
       "    </tr>\n",
       "    <tr>\n",
       "      <th>6</th>\n",
       "      <td>1019</td>\n",
       "      <td>Brandon Beasley</td>\n",
       "      <td>Sanitizer</td>\n",
       "      <td>2.23</td>\n",
       "      <td>12</td>\n",
       "      <td>3</td>\n",
       "      <td>2020-05-17</td>\n",
       "    </tr>\n",
       "    <tr>\n",
       "      <th>7</th>\n",
       "      <td>1011</td>\n",
       "      <td>Austin Thomas</td>\n",
       "      <td>Wine</td>\n",
       "      <td>15.67</td>\n",
       "      <td>122</td>\n",
       "      <td>1</td>\n",
       "      <td>2020-04-04</td>\n",
       "    </tr>\n",
       "    <tr>\n",
       "      <th>8</th>\n",
       "      <td>1014</td>\n",
       "      <td>Susan Morales</td>\n",
       "      <td>Yoga mat</td>\n",
       "      <td>45.53</td>\n",
       "      <td>1212</td>\n",
       "      <td>2</td>\n",
       "      <td>2020-04-05</td>\n",
       "    </tr>\n",
       "    <tr>\n",
       "      <th>9</th>\n",
       "      <td>1001</td>\n",
       "      <td>Rachael Massey</td>\n",
       "      <td>Beer</td>\n",
       "      <td>2.45</td>\n",
       "      <td>42</td>\n",
       "      <td>4</td>\n",
       "      <td>2020-04-06</td>\n",
       "    </tr>\n",
       "    <tr>\n",
       "      <th>10</th>\n",
       "      <td>1005</td>\n",
       "      <td>Ross Strickland</td>\n",
       "      <td>Coffee</td>\n",
       "      <td>8.45</td>\n",
       "      <td>356</td>\n",
       "      <td>5</td>\n",
       "      <td>2020-04-07</td>\n",
       "    </tr>\n",
       "    <tr>\n",
       "      <th>11</th>\n",
       "      <td>1014</td>\n",
       "      <td>Susan Morales</td>\n",
       "      <td>Lotion</td>\n",
       "      <td>4.44</td>\n",
       "      <td>23</td>\n",
       "      <td>3</td>\n",
       "      <td>2020-04-08</td>\n",
       "    </tr>\n",
       "    <tr>\n",
       "      <th>12</th>\n",
       "      <td>1020</td>\n",
       "      <td>Jennifer Cox</td>\n",
       "      <td>Coffee</td>\n",
       "      <td>8.45</td>\n",
       "      <td>356</td>\n",
       "      <td>4</td>\n",
       "      <td>2020-04-09</td>\n",
       "    </tr>\n",
       "    <tr>\n",
       "      <th>13</th>\n",
       "      <td>1001</td>\n",
       "      <td>Danny Lynn DDS</td>\n",
       "      <td>TV</td>\n",
       "      <td>199.95</td>\n",
       "      <td>14</td>\n",
       "      <td>2</td>\n",
       "      <td>2020-04-10</td>\n",
       "    </tr>\n",
       "    <tr>\n",
       "      <th>14</th>\n",
       "      <td>1019</td>\n",
       "      <td>Brandon Beasley</td>\n",
       "      <td>Vaccum</td>\n",
       "      <td>95.12</td>\n",
       "      <td>15</td>\n",
       "      <td>6</td>\n",
       "      <td>2020-05-06</td>\n",
       "    </tr>\n",
       "    <tr>\n",
       "      <th>15</th>\n",
       "      <td>1006</td>\n",
       "      <td>Ashley Nichols</td>\n",
       "      <td>Sanitizer</td>\n",
       "      <td>2.23</td>\n",
       "      <td>12</td>\n",
       "      <td>1</td>\n",
       "      <td>2020-05-07</td>\n",
       "    </tr>\n",
       "    <tr>\n",
       "      <th>16</th>\n",
       "      <td>1015</td>\n",
       "      <td>Angela Oneill</td>\n",
       "      <td>Wine</td>\n",
       "      <td>15.67</td>\n",
       "      <td>122</td>\n",
       "      <td>2</td>\n",
       "      <td>2020-05-08</td>\n",
       "    </tr>\n",
       "    <tr>\n",
       "      <th>17</th>\n",
       "      <td>1009</td>\n",
       "      <td>Cody Moreno</td>\n",
       "      <td>Plate</td>\n",
       "      <td>5.55</td>\n",
       "      <td>156</td>\n",
       "      <td>4</td>\n",
       "      <td>2020-05-09</td>\n",
       "    </tr>\n",
       "    <tr>\n",
       "      <th>18</th>\n",
       "      <td>1005</td>\n",
       "      <td>Douglas Atkinson</td>\n",
       "      <td>TV</td>\n",
       "      <td>199.95</td>\n",
       "      <td>14</td>\n",
       "      <td>1</td>\n",
       "      <td>2020-05-10</td>\n",
       "    </tr>\n",
       "    <tr>\n",
       "      <th>19</th>\n",
       "      <td>1016</td>\n",
       "      <td>Ellen Mccarthy</td>\n",
       "      <td>Vaccum</td>\n",
       "      <td>95.12</td>\n",
       "      <td>15</td>\n",
       "      <td>1</td>\n",
       "      <td>2020-05-11</td>\n",
       "    </tr>\n",
       "  </tbody>\n",
       "</table>\n",
       "</div>"
      ],
      "text/plain": [
       "    user_id              name   item_name   price  category_id  quantity  \\\n",
       "0      1004      Donna Martin          TV  199.95           14         1   \n",
       "1      1004      Donna Martin      Vaccum   95.12           15         2   \n",
       "2      1003     Bobby Bradley         Cup   12.76           44         1   \n",
       "3      1011     Austin Thomas       Plate    5.55          156         1   \n",
       "4      1000   Jonathan Medina      Lotion    4.44           23         2   \n",
       "5      1000   Jonathan Medina  Toothbrush    5.96          123         1   \n",
       "6      1019   Brandon Beasley   Sanitizer    2.23           12         3   \n",
       "7      1011     Austin Thomas        Wine   15.67          122         1   \n",
       "8      1014     Susan Morales    Yoga mat   45.53         1212         2   \n",
       "9      1001    Rachael Massey        Beer    2.45           42         4   \n",
       "10     1005   Ross Strickland      Coffee    8.45          356         5   \n",
       "11     1014     Susan Morales      Lotion    4.44           23         3   \n",
       "12     1020      Jennifer Cox      Coffee    8.45          356         4   \n",
       "13     1001    Danny Lynn DDS          TV  199.95           14         2   \n",
       "14     1019   Brandon Beasley      Vaccum   95.12           15         6   \n",
       "15     1006    Ashley Nichols   Sanitizer    2.23           12         1   \n",
       "16     1015     Angela Oneill        Wine   15.67          122         2   \n",
       "17     1009       Cody Moreno       Plate    5.55          156         4   \n",
       "18     1005  Douglas Atkinson          TV  199.95           14         1   \n",
       "19     1016    Ellen Mccarthy      Vaccum   95.12           15         1   \n",
       "\n",
       "   purchased_date  \n",
       "0      2020-04-04  \n",
       "1      2020-05-12  \n",
       "2      2020-05-13  \n",
       "3      2020-05-14  \n",
       "4      2020-05-15  \n",
       "5      2020-05-16  \n",
       "6      2020-05-17  \n",
       "7      2020-04-04  \n",
       "8      2020-04-05  \n",
       "9      2020-04-06  \n",
       "10     2020-04-07  \n",
       "11     2020-04-08  \n",
       "12     2020-04-09  \n",
       "13     2020-04-10  \n",
       "14     2020-05-06  \n",
       "15     2020-05-07  \n",
       "16     2020-05-08  \n",
       "17     2020-05-09  \n",
       "18     2020-05-10  \n",
       "19     2020-05-11  "
      ]
     },
     "execution_count": 6,
     "metadata": {},
     "output_type": "execute_result"
    }
   ],
   "source": [
    "df"
   ]
  },
  {
   "cell_type": "markdown",
   "metadata": {},
   "source": [
    "## Replace names"
   ]
  },
  {
   "cell_type": "code",
   "execution_count": 7,
   "metadata": {},
   "outputs": [],
   "source": [
    "unique_names = df['name'].unique()"
   ]
  },
  {
   "cell_type": "code",
   "execution_count": 8,
   "metadata": {},
   "outputs": [
    {
     "data": {
      "text/plain": [
       "array(['Donna Martin', 'Bobby Bradley', 'Austin Thomas',\n",
       "       'Jonathan Medina', 'Brandon Beasley', 'Susan Morales',\n",
       "       'Rachael Massey', 'Ross Strickland', 'Jennifer Cox',\n",
       "       'Danny Lynn DDS', 'Ashley Nichols', 'Angela Oneill', 'Cody Moreno',\n",
       "       'Douglas Atkinson', 'Ellen Mccarthy'], dtype=object)"
      ]
     },
     "execution_count": 8,
     "metadata": {},
     "output_type": "execute_result"
    }
   ],
   "source": [
    "unique_names"
   ]
  },
  {
   "cell_type": "code",
   "execution_count": 9,
   "metadata": {},
   "outputs": [],
   "source": [
    "name_dict = {name: fake.name() for name in unique_names}"
   ]
  },
  {
   "cell_type": "code",
   "execution_count": 10,
   "metadata": {},
   "outputs": [
    {
     "data": {
      "text/plain": [
       "{'Donna Martin': 'Matthew Hendrix',\n",
       " 'Bobby Bradley': 'Peter Douglas',\n",
       " 'Austin Thomas': 'Beth Zavala',\n",
       " 'Jonathan Medina': 'Jodi Baker',\n",
       " 'Brandon Beasley': 'Katherine Herrera',\n",
       " 'Susan Morales': 'James Campbell',\n",
       " 'Rachael Massey': 'Matthew Fernandez',\n",
       " 'Ross Strickland': 'Jessica Carlson',\n",
       " 'Jennifer Cox': 'Karen Watson',\n",
       " 'Danny Lynn DDS': 'Jason Taylor',\n",
       " 'Ashley Nichols': 'Elaine Carr',\n",
       " 'Angela Oneill': 'Maxwell Stewart',\n",
       " 'Cody Moreno': 'Michael Johnson',\n",
       " 'Douglas Atkinson': 'Susan Williams',\n",
       " 'Ellen Mccarthy': 'Anthony Martinez'}"
      ]
     },
     "execution_count": 10,
     "metadata": {},
     "output_type": "execute_result"
    }
   ],
   "source": [
    "name_dict"
   ]
  },
  {
   "cell_type": "code",
   "execution_count": 11,
   "metadata": {},
   "outputs": [],
   "source": [
    "df['name'] = df['name'].map(name_dict)"
   ]
  },
  {
   "cell_type": "markdown",
   "metadata": {},
   "source": [
    "## Replace ids"
   ]
  },
  {
   "cell_type": "markdown",
   "metadata": {},
   "source": [
    "### UserId"
   ]
  },
  {
   "cell_type": "code",
   "execution_count": 12,
   "metadata": {},
   "outputs": [],
   "source": [
    "unique_user_ids = df['user_id'].unique()"
   ]
  },
  {
   "cell_type": "code",
   "execution_count": 13,
   "metadata": {},
   "outputs": [],
   "source": [
    "user_id_dict = {id_: fake.uuid4() for id_ in unique_user_ids}"
   ]
  },
  {
   "cell_type": "code",
   "execution_count": 14,
   "metadata": {},
   "outputs": [
    {
     "data": {
      "text/plain": [
       "{1004: '9dab54de-0ef4-4301-8a1b-14c403b92e8a',\n",
       " 1003: '37fa0a4d-f2f2-4763-bdb3-744043bdffd6',\n",
       " 1011: '99326c31-39b6-4c3e-ae3a-b4fa475745cf',\n",
       " 1000: 'f69f3eb4-3fe6-4b23-8da1-6898ee0710f8',\n",
       " 1019: 'f8403092-0be5-480c-b78d-d371b4b7d809',\n",
       " 1014: '11c34221-8680-4f4c-b96d-1fc5b92dd0ee',\n",
       " 1001: '8396e0d8-b645-48b9-9b2d-85af61b7d671',\n",
       " 1005: 'aacdfd95-a28c-4353-a243-94f08c9b374f',\n",
       " 1020: 'a63a2d7b-9fea-43a6-bbe7-79cae1324291',\n",
       " 1006: '04a817ab-9529-432e-a7d1-9f7bb596fcf2',\n",
       " 1015: 'd501181d-bdc7-4982-a56a-8483a1fad9e0',\n",
       " 1009: 'f348e978-5e1b-4513-a5e4-65f09ca495e6',\n",
       " 1016: 'f60fab4c-db43-455e-a9b4-b6e66d848ab2'}"
      ]
     },
     "execution_count": 14,
     "metadata": {},
     "output_type": "execute_result"
    }
   ],
   "source": [
    "user_id_dict"
   ]
  },
  {
   "cell_type": "code",
   "execution_count": 15,
   "metadata": {},
   "outputs": [],
   "source": [
    "df['user_id'] = df['user_id'].map(user_id_dict)"
   ]
  },
  {
   "cell_type": "markdown",
   "metadata": {},
   "source": [
    "### Category_id"
   ]
  },
  {
   "cell_type": "code",
   "execution_count": 16,
   "metadata": {},
   "outputs": [],
   "source": [
    "unique_category_ids = df['category_id'].unique()"
   ]
  },
  {
   "cell_type": "code",
   "execution_count": 17,
   "metadata": {},
   "outputs": [],
   "source": [
    "category_id_dict = {id_: fake.uuid4() for id_ in unique_category_ids}"
   ]
  },
  {
   "cell_type": "code",
   "execution_count": 18,
   "metadata": {},
   "outputs": [
    {
     "data": {
      "text/plain": [
       "{14: '2ef0d0c5-7fee-4cdc-9a4d-fe102df9a56f',\n",
       " 15: '2b753826-336d-49da-bf19-9eca812966a4',\n",
       " 44: '3ad589e7-46d3-46e0-823f-555ab2b9f12f',\n",
       " 156: '053e1647-803c-46aa-919e-3dd46fd09985',\n",
       " 23: 'd3ac3ca8-4b20-4d64-95cc-57c296bc21c0',\n",
       " 123: '76842d0f-d92f-4755-b788-4887d9bbe6be',\n",
       " 12: '2af63a27-0ae5-4e0d-ae9e-d8dcf1a7db84',\n",
       " 122: 'ab8902e3-7c5f-42e2-a923-ed88a292fffb',\n",
       " 1212: '46521576-a94a-4e75-8472-5d1d941a6357',\n",
       " 42: 'e9060c1c-9b0b-4dce-a120-f48c86a631ae',\n",
       " 356: 'faea3c02-f074-4aad-b3c3-26fef4c77210'}"
      ]
     },
     "execution_count": 18,
     "metadata": {},
     "output_type": "execute_result"
    }
   ],
   "source": [
    "category_id_dict"
   ]
  },
  {
   "cell_type": "code",
   "execution_count": 19,
   "metadata": {},
   "outputs": [],
   "source": [
    "df['category_id'] = df['category_id'].map(category_id_dict)"
   ]
  },
  {
   "cell_type": "markdown",
   "metadata": {},
   "source": [
    "## Replace whole numbers"
   ]
  },
  {
   "cell_type": "code",
   "execution_count": 20,
   "metadata": {},
   "outputs": [],
   "source": [
    "whole_numbers = df['quantity']"
   ]
  },
  {
   "cell_type": "code",
   "execution_count": 21,
   "metadata": {},
   "outputs": [
    {
     "data": {
      "text/plain": [
       "0     1\n",
       "1     2\n",
       "2     1\n",
       "3     1\n",
       "4     2\n",
       "5     1\n",
       "6     3\n",
       "7     1\n",
       "8     2\n",
       "9     4\n",
       "10    5\n",
       "11    3\n",
       "12    4\n",
       "13    2\n",
       "14    6\n",
       "15    1\n",
       "16    2\n",
       "17    4\n",
       "18    1\n",
       "19    1\n",
       "Name: quantity, dtype: int64"
      ]
     },
     "execution_count": 21,
     "metadata": {},
     "output_type": "execute_result"
    }
   ],
   "source": [
    "whole_numbers"
   ]
  },
  {
   "cell_type": "code",
   "execution_count": 22,
   "metadata": {},
   "outputs": [],
   "source": [
    "X_std = (whole_numbers - whole_numbers.min()) / (whole_numbers.max() - whole_numbers.min())\n",
    "X_scaled = (X_std * (10 - 1) + 1) \n",
    "X_scaled_whole_randomized = (X_scaled * random.randint(1, 10)).astype(int)"
   ]
  },
  {
   "cell_type": "code",
   "execution_count": 23,
   "metadata": {},
   "outputs": [
    {
     "data": {
      "text/plain": [
       "0      6\n",
       "1     16\n",
       "2      6\n",
       "3      6\n",
       "4     16\n",
       "5      6\n",
       "6     27\n",
       "7      6\n",
       "8     16\n",
       "9     38\n",
       "10    49\n",
       "11    27\n",
       "12    38\n",
       "13    16\n",
       "14    60\n",
       "15     6\n",
       "16    16\n",
       "17    38\n",
       "18     6\n",
       "19     6\n",
       "Name: quantity, dtype: int64"
      ]
     },
     "execution_count": 23,
     "metadata": {},
     "output_type": "execute_result"
    }
   ],
   "source": [
    "X_scaled_whole_randomized"
   ]
  },
  {
   "cell_type": "code",
   "execution_count": 24,
   "metadata": {},
   "outputs": [],
   "source": [
    "# whole_number_dict = {\n",
    "#     number: fake.random_int(\n",
    "#         min=min(whole_numbers), max=max(whole_numbers)\n",
    "#     )\n",
    "#     for number in whole_numbers\n",
    "# }"
   ]
  },
  {
   "cell_type": "code",
   "execution_count": 25,
   "metadata": {},
   "outputs": [],
   "source": [
    "# whole_number_dict"
   ]
  },
  {
   "cell_type": "code",
   "execution_count": 26,
   "metadata": {},
   "outputs": [],
   "source": [
    "df['quantity'] = X_scaled_whole_randomized"
   ]
  },
  {
   "cell_type": "markdown",
   "metadata": {},
   "source": [
    "## Replace decimal numbers"
   ]
  },
  {
   "cell_type": "code",
   "execution_count": 27,
   "metadata": {},
   "outputs": [],
   "source": [
    "decimal_numbers = df['price']"
   ]
  },
  {
   "cell_type": "code",
   "execution_count": 28,
   "metadata": {},
   "outputs": [],
   "source": [
    "X_std = (decimal_numbers - decimal_numbers.min()) / (decimal_numbers.max() - decimal_numbers.min())\n",
    "X_scaled = (X_std * (10 - 1) + 1) \n",
    "X_scaled_decimal_randomized = (X_scaled * random.randint(1, 10))"
   ]
  },
  {
   "cell_type": "code",
   "execution_count": 29,
   "metadata": {},
   "outputs": [],
   "source": [
    "# decimal_number_dict"
   ]
  },
  {
   "cell_type": "code",
   "execution_count": 30,
   "metadata": {},
   "outputs": [],
   "source": [
    "df['price'] = X_scaled_decimal_randomized"
   ]
  },
  {
   "cell_type": "markdown",
   "metadata": {},
   "source": [
    "## Categorical data"
   ]
  },
  {
   "cell_type": "code",
   "execution_count": 31,
   "metadata": {},
   "outputs": [],
   "source": [
    "category = df['item_name']"
   ]
  },
  {
   "cell_type": "code",
   "execution_count": 32,
   "metadata": {},
   "outputs": [
    {
     "data": {
      "text/plain": [
       "0             TV\n",
       "1         Vaccum\n",
       "2            Cup\n",
       "3          Plate\n",
       "4         Lotion\n",
       "5     Toothbrush\n",
       "6      Sanitizer\n",
       "7           Wine\n",
       "8       Yoga mat\n",
       "9           Beer\n",
       "10        Coffee\n",
       "11        Lotion\n",
       "12        Coffee\n",
       "13            TV\n",
       "14        Vaccum\n",
       "15     Sanitizer\n",
       "16          Wine\n",
       "17         Plate\n",
       "18            TV\n",
       "19        Vaccum\n",
       "Name: item_name, dtype: object"
      ]
     },
     "execution_count": 32,
     "metadata": {},
     "output_type": "execute_result"
    }
   ],
   "source": [
    "category"
   ]
  },
  {
   "cell_type": "code",
   "execution_count": 33,
   "metadata": {},
   "outputs": [],
   "source": [
    "unique_category = category.unique()"
   ]
  },
  {
   "cell_type": "code",
   "execution_count": 34,
   "metadata": {},
   "outputs": [],
   "source": [
    "rand_category = random.randint(0,1000)\n",
    "category_dict = {\n",
    "    category:  \"Category_\" + str(rand_category) + \" \" +str(iteration)\n",
    "    for iteration, category in enumerate(unique_category)\n",
    "}"
   ]
  },
  {
   "cell_type": "code",
   "execution_count": 35,
   "metadata": {},
   "outputs": [
    {
     "data": {
      "text/plain": [
       "{'TV': 'Category_744 0',\n",
       " 'Vaccum': 'Category_744 1',\n",
       " 'Cup': 'Category_744 2',\n",
       " 'Plate': 'Category_744 3',\n",
       " 'Lotion': 'Category_744 4',\n",
       " 'Toothbrush': 'Category_744 5',\n",
       " 'Sanitizer': 'Category_744 6',\n",
       " 'Wine': 'Category_744 7',\n",
       " 'Yoga mat': 'Category_744 8',\n",
       " 'Beer': 'Category_744 9',\n",
       " 'Coffee': 'Category_744 10'}"
      ]
     },
     "execution_count": 35,
     "metadata": {},
     "output_type": "execute_result"
    }
   ],
   "source": [
    "category_dict"
   ]
  },
  {
   "cell_type": "code",
   "execution_count": 36,
   "metadata": {},
   "outputs": [],
   "source": [
    "df['item_name'] = df['item_name'].map(category_dict)"
   ]
  },
  {
   "cell_type": "markdown",
   "metadata": {},
   "source": [
    "### Dates"
   ]
  },
  {
   "cell_type": "code",
   "execution_count": 37,
   "metadata": {},
   "outputs": [],
   "source": [
    "dates = df['purchased_date']"
   ]
  },
  {
   "cell_type": "code",
   "execution_count": 38,
   "metadata": {},
   "outputs": [
    {
     "data": {
      "text/plain": [
       "datetime.date(2020, 4, 20)"
      ]
     },
     "execution_count": 38,
     "metadata": {},
     "output_type": "execute_result"
    }
   ],
   "source": [
    "fake.date_between(start_date=dates.min(), end_date=dates.max())"
   ]
  },
  {
   "cell_type": "code",
   "execution_count": 39,
   "metadata": {},
   "outputs": [],
   "source": [
    "dates_dict = {\n",
    "    date: fake.date_between(start_date=dates.min(), end_date=dates.max()).strftime('%Y-%m-%d')\n",
    "    for date in dates\n",
    "}"
   ]
  },
  {
   "cell_type": "code",
   "execution_count": 40,
   "metadata": {},
   "outputs": [
    {
     "data": {
      "text/plain": [
       "{Timestamp('2020-04-04 00:00:00'): '2020-05-13',\n",
       " Timestamp('2020-05-12 00:00:00'): '2020-04-04',\n",
       " Timestamp('2020-05-13 00:00:00'): '2020-04-06',\n",
       " Timestamp('2020-05-14 00:00:00'): '2020-04-25',\n",
       " Timestamp('2020-05-15 00:00:00'): '2020-05-04',\n",
       " Timestamp('2020-05-16 00:00:00'): '2020-05-13',\n",
       " Timestamp('2020-05-17 00:00:00'): '2020-04-08',\n",
       " Timestamp('2020-04-05 00:00:00'): '2020-04-25',\n",
       " Timestamp('2020-04-06 00:00:00'): '2020-04-10',\n",
       " Timestamp('2020-04-07 00:00:00'): '2020-04-04',\n",
       " Timestamp('2020-04-08 00:00:00'): '2020-05-01',\n",
       " Timestamp('2020-04-09 00:00:00'): '2020-05-03',\n",
       " Timestamp('2020-04-10 00:00:00'): '2020-04-17',\n",
       " Timestamp('2020-05-06 00:00:00'): '2020-04-17',\n",
       " Timestamp('2020-05-07 00:00:00'): '2020-04-10',\n",
       " Timestamp('2020-05-08 00:00:00'): '2020-05-11',\n",
       " Timestamp('2020-05-09 00:00:00'): '2020-05-08',\n",
       " Timestamp('2020-05-10 00:00:00'): '2020-04-15',\n",
       " Timestamp('2020-05-11 00:00:00'): '2020-05-06'}"
      ]
     },
     "execution_count": 40,
     "metadata": {},
     "output_type": "execute_result"
    }
   ],
   "source": [
    "dates_dict"
   ]
  },
  {
   "cell_type": "code",
   "execution_count": 41,
   "metadata": {},
   "outputs": [],
   "source": [
    "df['purchased_date'] = df['purchased_date'].map(dates_dict)"
   ]
  },
  {
   "cell_type": "markdown",
   "metadata": {},
   "source": [
    "# Original vs Final"
   ]
  },
  {
   "cell_type": "code",
   "execution_count": 42,
   "metadata": {},
   "outputs": [
    {
     "data": {
      "text/html": [
       "<div>\n",
       "<style scoped>\n",
       "    .dataframe tbody tr th:only-of-type {\n",
       "        vertical-align: middle;\n",
       "    }\n",
       "\n",
       "    .dataframe tbody tr th {\n",
       "        vertical-align: top;\n",
       "    }\n",
       "\n",
       "    .dataframe thead th {\n",
       "        text-align: right;\n",
       "    }\n",
       "</style>\n",
       "<table border=\"1\" class=\"dataframe\">\n",
       "  <thead>\n",
       "    <tr style=\"text-align: right;\">\n",
       "      <th></th>\n",
       "      <th>user_id</th>\n",
       "      <th>name</th>\n",
       "      <th>item_name</th>\n",
       "      <th>price</th>\n",
       "      <th>category_id</th>\n",
       "      <th>quantity</th>\n",
       "      <th>purchased_date</th>\n",
       "    </tr>\n",
       "  </thead>\n",
       "  <tbody>\n",
       "    <tr>\n",
       "      <th>0</th>\n",
       "      <td>1004</td>\n",
       "      <td>Donna Martin</td>\n",
       "      <td>TV</td>\n",
       "      <td>199.95</td>\n",
       "      <td>14</td>\n",
       "      <td>1</td>\n",
       "      <td>2020-04-04</td>\n",
       "    </tr>\n",
       "    <tr>\n",
       "      <th>1</th>\n",
       "      <td>1004</td>\n",
       "      <td>Donna Martin</td>\n",
       "      <td>Vaccum</td>\n",
       "      <td>95.12</td>\n",
       "      <td>15</td>\n",
       "      <td>2</td>\n",
       "      <td>2020-05-12</td>\n",
       "    </tr>\n",
       "    <tr>\n",
       "      <th>2</th>\n",
       "      <td>1003</td>\n",
       "      <td>Bobby Bradley</td>\n",
       "      <td>Cup</td>\n",
       "      <td>12.76</td>\n",
       "      <td>44</td>\n",
       "      <td>1</td>\n",
       "      <td>2020-05-13</td>\n",
       "    </tr>\n",
       "    <tr>\n",
       "      <th>3</th>\n",
       "      <td>1011</td>\n",
       "      <td>Austin Thomas</td>\n",
       "      <td>Plate</td>\n",
       "      <td>5.55</td>\n",
       "      <td>156</td>\n",
       "      <td>1</td>\n",
       "      <td>2020-05-14</td>\n",
       "    </tr>\n",
       "    <tr>\n",
       "      <th>4</th>\n",
       "      <td>1000</td>\n",
       "      <td>Jonathan Medina</td>\n",
       "      <td>Lotion</td>\n",
       "      <td>4.44</td>\n",
       "      <td>23</td>\n",
       "      <td>2</td>\n",
       "      <td>2020-05-15</td>\n",
       "    </tr>\n",
       "    <tr>\n",
       "      <th>5</th>\n",
       "      <td>1000</td>\n",
       "      <td>Jonathan Medina</td>\n",
       "      <td>Toothbrush</td>\n",
       "      <td>5.96</td>\n",
       "      <td>123</td>\n",
       "      <td>1</td>\n",
       "      <td>2020-05-16</td>\n",
       "    </tr>\n",
       "    <tr>\n",
       "      <th>6</th>\n",
       "      <td>1019</td>\n",
       "      <td>Brandon Beasley</td>\n",
       "      <td>Sanitizer</td>\n",
       "      <td>2.23</td>\n",
       "      <td>12</td>\n",
       "      <td>3</td>\n",
       "      <td>2020-05-17</td>\n",
       "    </tr>\n",
       "    <tr>\n",
       "      <th>7</th>\n",
       "      <td>1011</td>\n",
       "      <td>Austin Thomas</td>\n",
       "      <td>Wine</td>\n",
       "      <td>15.67</td>\n",
       "      <td>122</td>\n",
       "      <td>1</td>\n",
       "      <td>2020-04-04</td>\n",
       "    </tr>\n",
       "    <tr>\n",
       "      <th>8</th>\n",
       "      <td>1014</td>\n",
       "      <td>Susan Morales</td>\n",
       "      <td>Yoga mat</td>\n",
       "      <td>45.53</td>\n",
       "      <td>1212</td>\n",
       "      <td>2</td>\n",
       "      <td>2020-04-05</td>\n",
       "    </tr>\n",
       "    <tr>\n",
       "      <th>9</th>\n",
       "      <td>1001</td>\n",
       "      <td>Rachael Massey</td>\n",
       "      <td>Beer</td>\n",
       "      <td>2.45</td>\n",
       "      <td>42</td>\n",
       "      <td>4</td>\n",
       "      <td>2020-04-06</td>\n",
       "    </tr>\n",
       "    <tr>\n",
       "      <th>10</th>\n",
       "      <td>1005</td>\n",
       "      <td>Ross Strickland</td>\n",
       "      <td>Coffee</td>\n",
       "      <td>8.45</td>\n",
       "      <td>356</td>\n",
       "      <td>5</td>\n",
       "      <td>2020-04-07</td>\n",
       "    </tr>\n",
       "    <tr>\n",
       "      <th>11</th>\n",
       "      <td>1014</td>\n",
       "      <td>Susan Morales</td>\n",
       "      <td>Lotion</td>\n",
       "      <td>4.44</td>\n",
       "      <td>23</td>\n",
       "      <td>3</td>\n",
       "      <td>2020-04-08</td>\n",
       "    </tr>\n",
       "    <tr>\n",
       "      <th>12</th>\n",
       "      <td>1020</td>\n",
       "      <td>Jennifer Cox</td>\n",
       "      <td>Coffee</td>\n",
       "      <td>8.45</td>\n",
       "      <td>356</td>\n",
       "      <td>4</td>\n",
       "      <td>2020-04-09</td>\n",
       "    </tr>\n",
       "    <tr>\n",
       "      <th>13</th>\n",
       "      <td>1001</td>\n",
       "      <td>Danny Lynn DDS</td>\n",
       "      <td>TV</td>\n",
       "      <td>199.95</td>\n",
       "      <td>14</td>\n",
       "      <td>2</td>\n",
       "      <td>2020-04-10</td>\n",
       "    </tr>\n",
       "    <tr>\n",
       "      <th>14</th>\n",
       "      <td>1019</td>\n",
       "      <td>Brandon Beasley</td>\n",
       "      <td>Vaccum</td>\n",
       "      <td>95.12</td>\n",
       "      <td>15</td>\n",
       "      <td>6</td>\n",
       "      <td>2020-05-06</td>\n",
       "    </tr>\n",
       "    <tr>\n",
       "      <th>15</th>\n",
       "      <td>1006</td>\n",
       "      <td>Ashley Nichols</td>\n",
       "      <td>Sanitizer</td>\n",
       "      <td>2.23</td>\n",
       "      <td>12</td>\n",
       "      <td>1</td>\n",
       "      <td>2020-05-07</td>\n",
       "    </tr>\n",
       "    <tr>\n",
       "      <th>16</th>\n",
       "      <td>1015</td>\n",
       "      <td>Angela Oneill</td>\n",
       "      <td>Wine</td>\n",
       "      <td>15.67</td>\n",
       "      <td>122</td>\n",
       "      <td>2</td>\n",
       "      <td>2020-05-08</td>\n",
       "    </tr>\n",
       "    <tr>\n",
       "      <th>17</th>\n",
       "      <td>1009</td>\n",
       "      <td>Cody Moreno</td>\n",
       "      <td>Plate</td>\n",
       "      <td>5.55</td>\n",
       "      <td>156</td>\n",
       "      <td>4</td>\n",
       "      <td>2020-05-09</td>\n",
       "    </tr>\n",
       "    <tr>\n",
       "      <th>18</th>\n",
       "      <td>1005</td>\n",
       "      <td>Douglas Atkinson</td>\n",
       "      <td>TV</td>\n",
       "      <td>199.95</td>\n",
       "      <td>14</td>\n",
       "      <td>1</td>\n",
       "      <td>2020-05-10</td>\n",
       "    </tr>\n",
       "    <tr>\n",
       "      <th>19</th>\n",
       "      <td>1016</td>\n",
       "      <td>Ellen Mccarthy</td>\n",
       "      <td>Vaccum</td>\n",
       "      <td>95.12</td>\n",
       "      <td>15</td>\n",
       "      <td>1</td>\n",
       "      <td>2020-05-11</td>\n",
       "    </tr>\n",
       "  </tbody>\n",
       "</table>\n",
       "</div>"
      ],
      "text/plain": [
       "    user_id              name   item_name   price  category_id  quantity  \\\n",
       "0      1004      Donna Martin          TV  199.95           14         1   \n",
       "1      1004      Donna Martin      Vaccum   95.12           15         2   \n",
       "2      1003     Bobby Bradley         Cup   12.76           44         1   \n",
       "3      1011     Austin Thomas       Plate    5.55          156         1   \n",
       "4      1000   Jonathan Medina      Lotion    4.44           23         2   \n",
       "5      1000   Jonathan Medina  Toothbrush    5.96          123         1   \n",
       "6      1019   Brandon Beasley   Sanitizer    2.23           12         3   \n",
       "7      1011     Austin Thomas        Wine   15.67          122         1   \n",
       "8      1014     Susan Morales    Yoga mat   45.53         1212         2   \n",
       "9      1001    Rachael Massey        Beer    2.45           42         4   \n",
       "10     1005   Ross Strickland      Coffee    8.45          356         5   \n",
       "11     1014     Susan Morales      Lotion    4.44           23         3   \n",
       "12     1020      Jennifer Cox      Coffee    8.45          356         4   \n",
       "13     1001    Danny Lynn DDS          TV  199.95           14         2   \n",
       "14     1019   Brandon Beasley      Vaccum   95.12           15         6   \n",
       "15     1006    Ashley Nichols   Sanitizer    2.23           12         1   \n",
       "16     1015     Angela Oneill        Wine   15.67          122         2   \n",
       "17     1009       Cody Moreno       Plate    5.55          156         4   \n",
       "18     1005  Douglas Atkinson          TV  199.95           14         1   \n",
       "19     1016    Ellen Mccarthy      Vaccum   95.12           15         1   \n",
       "\n",
       "   purchased_date  \n",
       "0      2020-04-04  \n",
       "1      2020-05-12  \n",
       "2      2020-05-13  \n",
       "3      2020-05-14  \n",
       "4      2020-05-15  \n",
       "5      2020-05-16  \n",
       "6      2020-05-17  \n",
       "7      2020-04-04  \n",
       "8      2020-04-05  \n",
       "9      2020-04-06  \n",
       "10     2020-04-07  \n",
       "11     2020-04-08  \n",
       "12     2020-04-09  \n",
       "13     2020-04-10  \n",
       "14     2020-05-06  \n",
       "15     2020-05-07  \n",
       "16     2020-05-08  \n",
       "17     2020-05-09  \n",
       "18     2020-05-10  \n",
       "19     2020-05-11  "
      ]
     },
     "execution_count": 42,
     "metadata": {},
     "output_type": "execute_result"
    }
   ],
   "source": [
    "df_original"
   ]
  },
  {
   "cell_type": "code",
   "execution_count": 43,
   "metadata": {},
   "outputs": [
    {
     "data": {
      "text/html": [
       "<div>\n",
       "<style scoped>\n",
       "    .dataframe tbody tr th:only-of-type {\n",
       "        vertical-align: middle;\n",
       "    }\n",
       "\n",
       "    .dataframe tbody tr th {\n",
       "        vertical-align: top;\n",
       "    }\n",
       "\n",
       "    .dataframe thead th {\n",
       "        text-align: right;\n",
       "    }\n",
       "</style>\n",
       "<table border=\"1\" class=\"dataframe\">\n",
       "  <thead>\n",
       "    <tr style=\"text-align: right;\">\n",
       "      <th></th>\n",
       "      <th>user_id</th>\n",
       "      <th>name</th>\n",
       "      <th>item_name</th>\n",
       "      <th>price</th>\n",
       "      <th>category_id</th>\n",
       "      <th>quantity</th>\n",
       "      <th>purchased_date</th>\n",
       "    </tr>\n",
       "  </thead>\n",
       "  <tbody>\n",
       "    <tr>\n",
       "      <th>0</th>\n",
       "      <td>9dab54de-0ef4-4301-8a1b-14c403b92e8a</td>\n",
       "      <td>Matthew Hendrix</td>\n",
       "      <td>Category_744 0</td>\n",
       "      <td>60.000000</td>\n",
       "      <td>2ef0d0c5-7fee-4cdc-9a4d-fe102df9a56f</td>\n",
       "      <td>6</td>\n",
       "      <td>2020-05-13</td>\n",
       "    </tr>\n",
       "    <tr>\n",
       "      <th>1</th>\n",
       "      <td>9dab54de-0ef4-4301-8a1b-14c403b92e8a</td>\n",
       "      <td>Matthew Hendrix</td>\n",
       "      <td>Category_744 1</td>\n",
       "      <td>31.369512</td>\n",
       "      <td>2b753826-336d-49da-bf19-9eca812966a4</td>\n",
       "      <td>16</td>\n",
       "      <td>2020-04-04</td>\n",
       "    </tr>\n",
       "    <tr>\n",
       "      <th>2</th>\n",
       "      <td>37fa0a4d-f2f2-4763-bdb3-744043bdffd6</td>\n",
       "      <td>Peter Douglas</td>\n",
       "      <td>Category_744 2</td>\n",
       "      <td>8.875885</td>\n",
       "      <td>3ad589e7-46d3-46e0-823f-555ab2b9f12f</td>\n",
       "      <td>6</td>\n",
       "      <td>2020-04-06</td>\n",
       "    </tr>\n",
       "    <tr>\n",
       "      <th>3</th>\n",
       "      <td>99326c31-39b6-4c3e-ae3a-b4fa475745cf</td>\n",
       "      <td>Beth Zavala</td>\n",
       "      <td>Category_744 3</td>\n",
       "      <td>6.906737</td>\n",
       "      <td>053e1647-803c-46aa-919e-3dd46fd09985</td>\n",
       "      <td>6</td>\n",
       "      <td>2020-04-25</td>\n",
       "    </tr>\n",
       "    <tr>\n",
       "      <th>4</th>\n",
       "      <td>f69f3eb4-3fe6-4b23-8da1-6898ee0710f8</td>\n",
       "      <td>Jodi Baker</td>\n",
       "      <td>Category_744 4</td>\n",
       "      <td>6.603581</td>\n",
       "      <td>d3ac3ca8-4b20-4d64-95cc-57c296bc21c0</td>\n",
       "      <td>16</td>\n",
       "      <td>2020-05-04</td>\n",
       "    </tr>\n",
       "    <tr>\n",
       "      <th>5</th>\n",
       "      <td>f69f3eb4-3fe6-4b23-8da1-6898ee0710f8</td>\n",
       "      <td>Jodi Baker</td>\n",
       "      <td>Category_744 5</td>\n",
       "      <td>7.018713</td>\n",
       "      <td>76842d0f-d92f-4755-b788-4887d9bbe6be</td>\n",
       "      <td>6</td>\n",
       "      <td>2020-05-13</td>\n",
       "    </tr>\n",
       "    <tr>\n",
       "      <th>6</th>\n",
       "      <td>f8403092-0be5-480c-b78d-d371b4b7d809</td>\n",
       "      <td>Katherine Herrera</td>\n",
       "      <td>Category_744 6</td>\n",
       "      <td>6.000000</td>\n",
       "      <td>2af63a27-0ae5-4e0d-ae9e-d8dcf1a7db84</td>\n",
       "      <td>27</td>\n",
       "      <td>2020-04-08</td>\n",
       "    </tr>\n",
       "    <tr>\n",
       "      <th>7</th>\n",
       "      <td>99326c31-39b6-4c3e-ae3a-b4fa475745cf</td>\n",
       "      <td>Beth Zavala</td>\n",
       "      <td>Category_744 7</td>\n",
       "      <td>9.670645</td>\n",
       "      <td>ab8902e3-7c5f-42e2-a923-ed88a292fffb</td>\n",
       "      <td>6</td>\n",
       "      <td>2020-05-13</td>\n",
       "    </tr>\n",
       "    <tr>\n",
       "      <th>8</th>\n",
       "      <td>11c34221-8680-4f4c-b96d-1fc5b92dd0ee</td>\n",
       "      <td>James Campbell</td>\n",
       "      <td>Category_744 8</td>\n",
       "      <td>17.825814</td>\n",
       "      <td>46521576-a94a-4e75-8472-5d1d941a6357</td>\n",
       "      <td>16</td>\n",
       "      <td>2020-04-25</td>\n",
       "    </tr>\n",
       "    <tr>\n",
       "      <th>9</th>\n",
       "      <td>8396e0d8-b645-48b9-9b2d-85af61b7d671</td>\n",
       "      <td>Matthew Fernandez</td>\n",
       "      <td>Category_744 9</td>\n",
       "      <td>6.060085</td>\n",
       "      <td>e9060c1c-9b0b-4dce-a120-f48c86a631ae</td>\n",
       "      <td>38</td>\n",
       "      <td>2020-04-10</td>\n",
       "    </tr>\n",
       "    <tr>\n",
       "      <th>10</th>\n",
       "      <td>aacdfd95-a28c-4353-a243-94f08c9b374f</td>\n",
       "      <td>Jessica Carlson</td>\n",
       "      <td>Category_744 10</td>\n",
       "      <td>7.698766</td>\n",
       "      <td>faea3c02-f074-4aad-b3c3-26fef4c77210</td>\n",
       "      <td>49</td>\n",
       "      <td>2020-04-04</td>\n",
       "    </tr>\n",
       "    <tr>\n",
       "      <th>11</th>\n",
       "      <td>11c34221-8680-4f4c-b96d-1fc5b92dd0ee</td>\n",
       "      <td>James Campbell</td>\n",
       "      <td>Category_744 4</td>\n",
       "      <td>6.603581</td>\n",
       "      <td>d3ac3ca8-4b20-4d64-95cc-57c296bc21c0</td>\n",
       "      <td>27</td>\n",
       "      <td>2020-05-01</td>\n",
       "    </tr>\n",
       "    <tr>\n",
       "      <th>12</th>\n",
       "      <td>a63a2d7b-9fea-43a6-bbe7-79cae1324291</td>\n",
       "      <td>Karen Watson</td>\n",
       "      <td>Category_744 10</td>\n",
       "      <td>7.698766</td>\n",
       "      <td>faea3c02-f074-4aad-b3c3-26fef4c77210</td>\n",
       "      <td>38</td>\n",
       "      <td>2020-05-03</td>\n",
       "    </tr>\n",
       "    <tr>\n",
       "      <th>13</th>\n",
       "      <td>8396e0d8-b645-48b9-9b2d-85af61b7d671</td>\n",
       "      <td>Jason Taylor</td>\n",
       "      <td>Category_744 0</td>\n",
       "      <td>60.000000</td>\n",
       "      <td>2ef0d0c5-7fee-4cdc-9a4d-fe102df9a56f</td>\n",
       "      <td>16</td>\n",
       "      <td>2020-04-17</td>\n",
       "    </tr>\n",
       "    <tr>\n",
       "      <th>14</th>\n",
       "      <td>f8403092-0be5-480c-b78d-d371b4b7d809</td>\n",
       "      <td>Katherine Herrera</td>\n",
       "      <td>Category_744 1</td>\n",
       "      <td>31.369512</td>\n",
       "      <td>2b753826-336d-49da-bf19-9eca812966a4</td>\n",
       "      <td>60</td>\n",
       "      <td>2020-04-17</td>\n",
       "    </tr>\n",
       "    <tr>\n",
       "      <th>15</th>\n",
       "      <td>04a817ab-9529-432e-a7d1-9f7bb596fcf2</td>\n",
       "      <td>Elaine Carr</td>\n",
       "      <td>Category_744 6</td>\n",
       "      <td>6.000000</td>\n",
       "      <td>2af63a27-0ae5-4e0d-ae9e-d8dcf1a7db84</td>\n",
       "      <td>6</td>\n",
       "      <td>2020-04-10</td>\n",
       "    </tr>\n",
       "    <tr>\n",
       "      <th>16</th>\n",
       "      <td>d501181d-bdc7-4982-a56a-8483a1fad9e0</td>\n",
       "      <td>Maxwell Stewart</td>\n",
       "      <td>Category_744 7</td>\n",
       "      <td>9.670645</td>\n",
       "      <td>ab8902e3-7c5f-42e2-a923-ed88a292fffb</td>\n",
       "      <td>16</td>\n",
       "      <td>2020-05-11</td>\n",
       "    </tr>\n",
       "    <tr>\n",
       "      <th>17</th>\n",
       "      <td>f348e978-5e1b-4513-a5e4-65f09ca495e6</td>\n",
       "      <td>Michael Johnson</td>\n",
       "      <td>Category_744 3</td>\n",
       "      <td>6.906737</td>\n",
       "      <td>053e1647-803c-46aa-919e-3dd46fd09985</td>\n",
       "      <td>38</td>\n",
       "      <td>2020-05-08</td>\n",
       "    </tr>\n",
       "    <tr>\n",
       "      <th>18</th>\n",
       "      <td>aacdfd95-a28c-4353-a243-94f08c9b374f</td>\n",
       "      <td>Susan Williams</td>\n",
       "      <td>Category_744 0</td>\n",
       "      <td>60.000000</td>\n",
       "      <td>2ef0d0c5-7fee-4cdc-9a4d-fe102df9a56f</td>\n",
       "      <td>6</td>\n",
       "      <td>2020-04-15</td>\n",
       "    </tr>\n",
       "    <tr>\n",
       "      <th>19</th>\n",
       "      <td>f60fab4c-db43-455e-a9b4-b6e66d848ab2</td>\n",
       "      <td>Anthony Martinez</td>\n",
       "      <td>Category_744 1</td>\n",
       "      <td>31.369512</td>\n",
       "      <td>2b753826-336d-49da-bf19-9eca812966a4</td>\n",
       "      <td>6</td>\n",
       "      <td>2020-05-06</td>\n",
       "    </tr>\n",
       "  </tbody>\n",
       "</table>\n",
       "</div>"
      ],
      "text/plain": [
       "                                 user_id               name        item_name  \\\n",
       "0   9dab54de-0ef4-4301-8a1b-14c403b92e8a    Matthew Hendrix   Category_744 0   \n",
       "1   9dab54de-0ef4-4301-8a1b-14c403b92e8a    Matthew Hendrix   Category_744 1   \n",
       "2   37fa0a4d-f2f2-4763-bdb3-744043bdffd6      Peter Douglas   Category_744 2   \n",
       "3   99326c31-39b6-4c3e-ae3a-b4fa475745cf        Beth Zavala   Category_744 3   \n",
       "4   f69f3eb4-3fe6-4b23-8da1-6898ee0710f8         Jodi Baker   Category_744 4   \n",
       "5   f69f3eb4-3fe6-4b23-8da1-6898ee0710f8         Jodi Baker   Category_744 5   \n",
       "6   f8403092-0be5-480c-b78d-d371b4b7d809  Katherine Herrera   Category_744 6   \n",
       "7   99326c31-39b6-4c3e-ae3a-b4fa475745cf        Beth Zavala   Category_744 7   \n",
       "8   11c34221-8680-4f4c-b96d-1fc5b92dd0ee     James Campbell   Category_744 8   \n",
       "9   8396e0d8-b645-48b9-9b2d-85af61b7d671  Matthew Fernandez   Category_744 9   \n",
       "10  aacdfd95-a28c-4353-a243-94f08c9b374f    Jessica Carlson  Category_744 10   \n",
       "11  11c34221-8680-4f4c-b96d-1fc5b92dd0ee     James Campbell   Category_744 4   \n",
       "12  a63a2d7b-9fea-43a6-bbe7-79cae1324291       Karen Watson  Category_744 10   \n",
       "13  8396e0d8-b645-48b9-9b2d-85af61b7d671       Jason Taylor   Category_744 0   \n",
       "14  f8403092-0be5-480c-b78d-d371b4b7d809  Katherine Herrera   Category_744 1   \n",
       "15  04a817ab-9529-432e-a7d1-9f7bb596fcf2        Elaine Carr   Category_744 6   \n",
       "16  d501181d-bdc7-4982-a56a-8483a1fad9e0    Maxwell Stewart   Category_744 7   \n",
       "17  f348e978-5e1b-4513-a5e4-65f09ca495e6    Michael Johnson   Category_744 3   \n",
       "18  aacdfd95-a28c-4353-a243-94f08c9b374f     Susan Williams   Category_744 0   \n",
       "19  f60fab4c-db43-455e-a9b4-b6e66d848ab2   Anthony Martinez   Category_744 1   \n",
       "\n",
       "        price                           category_id  quantity purchased_date  \n",
       "0   60.000000  2ef0d0c5-7fee-4cdc-9a4d-fe102df9a56f         6     2020-05-13  \n",
       "1   31.369512  2b753826-336d-49da-bf19-9eca812966a4        16     2020-04-04  \n",
       "2    8.875885  3ad589e7-46d3-46e0-823f-555ab2b9f12f         6     2020-04-06  \n",
       "3    6.906737  053e1647-803c-46aa-919e-3dd46fd09985         6     2020-04-25  \n",
       "4    6.603581  d3ac3ca8-4b20-4d64-95cc-57c296bc21c0        16     2020-05-04  \n",
       "5    7.018713  76842d0f-d92f-4755-b788-4887d9bbe6be         6     2020-05-13  \n",
       "6    6.000000  2af63a27-0ae5-4e0d-ae9e-d8dcf1a7db84        27     2020-04-08  \n",
       "7    9.670645  ab8902e3-7c5f-42e2-a923-ed88a292fffb         6     2020-05-13  \n",
       "8   17.825814  46521576-a94a-4e75-8472-5d1d941a6357        16     2020-04-25  \n",
       "9    6.060085  e9060c1c-9b0b-4dce-a120-f48c86a631ae        38     2020-04-10  \n",
       "10   7.698766  faea3c02-f074-4aad-b3c3-26fef4c77210        49     2020-04-04  \n",
       "11   6.603581  d3ac3ca8-4b20-4d64-95cc-57c296bc21c0        27     2020-05-01  \n",
       "12   7.698766  faea3c02-f074-4aad-b3c3-26fef4c77210        38     2020-05-03  \n",
       "13  60.000000  2ef0d0c5-7fee-4cdc-9a4d-fe102df9a56f        16     2020-04-17  \n",
       "14  31.369512  2b753826-336d-49da-bf19-9eca812966a4        60     2020-04-17  \n",
       "15   6.000000  2af63a27-0ae5-4e0d-ae9e-d8dcf1a7db84         6     2020-04-10  \n",
       "16   9.670645  ab8902e3-7c5f-42e2-a923-ed88a292fffb        16     2020-05-11  \n",
       "17   6.906737  053e1647-803c-46aa-919e-3dd46fd09985        38     2020-05-08  \n",
       "18  60.000000  2ef0d0c5-7fee-4cdc-9a4d-fe102df9a56f         6     2020-04-15  \n",
       "19  31.369512  2b753826-336d-49da-bf19-9eca812966a4         6     2020-05-06  "
      ]
     },
     "execution_count": 43,
     "metadata": {},
     "output_type": "execute_result"
    }
   ],
   "source": [
    "df"
   ]
  }
 ],
 "metadata": {
  "kernelspec": {
   "display_name": "Python 3",
   "language": "python",
   "name": "python3"
  },
  "language_info": {
   "codemirror_mode": {
    "name": "ipython",
    "version": 3
   },
   "file_extension": ".py",
   "mimetype": "text/x-python",
   "name": "python",
   "nbconvert_exporter": "python",
   "pygments_lexer": "ipython3",
   "version": "3.8.5"
  }
 },
 "nbformat": 4,
 "nbformat_minor": 4
}
